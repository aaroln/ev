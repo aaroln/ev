{
 "cells": [
  {
   "cell_type": "code",
   "execution_count": 1,
   "metadata": {},
   "outputs": [],
   "source": [
    "import matplotlib\n",
    "import matplotlib.pyplot as plt\n",
    "import numpy as np\n",
    "import pandas as pd\n",
    "import os\n",
    "from datetime import datetime\n",
    "import geopandas as gpd"
   ]
  },
  {
   "cell_type": "code",
   "execution_count": 2,
   "metadata": {},
   "outputs": [],
   "source": [
    "%matplotlib inline"
   ]
  },
  {
   "cell_type": "code",
   "execution_count": 3,
   "metadata": {},
   "outputs": [],
   "source": [
    "plt.rcParams['figure.figsize'] = (20,10)"
   ]
  },
  {
   "cell_type": "code",
   "execution_count": 4,
   "metadata": {},
   "outputs": [],
   "source": [
    "saved_style_state = matplotlib.rcParams.copy()"
   ]
  },
  {
   "cell_type": "code",
   "execution_count": 5,
   "metadata": {},
   "outputs": [],
   "source": [
    "pd.set_option('display.max_rows', None)"
   ]
  },
  {
   "cell_type": "markdown",
   "metadata": {},
   "source": [
    "Dataset"
   ]
  },
  {
   "cell_type": "code",
   "execution_count": 6,
   "metadata": {},
   "outputs": [
    {
     "data": {
      "text/html": [
       "<div>\n",
       "<style scoped>\n",
       "    .dataframe tbody tr th:only-of-type {\n",
       "        vertical-align: middle;\n",
       "    }\n",
       "\n",
       "    .dataframe tbody tr th {\n",
       "        vertical-align: top;\n",
       "    }\n",
       "\n",
       "    .dataframe thead th {\n",
       "        text-align: right;\n",
       "    }\n",
       "</style>\n",
       "<table border=\"1\" class=\"dataframe\">\n",
       "  <thead>\n",
       "    <tr style=\"text-align: right;\">\n",
       "      <th></th>\n",
       "      <th>region</th>\n",
       "      <th>category</th>\n",
       "      <th>parameter</th>\n",
       "      <th>mode</th>\n",
       "      <th>powertrain</th>\n",
       "      <th>year</th>\n",
       "      <th>unit</th>\n",
       "      <th>value</th>\n",
       "    </tr>\n",
       "  </thead>\n",
       "  <tbody>\n",
       "    <tr>\n",
       "      <th>0</th>\n",
       "      <td>Australia</td>\n",
       "      <td>Historical</td>\n",
       "      <td>EV sales</td>\n",
       "      <td>Cars</td>\n",
       "      <td>BEV</td>\n",
       "      <td>2011</td>\n",
       "      <td>sales</td>\n",
       "      <td>49.000000</td>\n",
       "    </tr>\n",
       "    <tr>\n",
       "      <th>1</th>\n",
       "      <td>Australia</td>\n",
       "      <td>Historical</td>\n",
       "      <td>EV stock</td>\n",
       "      <td>Cars</td>\n",
       "      <td>BEV</td>\n",
       "      <td>2011</td>\n",
       "      <td>stock</td>\n",
       "      <td>49.000000</td>\n",
       "    </tr>\n",
       "    <tr>\n",
       "      <th>2</th>\n",
       "      <td>Australia</td>\n",
       "      <td>Historical</td>\n",
       "      <td>EV sales share</td>\n",
       "      <td>Cars</td>\n",
       "      <td>EV</td>\n",
       "      <td>2011</td>\n",
       "      <td>percent</td>\n",
       "      <td>0.006479</td>\n",
       "    </tr>\n",
       "    <tr>\n",
       "      <th>3</th>\n",
       "      <td>Australia</td>\n",
       "      <td>Historical</td>\n",
       "      <td>EV stock share</td>\n",
       "      <td>Cars</td>\n",
       "      <td>EV</td>\n",
       "      <td>2011</td>\n",
       "      <td>percent</td>\n",
       "      <td>0.000464</td>\n",
       "    </tr>\n",
       "    <tr>\n",
       "      <th>4</th>\n",
       "      <td>Australia</td>\n",
       "      <td>Historical</td>\n",
       "      <td>EV stock share</td>\n",
       "      <td>Cars</td>\n",
       "      <td>EV</td>\n",
       "      <td>2012</td>\n",
       "      <td>percent</td>\n",
       "      <td>0.002785</td>\n",
       "    </tr>\n",
       "  </tbody>\n",
       "</table>\n",
       "</div>"
      ],
      "text/plain": [
       "      region    category       parameter  mode powertrain  year     unit  \\\n",
       "0  Australia  Historical        EV sales  Cars        BEV  2011    sales   \n",
       "1  Australia  Historical        EV stock  Cars        BEV  2011    stock   \n",
       "2  Australia  Historical  EV sales share  Cars         EV  2011  percent   \n",
       "3  Australia  Historical  EV stock share  Cars         EV  2011  percent   \n",
       "4  Australia  Historical  EV stock share  Cars         EV  2012  percent   \n",
       "\n",
       "       value  \n",
       "0  49.000000  \n",
       "1  49.000000  \n",
       "2   0.006479  \n",
       "3   0.000464  \n",
       "4   0.002785  "
      ]
     },
     "execution_count": 6,
     "metadata": {},
     "output_type": "execute_result"
    }
   ],
   "source": [
    "ev = pd.read_csv(\"IEA-EV-data.csv\")\n",
    "\n",
    "ev.head(5)"
   ]
  },
  {
   "cell_type": "code",
   "execution_count": 7,
   "metadata": {},
   "outputs": [
    {
     "name": "stdout",
     "output_type": "stream",
     "text": [
      "Australia (74, 8)\n",
      "Belgium (229, 8)\n",
      "Brazil (60, 8)\n",
      "Canada (137, 8)\n",
      "Chile (82, 8)\n",
      "China (751, 8)\n",
      "Denmark (247, 8)\n",
      "Europe (584, 8)\n",
      "Finland (149, 8)\n",
      "France (249, 8)\n",
      "Germany (198, 8)\n",
      "Greece (87, 8)\n",
      "Iceland (172, 8)\n",
      "India (314, 8)\n",
      "Indonesia (4, 8)\n",
      "Italy (189, 8)\n",
      "Japan (176, 8)\n",
      "Korea (150, 8)\n",
      "Mexico (69, 8)\n",
      "Netherlands (240, 8)\n",
      "New Zealand (146, 8)\n",
      "Norway (191, 8)\n",
      "Other Europe (228, 8)\n",
      "Poland (129, 8)\n",
      "Portugal (142, 8)\n",
      "Rest of the world (447, 8)\n",
      "South Africa (62, 8)\n",
      "Spain (187, 8)\n",
      "Sweden (195, 8)\n",
      "Switzerland (169, 8)\n",
      "Thailand (10, 8)\n",
      "USA (343, 8)\n",
      "United Kingdom (256, 8)\n",
      "World (350, 8)\n"
     ]
    }
   ],
   "source": [
    "for name, df in ev.groupby('region'):\n",
    "    print(name, df.shape)"
   ]
  },
  {
   "cell_type": "code",
   "execution_count": 8,
   "metadata": {},
   "outputs": [
    {
     "data": {
      "text/plain": [
       "EV stock                 1635\n",
       "EV sales                 1522\n",
       "EV stock share           1060\n",
       "EV sales share           1023\n",
       "EV charging points        623\n",
       "Electricity demand        501\n",
       "Oil displacement Mbd      326\n",
       "Oil displacement Mlge     326\n",
       "Name: parameter, dtype: int64"
      ]
     },
     "execution_count": 8,
     "metadata": {},
     "output_type": "execute_result"
    }
   ],
   "source": [
    "ev.parameter.value_counts()"
   ]
  },
  {
   "cell_type": "code",
   "execution_count": 9,
   "metadata": {},
   "outputs": [
    {
     "data": {
      "text/plain": [
       "Index(['region', 'category', 'parameter', 'mode', 'powertrain', 'year', 'unit',\n",
       "       'value'],\n",
       "      dtype='object')"
      ]
     },
     "execution_count": 9,
     "metadata": {},
     "output_type": "execute_result"
    }
   ],
   "source": [
    "ev.columns"
   ]
  },
  {
   "cell_type": "code",
   "execution_count": 10,
   "metadata": {},
   "outputs": [],
   "source": [
    "def sales_share(country):\n",
    "    share = ev[(ev.region != 'World') & (ev.category == 'Historical') & (ev['mode'] == 'Cars') & (ev.powertrain == 'PHEV') & (ev.unit == 'sales')]\n",
    "    return share"
   ]
  },
  {
   "cell_type": "code",
   "execution_count": 11,
   "metadata": {},
   "outputs": [],
   "source": [
    "def sales_phev(country):\n",
    "    sales_information = ev[(ev.region != 'World') & (ev.region == country) & (ev.category == 'Historical') & (ev['mode'] == 'Cars') & (ev.powertrain == 'PHEV') & (ev.unit == 'sales')]\n",
    "    return sales_information\n"
   ]
  },
  {
   "cell_type": "code",
   "execution_count": 12,
   "metadata": {},
   "outputs": [],
   "source": [
    "def charging_data_fast(country):\n",
    "    charging_information = ev[(ev.region == country) & (ev.category == 'Historical') & (ev.parameter == 'EV charging points') & (ev.powertrain == 'Publicly available fast')]\n",
    "    return charging_information"
   ]
  },
  {
   "cell_type": "code",
   "execution_count": 13,
   "metadata": {},
   "outputs": [],
   "source": [
    "def charging_data_slow(country):\n",
    "    charging_information = ev[(ev.region == country) & (ev.category == 'Historical') & (ev.parameter == 'EV charging points') & (ev.powertrain == 'Publicly available slow')]\n",
    "    return charging_information"
   ]
  },
  {
   "cell_type": "code",
   "execution_count": 14,
   "metadata": {},
   "outputs": [
    {
     "data": {
      "text/html": [
       "<div>\n",
       "<style scoped>\n",
       "    .dataframe tbody tr th:only-of-type {\n",
       "        vertical-align: middle;\n",
       "    }\n",
       "\n",
       "    .dataframe tbody tr th {\n",
       "        vertical-align: top;\n",
       "    }\n",
       "\n",
       "    .dataframe thead th {\n",
       "        text-align: right;\n",
       "    }\n",
       "</style>\n",
       "<table border=\"1\" class=\"dataframe\">\n",
       "  <thead>\n",
       "    <tr style=\"text-align: right;\">\n",
       "      <th></th>\n",
       "      <th>region</th>\n",
       "      <th>category</th>\n",
       "      <th>parameter</th>\n",
       "      <th>mode</th>\n",
       "      <th>powertrain</th>\n",
       "      <th>year</th>\n",
       "      <th>unit</th>\n",
       "      <th>value</th>\n",
       "    </tr>\n",
       "  </thead>\n",
       "  <tbody>\n",
       "    <tr>\n",
       "      <th>38</th>\n",
       "      <td>Australia</td>\n",
       "      <td>Historical</td>\n",
       "      <td>EV charging points</td>\n",
       "      <td>EV</td>\n",
       "      <td>Publicly available fast</td>\n",
       "      <td>2017</td>\n",
       "      <td>charging points</td>\n",
       "      <td>40.000000</td>\n",
       "    </tr>\n",
       "    <tr>\n",
       "      <th>43</th>\n",
       "      <td>Australia</td>\n",
       "      <td>Historical</td>\n",
       "      <td>EV charging points</td>\n",
       "      <td>EV</td>\n",
       "      <td>Publicly available fast</td>\n",
       "      <td>2018</td>\n",
       "      <td>charging points</td>\n",
       "      <td>61.093887</td>\n",
       "    </tr>\n",
       "    <tr>\n",
       "      <th>55</th>\n",
       "      <td>Australia</td>\n",
       "      <td>Historical</td>\n",
       "      <td>EV charging points</td>\n",
       "      <td>EV</td>\n",
       "      <td>Publicly available fast</td>\n",
       "      <td>2019</td>\n",
       "      <td>charging points</td>\n",
       "      <td>251.000000</td>\n",
       "    </tr>\n",
       "    <tr>\n",
       "      <th>59</th>\n",
       "      <td>Australia</td>\n",
       "      <td>Historical</td>\n",
       "      <td>EV charging points</td>\n",
       "      <td>EV</td>\n",
       "      <td>Publicly available fast</td>\n",
       "      <td>2020</td>\n",
       "      <td>charging points</td>\n",
       "      <td>350.000000</td>\n",
       "    </tr>\n",
       "    <tr>\n",
       "      <th>71</th>\n",
       "      <td>Australia</td>\n",
       "      <td>Historical</td>\n",
       "      <td>EV charging points</td>\n",
       "      <td>EV</td>\n",
       "      <td>Publicly available fast</td>\n",
       "      <td>2021</td>\n",
       "      <td>charging points</td>\n",
       "      <td>351.000000</td>\n",
       "    </tr>\n",
       "  </tbody>\n",
       "</table>\n",
       "</div>"
      ],
      "text/plain": [
       "       region    category           parameter mode               powertrain  \\\n",
       "38  Australia  Historical  EV charging points   EV  Publicly available fast   \n",
       "43  Australia  Historical  EV charging points   EV  Publicly available fast   \n",
       "55  Australia  Historical  EV charging points   EV  Publicly available fast   \n",
       "59  Australia  Historical  EV charging points   EV  Publicly available fast   \n",
       "71  Australia  Historical  EV charging points   EV  Publicly available fast   \n",
       "\n",
       "    year             unit       value  \n",
       "38  2017  charging points   40.000000  \n",
       "43  2018  charging points   61.093887  \n",
       "55  2019  charging points  251.000000  \n",
       "59  2020  charging points  350.000000  \n",
       "71  2021  charging points  351.000000  "
      ]
     },
     "execution_count": 14,
     "metadata": {},
     "output_type": "execute_result"
    }
   ],
   "source": [
    "aus_charge_fast = charging_data_fast('Australia')\n",
    "\n",
    "nz_charge_fast = charging_data_fast('New Zealand')\n",
    "\n",
    "aus_charge_fast\n"
   ]
  },
  {
   "cell_type": "code",
   "execution_count": 15,
   "metadata": {},
   "outputs": [
    {
     "data": {
      "text/html": [
       "<div>\n",
       "<style scoped>\n",
       "    .dataframe tbody tr th:only-of-type {\n",
       "        vertical-align: middle;\n",
       "    }\n",
       "\n",
       "    .dataframe tbody tr th {\n",
       "        vertical-align: top;\n",
       "    }\n",
       "\n",
       "    .dataframe thead th {\n",
       "        text-align: right;\n",
       "    }\n",
       "</style>\n",
       "<table border=\"1\" class=\"dataframe\">\n",
       "  <thead>\n",
       "    <tr style=\"text-align: right;\">\n",
       "      <th></th>\n",
       "      <th>region</th>\n",
       "      <th>category</th>\n",
       "      <th>parameter</th>\n",
       "      <th>mode</th>\n",
       "      <th>powertrain</th>\n",
       "      <th>year</th>\n",
       "      <th>unit</th>\n",
       "      <th>value</th>\n",
       "    </tr>\n",
       "  </thead>\n",
       "  <tbody>\n",
       "    <tr>\n",
       "      <th>39</th>\n",
       "      <td>Australia</td>\n",
       "      <td>Historical</td>\n",
       "      <td>EV charging points</td>\n",
       "      <td>EV</td>\n",
       "      <td>Publicly available slow</td>\n",
       "      <td>2017</td>\n",
       "      <td>charging points</td>\n",
       "      <td>436.00000</td>\n",
       "    </tr>\n",
       "    <tr>\n",
       "      <th>44</th>\n",
       "      <td>Australia</td>\n",
       "      <td>Historical</td>\n",
       "      <td>EV charging points</td>\n",
       "      <td>EV</td>\n",
       "      <td>Publicly available slow</td>\n",
       "      <td>2018</td>\n",
       "      <td>charging points</td>\n",
       "      <td>665.92334</td>\n",
       "    </tr>\n",
       "    <tr>\n",
       "      <th>56</th>\n",
       "      <td>Australia</td>\n",
       "      <td>Historical</td>\n",
       "      <td>EV charging points</td>\n",
       "      <td>EV</td>\n",
       "      <td>Publicly available slow</td>\n",
       "      <td>2019</td>\n",
       "      <td>charging points</td>\n",
       "      <td>1679.00000</td>\n",
       "    </tr>\n",
       "    <tr>\n",
       "      <th>60</th>\n",
       "      <td>Australia</td>\n",
       "      <td>Historical</td>\n",
       "      <td>EV charging points</td>\n",
       "      <td>EV</td>\n",
       "      <td>Publicly available slow</td>\n",
       "      <td>2020</td>\n",
       "      <td>charging points</td>\n",
       "      <td>1950.00000</td>\n",
       "    </tr>\n",
       "    <tr>\n",
       "      <th>72</th>\n",
       "      <td>Australia</td>\n",
       "      <td>Historical</td>\n",
       "      <td>EV charging points</td>\n",
       "      <td>EV</td>\n",
       "      <td>Publicly available slow</td>\n",
       "      <td>2021</td>\n",
       "      <td>charging points</td>\n",
       "      <td>1951.00000</td>\n",
       "    </tr>\n",
       "  </tbody>\n",
       "</table>\n",
       "</div>"
      ],
      "text/plain": [
       "       region    category           parameter mode               powertrain  \\\n",
       "39  Australia  Historical  EV charging points   EV  Publicly available slow   \n",
       "44  Australia  Historical  EV charging points   EV  Publicly available slow   \n",
       "56  Australia  Historical  EV charging points   EV  Publicly available slow   \n",
       "60  Australia  Historical  EV charging points   EV  Publicly available slow   \n",
       "72  Australia  Historical  EV charging points   EV  Publicly available slow   \n",
       "\n",
       "    year             unit       value  \n",
       "39  2017  charging points   436.00000  \n",
       "44  2018  charging points   665.92334  \n",
       "56  2019  charging points  1679.00000  \n",
       "60  2020  charging points  1950.00000  \n",
       "72  2021  charging points  1951.00000  "
      ]
     },
     "execution_count": 15,
     "metadata": {},
     "output_type": "execute_result"
    }
   ],
   "source": [
    "aus_charge_slow = (charging_data_slow('Australia'))\n",
    "\n",
    "nz_charge_slow = (charging_data_slow('New Zealand'))\n",
    "\n",
    "aus_charge_slow"
   ]
  },
  {
   "cell_type": "code",
   "execution_count": 16,
   "metadata": {},
   "outputs": [],
   "source": [
    "def get_int_list(dt):\n",
    "    a = dt.value.astype(int)\n",
    "    lst = list(a)\n",
    "    return lst\n",
    "    "
   ]
  },
  {
   "cell_type": "code",
   "execution_count": 17,
   "metadata": {},
   "outputs": [],
   "source": [
    "aus_slow = get_int_list(aus_charge_slow)\n",
    "\n",
    "aus_fast = get_int_list(aus_charge_fast)\n",
    "\n"
   ]
  },
  {
   "cell_type": "code",
   "execution_count": 18,
   "metadata": {},
   "outputs": [],
   "source": [
    "nz_slow = get_int_list(nz_charge_slow)\n",
    "\n",
    "nz_fast = get_int_list(nz_charge_fast)"
   ]
  },
  {
   "cell_type": "code",
   "execution_count": 19,
   "metadata": {},
   "outputs": [],
   "source": [
    "def sum_index(list1, list2):\n",
    "    sum_list = [sum(value) for value in zip(list1, list2)]\n",
    "    return sum_list\n",
    "\n"
   ]
  },
  {
   "cell_type": "code",
   "execution_count": 20,
   "metadata": {},
   "outputs": [
    {
     "data": {
      "text/plain": [
       "[476, 726, 1930, 2300, 2302]"
      ]
     },
     "execution_count": 20,
     "metadata": {},
     "output_type": "execute_result"
    }
   ],
   "source": [
    "aus_charging = sum_index(aus_slow, aus_fast)\n",
    "\n",
    "nz_charging = sum_index(nz_slow, nz_fast)\n",
    "\n",
    "nz_charging.insert(0, None)\n",
    "\n",
    "aus_charging"
   ]
  },
  {
   "cell_type": "code",
   "execution_count": 21,
   "metadata": {},
   "outputs": [
    {
     "ename": "NameError",
     "evalue": "name 'nz' is not defined",
     "output_type": "error",
     "traceback": [
      "\u001b[0;31m---------------------------------------------------------------------------\u001b[0m",
      "\u001b[0;31mNameError\u001b[0m                                 Traceback (most recent call last)",
      "\u001b[1;32m/Users/aaro/Data Project/Data Project.ipynb Cell 22\u001b[0m in \u001b[0;36m<cell line: 6>\u001b[0;34m()\u001b[0m\n\u001b[1;32m      <a href='vscode-notebook-cell:/Users/aaro/Data%20Project/Data%20Project.ipynb#ch0000021?line=2'>3</a>\u001b[0m x_axis \u001b[39m=\u001b[39m np\u001b[39m.\u001b[39marange(\u001b[39mlen\u001b[39m(v))\n\u001b[1;32m      <a href='vscode-notebook-cell:/Users/aaro/Data%20Project/Data%20Project.ipynb#ch0000021?line=4'>5</a>\u001b[0m plt\u001b[39m.\u001b[39mbar(x_axis \u001b[39m+\u001b[39m\u001b[39m0.2\u001b[39m, aus_charging, \u001b[39m0.4\u001b[39m, label\u001b[39m=\u001b[39m\u001b[39m'\u001b[39m\u001b[39mAustralia\u001b[39m\u001b[39m'\u001b[39m, color\u001b[39m=\u001b[39m\u001b[39m'\u001b[39m\u001b[39mb\u001b[39m\u001b[39m'\u001b[39m)\n\u001b[0;32m----> <a href='vscode-notebook-cell:/Users/aaro/Data%20Project/Data%20Project.ipynb#ch0000021?line=5'>6</a>\u001b[0m plt\u001b[39m.\u001b[39mbar(x_axis \u001b[39m-\u001b[39m\u001b[39m0.2\u001b[39m, nz, \u001b[39m0.4\u001b[39m, label\u001b[39m=\u001b[39m\u001b[39m'\u001b[39m\u001b[39mNew Zealand\u001b[39m\u001b[39m'\u001b[39m, color\u001b[39m=\u001b[39m\u001b[39m'\u001b[39m\u001b[39mg\u001b[39m\u001b[39m'\u001b[39m)\n\u001b[1;32m      <a href='vscode-notebook-cell:/Users/aaro/Data%20Project/Data%20Project.ipynb#ch0000021?line=8'>9</a>\u001b[0m plt\u001b[39m.\u001b[39mxticks(x_axis, v)\n\u001b[1;32m     <a href='vscode-notebook-cell:/Users/aaro/Data%20Project/Data%20Project.ipynb#ch0000021?line=9'>10</a>\u001b[0m plt\u001b[39m.\u001b[39mtitle(\u001b[39m'\u001b[39m\u001b[39mTotal Amount of Charging Stations\u001b[39m\u001b[39m'\u001b[39m)\n",
      "\u001b[0;31mNameError\u001b[0m: name 'nz' is not defined"
     ]
    },
    {
     "data": {
      "image/png": "[encoded data removed]",
      "text/plain": [
       "<Figure size 1440x720 with 1 Axes>"
      ]
     },
     "metadata": {
      "needs_background": "light"
     },
     "output_type": "display_data"
    }
   ],
   "source": [
    "v = list(range(2017,2022))\n",
    "\n",
    "x_axis = np.arange(len(v))\n",
    "\n",
    "plt.bar(x_axis +0.2, aus_charging, 0.4, label='Australia', color='b')\n",
    "plt.bar(x_axis -0.2, nz, 0.4, label='New Zealand', color='g')\n",
    "\n",
    "\n",
    "plt.xticks(x_axis, v)\n",
    "plt.title('Total Amount of Charging Stations')\n",
    "plt.legend()\n",
    "\n",
    "plt.show()\n",
    "\n"
   ]
  },
  {
   "cell_type": "code",
   "execution_count": null,
   "metadata": {},
   "outputs": [
    {
     "ename": "",
     "evalue": "",
     "output_type": "error",
     "traceback": [
      "\u001b[1;31mRunning cells with 'Python 3.10.4 ('py310')' requires ipykernel package.\n",
      "Run the following command to install 'ipykernel' into the Python environment. \n",
      "Command: 'conda install -n py310 ipykernel --update-deps --force-reinstall'"
     ]
    }
   ],
   "source": [
    "us_charging_fast = charging_data_fast('USA')\n",
    "us_charging_slow = charging_data_slow('USA')\n",
    "\n",
    "us_charging_slow\n"
   ]
  },
  {
   "cell_type": "code",
   "execution_count": null,
   "metadata": {},
   "outputs": [
    {
     "ename": "",
     "evalue": "",
     "output_type": "error",
     "traceback": [
      "\u001b[1;31mRunning cells with 'Python 3.10.4 ('py310')' requires ipykernel package.\n",
      "Run the following command to install 'ipykernel' into the Python environment. \n",
      "Command: 'conda install -n py310 ipykernel --update-deps --force-reinstall'"
     ]
    }
   ],
   "source": [
    "us_fast = get_int_list(us_charging_fast)\n",
    "us_slow = get_int_list(us_charging_slow)\n",
    "\n",
    "del us_slow[:5]\n",
    "\n",
    "us_slow\n"
   ]
  },
  {
   "cell_type": "code",
   "execution_count": null,
   "metadata": {},
   "outputs": [
    {
     "ename": "",
     "evalue": "",
     "output_type": "error",
     "traceback": [
      "\u001b[1;31mRunning cells with 'Python 3.10.4 ('py310')' requires ipykernel package.\n",
      "Run the following command to install 'ipykernel' into the Python environment. \n",
      "Command: 'conda install -n py310 ipykernel --update-deps --force-reinstall'"
     ]
    }
   ],
   "source": [
    "\n",
    "\n",
    "add_aus_charging = aus_charging\n",
    "\n",
    "add_aus_charging"
   ]
  },
  {
   "cell_type": "code",
   "execution_count": null,
   "metadata": {},
   "outputs": [
    {
     "ename": "",
     "evalue": "",
     "output_type": "error",
     "traceback": [
      "\u001b[1;31mRunning cells with 'Python 3.10.4 ('py310')' requires ipykernel package.\n",
      "Run the following command to install 'ipykernel' into the Python environment. \n",
      "Command: 'conda install -n py310 ipykernel --update-deps --force-reinstall'"
     ]
    }
   ],
   "source": [
    "us_charging = sum_index(us_slow, us_fast)\n",
    "\n",
    "us_charging"
   ]
  },
  {
   "cell_type": "code",
   "execution_count": null,
   "metadata": {},
   "outputs": [
    {
     "ename": "",
     "evalue": "",
     "output_type": "error",
     "traceback": [
      "\u001b[1;31mRunning cells with 'Python 3.10.4 ('py310')' requires ipykernel package.\n",
      "Run the following command to install 'ipykernel' into the Python environment. \n",
      "Command: 'conda install -n py310 ipykernel --update-deps --force-reinstall'"
     ]
    }
   ],
   "source": [
    "v = list(range(2015,2022))\n",
    "\n",
    "x_axis = np.arange(len(v))\n",
    "\n",
    "plt.bar(x_axis +0.2, us_charging, 0.4, label='USA', color='r')\n",
    "plt.bar(x_axis -0.2, aus_charging, 0.4, label='Australia', color='b')\n",
    "\n",
    "\n",
    "plt.xticks(x_axis, v)\n",
    "plt.title('Total Amount of Charging Stations')\n",
    "plt.legend()\n",
    "\n",
    "plt.show()"
   ]
  },
  {
   "cell_type": "markdown",
   "metadata": {},
   "source": [
    "Sales PHEV"
   ]
  },
  {
   "cell_type": "code",
   "execution_count": null,
   "metadata": {},
   "outputs": [
    {
     "ename": "",
     "evalue": "",
     "output_type": "error",
     "traceback": [
      "\u001b[1;31mRunning cells with 'Python 3.10.4 ('py310')' requires ipykernel package.\n",
      "Run the following command to install 'ipykernel' into the Python environment. \n",
      "Command: 'conda install -n py310 ipykernel --update-deps --force-reinstall'"
     ]
    }
   ],
   "source": [
    "def sales_phev(country):\n",
    "    sales_information = ev[(ev.region != 'World') & (ev.category == 'Historical') & (ev['mode'] == 'Cars') & (ev.powertrain == 'PHEV') & (ev.unit == 'sales')]\n",
    "    return sales_information"
   ]
  },
  {
   "cell_type": "markdown",
   "metadata": {},
   "source": [
    "Sales BEV"
   ]
  },
  {
   "cell_type": "code",
   "execution_count": null,
   "metadata": {},
   "outputs": [
    {
     "ename": "",
     "evalue": "",
     "output_type": "error",
     "traceback": [
      "\u001b[1;31mRunning cells with 'Python 3.10.4 ('py310')' requires ipykernel package.\n",
      "Run the following command to install 'ipykernel' into the Python environment. \n",
      "Command: 'conda install -n py310 ipykernel --update-deps --force-reinstall'"
     ]
    }
   ],
   "source": [
    "def sales_bev(country):\n",
    "    sales_information = ev[(ev.region != 'World') & (ev.category == 'Historical') & (ev['mode'] == 'Cars') & (ev.powertrain == 'BEV') & (ev.unit == 'sales')]\n",
    "    return sales_information"
   ]
  },
  {
   "cell_type": "code",
   "execution_count": null,
   "metadata": {},
   "outputs": [
    {
     "ename": "",
     "evalue": "",
     "output_type": "error",
     "traceback": [
      "\u001b[1;31mRunning cells with 'Python 3.10.4 ('py310')' requires ipykernel package.\n",
      "Run the following command to install 'ipykernel' into the Python environment. \n",
      "Command: 'conda install -n py310 ipykernel --update-deps --force-reinstall'"
     ]
    }
   ],
   "source": [
    "world = sales_bev(ev.region)\n",
    "\n",
    "world.head()"
   ]
  },
  {
   "cell_type": "code",
   "execution_count": null,
   "metadata": {},
   "outputs": [
    {
     "ename": "",
     "evalue": "",
     "output_type": "error",
     "traceback": [
      "\u001b[1;31mRunning cells with 'Python 3.10.4 ('py310')' requires ipykernel package.\n",
      "Run the following command to install 'ipykernel' into the Python environment. \n",
      "Command: 'conda install -n py310 ipykernel --update-deps --force-reinstall'"
     ]
    }
   ],
   "source": [
    "world_phev = sales_phev(ev)\n",
    "\n",
    "world_phev.head(20)"
   ]
  },
  {
   "cell_type": "code",
   "execution_count": null,
   "metadata": {},
   "outputs": [
    {
     "ename": "",
     "evalue": "",
     "output_type": "error",
     "traceback": [
      "\u001b[1;31mRunning cells with 'Python 3.10.4 ('py310')' requires ipykernel package.\n",
      "Run the following command to install 'ipykernel' into the Python environment. \n",
      "Command: 'conda install -n py310 ipykernel --update-deps --force-reinstall'"
     ]
    }
   ],
   "source": [
    "\n",
    "world_sales = world.drop([\"category\", \"parameter\", \"mode\", \"powertrain\"], axis=1)\n",
    "\n",
    "world_sales.head()"
   ]
  },
  {
   "cell_type": "code",
   "execution_count": null,
   "metadata": {},
   "outputs": [
    {
     "ename": "",
     "evalue": "",
     "output_type": "error",
     "traceback": [
      "\u001b[1;31mRunning cells with 'Python 3.10.4 ('py310')' requires ipykernel package.\n",
      "Run the following command to install 'ipykernel' into the Python environment. \n",
      "Command: 'conda install -n py310 ipykernel --update-deps --force-reinstall'"
     ]
    }
   ],
   "source": [
    "world_PHEV = world_phev.drop([\"category\", \"parameter\", \"mode\", \"powertrain\"], axis=1)\n",
    "\n",
    "world_PHEV.head()"
   ]
  },
  {
   "cell_type": "code",
   "execution_count": null,
   "metadata": {},
   "outputs": [
    {
     "ename": "",
     "evalue": "",
     "output_type": "error",
     "traceback": [
      "\u001b[1;31mRunning cells with 'Python 3.10.4 ('py310')' requires ipykernel package.\n",
      "Run the following command to install 'ipykernel' into the Python environment. \n",
      "Command: 'conda install -n py310 ipykernel --update-deps --force-reinstall'"
     ]
    }
   ],
   "source": [
    "def phev_selector(country):\n",
    "    result = world_PHEV.loc[world_PHEV['region'] == country]\n",
    "    \n",
    "    result = list(result.value)\n",
    "\n",
    "    result = list(map(int, result))\n",
    "    \n",
    "    return result\n"
   ]
  },
  {
   "cell_type": "code",
   "execution_count": null,
   "metadata": {},
   "outputs": [
    {
     "ename": "",
     "evalue": "",
     "output_type": "error",
     "traceback": [
      "\u001b[1;31mRunning cells with 'Python 3.10.4 ('py310')' requires ipykernel package.\n",
      "Run the following command to install 'ipykernel' into the Python environment. \n",
      "Command: 'conda install -n py310 ipykernel --update-deps --force-reinstall'"
     ]
    }
   ],
   "source": [
    "\n",
    "def selector(country):\n",
    "    result = world_sales.loc[world_sales['region'] == country]\n",
    "    \n",
    "    result = list(result.value)\n",
    "\n",
    "    result = list(map(int, result))\n",
    "    \n",
    "    return result\n",
    "\n",
    "\n",
    "aus = selector('Australia')\n",
    "\n",
    "\n",
    "aus.insert((0), None)\n",
    "\n",
    "usa = selector('USA')\n",
    "\n",
    "uk = selector('United Kingdom')\n",
    "\n",
    "norway = selector('Norway')\n",
    "\n",
    "germany = selector('Germany')\n",
    "\n",
    "switzerland = selector('Switzerland')\n",
    "\n",
    "sweden = selector('Sweden')\n",
    "\n",
    "spain = selector('Spain')\n",
    "\n",
    "\n",
    "        "
   ]
  },
  {
   "cell_type": "code",
   "execution_count": null,
   "metadata": {},
   "outputs": [
    {
     "ename": "",
     "evalue": "",
     "output_type": "error",
     "traceback": [
      "\u001b[1;31mRunning cells with 'Python 3.10.4 ('py310')' requires ipykernel package.\n",
      "Run the following command to install 'ipykernel' into the Python environment. \n",
      "Command: 'conda install -n py310 ipykernel --update-deps --force-reinstall'"
     ]
    }
   ],
   "source": [
    "short_aus = selector('Australia')\n",
    "\n",
    "#belg = selector('Belgium')\n",
    "\n",
    "#belg.pop(0)\n",
    "\n",
    "#short_belg = belg\n",
    "\n",
    "nor = selector('Norway')\n",
    "\n",
    "nor.pop(0)\n",
    "\n",
    "short_nor = nor\n",
    "\n",
    "nz = selector('New Zealand')\n",
    "\n",
    "nz.pop(0)\n",
    "\n",
    "short_nz = nz\n",
    "\n",
    "x = list(range(2011,2022))\n",
    "\n",
    "x_axis = np.arange(len(x))\n",
    "\n",
    "plt.bar(x_axis, short_aus, 0.2, label='Australia', color='#fcc621')\n",
    "plt.bar(x_axis +0.2, short_nor, 0.2, label='Norway', color='#4f9eff')\n",
    "plt.bar(x_axis -0.2, short_nz, 0.2, label= 'New Zealand', color='g')\n",
    "\n",
    "plt.xticks(x_axis, x)\n",
    "plt.xlabel(\"Year\")\n",
    "plt.ylabel(\"Units Sold\")\n",
    "plt.title(\"Number of Battery Electric Vehicles Sold per Year\")\n",
    "plt.legend()\n",
    "\n",
    "plt.show()\n"
   ]
  },
  {
   "cell_type": "code",
   "execution_count": null,
   "metadata": {},
   "outputs": [
    {
     "ename": "",
     "evalue": "",
     "output_type": "error",
     "traceback": [
      "\u001b[1;31mRunning cells with 'Python 3.10.4 ('py310')' requires ipykernel package.\n",
      "Run the following command to install 'ipykernel' into the Python environment. \n",
      "Command: 'conda install -n py310 ipykernel --update-deps --force-reinstall'"
     ]
    }
   ],
   "source": [
    "year = list(range(2010,2022))\n",
    "\n",
    "new_dataframe = pd.DataFrame(\n",
    "    {\n",
    "        \"year\": year,\n",
    "        \"Australia\": aus,\n",
    "        \"USA\": usa,\n",
    "        \"UK\": uk,\n",
    "        \"Norway\": norway,\n",
    "        \"Germany\": germany,\n",
    "        \"Switzerland\": switzerland,\n",
    "        \"Sweden\": sweden,\n",
    "        \"Spain\": spain,\n",
    "        \n",
    "\n",
    "    }\n",
    ")\n",
    "\n",
    "new_dataframe"
   ]
  },
  {
   "cell_type": "code",
   "execution_count": null,
   "metadata": {},
   "outputs": [
    {
     "ename": "",
     "evalue": "",
     "output_type": "error",
     "traceback": [
      "\u001b[1;31mRunning cells with 'Python 3.10.4 ('py310')' requires ipykernel package.\n",
      "Run the following command to install 'ipykernel' into the Python environment. \n",
      "Command: 'conda install -n py310 ipykernel --update-deps --force-reinstall'"
     ]
    }
   ],
   "source": [
    "plt.title('Battery Electric Vehicle Sales per Year', fontdict={'fontweight': 'bold', 'fontsize': 12})\n",
    "\n",
    "plt.plot(new_dataframe.year, new_dataframe.Australia, '.-', label='Australia', color='#f2dc35')\n",
    "plt.plot(new_dataframe.year, new_dataframe.USA, '.-', label='USA', color='#071ca8')\n",
    "plt.plot(new_dataframe.year, new_dataframe.UK, '.-', label='UK', color='#3a7de8')\n",
    "plt.plot(new_dataframe.year, new_dataframe.Norway, '.-', label='Norway', color='#ad0707')\n",
    "plt.plot(new_dataframe.year, new_dataframe.Germany, '.-', label='Germany', color='#219165')\n",
    "\n",
    "plt.xticks(new_dataframe.year)\n",
    "\n",
    "\n",
    "plt.xlabel('Year')\n",
    "plt.ylabel('Unit Sales')\n",
    "\n",
    "plt.legend()\n",
    "\n",
    "plt.show()\n",
    "\n",
    "\n"
   ]
  },
  {
   "cell_type": "code",
   "execution_count": null,
   "metadata": {},
   "outputs": [
    {
     "ename": "",
     "evalue": "",
     "output_type": "error",
     "traceback": [
      "\u001b[1;31mRunning cells with 'Python 3.10.4 ('py310')' requires ipykernel package.\n",
      "Run the following command to install 'ipykernel' into the Python environment. \n",
      "Command: 'conda install -n py310 ipykernel --update-deps --force-reinstall'"
     ]
    }
   ],
   "source": [
    "\n",
    "\n",
    "aus_f = [x for x in aus if x is not None]\n",
    "\n",
    "aus_f\n",
    "\n",
    "aus_sales = sum(aus_f)\n",
    "\n",
    "usa_sales = sum(usa)\n",
    "\n",
    "uk_sales = sum(uk)\n",
    "\n",
    "norway_sales = sum(norway)\n",
    "\n",
    "aus\n",
    "\n"
   ]
  },
  {
   "cell_type": "code",
   "execution_count": null,
   "metadata": {},
   "outputs": [
    {
     "ename": "",
     "evalue": "",
     "output_type": "error",
     "traceback": [
      "\u001b[1;31mRunning cells with 'Python 3.10.4 ('py310')' requires ipykernel package.\n",
      "Run the following command to install 'ipykernel' into the Python environment. \n",
      "Command: 'conda install -n py310 ipykernel --update-deps --force-reinstall'"
     ]
    }
   ],
   "source": [
    "year = list(range(2010,2022))\n",
    "\n",
    "all_sales = pd.DataFrame(\n",
    "    {\n",
    "        \"Sales\": ['Total'] + year,\n",
    "        \"Australia\": [aus_sales] + aus,\n",
    "        \"USA\": [usa_sales] + usa,\n",
    "        \"UK\": [uk_sales] + uk,\n",
    "        \"Norway\": [norway_sales] + norway\n",
    "        #\"Germany\": germany,\n",
    "        #\"Switzerland\": switzerland,\n",
    "        #\"Sweden\": sweden,\n",
    "        #\"Spain\": spain,\n",
    "    }\n",
    ")\n",
    "\n",
    "all_sales"
   ]
  },
  {
   "cell_type": "code",
   "execution_count": null,
   "metadata": {},
   "outputs": [
    {
     "ename": "",
     "evalue": "",
     "output_type": "error",
     "traceback": [
      "\u001b[1;31mRunning cells with 'Python 3.10.4 ('py310')' requires ipykernel package.\n",
      "Run the following command to install 'ipykernel' into the Python environment. \n",
      "Command: 'conda install -n py310 ipykernel --update-deps --force-reinstall'"
     ]
    }
   ],
   "source": [
    "countries = ['Australia', 'USA', 'UK', 'Norway']\n",
    "\n",
    "c_totals = [aus_sales, usa_sales, uk_sales, norway_sales]\n"
   ]
  },
  {
   "cell_type": "code",
   "execution_count": null,
   "metadata": {},
   "outputs": [
    {
     "ename": "",
     "evalue": "",
     "output_type": "error",
     "traceback": [
      "\u001b[1;31mRunning cells with 'Python 3.10.4 ('py310')' requires ipykernel package.\n",
      "Run the following command to install 'ipykernel' into the Python environment. \n",
      "Command: 'conda install -n py310 ipykernel --update-deps --force-reinstall'"
     ]
    }
   ],
   "source": [
    "year = list(range(2010,2022))\n",
    "\n",
    "sum_sales = pd.DataFrame(\n",
    "    {\n",
    "        \"Country\": countries,\n",
    "        \"Total BEV\": c_totals,\n",
    "        \n",
    "      \n",
    "        \n",
    "\n",
    "    }\n",
    ")\n",
    "\n",
    "sum_sales"
   ]
  },
  {
   "cell_type": "markdown",
   "metadata": {},
   "source": [
    "PHEV"
   ]
  },
  {
   "cell_type": "code",
   "execution_count": null,
   "metadata": {},
   "outputs": [
    {
     "ename": "",
     "evalue": "",
     "output_type": "error",
     "traceback": [
      "\u001b[1;31mRunning cells with 'Python 3.10.4 ('py310')' requires ipykernel package.\n",
      "Run the following command to install 'ipykernel' into the Python environment. \n",
      "Command: 'conda install -n py310 ipykernel --update-deps --force-reinstall'"
     ]
    }
   ],
   "source": [
    "\n",
    "world_PHEV = world_phev.drop([\"category\", \"parameter\", \"mode\", \"powertrain\"], axis=1)\n",
    "\n",
    "world_PHEV.head(10)"
   ]
  },
  {
   "cell_type": "code",
   "execution_count": null,
   "metadata": {},
   "outputs": [
    {
     "ename": "",
     "evalue": "",
     "output_type": "error",
     "traceback": [
      "\u001b[1;31mRunning cells with 'Python 3.10.4 ('py310')' requires ipykernel package.\n",
      "Run the following command to install 'ipykernel' into the Python environment. \n",
      "Command: 'conda install -n py310 ipykernel --update-deps --force-reinstall'"
     ]
    }
   ],
   "source": [
    "\n",
    "def selector_phev(country):\n",
    "    result = world_PHEV.loc[world_PHEV['region'] == country]\n",
    "    \n",
    "    result = list(result.value)\n",
    "\n",
    "    result = list(map(int, result))\n",
    "    \n",
    "    return result\n",
    "\n",
    "\n",
    "aus_phev = selector_phev('Australia')\n",
    "\n",
    "usa_phev = selector_phev('USA')\n",
    "\n",
    "uk_phev = selector_phev('United Kingdom')\n",
    "\n",
    "norway_phev = selector_phev('Norway')\n",
    "\n",
    "germany_phev = selector_phev('Germany')\n",
    "\n",
    "switzerland_phev = selector_phev('Switzerland')\n",
    "\n",
    "sweden_phev = selector_phev('Sweden')\n",
    "\n",
    "spain_phev = selector_phev('Spain')\n",
    "\n",
    "aus_phev\n",
    "\n",
    "\n",
    "\n"
   ]
  },
  {
   "cell_type": "code",
   "execution_count": null,
   "metadata": {},
   "outputs": [
    {
     "ename": "",
     "evalue": "",
     "output_type": "error",
     "traceback": [
      "\u001b[1;31mRunning cells with 'Python 3.10.4 ('py310')' requires ipykernel package.\n",
      "Run the following command to install 'ipykernel' into the Python environment. \n",
      "Command: 'conda install -n py310 ipykernel --update-deps --force-reinstall'"
     ]
    }
   ],
   "source": [
    "\n",
    "au = selector('Australia')\n",
    "\n",
    "au.pop(0)\n",
    "\n",
    "new_a = au\n",
    "\n",
    "x = list(range(2012,2022))\n",
    "\n",
    "x_axis = np.arange(len(x))\n",
    "\n",
    "plt.bar(x_axis -0.2, aus_phev, 0.4, label='PHEV')\n",
    "plt.bar(x_axis +0.2, au, 0.4, label='BEV', color='m')\n",
    "\n",
    "\n",
    "plt.xticks(x_axis, x)\n",
    "plt.xlabel(\"Year\")\n",
    "plt.ylabel(\"Units Sold\")\n",
    "plt.title(\"Number of Electric Vehicles Sold per Year in Australia\")\n",
    "plt.legend()\n",
    "\n",
    "plt.show()\n",
    "\n"
   ]
  },
  {
   "cell_type": "code",
   "execution_count": null,
   "metadata": {},
   "outputs": [
    {
     "ename": "",
     "evalue": "",
     "output_type": "error",
     "traceback": [
      "\u001b[1;31mRunning cells with 'Python 3.10.4 ('py310')' requires ipykernel package.\n",
      "Run the following command to install 'ipykernel' into the Python environment. \n",
      "Command: 'conda install -n py310 ipykernel --update-deps --force-reinstall'"
     ]
    }
   ],
   "source": [
    "kingdom = selector('United Kingdom')\n",
    "\n",
    "king_phev = phev_selector('United Kingdom')\n",
    "\n",
    "x = list(range(2010,2022))\n",
    "\n",
    "x_axis = np.arange(len(x))\n",
    "\n",
    "plt.bar(x_axis -0.2, king_phev, 0.4, label='PHEV')\n",
    "plt.bar(x_axis +0.2, kingdom, 0.4, label='BEV', color='g')\n",
    "\n",
    "\n",
    "plt.xticks(x_axis, x)\n",
    "plt.xlabel(\"Year\")\n",
    "plt.ylabel(\"Units Sold\")\n",
    "plt.title(\"Number of Electric Vehicles Sold per Year in United Kingdom\")\n",
    "plt.legend()\n",
    "\n",
    "plt.show()\n",
    "\n"
   ]
  },
  {
   "cell_type": "code",
   "execution_count": null,
   "metadata": {},
   "outputs": [
    {
     "ename": "",
     "evalue": "",
     "output_type": "error",
     "traceback": [
      "\u001b[1;31mRunning cells with 'Python 3.10.4 ('py310')' requires ipykernel package.\n",
      "Run the following command to install 'ipykernel' into the Python environment. \n",
      "Command: 'conda install -n py310 ipykernel --update-deps --force-reinstall'"
     ]
    }
   ],
   "source": [
    "phev_sum_aus = sum(aus_phev)\n",
    "\n",
    "phev_sum_usa = sum(usa_phev)\n",
    "\n",
    "phev_sum_uk = sum(uk_phev)"
   ]
  },
  {
   "cell_type": "code",
   "execution_count": null,
   "metadata": {},
   "outputs": [
    {
     "ename": "",
     "evalue": "",
     "output_type": "error",
     "traceback": [
      "\u001b[1;31mRunning cells with 'Python 3.10.4 ('py310')' requires ipykernel package.\n",
      "Run the following command to install 'ipykernel' into the Python environment. \n",
      "Command: 'conda install -n py310 ipykernel --update-deps --force-reinstall'"
     ]
    }
   ],
   "source": [
    "countries = ['Australia', 'USA', 'UK']\n",
    "\n",
    "c_totals = [aus_sales, usa_sales, uk_sales]\n",
    "\n",
    "p_totals = [phev_sum_aus, phev_sum_usa, phev_sum_uk]"
   ]
  },
  {
   "cell_type": "code",
   "execution_count": null,
   "metadata": {},
   "outputs": [
    {
     "ename": "",
     "evalue": "",
     "output_type": "error",
     "traceback": [
      "\u001b[1;31mRunning cells with 'Python 3.10.4 ('py310')' requires ipykernel package.\n",
      "Run the following command to install 'ipykernel' into the Python environment. \n",
      "Command: 'conda install -n py310 ipykernel --update-deps --force-reinstall'"
     ]
    }
   ],
   "source": [
    "year = list(range(2010,2022))\n",
    "\n",
    "sum_sales = pd.DataFrame(\n",
    "    {\n",
    "        \"Country\": countries,\n",
    "        \"BEV\": c_totals,\n",
    "        \"PHEV\": p_totals\n",
    "        \n",
    "      \n",
    "        \n",
    "\n",
    "    }\n",
    ")\n",
    "\n",
    "sum_sales"
   ]
  }
 ],
 "metadata": {
  "kernelspec": {
   "display_name": "Python 3.9.12 ('base')",
   "language": "python",
   "name": "python3"
  },
  "language_info": {
   "codemirror_mode": {
    "name": "ipython",
    "version": 3
   },
   "file_extension": ".py",
   "mimetype": "text/x-python",
   "name": "python",
   "nbconvert_exporter": "python",
   "pygments_lexer": "ipython3",
   "version": "3.9.12"
  },
  "orig_nbformat": 4,
  "vscode": {
   "interpreter": {
    "hash": "171872b6069e136326abb8a787b3da56e8bc41694c670b4cce1509cad222c908"
   }
  }
 },
 "nbformat": 4,
 "nbformat_minor": 2
}
