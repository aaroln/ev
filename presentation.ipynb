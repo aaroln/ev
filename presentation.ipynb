{
 "cells": [
  {
   "cell_type": "markdown",
   "metadata": {
    "slideshow": {
     "slide_type": "slide"
    }
   },
   "source": [
    "# Is there a correlation between Renewable Energy Consumption and Electric Vehicle Uptake?\n",
    "\n",
    "By Aaro Lahtinen"
   ]
  },
  {
   "cell_type": "markdown",
   "metadata": {
    "slideshow": {
     "slide_type": "slide"
    }
   },
   "source": [
    "# Datasets\n",
    "    \n",
    "1. Global Electric Vehicle Outlook 2022 by International Energy Agency\n",
    "\n",
    "\n",
    "2. Statistical Review of World Energy 2022 by BP"
   ]
  },
  {
   "cell_type": "markdown",
   "metadata": {
    "slideshow": {
     "slide_type": "skip"
    }
   },
   "source": [
    "Libraries"
   ]
  },
  {
   "cell_type": "code",
   "execution_count": 1,
   "metadata": {
    "slideshow": {
     "slide_type": "skip"
    }
   },
   "outputs": [],
   "source": [
    "#pip install geopandas"
   ]
  },
  {
   "cell_type": "code",
   "execution_count": 2,
   "metadata": {
    "slideshow": {
     "slide_type": "skip"
    }
   },
   "outputs": [],
   "source": [
    "#pip install plotly"
   ]
  },
  {
   "cell_type": "code",
   "execution_count": 1,
   "metadata": {
    "slideshow": {
     "slide_type": "skip"
    }
   },
   "outputs": [],
   "source": [
    "#pip install pandoc"
   ]
  },
  {
   "cell_type": "code",
   "execution_count": 3,
   "metadata": {
    "slideshow": {
     "slide_type": "skip"
    }
   },
   "outputs": [],
   "source": [
    "import matplotlib\n",
    "import matplotlib.pyplot as plt\n",
    "import numpy as np\n",
    "import pandas as pd\n",
    "import os\n",
    "from datetime import datetime\n",
    "import geopandas as gpd\n",
    "import plotly.express as px"
   ]
  },
  {
   "cell_type": "markdown",
   "metadata": {
    "slideshow": {
     "slide_type": "skip"
    }
   },
   "source": [
    "Style"
   ]
  },
  {
   "cell_type": "code",
   "execution_count": 4,
   "metadata": {
    "slideshow": {
     "slide_type": "skip"
    }
   },
   "outputs": [],
   "source": [
    "pd.options.mode.chained_assignment = None"
   ]
  },
  {
   "cell_type": "code",
   "execution_count": 5,
   "metadata": {
    "slideshow": {
     "slide_type": "skip"
    }
   },
   "outputs": [],
   "source": [
    "plt.rcParams.update({'font.family':'Arial'})"
   ]
  },
  {
   "cell_type": "code",
   "execution_count": 6,
   "metadata": {
    "slideshow": {
     "slide_type": "skip"
    }
   },
   "outputs": [],
   "source": [
    "plt.rc('xtick', labelsize=15) \n",
    "plt.rc('ytick', labelsize=15)"
   ]
  },
  {
   "cell_type": "code",
   "execution_count": 7,
   "metadata": {
    "slideshow": {
     "slide_type": "skip"
    }
   },
   "outputs": [],
   "source": [
    "%matplotlib inline"
   ]
  },
  {
   "cell_type": "code",
   "execution_count": 50,
   "metadata": {
    "slideshow": {
     "slide_type": "skip"
    }
   },
   "outputs": [],
   "source": [
    "plt.rcParams['figure.figsize'] = (15,7)"
   ]
  },
  {
   "cell_type": "code",
   "execution_count": 9,
   "metadata": {
    "slideshow": {
     "slide_type": "skip"
    }
   },
   "outputs": [],
   "source": [
    "saved_style_state = matplotlib.rcParams.copy()"
   ]
  },
  {
   "cell_type": "code",
   "execution_count": 10,
   "metadata": {
    "slideshow": {
     "slide_type": "skip"
    }
   },
   "outputs": [],
   "source": [
    "pd.set_option('display.max_rows', None)"
   ]
  },
  {
   "cell_type": "markdown",
   "metadata": {
    "slideshow": {
     "slide_type": "skip"
    }
   },
   "source": [
    "Reading files..."
   ]
  },
  {
   "cell_type": "code",
   "execution_count": 11,
   "metadata": {
    "slideshow": {
     "slide_type": "skip"
    }
   },
   "outputs": [],
   "source": [
    "ev = pd.read_csv(\"IEA-EV-data.csv\")"
   ]
  },
  {
   "cell_type": "code",
   "execution_count": 12,
   "metadata": {
    "slideshow": {
     "slide_type": "skip"
    }
   },
   "outputs": [],
   "source": [
    "world_geo = pd.read_csv(\"world_geo.csv\")"
   ]
  },
  {
   "cell_type": "code",
   "execution_count": 13,
   "metadata": {
    "slideshow": {
     "slide_type": "skip"
    }
   },
   "outputs": [],
   "source": [
    "country = pd.read_csv(\"countries.csv\")"
   ]
  },
  {
   "cell_type": "code",
   "execution_count": 14,
   "metadata": {
    "slideshow": {
     "slide_type": "skip"
    }
   },
   "outputs": [],
   "source": [
    "energy = pd.read_csv(\"energy.csv\")"
   ]
  },
  {
   "cell_type": "code",
   "execution_count": 15,
   "metadata": {
    "slideshow": {
     "slide_type": "skip"
    }
   },
   "outputs": [],
   "source": [
    "renewable_share = pd.read_csv(\"renewable-share-energy.csv\")"
   ]
  },
  {
   "cell_type": "markdown",
   "metadata": {
    "slideshow": {
     "slide_type": "slide"
    }
   },
   "source": [
    "# 1. EV"
   ]
  },
  {
   "cell_type": "code",
   "execution_count": 16,
   "metadata": {
    "scrolled": true,
    "slideshow": {
     "slide_type": "fragment"
    }
   },
   "outputs": [
    {
     "data": {
      "text/html": [
       "<div>\n",
       "<style scoped>\n",
       "    .dataframe tbody tr th:only-of-type {\n",
       "        vertical-align: middle;\n",
       "    }\n",
       "\n",
       "    .dataframe tbody tr th {\n",
       "        vertical-align: top;\n",
       "    }\n",
       "\n",
       "    .dataframe thead th {\n",
       "        text-align: right;\n",
       "    }\n",
       "</style>\n",
       "<table border=\"1\" class=\"dataframe\">\n",
       "  <thead>\n",
       "    <tr style=\"text-align: right;\">\n",
       "      <th></th>\n",
       "      <th>region</th>\n",
       "      <th>category</th>\n",
       "      <th>parameter</th>\n",
       "      <th>mode</th>\n",
       "      <th>powertrain</th>\n",
       "      <th>year</th>\n",
       "      <th>unit</th>\n",
       "      <th>value</th>\n",
       "    </tr>\n",
       "  </thead>\n",
       "  <tbody>\n",
       "    <tr>\n",
       "      <th>0</th>\n",
       "      <td>Australia</td>\n",
       "      <td>Historical</td>\n",
       "      <td>EV sales</td>\n",
       "      <td>Cars</td>\n",
       "      <td>BEV</td>\n",
       "      <td>2011</td>\n",
       "      <td>sales</td>\n",
       "      <td>49.000000</td>\n",
       "    </tr>\n",
       "    <tr>\n",
       "      <th>1</th>\n",
       "      <td>Australia</td>\n",
       "      <td>Historical</td>\n",
       "      <td>EV stock</td>\n",
       "      <td>Cars</td>\n",
       "      <td>BEV</td>\n",
       "      <td>2011</td>\n",
       "      <td>stock</td>\n",
       "      <td>49.000000</td>\n",
       "    </tr>\n",
       "    <tr>\n",
       "      <th>2</th>\n",
       "      <td>Australia</td>\n",
       "      <td>Historical</td>\n",
       "      <td>EV sales share</td>\n",
       "      <td>Cars</td>\n",
       "      <td>EV</td>\n",
       "      <td>2011</td>\n",
       "      <td>percent</td>\n",
       "      <td>0.006479</td>\n",
       "    </tr>\n",
       "    <tr>\n",
       "      <th>3</th>\n",
       "      <td>Australia</td>\n",
       "      <td>Historical</td>\n",
       "      <td>EV stock share</td>\n",
       "      <td>Cars</td>\n",
       "      <td>EV</td>\n",
       "      <td>2011</td>\n",
       "      <td>percent</td>\n",
       "      <td>0.000464</td>\n",
       "    </tr>\n",
       "    <tr>\n",
       "      <th>4</th>\n",
       "      <td>Australia</td>\n",
       "      <td>Historical</td>\n",
       "      <td>EV stock share</td>\n",
       "      <td>Cars</td>\n",
       "      <td>EV</td>\n",
       "      <td>2012</td>\n",
       "      <td>percent</td>\n",
       "      <td>0.002785</td>\n",
       "    </tr>\n",
       "  </tbody>\n",
       "</table>\n",
       "</div>"
      ],
      "text/plain": [
       "      region    category       parameter  mode powertrain  year     unit  \\\n",
       "0  Australia  Historical        EV sales  Cars        BEV  2011    sales   \n",
       "1  Australia  Historical        EV stock  Cars        BEV  2011    stock   \n",
       "2  Australia  Historical  EV sales share  Cars         EV  2011  percent   \n",
       "3  Australia  Historical  EV stock share  Cars         EV  2011  percent   \n",
       "4  Australia  Historical  EV stock share  Cars         EV  2012  percent   \n",
       "\n",
       "       value  \n",
       "0  49.000000  \n",
       "1  49.000000  \n",
       "2   0.006479  \n",
       "3   0.000464  \n",
       "4   0.002785  "
      ]
     },
     "execution_count": 16,
     "metadata": {},
     "output_type": "execute_result"
    }
   ],
   "source": [
    "ev.head()"
   ]
  },
  {
   "cell_type": "markdown",
   "metadata": {
    "slideshow": {
     "slide_type": "slide"
    }
   },
   "source": [
    "# 2. RS"
   ]
  },
  {
   "cell_type": "code",
   "execution_count": 17,
   "metadata": {
    "slideshow": {
     "slide_type": "fragment"
    }
   },
   "outputs": [
    {
     "data": {
      "text/html": [
       "<div>\n",
       "<style scoped>\n",
       "    .dataframe tbody tr th:only-of-type {\n",
       "        vertical-align: middle;\n",
       "    }\n",
       "\n",
       "    .dataframe tbody tr th {\n",
       "        vertical-align: top;\n",
       "    }\n",
       "\n",
       "    .dataframe thead th {\n",
       "        text-align: right;\n",
       "    }\n",
       "</style>\n",
       "<table border=\"1\" class=\"dataframe\">\n",
       "  <thead>\n",
       "    <tr style=\"text-align: right;\">\n",
       "      <th></th>\n",
       "      <th>Entity</th>\n",
       "      <th>Code</th>\n",
       "      <th>Year</th>\n",
       "      <th>Renewables (% equivalent primary energy)</th>\n",
       "    </tr>\n",
       "  </thead>\n",
       "  <tbody>\n",
       "    <tr>\n",
       "      <th>0</th>\n",
       "      <td>Africa</td>\n",
       "      <td>NaN</td>\n",
       "      <td>1965</td>\n",
       "      <td>5.747495</td>\n",
       "    </tr>\n",
       "    <tr>\n",
       "      <th>1</th>\n",
       "      <td>Africa</td>\n",
       "      <td>NaN</td>\n",
       "      <td>1966</td>\n",
       "      <td>6.122062</td>\n",
       "    </tr>\n",
       "    <tr>\n",
       "      <th>2</th>\n",
       "      <td>Africa</td>\n",
       "      <td>NaN</td>\n",
       "      <td>1967</td>\n",
       "      <td>6.325731</td>\n",
       "    </tr>\n",
       "    <tr>\n",
       "      <th>3</th>\n",
       "      <td>Africa</td>\n",
       "      <td>NaN</td>\n",
       "      <td>1968</td>\n",
       "      <td>7.005293</td>\n",
       "    </tr>\n",
       "    <tr>\n",
       "      <th>4</th>\n",
       "      <td>Africa</td>\n",
       "      <td>NaN</td>\n",
       "      <td>1969</td>\n",
       "      <td>7.956088</td>\n",
       "    </tr>\n",
       "  </tbody>\n",
       "</table>\n",
       "</div>"
      ],
      "text/plain": [
       "   Entity Code  Year  Renewables (% equivalent primary energy)\n",
       "0  Africa  NaN  1965                                  5.747495\n",
       "1  Africa  NaN  1966                                  6.122062\n",
       "2  Africa  NaN  1967                                  6.325731\n",
       "3  Africa  NaN  1968                                  7.005293\n",
       "4  Africa  NaN  1969                                  7.956088"
      ]
     },
     "execution_count": 17,
     "metadata": {},
     "output_type": "execute_result"
    }
   ],
   "source": [
    "renewable_share.head()"
   ]
  },
  {
   "cell_type": "markdown",
   "metadata": {
    "slideshow": {
     "slide_type": "slide"
    }
   },
   "source": [
    "# Share of Total Sales from Electric Cars (2011-2021)"
   ]
  },
  {
   "cell_type": "code",
   "execution_count": 18,
   "metadata": {
    "slideshow": {
     "slide_type": "skip"
    }
   },
   "outputs": [],
   "source": [
    "# Sales share data for chosen country\n",
    "\n",
    "def sales_share(country):\n",
    "    v = ev[(ev.region == country) & (ev.parameter == 'EV sales share') & (ev.category == 'Historical') & (ev['mode'] == 'Cars')]\n",
    "\n",
    "    return v"
   ]
  },
  {
   "cell_type": "code",
   "execution_count": 19,
   "metadata": {
    "slideshow": {
     "slide_type": "skip"
    }
   },
   "outputs": [
    {
     "data": {
      "text/plain": [
       "Index(['region', 'category', 'parameter', 'mode', 'powertrain', 'year', 'unit',\n",
       "       'percentage %'],\n",
       "      dtype='object')"
      ]
     },
     "execution_count": 19,
     "metadata": {},
     "output_type": "execute_result"
    }
   ],
   "source": [
    "# Filtered DataFrame\n",
    "\n",
    "e = ev.category == 'Historical'\n",
    "evs = ev[e]\n",
    "s = evs.parameter == 'EV sales share'\n",
    "ev_s = evs[s]\n",
    "t = ev_s['mode'] == 'Cars'\n",
    "ev_share = ev_s[t]\n",
    "\n",
    "te = ev_share.year != 2010\n",
    "\n",
    "ev_fin = ev_share[te]\n",
    "\n",
    "ev_fin.rename(columns = {'value': 'percentage %'}, inplace = True)\n",
    "\n",
    "ev_fin.columns"
   ]
  },
  {
   "cell_type": "code",
   "execution_count": 48,
   "metadata": {
    "slideshow": {
     "slide_type": "skip"
    }
   },
   "outputs": [],
   "source": [
    "# Visualisation\n",
    "\n",
    "map1 = px.choropleth(ev_fin,\n",
    "locations = 'region',\n",
    "locationmode = 'country names',\n",
    "color = 'percentage %',\n",
    "animation_frame = 'year',\n",
    "scope = 'world',\n",
    "height = 750,\n",
    "range_color = (0,65),\n",
    "title = 'Share of Total Sales from Electric Cars',\n",
    "color_continuous_scale = 'plotly3',\n",
    "\n",
    ")"
   ]
  },
  {
   "cell_type": "code",
   "execution_count": 51,
   "metadata": {
    "slideshow": {
     "slide_type": "slide"
    }
   },
   "outputs": [
    {
     "data": {
      "application/vnd.plotly.v1+json": {
       "config": {
        "plotlyServerURL": "https://plot.ly"
       },
       "data": [
        {
         "coloraxis": "coloraxis",
         "geo": "geo",
         "hovertemplate": "year=2011<br>region=%{location}<br>percentage %=%{z}<extra></extra>",
         "locationmode": "country names",
         "locations": [
          "Australia",
          "Belgium",
          "Canada",
          "Chile",
          "China",
          "Denmark",
          "Europe",
          "Finland",
          "France",
          "Germany",
          "India",
          "Italy",
          "Japan",
          "Korea",
          "Mexico",
          "Netherlands",
          "New Zealand",
          "Norway",
          "Other Europe",
          "Poland",
          "Portugal",
          "Spain",
          "Sweden",
          "Switzerland",
          "United Kingdom",
          "USA",
          "World"
         ],
         "name": "",
         "type": "choropleth",
         "z": [
          0.0064786206930875,
          0.0519039295613765,
          0.0405755788087844,
          0.0024604487698525,
          0.0340589210391044,
          0.2479931414127349,
          0.0751364901661872,
          0.0247522704303264,
          0.1261569112539291,
          0.0518058501183986,
          0.0563775151968002,
          0.0064601441845297,
          0.3275366127490997,
          0.0226948633790016,
          0.0003935317508876,
          0.1593455672264099,
          0.0098845260217785,
          1.4427698850631714,
          0.0441809967160224,
          0.0045848521403968,
          0.1232040897011756,
          0.0487360171973705,
          0.0544927418231964,
          0.1366951167583465,
          0.0627036392688751,
          0.1689459681510925,
          0.0721049383282661
         ]
        }
       ],
       "frames": [
        {
         "data": [
          {
           "coloraxis": "coloraxis",
           "geo": "geo",
           "hovertemplate": "year=2011<br>region=%{location}<br>percentage %=%{z}<extra></extra>",
           "locationmode": "country names",
           "locations": [
            "Australia",
            "Belgium",
            "Canada",
            "Chile",
            "China",
            "Denmark",
            "Europe",
            "Finland",
            "France",
            "Germany",
            "India",
            "Italy",
            "Japan",
            "Korea",
            "Mexico",
            "Netherlands",
            "New Zealand",
            "Norway",
            "Other Europe",
            "Poland",
            "Portugal",
            "Spain",
            "Sweden",
            "Switzerland",
            "United Kingdom",
            "USA",
            "World"
           ],
           "name": "",
           "type": "choropleth",
           "z": [
            0.0064786206930875,
            0.0519039295613765,
            0.0405755788087844,
            0.0024604487698525,
            0.0340589210391044,
            0.2479931414127349,
            0.0751364901661872,
            0.0247522704303264,
            0.1261569112539291,
            0.0518058501183986,
            0.0563775151968002,
            0.0064601441845297,
            0.3275366127490997,
            0.0226948633790016,
            0.0003935317508876,
            0.1593455672264099,
            0.0098845260217785,
            1.4427698850631714,
            0.0441809967160224,
            0.0045848521403968,
            0.1232040897011756,
            0.0487360171973705,
            0.0544927418231964,
            0.1366951167583465,
            0.0627036392688751,
            0.1689459681510925,
            0.0721049383282661
           ]
          }
         ],
         "name": "2011"
        },
        {
         "data": [
          {
           "coloraxis": "coloraxis",
           "geo": "geo",
           "hovertemplate": "year=2012<br>region=%{location}<br>percentage %=%{z}<extra></extra>",
           "locationmode": "country names",
           "locations": [
            "Australia",
            "Belgium",
            "Brazil",
            "Canada",
            "Chile",
            "China",
            "Denmark",
            "Europe",
            "Finland",
            "France",
            "Germany",
            "Iceland",
            "India",
            "Italy",
            "Japan",
            "Korea",
            "Mexico",
            "Netherlands",
            "New Zealand",
            "Norway",
            "Other Europe",
            "Poland",
            "Portugal",
            "Spain",
            "Sweden",
            "Switzerland",
            "United Kingdom",
            "USA",
            "World"
           ],
           "name": "",
           "type": "choropleth",
           "z": [
            0.0303922686725854,
            0.2609212100505829,
            0.0029532397165894,
            0.1483242660760879,
            0.00199416722171,
            0.0619473792612552,
            0.2918801009654999,
            0.2005043774843216,
            0.1667520552873611,
            0.3372081816196441,
            0.1092359647154808,
            0.3111164271831512,
            0.007212002761662,
            0.0327261537313461,
            0.5296005010604858,
            0.0407844893634319,
            0.0105669172480702,
            1.0258723497390747,
            0.0165677461773157,
            3.094943046569824,
            0.0933785885572433,
            0.0051990309730172,
            0.0545593798160553,
            0.0762839689850807,
            0.3079628944396972,
            0.2245999425649643,
            0.1315389722585678,
            0.4065326452255249,
            0.1642794758081436
           ]
          }
         ],
         "name": "2012"
        },
        {
         "data": [
          {
           "coloraxis": "coloraxis",
           "geo": "geo",
           "hovertemplate": "year=2013<br>region=%{location}<br>percentage %=%{z}<extra></extra>",
           "locationmode": "country names",
           "locations": [
            "Australia",
            "Belgium",
            "Brazil",
            "Canada",
            "Chile",
            "China",
            "Denmark",
            "Europe",
            "Finland",
            "France",
            "Germany",
            "Greece",
            "Iceland",
            "India",
            "Italy",
            "Japan",
            "Korea",
            "Mexico",
            "Netherlands",
            "New Zealand",
            "Norway",
            "Other Europe",
            "Poland",
            "Portugal",
            "South Africa",
            "Spain",
            "Sweden",
            "Switzerland",
            "United Kingdom",
            "USA",
            "World"
           ],
           "name": "",
           "type": "choropleth",
           "z": [
            0.0342323519289493,
            0.1384588479995727,
            0.0054919938556849,
            0.2219511121511459,
            0.0017799533670768,
            0.0827986896038055,
            0.2773886919021606,
            0.4221046268939972,
            0.210562914609909,
            0.5472548604011536,
            0.2342040687799453,
            0.0051110805943608,
            1.2820513248443604,
            0.0157434400171041,
            0.0747535303235054,
            0.6440608501434326,
            0.0483389608561992,
            0.0013258417602628,
            5.3913187980651855,
            0.0190355442464351,
            5.788914680480957,
            0.0758754760026931,
            0.0051433430053293,
            0.1680497676134109,
            0.0075414278544485,
            0.1220334693789482,
            0.529471755027771,
            0.4297058880329132,
            0.165396437048912,
            0.7369899749755859,
            0.2723481357097626
           ]
          }
         ],
         "name": "2013"
        },
        {
         "data": [
          {
           "coloraxis": "coloraxis",
           "geo": "geo",
           "hovertemplate": "year=2014<br>region=%{location}<br>percentage %=%{z}<extra></extra>",
           "locationmode": "country names",
           "locations": [
            "Australia",
            "Belgium",
            "Brazil",
            "Canada",
            "Chile",
            "China",
            "Denmark",
            "Europe",
            "Finland",
            "France",
            "Germany",
            "Greece",
            "Iceland",
            "India",
            "Italy",
            "Japan",
            "Korea",
            "Mexico",
            "Netherlands",
            "New Zealand",
            "Norway",
            "Other Europe",
            "Poland",
            "Portugal",
            "South Africa",
            "Spain",
            "Sweden",
            "Switzerland",
            "United Kingdom",
            "USA",
            "World"
           ],
           "name": "",
           "type": "choropleth",
           "z": [
            0.1561213731765747,
            0.4348375201225281,
            0.0021832638885825,
            0.3405010104179382,
            0.006756218150258,
            0.3537741005420685,
            0.8460443019866943,
            0.6421603560447693,
            0.4123750030994415,
            0.7155174016952515,
            0.4176725745201111,
            0.0547583624720573,
            2.14436149597168,
            0.0384818762540817,
            0.1011019796133041,
            0.6691399812698364,
            0.0925769060850143,
            0.0049448888748884,
            3.875731945037842,
            0.1398243457078933,
            13.713401794433594,
            0.1874194592237472,
            0.0183026026934385,
            0.1414308249950409,
            0.0034096101298928,
            0.2023238092660904,
            1.4402676820755005,
            0.9577998518943788,
            0.5918083786964417,
            0.891074538230896,
            0.416965901851654
           ]
          }
         ],
         "name": "2014"
        },
        {
         "data": [
          {
           "coloraxis": "coloraxis",
           "geo": "geo",
           "hovertemplate": "year=2015<br>region=%{location}<br>percentage %=%{z}<extra></extra>",
           "locationmode": "country names",
           "locations": [
            "Australia",
            "Belgium",
            "Brazil",
            "Canada",
            "Chile",
            "China",
            "Denmark",
            "Europe",
            "Finland",
            "France",
            "Germany",
            "Greece",
            "Iceland",
            "India",
            "Italy",
            "Japan",
            "Korea",
            "Mexico",
            "Netherlands",
            "New Zealand",
            "Norway",
            "Other Europe",
            "Poland",
            "Portugal",
            "South Africa",
            "Spain",
            "Sweden",
            "Switzerland",
            "United Kingdom",
            "USA",
            "World"
           ],
           "name": "",
           "type": "choropleth",
           "z": [
            0.1980618685483932,
            0.7693597078323364,
            0.0040980828925967,
            0.4471410810947418,
            0.0170472618192434,
            0.9447829127311708,
            2.2459986209869385,
            1.1710731983184814,
            0.6254051327705383,
            1.2165542840957642,
            0.7181748747825623,
            0.1015764102339744,
            3.645352602005005,
            0.0170603580772876,
            0.1353196203708648,
            0.5573863983154297,
            0.216982364654541,
            0.0084907058626413,
            9.794943809509276,
            0.1994930803775787,
            22.404869079589844,
            0.2418732643127441,
            0.0288598276674747,
            0.562429666519165,
            0.0583180673420429,
            0.2052377611398697,
            2.372545003890991,
            1.7375835180282593,
            1.1016796827316284,
            0.7848952412605286,
            0.6837388873100281
           ]
          }
         ],
         "name": "2015"
        },
        {
         "data": [
          {
           "coloraxis": "coloraxis",
           "geo": "geo",
           "hovertemplate": "year=2016<br>region=%{location}<br>percentage %=%{z}<extra></extra>",
           "locationmode": "country names",
           "locations": [
            "Australia",
            "Belgium",
            "Brazil",
            "Canada",
            "Chile",
            "China",
            "Denmark",
            "Europe",
            "Finland",
            "France",
            "Germany",
            "Greece",
            "Iceland",
            "India",
            "Italy",
            "Japan",
            "Korea",
            "Mexico",
            "Netherlands",
            "New Zealand",
            "Norway",
            "Other Europe",
            "Poland",
            "Portugal",
            "South Africa",
            "Spain",
            "Sweden",
            "Switzerland",
            "United Kingdom",
            "USA",
            "World"
           ],
           "name": "",
           "type": "choropleth",
           "z": [
            0.1520260125398636,
            1.745258331298828,
            0.0102537842467427,
            0.7282341122627258,
            0.0134919825941324,
            1.3537596464157104,
            0.8033390045166016,
            1.221008539199829,
            1.1882801055908203,
            1.486894965171814,
            0.7289811372756958,
            0.1229825168848037,
            5.564119815826416,
            0.0264050308614969,
            0.1543889790773391,
            0.5764613151550293,
            0.3275107443332672,
            0.0557755306363105,
            5.965118885040283,
            0.5671562552452087,
            29.03371810913086,
            0.3355997800827026,
            0.0520369708538055,
            0.7976162433624268,
            0.1041712686419487,
            0.3056001365184784,
            3.4087305068969727,
            1.9299252033233645,
            1.3883589506149292,
            1.0197726488113403,
            0.8781829476356506
           ]
          }
         ],
         "name": "2016"
        },
        {
         "data": [
          {
           "coloraxis": "coloraxis",
           "geo": "geo",
           "hovertemplate": "year=2017<br>region=%{location}<br>percentage %=%{z}<extra></extra>",
           "locationmode": "country names",
           "locations": [
            "Australia",
            "Belgium",
            "Brazil",
            "Canada",
            "Chile",
            "China",
            "Denmark",
            "Europe",
            "Finland",
            "France",
            "Germany",
            "Greece",
            "Iceland",
            "India",
            "Italy",
            "Japan",
            "Korea",
            "Mexico",
            "Netherlands",
            "New Zealand",
            "Norway",
            "Other Europe",
            "Poland",
            "Portugal",
            "South Africa",
            "Spain",
            "Sweden",
            "Switzerland",
            "United Kingdom",
            "USA",
            "World"
           ],
           "name": "",
           "type": "choropleth",
           "z": [
            0.2558240592479706,
            2.6880364418029785,
            0.0170239079743623,
            0.9977920651435852,
            0.0493337549269199,
            2.333379030227661,
            0.5924549698829651,
            1.669384241104126,
            2.5126662254333496,
            1.8079696893692017,
            1.5608283281326294,
            0.2168409377336502,
            11.705129623413086,
            0.0313691720366478,
            0.247344434261322,
            1.0336263179779053,
            0.9406515955924988,
            0.0904753431677818,
            2.499582290649414,
            1.1697674989700315,
            39.2404670715332,
            0.5391112565994263,
            0.1182401031255722,
            1.8920652866363523,
            0.0529255606234073,
            0.599494993686676,
            5.089405536651611,
            2.682244777679444,
            1.8258639574050903,
            1.1617519855499268,
            1.3116254806518557
           ]
          }
         ],
         "name": "2017"
        },
        {
         "data": [
          {
           "coloraxis": "coloraxis",
           "geo": "geo",
           "hovertemplate": "year=2018<br>region=%{location}<br>percentage %=%{z}<extra></extra>",
           "locationmode": "country names",
           "locations": [
            "Australia",
            "Belgium",
            "Brazil",
            "Canada",
            "Chile",
            "China",
            "Denmark",
            "Europe",
            "Finland",
            "France",
            "Germany",
            "Greece",
            "Iceland",
            "India",
            "Italy",
            "Japan",
            "Korea",
            "Mexico",
            "Netherlands",
            "New Zealand",
            "Norway",
            "Other Europe",
            "Poland",
            "Portugal",
            "South Africa",
            "Spain",
            "Sweden",
            "Switzerland",
            "United Kingdom",
            "USA",
            "World"
           ],
           "name": "",
           "type": "choropleth",
           "z": [
            0.4236763417720794,
            2.475838422775269,
            0.0145267704501748,
            2.673327922821045,
            0.0558449663221836,
            4.490468502044678,
            2.1379826068878174,
            2.1723785400390625,
            4.5248799324035645,
            2.183811902999878,
            1.9268656969070437,
            0.3035840392112732,
            17.219104766845703,
            0.0300325118005275,
            0.5092191696166992,
            0.9436646699905396,
            3.767235040664673,
            0.1422102153301239,
            6.290538787841797,
            1.936495423316956,
            49.12153625488281,
            0.7816964387893677,
            0.1434409618377685,
            3.651933908462525,
            0.0404982380568981,
            0.8730921745300293,
            7.567019462585449,
            3.168666362762451,
            2.0831902027130127,
            1.973446249961853,
            2.218316078186035
           ]
          }
         ],
         "name": "2018"
        },
        {
         "data": [
          {
           "coloraxis": "coloraxis",
           "geo": "geo",
           "hovertemplate": "year=2019<br>region=%{location}<br>percentage %=%{z}<extra></extra>",
           "locationmode": "country names",
           "locations": [
            "Australia",
            "Belgium",
            "Brazil",
            "Canada",
            "Chile",
            "China",
            "Denmark",
            "Europe",
            "Finland",
            "France",
            "Germany",
            "Greece",
            "Iceland",
            "India",
            "Italy",
            "Japan",
            "Korea",
            "Mexico",
            "Netherlands",
            "New Zealand",
            "Norway",
            "Other Europe",
            "Poland",
            "Portugal",
            "South Africa",
            "Spain",
            "Sweden",
            "Switzerland",
            "United Kingdom",
            "USA",
            "World"
           ],
           "name": "",
           "type": "choropleth",
           "z": [
            1.2238010168075562,
            3.232164144515991,
            0.0844284147024154,
            3.215052366256714,
            0.1068023815751075,
            4.631046295166016,
            4.1743879318237305,
            3.2117562294006348,
            6.900235652923584,
            2.8221242427825928,
            2.923208475112915,
            0.4206504225730896,
            22.59964179992676,
            0.0244023092091083,
            0.8941095471382141,
            0.7487969398498535,
            2.3030972480773926,
            0.063473530113697,
            15.15070629119873,
            2.815541982650757,
            55.878944396972656,
            1.2370904684066772,
            0.2777130305767059,
            5.666244983673096,
            0.0640822052955627,
            1.3698748350143433,
            11.431989669799805,
            5.610243320465088,
            3.1263999938964844,
            2.065460681915283,
            2.458329916000366
           ]
          }
         ],
         "name": "2019"
        },
        {
         "data": [
          {
           "coloraxis": "coloraxis",
           "geo": "geo",
           "hovertemplate": "year=2020<br>region=%{location}<br>percentage %=%{z}<extra></extra>",
           "locationmode": "country names",
           "locations": [
            "Australia",
            "Belgium",
            "Brazil",
            "Canada",
            "Chile",
            "China",
            "Denmark",
            "Europe",
            "Finland",
            "France",
            "Germany",
            "Greece",
            "Iceland",
            "India",
            "Italy",
            "Japan",
            "Korea",
            "Mexico",
            "Netherlands",
            "New Zealand",
            "Norway",
            "Other Europe",
            "Poland",
            "Portugal",
            "South Africa",
            "Spain",
            "Sweden",
            "Switzerland",
            "United Kingdom",
            "USA",
            "World"
           ],
           "name": "",
           "type": "choropleth",
           "z": [
            1.052804470062256,
            11.141831398010254,
            0.1526281982660293,
            4.157488822937012,
            0.1020168364048004,
            5.304136276245117,
            16.35238265991211,
            9.962501525878906,
            18.1273136138916,
            11.316177368164062,
            13.536293029785156,
            2.636551141738892,
            52.36977005004883,
            0.1300828903913498,
            4.33490800857544,
            0.637095034122467,
            2.5039584636688232,
            0.3121637105941772,
            25.020418167114254,
            2.7692482471466064,
            74.7397689819336,
            2.557457685470581,
            0.8373085260391235,
            13.75011157989502,
            0.0977810621261596,
            4.942722797393799,
            32.26823806762695,
            14.228047370910645,
            11.217070579528809,
            2.20703387260437,
            3.954709053039551
           ]
          }
         ],
         "name": "2020"
        },
        {
         "data": [
          {
           "coloraxis": "coloraxis",
           "geo": "geo",
           "hovertemplate": "year=2021<br>region=%{location}<br>percentage %=%{z}<extra></extra>",
           "locationmode": "country names",
           "locations": [
            "Australia",
            "Belgium",
            "Brazil",
            "Canada",
            "Chile",
            "China",
            "Denmark",
            "Europe",
            "Finland",
            "France",
            "Germany",
            "Greece",
            "Iceland",
            "India",
            "Italy",
            "Japan",
            "Korea",
            "Mexico",
            "Netherlands",
            "New Zealand",
            "Norway",
            "Other Europe",
            "Poland",
            "Portugal",
            "South Africa",
            "Spain",
            "Sweden",
            "Switzerland",
            "United Kingdom",
            "USA",
            "World"
           ],
           "name": "",
           "type": "choropleth",
           "z": [
            2.822305917739868,
            18.448383331298828,
            0.465457409620285,
            6.598866939544678,
            0.1914425790309906,
            16.005657196044922,
            35.42444610595703,
            16.617809295654297,
            30.7806339263916,
            18.89927673339844,
            25.98686790466309,
            6.897816181182861,
            71.7287368774414,
            0.3808370232582092,
            9.46615505218506,
            0.9957961440086364,
            6.24240779876709,
            0.4983768165111542,
            29.734264373779297,
            4.404532909393311,
            86.16714477539062,
            4.886048793792725,
            1.3608596324920654,
            19.900842666625977,
            0.0885812491178512,
            7.879326820373535,
            43.29474258422852,
            22.42904090881348,
            18.958208084106445,
            4.561257839202881,
            8.64404582977295
           ]
          }
         ],
         "name": "2021"
        }
       ],
       "layout": {
        "coloraxis": {
         "cmax": 65,
         "cmin": 0,
         "colorbar": {
          "title": {
           "text": "percentage %"
          }
         },
         "colorscale": [
          [
           0,
           "#0508b8"
          ],
          [
           0.08333333333333333,
           "#1910d8"
          ],
          [
           0.16666666666666666,
           "#3c19f0"
          ],
          [
           0.25,
           "#6b1cfb"
          ],
          [
           0.3333333333333333,
           "#981cfd"
          ],
          [
           0.4166666666666667,
           "#bf1cfd"
          ],
          [
           0.5,
           "#dd2bfd"
          ],
          [
           0.5833333333333334,
           "#f246fe"
          ],
          [
           0.6666666666666666,
           "#fc67fd"
          ],
          [
           0.75,
           "#fe88fc"
          ],
          [
           0.8333333333333334,
           "#fea5fd"
          ],
          [
           0.9166666666666666,
           "#febefe"
          ],
          [
           1,
           "#fec3fe"
          ]
         ]
        },
        "geo": {
         "center": {},
         "domain": {
          "x": [
           0,
           1
          ],
          "y": [
           0,
           1
          ]
         },
         "scope": "world"
        },
        "height": 750,
        "legend": {
         "tracegroupgap": 0
        },
        "sliders": [
         {
          "active": 0,
          "currentvalue": {
           "prefix": "year="
          },
          "len": 0.9,
          "pad": {
           "b": 10,
           "t": 60
          },
          "steps": [
           {
            "args": [
             [
              "2011"
             ],
             {
              "frame": {
               "duration": 0,
               "redraw": true
              },
              "fromcurrent": true,
              "mode": "immediate",
              "transition": {
               "duration": 0,
               "easing": "linear"
              }
             }
            ],
            "label": "2011",
            "method": "animate"
           },
           {
            "args": [
             [
              "2012"
             ],
             {
              "frame": {
               "duration": 0,
               "redraw": true
              },
              "fromcurrent": true,
              "mode": "immediate",
              "transition": {
               "duration": 0,
               "easing": "linear"
              }
             }
            ],
            "label": "2012",
            "method": "animate"
           },
           {
            "args": [
             [
              "2013"
             ],
             {
              "frame": {
               "duration": 0,
               "redraw": true
              },
              "fromcurrent": true,
              "mode": "immediate",
              "transition": {
               "duration": 0,
               "easing": "linear"
              }
             }
            ],
            "label": "2013",
            "method": "animate"
           },
           {
            "args": [
             [
              "2014"
             ],
             {
              "frame": {
               "duration": 0,
               "redraw": true
              },
              "fromcurrent": true,
              "mode": "immediate",
              "transition": {
               "duration": 0,
               "easing": "linear"
              }
             }
            ],
            "label": "2014",
            "method": "animate"
           },
           {
            "args": [
             [
              "2015"
             ],
             {
              "frame": {
               "duration": 0,
               "redraw": true
              },
              "fromcurrent": true,
              "mode": "immediate",
              "transition": {
               "duration": 0,
               "easing": "linear"
              }
             }
            ],
            "label": "2015",
            "method": "animate"
           },
           {
            "args": [
             [
              "2016"
             ],
             {
              "frame": {
               "duration": 0,
               "redraw": true
              },
              "fromcurrent": true,
              "mode": "immediate",
              "transition": {
               "duration": 0,
               "easing": "linear"
              }
             }
            ],
            "label": "2016",
            "method": "animate"
           },
           {
            "args": [
             [
              "2017"
             ],
             {
              "frame": {
               "duration": 0,
               "redraw": true
              },
              "fromcurrent": true,
              "mode": "immediate",
              "transition": {
               "duration": 0,
               "easing": "linear"
              }
             }
            ],
            "label": "2017",
            "method": "animate"
           },
           {
            "args": [
             [
              "2018"
             ],
             {
              "frame": {
               "duration": 0,
               "redraw": true
              },
              "fromcurrent": true,
              "mode": "immediate",
              "transition": {
               "duration": 0,
               "easing": "linear"
              }
             }
            ],
            "label": "2018",
            "method": "animate"
           },
           {
            "args": [
             [
              "2019"
             ],
             {
              "frame": {
               "duration": 0,
               "redraw": true
              },
              "fromcurrent": true,
              "mode": "immediate",
              "transition": {
               "duration": 0,
               "easing": "linear"
              }
             }
            ],
            "label": "2019",
            "method": "animate"
           },
           {
            "args": [
             [
              "2020"
             ],
             {
              "frame": {
               "duration": 0,
               "redraw": true
              },
              "fromcurrent": true,
              "mode": "immediate",
              "transition": {
               "duration": 0,
               "easing": "linear"
              }
             }
            ],
            "label": "2020",
            "method": "animate"
           },
           {
            "args": [
             [
              "2021"
             ],
             {
              "frame": {
               "duration": 0,
               "redraw": true
              },
              "fromcurrent": true,
              "mode": "immediate",
              "transition": {
               "duration": 0,
               "easing": "linear"
              }
             }
            ],
            "label": "2021",
            "method": "animate"
           }
          ],
          "x": 0.1,
          "xanchor": "left",
          "y": 0,
          "yanchor": "top"
         }
        ],
        "template": {
         "data": {
          "bar": [
           {
            "error_x": {
             "color": "#2a3f5f"
            },
            "error_y": {
             "color": "#2a3f5f"
            },
            "marker": {
             "line": {
              "color": "#E5ECF6",
              "width": 0.5
             },
             "pattern": {
              "fillmode": "overlay",
              "size": 10,
              "solidity": 0.2
             }
            },
            "type": "bar"
           }
          ],
          "barpolar": [
           {
            "marker": {
             "line": {
              "color": "#E5ECF6",
              "width": 0.5
             },
             "pattern": {
              "fillmode": "overlay",
              "size": 10,
              "solidity": 0.2
             }
            },
            "type": "barpolar"
           }
          ],
          "carpet": [
           {
            "aaxis": {
             "endlinecolor": "#2a3f5f",
             "gridcolor": "white",
             "linecolor": "white",
             "minorgridcolor": "white",
             "startlinecolor": "#2a3f5f"
            },
            "baxis": {
             "endlinecolor": "#2a3f5f",
             "gridcolor": "white",
             "linecolor": "white",
             "minorgridcolor": "white",
             "startlinecolor": "#2a3f5f"
            },
            "type": "carpet"
           }
          ],
          "choropleth": [
           {
            "colorbar": {
             "outlinewidth": 0,
             "ticks": ""
            },
            "type": "choropleth"
           }
          ],
          "contour": [
           {
            "colorbar": {
             "outlinewidth": 0,
             "ticks": ""
            },
            "colorscale": [
             [
              0,
              "#0d0887"
             ],
             [
              0.1111111111111111,
              "#46039f"
             ],
             [
              0.2222222222222222,
              "#7201a8"
             ],
             [
              0.3333333333333333,
              "#9c179e"
             ],
             [
              0.4444444444444444,
              "#bd3786"
             ],
             [
              0.5555555555555556,
              "#d8576b"
             ],
             [
              0.6666666666666666,
              "#ed7953"
             ],
             [
              0.7777777777777778,
              "#fb9f3a"
             ],
             [
              0.8888888888888888,
              "#fdca26"
             ],
             [
              1,
              "#f0f921"
             ]
            ],
            "type": "contour"
           }
          ],
          "contourcarpet": [
           {
            "colorbar": {
             "outlinewidth": 0,
             "ticks": ""
            },
            "type": "contourcarpet"
           }
          ],
          "heatmap": [
           {
            "colorbar": {
             "outlinewidth": 0,
             "ticks": ""
            },
            "colorscale": [
             [
              0,
              "#0d0887"
             ],
             [
              0.1111111111111111,
              "#46039f"
             ],
             [
              0.2222222222222222,
              "#7201a8"
             ],
             [
              0.3333333333333333,
              "#9c179e"
             ],
             [
              0.4444444444444444,
              "#bd3786"
             ],
             [
              0.5555555555555556,
              "#d8576b"
             ],
             [
              0.6666666666666666,
              "#ed7953"
             ],
             [
              0.7777777777777778,
              "#fb9f3a"
             ],
             [
              0.8888888888888888,
              "#fdca26"
             ],
             [
              1,
              "#f0f921"
             ]
            ],
            "type": "heatmap"
           }
          ],
          "heatmapgl": [
           {
            "colorbar": {
             "outlinewidth": 0,
             "ticks": ""
            },
            "colorscale": [
             [
              0,
              "#0d0887"
             ],
             [
              0.1111111111111111,
              "#46039f"
             ],
             [
              0.2222222222222222,
              "#7201a8"
             ],
             [
              0.3333333333333333,
              "#9c179e"
             ],
             [
              0.4444444444444444,
              "#bd3786"
             ],
             [
              0.5555555555555556,
              "#d8576b"
             ],
             [
              0.6666666666666666,
              "#ed7953"
             ],
             [
              0.7777777777777778,
              "#fb9f3a"
             ],
             [
              0.8888888888888888,
              "#fdca26"
             ],
             [
              1,
              "#f0f921"
             ]
            ],
            "type": "heatmapgl"
           }
          ],
          "histogram": [
           {
            "marker": {
             "pattern": {
              "fillmode": "overlay",
              "size": 10,
              "solidity": 0.2
             }
            },
            "type": "histogram"
           }
          ],
          "histogram2d": [
           {
            "colorbar": {
             "outlinewidth": 0,
             "ticks": ""
            },
            "colorscale": [
             [
              0,
              "#0d0887"
             ],
             [
              0.1111111111111111,
              "#46039f"
             ],
             [
              0.2222222222222222,
              "#7201a8"
             ],
             [
              0.3333333333333333,
              "#9c179e"
             ],
             [
              0.4444444444444444,
              "#bd3786"
             ],
             [
              0.5555555555555556,
              "#d8576b"
             ],
             [
              0.6666666666666666,
              "#ed7953"
             ],
             [
              0.7777777777777778,
              "#fb9f3a"
             ],
             [
              0.8888888888888888,
              "#fdca26"
             ],
             [
              1,
              "#f0f921"
             ]
            ],
            "type": "histogram2d"
           }
          ],
          "histogram2dcontour": [
           {
            "colorbar": {
             "outlinewidth": 0,
             "ticks": ""
            },
            "colorscale": [
             [
              0,
              "#0d0887"
             ],
             [
              0.1111111111111111,
              "#46039f"
             ],
             [
              0.2222222222222222,
              "#7201a8"
             ],
             [
              0.3333333333333333,
              "#9c179e"
             ],
             [
              0.4444444444444444,
              "#bd3786"
             ],
             [
              0.5555555555555556,
              "#d8576b"
             ],
             [
              0.6666666666666666,
              "#ed7953"
             ],
             [
              0.7777777777777778,
              "#fb9f3a"
             ],
             [
              0.8888888888888888,
              "#fdca26"
             ],
             [
              1,
              "#f0f921"
             ]
            ],
            "type": "histogram2dcontour"
           }
          ],
          "mesh3d": [
           {
            "colorbar": {
             "outlinewidth": 0,
             "ticks": ""
            },
            "type": "mesh3d"
           }
          ],
          "parcoords": [
           {
            "line": {
             "colorbar": {
              "outlinewidth": 0,
              "ticks": ""
             }
            },
            "type": "parcoords"
           }
          ],
          "pie": [
           {
            "automargin": true,
            "type": "pie"
           }
          ],
          "scatter": [
           {
            "fillpattern": {
             "fillmode": "overlay",
             "size": 10,
             "solidity": 0.2
            },
            "type": "scatter"
           }
          ],
          "scatter3d": [
           {
            "line": {
             "colorbar": {
              "outlinewidth": 0,
              "ticks": ""
             }
            },
            "marker": {
             "colorbar": {
              "outlinewidth": 0,
              "ticks": ""
             }
            },
            "type": "scatter3d"
           }
          ],
          "scattercarpet": [
           {
            "marker": {
             "colorbar": {
              "outlinewidth": 0,
              "ticks": ""
             }
            },
            "type": "scattercarpet"
           }
          ],
          "scattergeo": [
           {
            "marker": {
             "colorbar": {
              "outlinewidth": 0,
              "ticks": ""
             }
            },
            "type": "scattergeo"
           }
          ],
          "scattergl": [
           {
            "marker": {
             "colorbar": {
              "outlinewidth": 0,
              "ticks": ""
             }
            },
            "type": "scattergl"
           }
          ],
          "scattermapbox": [
           {
            "marker": {
             "colorbar": {
              "outlinewidth": 0,
              "ticks": ""
             }
            },
            "type": "scattermapbox"
           }
          ],
          "scatterpolar": [
           {
            "marker": {
             "colorbar": {
              "outlinewidth": 0,
              "ticks": ""
             }
            },
            "type": "scatterpolar"
           }
          ],
          "scatterpolargl": [
           {
            "marker": {
             "colorbar": {
              "outlinewidth": 0,
              "ticks": ""
             }
            },
            "type": "scatterpolargl"
           }
          ],
          "scatterternary": [
           {
            "marker": {
             "colorbar": {
              "outlinewidth": 0,
              "ticks": ""
             }
            },
            "type": "scatterternary"
           }
          ],
          "surface": [
           {
            "colorbar": {
             "outlinewidth": 0,
             "ticks": ""
            },
            "colorscale": [
             [
              0,
              "#0d0887"
             ],
             [
              0.1111111111111111,
              "#46039f"
             ],
             [
              0.2222222222222222,
              "#7201a8"
             ],
             [
              0.3333333333333333,
              "#9c179e"
             ],
             [
              0.4444444444444444,
              "#bd3786"
             ],
             [
              0.5555555555555556,
              "#d8576b"
             ],
             [
              0.6666666666666666,
              "#ed7953"
             ],
             [
              0.7777777777777778,
              "#fb9f3a"
             ],
             [
              0.8888888888888888,
              "#fdca26"
             ],
             [
              1,
              "#f0f921"
             ]
            ],
            "type": "surface"
           }
          ],
          "table": [
           {
            "cells": {
             "fill": {
              "color": "#EBF0F8"
             },
             "line": {
              "color": "white"
             }
            },
            "header": {
             "fill": {
              "color": "#C8D4E3"
             },
             "line": {
              "color": "white"
             }
            },
            "type": "table"
           }
          ]
         },
         "layout": {
          "annotationdefaults": {
           "arrowcolor": "#2a3f5f",
           "arrowhead": 0,
           "arrowwidth": 1
          },
          "autotypenumbers": "strict",
          "coloraxis": {
           "colorbar": {
            "outlinewidth": 0,
            "ticks": ""
           }
          },
          "colorscale": {
           "diverging": [
            [
             0,
             "#8e0152"
            ],
            [
             0.1,
             "#c51b7d"
            ],
            [
             0.2,
             "#de77ae"
            ],
            [
             0.3,
             "#f1b6da"
            ],
            [
             0.4,
             "#fde0ef"
            ],
            [
             0.5,
             "#f7f7f7"
            ],
            [
             0.6,
             "#e6f5d0"
            ],
            [
             0.7,
             "#b8e186"
            ],
            [
             0.8,
             "#7fbc41"
            ],
            [
             0.9,
             "#4d9221"
            ],
            [
             1,
             "#276419"
            ]
           ],
           "sequential": [
            [
             0,
             "#0d0887"
            ],
            [
             0.1111111111111111,
             "#46039f"
            ],
            [
             0.2222222222222222,
             "#7201a8"
            ],
            [
             0.3333333333333333,
             "#9c179e"
            ],
            [
             0.4444444444444444,
             "#bd3786"
            ],
            [
             0.5555555555555556,
             "#d8576b"
            ],
            [
             0.6666666666666666,
             "#ed7953"
            ],
            [
             0.7777777777777778,
             "#fb9f3a"
            ],
            [
             0.8888888888888888,
             "#fdca26"
            ],
            [
             1,
             "#f0f921"
            ]
           ],
           "sequentialminus": [
            [
             0,
             "#0d0887"
            ],
            [
             0.1111111111111111,
             "#46039f"
            ],
            [
             0.2222222222222222,
             "#7201a8"
            ],
            [
             0.3333333333333333,
             "#9c179e"
            ],
            [
             0.4444444444444444,
             "#bd3786"
            ],
            [
             0.5555555555555556,
             "#d8576b"
            ],
            [
             0.6666666666666666,
             "#ed7953"
            ],
            [
             0.7777777777777778,
             "#fb9f3a"
            ],
            [
             0.8888888888888888,
             "#fdca26"
            ],
            [
             1,
             "#f0f921"
            ]
           ]
          },
          "colorway": [
           "#636efa",
           "#EF553B",
           "#00cc96",
           "#ab63fa",
           "#FFA15A",
           "#19d3f3",
           "#FF6692",
           "#B6E880",
           "#FF97FF",
           "#FECB52"
          ],
          "font": {
           "color": "#2a3f5f"
          },
          "geo": {
           "bgcolor": "white",
           "lakecolor": "white",
           "landcolor": "#E5ECF6",
           "showlakes": true,
           "showland": true,
           "subunitcolor": "white"
          },
          "hoverlabel": {
           "align": "left"
          },
          "hovermode": "closest",
          "mapbox": {
           "style": "light"
          },
          "paper_bgcolor": "white",
          "plot_bgcolor": "#E5ECF6",
          "polar": {
           "angularaxis": {
            "gridcolor": "white",
            "linecolor": "white",
            "ticks": ""
           },
           "bgcolor": "#E5ECF6",
           "radialaxis": {
            "gridcolor": "white",
            "linecolor": "white",
            "ticks": ""
           }
          },
          "scene": {
           "xaxis": {
            "backgroundcolor": "#E5ECF6",
            "gridcolor": "white",
            "gridwidth": 2,
            "linecolor": "white",
            "showbackground": true,
            "ticks": "",
            "zerolinecolor": "white"
           },
           "yaxis": {
            "backgroundcolor": "#E5ECF6",
            "gridcolor": "white",
            "gridwidth": 2,
            "linecolor": "white",
            "showbackground": true,
            "ticks": "",
            "zerolinecolor": "white"
           },
           "zaxis": {
            "backgroundcolor": "#E5ECF6",
            "gridcolor": "white",
            "gridwidth": 2,
            "linecolor": "white",
            "showbackground": true,
            "ticks": "",
            "zerolinecolor": "white"
           }
          },
          "shapedefaults": {
           "line": {
            "color": "#2a3f5f"
           }
          },
          "ternary": {
           "aaxis": {
            "gridcolor": "white",
            "linecolor": "white",
            "ticks": ""
           },
           "baxis": {
            "gridcolor": "white",
            "linecolor": "white",
            "ticks": ""
           },
           "bgcolor": "#E5ECF6",
           "caxis": {
            "gridcolor": "white",
            "linecolor": "white",
            "ticks": ""
           }
          },
          "title": {
           "x": 0.05
          },
          "xaxis": {
           "automargin": true,
           "gridcolor": "white",
           "linecolor": "white",
           "ticks": "",
           "title": {
            "standoff": 15
           },
           "zerolinecolor": "white",
           "zerolinewidth": 2
          },
          "yaxis": {
           "automargin": true,
           "gridcolor": "white",
           "linecolor": "white",
           "ticks": "",
           "title": {
            "standoff": 15
           },
           "zerolinecolor": "white",
           "zerolinewidth": 2
          }
         }
        },
        "title": {
         "text": "Share of Total Sales from Electric Cars"
        },
        "updatemenus": [
         {
          "buttons": [
           {
            "args": [
             null,
             {
              "frame": {
               "duration": 500,
               "redraw": true
              },
              "fromcurrent": true,
              "mode": "immediate",
              "transition": {
               "duration": 500,
               "easing": "linear"
              }
             }
            ],
            "label": "&#9654;",
            "method": "animate"
           },
           {
            "args": [
             [
              null
             ],
             {
              "frame": {
               "duration": 0,
               "redraw": true
              },
              "fromcurrent": true,
              "mode": "immediate",
              "transition": {
               "duration": 0,
               "easing": "linear"
              }
             }
            ],
            "label": "&#9724;",
            "method": "animate"
           }
          ],
          "direction": "left",
          "pad": {
           "r": 10,
           "t": 70
          },
          "showactive": false,
          "type": "buttons",
          "x": 0.1,
          "xanchor": "right",
          "y": 0,
          "yanchor": "top"
         }
        ]
       }
      },
      "text/html": [
       "<div>                            <div id=\"120b7a22-e5c4-442e-b2dc-2c9a22643189\" class=\"plotly-graph-div\" style=\"height:750px; width:100%;\"></div>            <script type=\"text/javascript\">                require([\"plotly\"], function(Plotly) {                    window.PLOTLYENV=window.PLOTLYENV || {};                                    if (document.getElementById(\"120b7a22-e5c4-442e-b2dc-2c9a22643189\")) {                    Plotly.newPlot(                        \"120b7a22-e5c4-442e-b2dc-2c9a22643189\",                        [{\"coloraxis\":\"coloraxis\",\"geo\":\"geo\",\"hovertemplate\":\"year=2011<br>region=%{location}<br>percentage %=%{z}<extra></extra>\",\"locationmode\":\"country names\",\"locations\":[\"Australia\",\"Belgium\",\"Canada\",\"Chile\",\"China\",\"Denmark\",\"Europe\",\"Finland\",\"France\",\"Germany\",\"India\",\"Italy\",\"Japan\",\"Korea\",\"Mexico\",\"Netherlands\",\"New Zealand\",\"Norway\",\"Other Europe\",\"Poland\",\"Portugal\",\"Spain\",\"Sweden\",\"Switzerland\",\"United Kingdom\",\"USA\",\"World\"],\"name\":\"\",\"z\":[0.0064786206930875,0.0519039295613765,0.0405755788087844,0.0024604487698525,0.0340589210391044,0.2479931414127349,0.0751364901661872,0.0247522704303264,0.1261569112539291,0.0518058501183986,0.0563775151968002,0.0064601441845297,0.3275366127490997,0.0226948633790016,0.0003935317508876,0.1593455672264099,0.0098845260217785,1.4427698850631714,0.0441809967160224,0.0045848521403968,0.1232040897011756,0.0487360171973705,0.0544927418231964,0.1366951167583465,0.0627036392688751,0.1689459681510925,0.0721049383282661],\"type\":\"choropleth\"}],                        {\"template\":{\"data\":{\"histogram2dcontour\":[{\"type\":\"histogram2dcontour\",\"colorbar\":{\"outlinewidth\":0,\"ticks\":\"\"},\"colorscale\":[[0.0,\"#0d0887\"],[0.1111111111111111,\"#46039f\"],[0.2222222222222222,\"#7201a8\"],[0.3333333333333333,\"#9c179e\"],[0.4444444444444444,\"#bd3786\"],[0.5555555555555556,\"#d8576b\"],[0.6666666666666666,\"#ed7953\"],[0.7777777777777778,\"#fb9f3a\"],[0.8888888888888888,\"#fdca26\"],[1.0,\"#f0f921\"]]}],\"choropleth\":[{\"type\":\"choropleth\",\"colorbar\":{\"outlinewidth\":0,\"ticks\":\"\"}}],\"histogram2d\":[{\"type\":\"histogram2d\",\"colorbar\":{\"outlinewidth\":0,\"ticks\":\"\"},\"colorscale\":[[0.0,\"#0d0887\"],[0.1111111111111111,\"#46039f\"],[0.2222222222222222,\"#7201a8\"],[0.3333333333333333,\"#9c179e\"],[0.4444444444444444,\"#bd3786\"],[0.5555555555555556,\"#d8576b\"],[0.6666666666666666,\"#ed7953\"],[0.7777777777777778,\"#fb9f3a\"],[0.8888888888888888,\"#fdca26\"],[1.0,\"#f0f921\"]]}],\"heatmap\":[{\"type\":\"heatmap\",\"colorbar\":{\"outlinewidth\":0,\"ticks\":\"\"},\"colorscale\":[[0.0,\"#0d0887\"],[0.1111111111111111,\"#46039f\"],[0.2222222222222222,\"#7201a8\"],[0.3333333333333333,\"#9c179e\"],[0.4444444444444444,\"#bd3786\"],[0.5555555555555556,\"#d8576b\"],[0.6666666666666666,\"#ed7953\"],[0.7777777777777778,\"#fb9f3a\"],[0.8888888888888888,\"#fdca26\"],[1.0,\"#f0f921\"]]}],\"heatmapgl\":[{\"type\":\"heatmapgl\",\"colorbar\":{\"outlinewidth\":0,\"ticks\":\"\"},\"colorscale\":[[0.0,\"#0d0887\"],[0.1111111111111111,\"#46039f\"],[0.2222222222222222,\"#7201a8\"],[0.3333333333333333,\"#9c179e\"],[0.4444444444444444,\"#bd3786\"],[0.5555555555555556,\"#d8576b\"],[0.6666666666666666,\"#ed7953\"],[0.7777777777777778,\"#fb9f3a\"],[0.8888888888888888,\"#fdca26\"],[1.0,\"#f0f921\"]]}],\"contourcarpet\":[{\"type\":\"contourcarpet\",\"colorbar\":{\"outlinewidth\":0,\"ticks\":\"\"}}],\"contour\":[{\"type\":\"contour\",\"colorbar\":{\"outlinewidth\":0,\"ticks\":\"\"},\"colorscale\":[[0.0,\"#0d0887\"],[0.1111111111111111,\"#46039f\"],[0.2222222222222222,\"#7201a8\"],[0.3333333333333333,\"#9c179e\"],[0.4444444444444444,\"#bd3786\"],[0.5555555555555556,\"#d8576b\"],[0.6666666666666666,\"#ed7953\"],[0.7777777777777778,\"#fb9f3a\"],[0.8888888888888888,\"#fdca26\"],[1.0,\"#f0f921\"]]}],\"surface\":[{\"type\":\"surface\",\"colorbar\":{\"outlinewidth\":0,\"ticks\":\"\"},\"colorscale\":[[0.0,\"#0d0887\"],[0.1111111111111111,\"#46039f\"],[0.2222222222222222,\"#7201a8\"],[0.3333333333333333,\"#9c179e\"],[0.4444444444444444,\"#bd3786\"],[0.5555555555555556,\"#d8576b\"],[0.6666666666666666,\"#ed7953\"],[0.7777777777777778,\"#fb9f3a\"],[0.8888888888888888,\"#fdca26\"],[1.0,\"#f0f921\"]]}],\"mesh3d\":[{\"type\":\"mesh3d\",\"colorbar\":{\"outlinewidth\":0,\"ticks\":\"\"}}],\"scatter\":[{\"fillpattern\":{\"fillmode\":\"overlay\",\"size\":10,\"solidity\":0.2},\"type\":\"scatter\"}],\"parcoords\":[{\"type\":\"parcoords\",\"line\":{\"colorbar\":{\"outlinewidth\":0,\"ticks\":\"\"}}}],\"scatterpolargl\":[{\"type\":\"scatterpolargl\",\"marker\":{\"colorbar\":{\"outlinewidth\":0,\"ticks\":\"\"}}}],\"bar\":[{\"error_x\":{\"color\":\"#2a3f5f\"},\"error_y\":{\"color\":\"#2a3f5f\"},\"marker\":{\"line\":{\"color\":\"#E5ECF6\",\"width\":0.5},\"pattern\":{\"fillmode\":\"overlay\",\"size\":10,\"solidity\":0.2}},\"type\":\"bar\"}],\"scattergeo\":[{\"type\":\"scattergeo\",\"marker\":{\"colorbar\":{\"outlinewidth\":0,\"ticks\":\"\"}}}],\"scatterpolar\":[{\"type\":\"scatterpolar\",\"marker\":{\"colorbar\":{\"outlinewidth\":0,\"ticks\":\"\"}}}],\"histogram\":[{\"marker\":{\"pattern\":{\"fillmode\":\"overlay\",\"size\":10,\"solidity\":0.2}},\"type\":\"histogram\"}],\"scattergl\":[{\"type\":\"scattergl\",\"marker\":{\"colorbar\":{\"outlinewidth\":0,\"ticks\":\"\"}}}],\"scatter3d\":[{\"type\":\"scatter3d\",\"line\":{\"colorbar\":{\"outlinewidth\":0,\"ticks\":\"\"}},\"marker\":{\"colorbar\":{\"outlinewidth\":0,\"ticks\":\"\"}}}],\"scattermapbox\":[{\"type\":\"scattermapbox\",\"marker\":{\"colorbar\":{\"outlinewidth\":0,\"ticks\":\"\"}}}],\"scatterternary\":[{\"type\":\"scatterternary\",\"marker\":{\"colorbar\":{\"outlinewidth\":0,\"ticks\":\"\"}}}],\"scattercarpet\":[{\"type\":\"scattercarpet\",\"marker\":{\"colorbar\":{\"outlinewidth\":0,\"ticks\":\"\"}}}],\"carpet\":[{\"aaxis\":{\"endlinecolor\":\"#2a3f5f\",\"gridcolor\":\"white\",\"linecolor\":\"white\",\"minorgridcolor\":\"white\",\"startlinecolor\":\"#2a3f5f\"},\"baxis\":{\"endlinecolor\":\"#2a3f5f\",\"gridcolor\":\"white\",\"linecolor\":\"white\",\"minorgridcolor\":\"white\",\"startlinecolor\":\"#2a3f5f\"},\"type\":\"carpet\"}],\"table\":[{\"cells\":{\"fill\":{\"color\":\"#EBF0F8\"},\"line\":{\"color\":\"white\"}},\"header\":{\"fill\":{\"color\":\"#C8D4E3\"},\"line\":{\"color\":\"white\"}},\"type\":\"table\"}],\"barpolar\":[{\"marker\":{\"line\":{\"color\":\"#E5ECF6\",\"width\":0.5},\"pattern\":{\"fillmode\":\"overlay\",\"size\":10,\"solidity\":0.2}},\"type\":\"barpolar\"}],\"pie\":[{\"automargin\":true,\"type\":\"pie\"}]},\"layout\":{\"autotypenumbers\":\"strict\",\"colorway\":[\"#636efa\",\"#EF553B\",\"#00cc96\",\"#ab63fa\",\"#FFA15A\",\"#19d3f3\",\"#FF6692\",\"#B6E880\",\"#FF97FF\",\"#FECB52\"],\"font\":{\"color\":\"#2a3f5f\"},\"hovermode\":\"closest\",\"hoverlabel\":{\"align\":\"left\"},\"paper_bgcolor\":\"white\",\"plot_bgcolor\":\"#E5ECF6\",\"polar\":{\"bgcolor\":\"#E5ECF6\",\"angularaxis\":{\"gridcolor\":\"white\",\"linecolor\":\"white\",\"ticks\":\"\"},\"radialaxis\":{\"gridcolor\":\"white\",\"linecolor\":\"white\",\"ticks\":\"\"}},\"ternary\":{\"bgcolor\":\"#E5ECF6\",\"aaxis\":{\"gridcolor\":\"white\",\"linecolor\":\"white\",\"ticks\":\"\"},\"baxis\":{\"gridcolor\":\"white\",\"linecolor\":\"white\",\"ticks\":\"\"},\"caxis\":{\"gridcolor\":\"white\",\"linecolor\":\"white\",\"ticks\":\"\"}},\"coloraxis\":{\"colorbar\":{\"outlinewidth\":0,\"ticks\":\"\"}},\"colorscale\":{\"sequential\":[[0.0,\"#0d0887\"],[0.1111111111111111,\"#46039f\"],[0.2222222222222222,\"#7201a8\"],[0.3333333333333333,\"#9c179e\"],[0.4444444444444444,\"#bd3786\"],[0.5555555555555556,\"#d8576b\"],[0.6666666666666666,\"#ed7953\"],[0.7777777777777778,\"#fb9f3a\"],[0.8888888888888888,\"#fdca26\"],[1.0,\"#f0f921\"]],\"sequentialminus\":[[0.0,\"#0d0887\"],[0.1111111111111111,\"#46039f\"],[0.2222222222222222,\"#7201a8\"],[0.3333333333333333,\"#9c179e\"],[0.4444444444444444,\"#bd3786\"],[0.5555555555555556,\"#d8576b\"],[0.6666666666666666,\"#ed7953\"],[0.7777777777777778,\"#fb9f3a\"],[0.8888888888888888,\"#fdca26\"],[1.0,\"#f0f921\"]],\"diverging\":[[0,\"#8e0152\"],[0.1,\"#c51b7d\"],[0.2,\"#de77ae\"],[0.3,\"#f1b6da\"],[0.4,\"#fde0ef\"],[0.5,\"#f7f7f7\"],[0.6,\"#e6f5d0\"],[0.7,\"#b8e186\"],[0.8,\"#7fbc41\"],[0.9,\"#4d9221\"],[1,\"#276419\"]]},\"xaxis\":{\"gridcolor\":\"white\",\"linecolor\":\"white\",\"ticks\":\"\",\"title\":{\"standoff\":15},\"zerolinecolor\":\"white\",\"automargin\":true,\"zerolinewidth\":2},\"yaxis\":{\"gridcolor\":\"white\",\"linecolor\":\"white\",\"ticks\":\"\",\"title\":{\"standoff\":15},\"zerolinecolor\":\"white\",\"automargin\":true,\"zerolinewidth\":2},\"scene\":{\"xaxis\":{\"backgroundcolor\":\"#E5ECF6\",\"gridcolor\":\"white\",\"linecolor\":\"white\",\"showbackground\":true,\"ticks\":\"\",\"zerolinecolor\":\"white\",\"gridwidth\":2},\"yaxis\":{\"backgroundcolor\":\"#E5ECF6\",\"gridcolor\":\"white\",\"linecolor\":\"white\",\"showbackground\":true,\"ticks\":\"\",\"zerolinecolor\":\"white\",\"gridwidth\":2},\"zaxis\":{\"backgroundcolor\":\"#E5ECF6\",\"gridcolor\":\"white\",\"linecolor\":\"white\",\"showbackground\":true,\"ticks\":\"\",\"zerolinecolor\":\"white\",\"gridwidth\":2}},\"shapedefaults\":{\"line\":{\"color\":\"#2a3f5f\"}},\"annotationdefaults\":{\"arrowcolor\":\"#2a3f5f\",\"arrowhead\":0,\"arrowwidth\":1},\"geo\":{\"bgcolor\":\"white\",\"landcolor\":\"#E5ECF6\",\"subunitcolor\":\"white\",\"showland\":true,\"showlakes\":true,\"lakecolor\":\"white\"},\"title\":{\"x\":0.05},\"mapbox\":{\"style\":\"light\"}}},\"geo\":{\"domain\":{\"x\":[0.0,1.0],\"y\":[0.0,1.0]},\"center\":{},\"scope\":\"world\"},\"coloraxis\":{\"colorbar\":{\"title\":{\"text\":\"percentage %\"}},\"colorscale\":[[0.0,\"#0508b8\"],[0.08333333333333333,\"#1910d8\"],[0.16666666666666666,\"#3c19f0\"],[0.25,\"#6b1cfb\"],[0.3333333333333333,\"#981cfd\"],[0.4166666666666667,\"#bf1cfd\"],[0.5,\"#dd2bfd\"],[0.5833333333333334,\"#f246fe\"],[0.6666666666666666,\"#fc67fd\"],[0.75,\"#fe88fc\"],[0.8333333333333334,\"#fea5fd\"],[0.9166666666666666,\"#febefe\"],[1.0,\"#fec3fe\"]],\"cmin\":0,\"cmax\":65},\"legend\":{\"tracegroupgap\":0},\"title\":{\"text\":\"Share of Total Sales from Electric Cars\"},\"height\":750,\"updatemenus\":[{\"buttons\":[{\"args\":[null,{\"frame\":{\"duration\":500,\"redraw\":true},\"mode\":\"immediate\",\"fromcurrent\":true,\"transition\":{\"duration\":500,\"easing\":\"linear\"}}],\"label\":\"&#9654;\",\"method\":\"animate\"},{\"args\":[[null],{\"frame\":{\"duration\":0,\"redraw\":true},\"mode\":\"immediate\",\"fromcurrent\":true,\"transition\":{\"duration\":0,\"easing\":\"linear\"}}],\"label\":\"&#9724;\",\"method\":\"animate\"}],\"direction\":\"left\",\"pad\":{\"r\":10,\"t\":70},\"showactive\":false,\"type\":\"buttons\",\"x\":0.1,\"xanchor\":\"right\",\"y\":0,\"yanchor\":\"top\"}],\"sliders\":[{\"active\":0,\"currentvalue\":{\"prefix\":\"year=\"},\"len\":0.9,\"pad\":{\"b\":10,\"t\":60},\"steps\":[{\"args\":[[\"2011\"],{\"frame\":{\"duration\":0,\"redraw\":true},\"mode\":\"immediate\",\"fromcurrent\":true,\"transition\":{\"duration\":0,\"easing\":\"linear\"}}],\"label\":\"2011\",\"method\":\"animate\"},{\"args\":[[\"2012\"],{\"frame\":{\"duration\":0,\"redraw\":true},\"mode\":\"immediate\",\"fromcurrent\":true,\"transition\":{\"duration\":0,\"easing\":\"linear\"}}],\"label\":\"2012\",\"method\":\"animate\"},{\"args\":[[\"2013\"],{\"frame\":{\"duration\":0,\"redraw\":true},\"mode\":\"immediate\",\"fromcurrent\":true,\"transition\":{\"duration\":0,\"easing\":\"linear\"}}],\"label\":\"2013\",\"method\":\"animate\"},{\"args\":[[\"2014\"],{\"frame\":{\"duration\":0,\"redraw\":true},\"mode\":\"immediate\",\"fromcurrent\":true,\"transition\":{\"duration\":0,\"easing\":\"linear\"}}],\"label\":\"2014\",\"method\":\"animate\"},{\"args\":[[\"2015\"],{\"frame\":{\"duration\":0,\"redraw\":true},\"mode\":\"immediate\",\"fromcurrent\":true,\"transition\":{\"duration\":0,\"easing\":\"linear\"}}],\"label\":\"2015\",\"method\":\"animate\"},{\"args\":[[\"2016\"],{\"frame\":{\"duration\":0,\"redraw\":true},\"mode\":\"immediate\",\"fromcurrent\":true,\"transition\":{\"duration\":0,\"easing\":\"linear\"}}],\"label\":\"2016\",\"method\":\"animate\"},{\"args\":[[\"2017\"],{\"frame\":{\"duration\":0,\"redraw\":true},\"mode\":\"immediate\",\"fromcurrent\":true,\"transition\":{\"duration\":0,\"easing\":\"linear\"}}],\"label\":\"2017\",\"method\":\"animate\"},{\"args\":[[\"2018\"],{\"frame\":{\"duration\":0,\"redraw\":true},\"mode\":\"immediate\",\"fromcurrent\":true,\"transition\":{\"duration\":0,\"easing\":\"linear\"}}],\"label\":\"2018\",\"method\":\"animate\"},{\"args\":[[\"2019\"],{\"frame\":{\"duration\":0,\"redraw\":true},\"mode\":\"immediate\",\"fromcurrent\":true,\"transition\":{\"duration\":0,\"easing\":\"linear\"}}],\"label\":\"2019\",\"method\":\"animate\"},{\"args\":[[\"2020\"],{\"frame\":{\"duration\":0,\"redraw\":true},\"mode\":\"immediate\",\"fromcurrent\":true,\"transition\":{\"duration\":0,\"easing\":\"linear\"}}],\"label\":\"2020\",\"method\":\"animate\"},{\"args\":[[\"2021\"],{\"frame\":{\"duration\":0,\"redraw\":true},\"mode\":\"immediate\",\"fromcurrent\":true,\"transition\":{\"duration\":0,\"easing\":\"linear\"}}],\"label\":\"2021\",\"method\":\"animate\"}],\"x\":0.1,\"xanchor\":\"left\",\"y\":0,\"yanchor\":\"top\"}]},                        {\"responsive\": true}                    ).then(function(){\n",
       "                            Plotly.addFrames('120b7a22-e5c4-442e-b2dc-2c9a22643189', [{\"data\":[{\"coloraxis\":\"coloraxis\",\"geo\":\"geo\",\"hovertemplate\":\"year=2011<br>region=%{location}<br>percentage %=%{z}<extra></extra>\",\"locationmode\":\"country names\",\"locations\":[\"Australia\",\"Belgium\",\"Canada\",\"Chile\",\"China\",\"Denmark\",\"Europe\",\"Finland\",\"France\",\"Germany\",\"India\",\"Italy\",\"Japan\",\"Korea\",\"Mexico\",\"Netherlands\",\"New Zealand\",\"Norway\",\"Other Europe\",\"Poland\",\"Portugal\",\"Spain\",\"Sweden\",\"Switzerland\",\"United Kingdom\",\"USA\",\"World\"],\"name\":\"\",\"z\":[0.0064786206930875,0.0519039295613765,0.0405755788087844,0.0024604487698525,0.0340589210391044,0.2479931414127349,0.0751364901661872,0.0247522704303264,0.1261569112539291,0.0518058501183986,0.0563775151968002,0.0064601441845297,0.3275366127490997,0.0226948633790016,0.0003935317508876,0.1593455672264099,0.0098845260217785,1.4427698850631714,0.0441809967160224,0.0045848521403968,0.1232040897011756,0.0487360171973705,0.0544927418231964,0.1366951167583465,0.0627036392688751,0.1689459681510925,0.0721049383282661],\"type\":\"choropleth\"}],\"name\":\"2011\"},{\"data\":[{\"coloraxis\":\"coloraxis\",\"geo\":\"geo\",\"hovertemplate\":\"year=2012<br>region=%{location}<br>percentage %=%{z}<extra></extra>\",\"locationmode\":\"country names\",\"locations\":[\"Australia\",\"Belgium\",\"Brazil\",\"Canada\",\"Chile\",\"China\",\"Denmark\",\"Europe\",\"Finland\",\"France\",\"Germany\",\"Iceland\",\"India\",\"Italy\",\"Japan\",\"Korea\",\"Mexico\",\"Netherlands\",\"New Zealand\",\"Norway\",\"Other Europe\",\"Poland\",\"Portugal\",\"Spain\",\"Sweden\",\"Switzerland\",\"United Kingdom\",\"USA\",\"World\"],\"name\":\"\",\"z\":[0.0303922686725854,0.2609212100505829,0.0029532397165894,0.1483242660760879,0.00199416722171,0.0619473792612552,0.2918801009654999,0.2005043774843216,0.1667520552873611,0.3372081816196441,0.1092359647154808,0.3111164271831512,0.007212002761662,0.0327261537313461,0.5296005010604858,0.0407844893634319,0.0105669172480702,1.0258723497390747,0.0165677461773157,3.094943046569824,0.0933785885572433,0.0051990309730172,0.0545593798160553,0.0762839689850807,0.3079628944396972,0.2245999425649643,0.1315389722585678,0.4065326452255249,0.1642794758081436],\"type\":\"choropleth\"}],\"name\":\"2012\"},{\"data\":[{\"coloraxis\":\"coloraxis\",\"geo\":\"geo\",\"hovertemplate\":\"year=2013<br>region=%{location}<br>percentage %=%{z}<extra></extra>\",\"locationmode\":\"country names\",\"locations\":[\"Australia\",\"Belgium\",\"Brazil\",\"Canada\",\"Chile\",\"China\",\"Denmark\",\"Europe\",\"Finland\",\"France\",\"Germany\",\"Greece\",\"Iceland\",\"India\",\"Italy\",\"Japan\",\"Korea\",\"Mexico\",\"Netherlands\",\"New Zealand\",\"Norway\",\"Other Europe\",\"Poland\",\"Portugal\",\"South Africa\",\"Spain\",\"Sweden\",\"Switzerland\",\"United Kingdom\",\"USA\",\"World\"],\"name\":\"\",\"z\":[0.0342323519289493,0.1384588479995727,0.0054919938556849,0.2219511121511459,0.0017799533670768,0.0827986896038055,0.2773886919021606,0.4221046268939972,0.210562914609909,0.5472548604011536,0.2342040687799453,0.0051110805943608,1.2820513248443604,0.0157434400171041,0.0747535303235054,0.6440608501434326,0.0483389608561992,0.0013258417602628,5.3913187980651855,0.0190355442464351,5.788914680480957,0.0758754760026931,0.0051433430053293,0.1680497676134109,0.0075414278544485,0.1220334693789482,0.529471755027771,0.4297058880329132,0.165396437048912,0.7369899749755859,0.2723481357097626],\"type\":\"choropleth\"}],\"name\":\"2013\"},{\"data\":[{\"coloraxis\":\"coloraxis\",\"geo\":\"geo\",\"hovertemplate\":\"year=2014<br>region=%{location}<br>percentage %=%{z}<extra></extra>\",\"locationmode\":\"country names\",\"locations\":[\"Australia\",\"Belgium\",\"Brazil\",\"Canada\",\"Chile\",\"China\",\"Denmark\",\"Europe\",\"Finland\",\"France\",\"Germany\",\"Greece\",\"Iceland\",\"India\",\"Italy\",\"Japan\",\"Korea\",\"Mexico\",\"Netherlands\",\"New Zealand\",\"Norway\",\"Other Europe\",\"Poland\",\"Portugal\",\"South Africa\",\"Spain\",\"Sweden\",\"Switzerland\",\"United Kingdom\",\"USA\",\"World\"],\"name\":\"\",\"z\":[0.1561213731765747,0.4348375201225281,0.0021832638885825,0.3405010104179382,0.006756218150258,0.3537741005420685,0.8460443019866943,0.6421603560447693,0.4123750030994415,0.7155174016952515,0.4176725745201111,0.0547583624720573,2.14436149597168,0.0384818762540817,0.1011019796133041,0.6691399812698364,0.0925769060850143,0.0049448888748884,3.875731945037842,0.1398243457078933,13.713401794433594,0.1874194592237472,0.0183026026934385,0.1414308249950409,0.0034096101298928,0.2023238092660904,1.4402676820755005,0.9577998518943788,0.5918083786964417,0.891074538230896,0.416965901851654],\"type\":\"choropleth\"}],\"name\":\"2014\"},{\"data\":[{\"coloraxis\":\"coloraxis\",\"geo\":\"geo\",\"hovertemplate\":\"year=2015<br>region=%{location}<br>percentage %=%{z}<extra></extra>\",\"locationmode\":\"country names\",\"locations\":[\"Australia\",\"Belgium\",\"Brazil\",\"Canada\",\"Chile\",\"China\",\"Denmark\",\"Europe\",\"Finland\",\"France\",\"Germany\",\"Greece\",\"Iceland\",\"India\",\"Italy\",\"Japan\",\"Korea\",\"Mexico\",\"Netherlands\",\"New Zealand\",\"Norway\",\"Other Europe\",\"Poland\",\"Portugal\",\"South Africa\",\"Spain\",\"Sweden\",\"Switzerland\",\"United Kingdom\",\"USA\",\"World\"],\"name\":\"\",\"z\":[0.1980618685483932,0.7693597078323364,0.0040980828925967,0.4471410810947418,0.0170472618192434,0.9447829127311708,2.2459986209869385,1.1710731983184814,0.6254051327705383,1.2165542840957642,0.7181748747825623,0.1015764102339744,3.645352602005005,0.0170603580772876,0.1353196203708648,0.5573863983154297,0.216982364654541,0.0084907058626413,9.794943809509276,0.1994930803775787,22.404869079589844,0.2418732643127441,0.0288598276674747,0.562429666519165,0.0583180673420429,0.2052377611398697,2.372545003890991,1.7375835180282593,1.1016796827316284,0.7848952412605286,0.6837388873100281],\"type\":\"choropleth\"}],\"name\":\"2015\"},{\"data\":[{\"coloraxis\":\"coloraxis\",\"geo\":\"geo\",\"hovertemplate\":\"year=2016<br>region=%{location}<br>percentage %=%{z}<extra></extra>\",\"locationmode\":\"country names\",\"locations\":[\"Australia\",\"Belgium\",\"Brazil\",\"Canada\",\"Chile\",\"China\",\"Denmark\",\"Europe\",\"Finland\",\"France\",\"Germany\",\"Greece\",\"Iceland\",\"India\",\"Italy\",\"Japan\",\"Korea\",\"Mexico\",\"Netherlands\",\"New Zealand\",\"Norway\",\"Other Europe\",\"Poland\",\"Portugal\",\"South Africa\",\"Spain\",\"Sweden\",\"Switzerland\",\"United Kingdom\",\"USA\",\"World\"],\"name\":\"\",\"z\":[0.1520260125398636,1.745258331298828,0.0102537842467427,0.7282341122627258,0.0134919825941324,1.3537596464157104,0.8033390045166016,1.221008539199829,1.1882801055908203,1.486894965171814,0.7289811372756958,0.1229825168848037,5.564119815826416,0.0264050308614969,0.1543889790773391,0.5764613151550293,0.3275107443332672,0.0557755306363105,5.965118885040283,0.5671562552452087,29.03371810913086,0.3355997800827026,0.0520369708538055,0.7976162433624268,0.1041712686419487,0.3056001365184784,3.4087305068969727,1.9299252033233645,1.3883589506149292,1.0197726488113403,0.8781829476356506],\"type\":\"choropleth\"}],\"name\":\"2016\"},{\"data\":[{\"coloraxis\":\"coloraxis\",\"geo\":\"geo\",\"hovertemplate\":\"year=2017<br>region=%{location}<br>percentage %=%{z}<extra></extra>\",\"locationmode\":\"country names\",\"locations\":[\"Australia\",\"Belgium\",\"Brazil\",\"Canada\",\"Chile\",\"China\",\"Denmark\",\"Europe\",\"Finland\",\"France\",\"Germany\",\"Greece\",\"Iceland\",\"India\",\"Italy\",\"Japan\",\"Korea\",\"Mexico\",\"Netherlands\",\"New Zealand\",\"Norway\",\"Other Europe\",\"Poland\",\"Portugal\",\"South Africa\",\"Spain\",\"Sweden\",\"Switzerland\",\"United Kingdom\",\"USA\",\"World\"],\"name\":\"\",\"z\":[0.2558240592479706,2.6880364418029785,0.0170239079743623,0.9977920651435852,0.0493337549269199,2.333379030227661,0.5924549698829651,1.669384241104126,2.5126662254333496,1.8079696893692017,1.5608283281326294,0.2168409377336502,11.705129623413086,0.0313691720366478,0.247344434261322,1.0336263179779053,0.9406515955924988,0.0904753431677818,2.499582290649414,1.1697674989700315,39.2404670715332,0.5391112565994263,0.1182401031255722,1.8920652866363523,0.0529255606234073,0.599494993686676,5.089405536651611,2.682244777679444,1.8258639574050903,1.1617519855499268,1.3116254806518557],\"type\":\"choropleth\"}],\"name\":\"2017\"},{\"data\":[{\"coloraxis\":\"coloraxis\",\"geo\":\"geo\",\"hovertemplate\":\"year=2018<br>region=%{location}<br>percentage %=%{z}<extra></extra>\",\"locationmode\":\"country names\",\"locations\":[\"Australia\",\"Belgium\",\"Brazil\",\"Canada\",\"Chile\",\"China\",\"Denmark\",\"Europe\",\"Finland\",\"France\",\"Germany\",\"Greece\",\"Iceland\",\"India\",\"Italy\",\"Japan\",\"Korea\",\"Mexico\",\"Netherlands\",\"New Zealand\",\"Norway\",\"Other Europe\",\"Poland\",\"Portugal\",\"South Africa\",\"Spain\",\"Sweden\",\"Switzerland\",\"United Kingdom\",\"USA\",\"World\"],\"name\":\"\",\"z\":[0.4236763417720794,2.475838422775269,0.0145267704501748,2.673327922821045,0.0558449663221836,4.490468502044678,2.1379826068878174,2.1723785400390625,4.5248799324035645,2.183811902999878,1.9268656969070437,0.3035840392112732,17.219104766845703,0.0300325118005275,0.5092191696166992,0.9436646699905396,3.767235040664673,0.1422102153301239,6.290538787841797,1.936495423316956,49.12153625488281,0.7816964387893677,0.1434409618377685,3.651933908462525,0.0404982380568981,0.8730921745300293,7.567019462585449,3.168666362762451,2.0831902027130127,1.973446249961853,2.218316078186035],\"type\":\"choropleth\"}],\"name\":\"2018\"},{\"data\":[{\"coloraxis\":\"coloraxis\",\"geo\":\"geo\",\"hovertemplate\":\"year=2019<br>region=%{location}<br>percentage %=%{z}<extra></extra>\",\"locationmode\":\"country names\",\"locations\":[\"Australia\",\"Belgium\",\"Brazil\",\"Canada\",\"Chile\",\"China\",\"Denmark\",\"Europe\",\"Finland\",\"France\",\"Germany\",\"Greece\",\"Iceland\",\"India\",\"Italy\",\"Japan\",\"Korea\",\"Mexico\",\"Netherlands\",\"New Zealand\",\"Norway\",\"Other Europe\",\"Poland\",\"Portugal\",\"South Africa\",\"Spain\",\"Sweden\",\"Switzerland\",\"United Kingdom\",\"USA\",\"World\"],\"name\":\"\",\"z\":[1.2238010168075562,3.232164144515991,0.0844284147024154,3.215052366256714,0.1068023815751075,4.631046295166016,4.1743879318237305,3.2117562294006348,6.900235652923584,2.8221242427825928,2.923208475112915,0.4206504225730896,22.59964179992676,0.0244023092091083,0.8941095471382141,0.7487969398498535,2.3030972480773926,0.063473530113697,15.15070629119873,2.815541982650757,55.878944396972656,1.2370904684066772,0.2777130305767059,5.666244983673096,0.0640822052955627,1.3698748350143433,11.431989669799805,5.610243320465088,3.1263999938964844,2.065460681915283,2.458329916000366],\"type\":\"choropleth\"}],\"name\":\"2019\"},{\"data\":[{\"coloraxis\":\"coloraxis\",\"geo\":\"geo\",\"hovertemplate\":\"year=2020<br>region=%{location}<br>percentage %=%{z}<extra></extra>\",\"locationmode\":\"country names\",\"locations\":[\"Australia\",\"Belgium\",\"Brazil\",\"Canada\",\"Chile\",\"China\",\"Denmark\",\"Europe\",\"Finland\",\"France\",\"Germany\",\"Greece\",\"Iceland\",\"India\",\"Italy\",\"Japan\",\"Korea\",\"Mexico\",\"Netherlands\",\"New Zealand\",\"Norway\",\"Other Europe\",\"Poland\",\"Portugal\",\"South Africa\",\"Spain\",\"Sweden\",\"Switzerland\",\"United Kingdom\",\"USA\",\"World\"],\"name\":\"\",\"z\":[1.052804470062256,11.141831398010254,0.1526281982660293,4.157488822937012,0.1020168364048004,5.304136276245117,16.35238265991211,9.962501525878906,18.1273136138916,11.316177368164062,13.536293029785156,2.636551141738892,52.36977005004883,0.1300828903913498,4.33490800857544,0.637095034122467,2.5039584636688232,0.3121637105941772,25.020418167114254,2.7692482471466064,74.7397689819336,2.557457685470581,0.8373085260391235,13.75011157989502,0.0977810621261596,4.942722797393799,32.26823806762695,14.228047370910645,11.217070579528809,2.20703387260437,3.954709053039551],\"type\":\"choropleth\"}],\"name\":\"2020\"},{\"data\":[{\"coloraxis\":\"coloraxis\",\"geo\":\"geo\",\"hovertemplate\":\"year=2021<br>region=%{location}<br>percentage %=%{z}<extra></extra>\",\"locationmode\":\"country names\",\"locations\":[\"Australia\",\"Belgium\",\"Brazil\",\"Canada\",\"Chile\",\"China\",\"Denmark\",\"Europe\",\"Finland\",\"France\",\"Germany\",\"Greece\",\"Iceland\",\"India\",\"Italy\",\"Japan\",\"Korea\",\"Mexico\",\"Netherlands\",\"New Zealand\",\"Norway\",\"Other Europe\",\"Poland\",\"Portugal\",\"South Africa\",\"Spain\",\"Sweden\",\"Switzerland\",\"United Kingdom\",\"USA\",\"World\"],\"name\":\"\",\"z\":[2.822305917739868,18.448383331298828,0.465457409620285,6.598866939544678,0.1914425790309906,16.005657196044922,35.42444610595703,16.617809295654297,30.7806339263916,18.89927673339844,25.98686790466309,6.897816181182861,71.7287368774414,0.3808370232582092,9.46615505218506,0.9957961440086364,6.24240779876709,0.4983768165111542,29.734264373779297,4.404532909393311,86.16714477539062,4.886048793792725,1.3608596324920654,19.900842666625977,0.0885812491178512,7.879326820373535,43.29474258422852,22.42904090881348,18.958208084106445,4.561257839202881,8.64404582977295],\"type\":\"choropleth\"}],\"name\":\"2021\"}]);\n",
       "                        }).then(function(){\n",
       "                            \n",
       "var gd = document.getElementById('120b7a22-e5c4-442e-b2dc-2c9a22643189');\n",
       "var x = new MutationObserver(function (mutations, observer) {{\n",
       "        var display = window.getComputedStyle(gd).display;\n",
       "        if (!display || display === 'none') {{\n",
       "            console.log([gd, 'removed!']);\n",
       "            Plotly.purge(gd);\n",
       "            observer.disconnect();\n",
       "        }}\n",
       "}});\n",
       "\n",
       "// Listen for the removal of the full notebook cells\n",
       "var notebookContainer = gd.closest('#notebook-container');\n",
       "if (notebookContainer) {{\n",
       "    x.observe(notebookContainer, {childList: true});\n",
       "}}\n",
       "\n",
       "// Listen for the clearing of the current output cell\n",
       "var outputEl = gd.closest('.output');\n",
       "if (outputEl) {{\n",
       "    x.observe(outputEl, {childList: true});\n",
       "}}\n",
       "\n",
       "                        })                };                });            </script>        </div>"
      ]
     },
     "metadata": {},
     "output_type": "display_data"
    }
   ],
   "source": [
    "map1"
   ]
  },
  {
   "cell_type": "markdown",
   "metadata": {
    "slideshow": {
     "slide_type": "slide"
    }
   },
   "source": [
    "# Share of Total Sales from Electric Cars (2018-2021)"
   ]
  },
  {
   "cell_type": "code",
   "execution_count": 21,
   "metadata": {
    "slideshow": {
     "slide_type": "skip"
    }
   },
   "outputs": [],
   "source": [
    "ev_simple = ev_fin.drop(['category', 'mode', 'parameter', 'unit', 'powertrain'], axis=1)"
   ]
  },
  {
   "cell_type": "code",
   "execution_count": 22,
   "metadata": {
    "slideshow": {
     "slide_type": "fragment"
    }
   },
   "outputs": [],
   "source": [
    "# Gets 2021 sales share data of chosen country\n",
    "\n",
    "def sales_share_latest(country):\n",
    "    s = ev[(ev.region == country) & (ev.parameter == 'EV sales share') & (ev.category == 'Historical') & (ev['mode'] == 'Cars')]\n",
    "\n",
    "    last = s.iloc[-1].value\n",
    "\n",
    "    return last"
   ]
  },
  {
   "cell_type": "code",
   "execution_count": 23,
   "metadata": {
    "slideshow": {
     "slide_type": "fragment"
    }
   },
   "outputs": [],
   "source": [
    "# Gets 2018 sales share data of chosen country\n",
    "\n",
    "def sales_share_earliest(country):\n",
    "    s = ev[(ev.region == country) & (ev.parameter == 'EV sales share') & (ev.category == 'Historical') & (ev['mode'] == 'Cars')]\n",
    "\n",
    "    first = s.iloc[-4].value\n",
    "\n",
    "    return first"
   ]
  },
  {
   "cell_type": "code",
   "execution_count": 24,
   "metadata": {
    "slideshow": {
     "slide_type": "skip"
    }
   },
   "outputs": [],
   "source": [
    "# Creating Recorded Countries List\n",
    "\n",
    "country_list = []\n",
    "\n",
    "for c in ev.region:\n",
    "    if c not in country_list:\n",
    "        country_list.append(c)\n",
    "\n",
    "country_list.remove('World')\n",
    "country_list.remove('Europe')\n",
    "country_list.remove('Rest of the world')\n",
    "country_list.remove('Other Europe')\n",
    "country_list.remove('Indonesia')\n",
    "country_list.remove('Thailand')\n",
    "\n",
    "country_list[15] = 'South Korea'\n",
    "\n",
    "country_list = sorted(country_list)\n",
    "\n",
    "country_list[-1] = country_list[-2]\n",
    "country_list[-2] = 'United Kingdom'\n"
   ]
  },
  {
   "cell_type": "code",
   "execution_count": 25,
   "metadata": {
    "slideshow": {
     "slide_type": "skip"
    }
   },
   "outputs": [],
   "source": [
    "# Creating lists with Sales Data\n",
    "\n",
    "shares_latest = []\n",
    "for c in country_list:\n",
    "    if c == 'South Korea':\n",
    "        shares_latest.append(f\"{sales_share_latest('Korea')}\")\n",
    "    else:\n",
    "        shares_latest.append(f\"{sales_share_latest(c)}\")\n",
    "\n",
    "shares_earliest = []\n",
    "for c in country_list:\n",
    "    if c == 'South Korea':\n",
    "        shares_earliest.append(f\"{sales_share_earliest('Korea')}\")\n",
    "    else:\n",
    "        shares_earliest.append(f\"{sales_share_earliest(c)}\")\n",
    "\n",
    "shares_latest = list(map(float, shares_latest))\n",
    "shares_earliest = list(map(float, shares_earliest))\n",
    "\n",
    "\n",
    "l = len(shares_latest)\n",
    "l2 = len(shares_earliest)\n"
   ]
  },
  {
   "cell_type": "code",
   "execution_count": 26,
   "metadata": {
    "slideshow": {
     "slide_type": "skip"
    }
   },
   "outputs": [],
   "source": [
    "# Creating new DataFrame\n",
    "\n",
    "df = pd.DataFrame({'2021': shares_latest})\n",
    "df1 = pd.DataFrame({'2018': shares_earliest})\n",
    "df2 = pd.DataFrame({'country': country_list})\n",
    "\n",
    "all_shares = pd.concat([df2, df1, df], axis=1)\n",
    "all_shares = all_shares.sort_values('2021')\n"
   ]
  },
  {
   "cell_type": "code",
   "execution_count": 61,
   "metadata": {
    "scrolled": false,
    "slideshow": {
     "slide_type": "slide"
    }
   },
   "outputs": [
    {
     "data": {
      "image/png": "[encoded data removed]",
      "text/plain": [
       "<Figure size 1080x504 with 1 Axes>"
      ]
     },
     "metadata": {
      "needs_background": "light"
     },
     "output_type": "display_data"
    }
   ],
   "source": [
    "all_shares.plot(kind = 'bar', x = 'country', stacked = False, xlabel = 'Countries', fontsize = '12', color = {'2018': '#449644','2021': '#1b5e0f'})\n",
    "plt.title('Share of Total Sales from Electric Cars', fontsize=20)\n",
    "plt.xlabel('Countries', fontsize=12)\n",
    "plt.ylabel('Percentage %', fontsize=12)\n",
    "plt.xticks(fontsize=15)\n",
    "plt.yticks(fontsize=15)\n",
    "plt.legend(prop={'size': 20})\n",
    "plt.show()"
   ]
  },
  {
   "cell_type": "markdown",
   "metadata": {
    "slideshow": {
     "slide_type": "slide"
    }
   },
   "source": [
    "# Bar Plot (Share of Primary Energy from Renewable Sources) Comparing 2000 with 2021"
   ]
  },
  {
   "cell_type": "code",
   "execution_count": 28,
   "metadata": {},
   "outputs": [],
   "source": [
    "# Gets 2021 data for chosen country\n",
    "\n",
    "is_21 = renewable_share.Year == 2021\n",
    "share_21 = renewable_share[is_21]\n",
    "share_21 = share_21.reset_index()\n",
    "share_21 = share_21.drop('index', axis=1)\n",
    "\n",
    "def get_2021(c):\n",
    "    for i in range(len(share_21.Entity)):\n",
    "        if share_21.Entity[i] == c:\n",
    "            a = share_21['Renewables (% equivalent primary energy)'][i]\n",
    "\n",
    "    #r = pd.DataFrame([a], columns=[c]) not required\n",
    "\n",
    "    return a\n"
   ]
  },
  {
   "cell_type": "code",
   "execution_count": 29,
   "metadata": {},
   "outputs": [],
   "source": [
    "# Gets 2000 data for chosen country\n",
    "\n",
    "is_00 = renewable_share.Year == 2000\n",
    "share_00 = renewable_share[is_00]\n",
    "share_00 = share_00.reset_index()\n",
    "share_00 = share_00.drop('index', axis=1)\n",
    "\n",
    "def get_2000(c):\n",
    "    for i in range(len(share_00.Entity)):\n",
    "        if share_00.Entity[i] == c:\n",
    "            a = share_00['Renewables (% equivalent primary energy)'][i]\n",
    "\n",
    "    #r = pd.DataFrame([a], columns=[c]) not required\n",
    "\n",
    "    return a"
   ]
  },
  {
   "cell_type": "code",
   "execution_count": 30,
   "metadata": {},
   "outputs": [],
   "source": [
    "# Getting countries 2000\n",
    "\n",
    "k = get_2000('Iceland')\n",
    "w = get_2000('World')\n",
    "e = get_2000('Europe')\n",
    "af = get_2000('Africa')\n",
    "a = get_2000('Asia')\n",
    "ap = get_2000('Asia Pacific (BP)')\n",
    "t = get_2000('Trinidad and Tobago')\n",
    "au = get_2000('Australia')\n",
    "o = get_2000('Oceania')\n",
    "\n",
    "to_2000 = [af, a, ap, au, w, e, o]\n",
    "countries = ['Africa', 'Asia', 'Asia Pacific (BP)', 'Australia', 'World', 'Europe', 'Oceania']"
   ]
  },
  {
   "cell_type": "code",
   "execution_count": 31,
   "metadata": {},
   "outputs": [],
   "source": [
    "sorted_21 = share_21.sort_values(by=['Renewables (% equivalent primary energy)'])"
   ]
  },
  {
   "cell_type": "code",
   "execution_count": 32,
   "metadata": {},
   "outputs": [],
   "source": [
    "# Getting countries 2021\n",
    "\n",
    "ksi = get_2021('Iceland')\n",
    "wor = get_2021('World')\n",
    "eur = get_2021('Europe')\n",
    "afr = get_2021('Africa')\n",
    "asi = get_2021('Asia')\n",
    "asp = get_2021('Asia Pacific (BP)')\n",
    "tnt = get_2021('Trinidad and Tobago')\n",
    "aus = get_2021('Australia')\n",
    "oce = get_2021('Oceania')\n",
    "\n",
    "to_2021 = [afr, asi, asp, aus, wor, eur, oce]\n",
    "countries = ['Africa', 'Asia', 'Asia Pacific (BP)', 'Australia', 'World', 'Europe', 'Oceania']\n"
   ]
  },
  {
   "cell_type": "code",
   "execution_count": 33,
   "metadata": {},
   "outputs": [
    {
     "name": "stdout",
     "output_type": "stream",
     "text": [
      "23.91737174987793, Latvia\n",
      "86.8745346069336, Iceland\n"
     ]
    }
   ],
   "source": [
    "lowest = 0\n",
    "entity = []\n",
    "for i in share_21.Entity:\n",
    "    r = get_2021(i)\n",
    "    if lowest < r < 25:\n",
    "        lowest = r\n",
    "        entity.append(i)\n",
    "\n",
    "print(f\"{lowest}, {entity[-1]}\")\n",
    "\n",
    "\n",
    "highest = 0\n",
    "ent = []\n",
    "for j in share_21.Entity:\n",
    "     k = get_2021(j)\n",
    "     if k > highest:\n",
    "        highest = k\n",
    "        ent.append(j)\n",
    "\n",
    "print(f\"{highest}, {ent[-1]}\")"
   ]
  },
  {
   "cell_type": "code",
   "execution_count": 34,
   "metadata": {},
   "outputs": [
    {
     "data": {
      "image/png": "[encoded data removed]",
      "text/plain": [
       "<Figure size 1440x720 with 1 Axes>"
      ]
     },
     "metadata": {
      "needs_background": "light"
     },
     "output_type": "display_data"
    }
   ],
   "source": [
    "# Visualisation\n",
    "\n",
    "index = ['Africa', 'Asia', 'Asia Pacific', 'Australia', 'World', 'Europe', 'Oceania']\n",
    "\n",
    "comp_00_21 = pd.DataFrame({'2000': to_2000, '2021': to_2021}, index=index)\n",
    "\n",
    "ax = comp_00_21.plot.bar(rot=0, color={'2000': '#2e83bf', '2021': '#218029'})\n",
    "\n",
    "plt.title('Share of Primary Energy from Renewable Sources', fontsize=20)\n",
    "\n",
    "plt.legend(prop={'size':18})\n",
    "\n",
    "plt.xlabel('Regions', fontsize=12)\n",
    "plt.ylabel('Percentage %', fontsize=12)\n",
    "\n",
    "plt.show()"
   ]
  },
  {
   "cell_type": "markdown",
   "metadata": {},
   "source": [
    "# Line Graph (Share of Primary Energy from Renewable Sources) 1965-2021"
   ]
  },
  {
   "cell_type": "code",
   "execution_count": 35,
   "metadata": {},
   "outputs": [],
   "source": [
    "# Gets DataFrame with data for chosen country\n",
    "\n",
    "def is_country(country):\n",
    "    r = renewable_share.Entity == country\n",
    "    ren = renewable_share[r]\n",
    "    lst = list(ren['Renewables (% equivalent primary energy)'])\n",
    "    df = pd.DataFrame(lst, columns=[country])\n",
    "    return df"
   ]
  },
  {
   "cell_type": "code",
   "execution_count": 36,
   "metadata": {},
   "outputs": [],
   "source": [
    "# Countries \n",
    "\n",
    "period = list(range(1965,2022))\n",
    "aus = is_country('Australia')\n",
    "nor = is_country('Norway')\n",
    "usa = is_country('United States')\n",
    "nzl = is_country('New Zealand')\n",
    "fin = is_country('Finland')\n",
    "can = is_country('Canada')\n",
    "swe = is_country('Sweden')\n",
    "chi = is_country('China')\n",
    "ice = is_country('Iceland')\n",
    "zaf = is_country('South Africa')\n",
    "unk = is_country('United Kingdom')"
   ]
  },
  {
   "cell_type": "code",
   "execution_count": 37,
   "metadata": {},
   "outputs": [
    {
     "data": {
      "image/png": "[encoded data removed]",
      "text/plain": [
       "<Figure size 1440x720 with 1 Axes>"
      ]
     },
     "metadata": {
      "needs_background": "light"
     },
     "output_type": "display_data"
    }
   ],
   "source": [
    "# Visualisation\n",
    "\n",
    "renewable = pd.DataFrame(period, columns=['Year'])\n",
    "com_ren = pd.concat([renewable, aus, nor, usa, nzl, fin, can, swe, chi, ice, zaf, unk], axis=1)\n",
    "\n",
    "plt.title('Share of Primary Energy from Renewable Sources', fontsize=20)\n",
    "plt.plot(com_ren.Year, com_ren.Iceland, '.-', color='#A2FAA3', label='Iceland')\n",
    "plt.plot(com_ren.Year, com_ren.Sweden, '.-', color='#008F39', label='Sweden')\n",
    "plt.plot(com_ren.Year, com_ren['New Zealand'], '.-', color='#093824', label='New Zealand')\n",
    "plt.plot(com_ren.Year, com_ren.Finland, '.-', color='#a34dff', label='Finland')\n",
    "plt.plot(com_ren.Year, com_ren['United Kingdom'], '.-', color='#5448C8', label='United Kingdom')\n",
    "plt.plot(com_ren.Year,com_ren.China, '.-', color='#6bb3ff', label='China')\n",
    "plt.plot(com_ren.Year, com_ren.Australia, '.-', color='#0a81ff', label='Australia')\n",
    "plt.plot(com_ren.Year, com_ren['United States'], '.-', color='#423E3B', label='United States')\n",
    "\n",
    "plt.xlabel('Year', fontsize=12)\n",
    "\n",
    "plt.ylabel('Percentage %', fontsize=12)\n",
    "\n",
    "plt.legend(loc='upper left', prop={'size':12})\n",
    "\n",
    "plt.show()"
   ]
  },
  {
   "cell_type": "markdown",
   "metadata": {},
   "source": [
    "# Choropleth (Share of Primary Energy from Renewable Sources) 1965-2021"
   ]
  },
  {
   "cell_type": "code",
   "execution_count": 38,
   "metadata": {},
   "outputs": [],
   "source": [
    "# Filtered DataFrame\n",
    "\n",
    "cull = renewable_share['Entity'].isin(world_geo.name)\n",
    "a_share = renewable_share[cull]\n",
    "us = renewable_share['Entity'] == 'United States'\n",
    "us_ren = renewable_share[us]\n",
    "eq = pd.concat([a_share, us_ren], axis=0)\n"
   ]
  },
  {
   "cell_type": "code",
   "execution_count": 39,
   "metadata": {},
   "outputs": [
    {
     "data": {
      "application/vnd.plotly.v1+json": {
       "config": {
        "plotlyServerURL": "https://plot.ly"
       },
       "data": [
        {
         "coloraxis": "coloraxis",
         "geo": "geo",
         "hovertemplate": "Year=1965<br>Entity=%{location}<br>Renewables (% equivalent primary energy)=%{z}<extra></extra>",
         "locationmode": "country names",
         "locations": [
          "Algeria",
          "Argentina",
          "Australia",
          "Austria",
          "Belgium",
          "Brazil",
          "Bulgaria",
          "Canada",
          "Chile",
          "China",
          "Colombia",
          "Cyprus",
          "Czechia",
          "Denmark",
          "Ecuador",
          "Egypt",
          "Finland",
          "France",
          "Germany",
          "Greece",
          "Hungary",
          "Iceland",
          "India",
          "Indonesia",
          "Iran",
          "Iraq",
          "Ireland",
          "Israel",
          "Italy",
          "Japan",
          "Kuwait",
          "Luxembourg",
          "Malaysia",
          "Mexico",
          "Morocco",
          "Netherlands",
          "New Zealand",
          "Norway",
          "Oman",
          "Pakistan",
          "Peru",
          "Philippines",
          "Poland",
          "Portugal",
          "Qatar",
          "Romania",
          "Saudi Arabia",
          "Slovakia",
          "South Africa",
          "South Korea",
          "Spain",
          "Sri Lanka",
          "Sweden",
          "Switzerland",
          "Taiwan",
          "Thailand",
          "Trinidad and Tobago",
          "Turkey",
          "United Arab Emirates",
          "United Kingdom",
          "Venezuela",
          "Vietnam",
          "United States"
         ],
         "name": "",
         "type": "choropleth",
         "z": [
          4.763067722320557,
          1.1027235984802246,
          5.562621593475342,
          25.096406936645508,
          0.1947737485170364,
          27.54872131347656,
          4.931370735168457,
          25.138648986816406,
          16.01085662841797,
          4.253407001495361,
          11.788208961486816,
          0,
          1.4077873229980469,
          0.0444771610200405,
          8.50521469116211,
          5.587894439697266,
          23.96658515930176,
          10.584983825683594,
          1.614503026008606,
          2.9926247596740723,
          0.1198938563466072,
          24.983985900878903,
          9.149455070495604,
          6.385928153991699,
          5.225076198577881,
          0.9088937044143676,
          4.116825580596924,
          0,
          14.399823188781738,
          12.335086822509766,
          0,
          0.6112312078475952,
          5.246120452880859,
          8.934722900390625,
          20.22709846496582,
          0,
          39.25277328491211,
          67.87995910644531,
          0,
          7.898932456970215,
          13.740326881408691,
          8.365923881530762,
          0.3520969152450561,
          24.91469955444336,
          0,
          1.066218614578247,
          0,
          6.152654647827148,
          0.0308864526450634,
          2.8078150749206543,
          17.25343894958496,
          10.324469566345217,
          34.93345642089844,
          39.05083847045898,
          10.868430137634276,
          8.098695755004883,
          0,
          7.396099090576172,
          0,
          0.5887872576713562,
          2.114067792892456,
          3.41326642036438,
          4.368869781494141
         ]
        }
       ],
       "frames": [
        {
         "data": [
          {
           "coloraxis": "coloraxis",
           "geo": "geo",
           "hovertemplate": "Year=1965<br>Entity=%{location}<br>Renewables (% equivalent primary energy)=%{z}<extra></extra>",
           "locationmode": "country names",
           "locations": [
            "Algeria",
            "Argentina",
            "Australia",
            "Austria",
            "Belgium",
            "Brazil",
            "Bulgaria",
            "Canada",
            "Chile",
            "China",
            "Colombia",
            "Cyprus",
            "Czechia",
            "Denmark",
            "Ecuador",
            "Egypt",
            "Finland",
            "France",
            "Germany",
            "Greece",
            "Hungary",
            "Iceland",
            "India",
            "Indonesia",
            "Iran",
            "Iraq",
            "Ireland",
            "Israel",
            "Italy",
            "Japan",
            "Kuwait",
            "Luxembourg",
            "Malaysia",
            "Mexico",
            "Morocco",
            "Netherlands",
            "New Zealand",
            "Norway",
            "Oman",
            "Pakistan",
            "Peru",
            "Philippines",
            "Poland",
            "Portugal",
            "Qatar",
            "Romania",
            "Saudi Arabia",
            "Slovakia",
            "South Africa",
            "South Korea",
            "Spain",
            "Sri Lanka",
            "Sweden",
            "Switzerland",
            "Taiwan",
            "Thailand",
            "Trinidad and Tobago",
            "Turkey",
            "United Arab Emirates",
            "United Kingdom",
            "Venezuela",
            "Vietnam",
            "United States"
           ],
           "name": "",
           "type": "choropleth",
           "z": [
            4.763067722320557,
            1.1027235984802246,
            5.562621593475342,
            25.096406936645508,
            0.1947737485170364,
            27.54872131347656,
            4.931370735168457,
            25.138648986816406,
            16.01085662841797,
            4.253407001495361,
            11.788208961486816,
            0,
            1.4077873229980469,
            0.0444771610200405,
            8.50521469116211,
            5.587894439697266,
            23.96658515930176,
            10.584983825683594,
            1.614503026008606,
            2.9926247596740723,
            0.1198938563466072,
            24.983985900878903,
            9.149455070495604,
            6.385928153991699,
            5.225076198577881,
            0.9088937044143676,
            4.116825580596924,
            0,
            14.399823188781738,
            12.335086822509766,
            0,
            0.6112312078475952,
            5.246120452880859,
            8.934722900390625,
            20.22709846496582,
            0,
            39.25277328491211,
            67.87995910644531,
            0,
            7.898932456970215,
            13.740326881408691,
            8.365923881530762,
            0.3520969152450561,
            24.91469955444336,
            0,
            1.066218614578247,
            0,
            6.152654647827148,
            0.0308864526450634,
            2.8078150749206543,
            17.25343894958496,
            10.324469566345217,
            34.93345642089844,
            39.05083847045898,
            10.868430137634276,
            8.098695755004883,
            0,
            7.396099090576172,
            0,
            0.5887872576713562,
            2.114067792892456,
            3.41326642036438,
            4.368869781494141
           ]
          }
         ],
         "name": "1965"
        },
        {
         "data": [
          {
           "coloraxis": "coloraxis",
           "geo": "geo",
           "hovertemplate": "Year=1966<br>Entity=%{location}<br>Renewables (% equivalent primary energy)=%{z}<extra></extra>",
           "locationmode": "country names",
           "locations": [
            "Algeria",
            "Argentina",
            "Australia",
            "Austria",
            "Belgium",
            "Brazil",
            "Bulgaria",
            "Canada",
            "Chile",
            "China",
            "Colombia",
            "Cyprus",
            "Czechia",
            "Denmark",
            "Ecuador",
            "Egypt",
            "Finland",
            "France",
            "Germany",
            "Greece",
            "Hungary",
            "Iceland",
            "India",
            "Indonesia",
            "Iran",
            "Iraq",
            "Ireland",
            "Israel",
            "Italy",
            "Japan",
            "Kuwait",
            "Luxembourg",
            "Malaysia",
            "Mexico",
            "Morocco",
            "Netherlands",
            "New Zealand",
            "Norway",
            "Oman",
            "Pakistan",
            "Peru",
            "Philippines",
            "Poland",
            "Portugal",
            "Qatar",
            "Romania",
            "Saudi Arabia",
            "Slovakia",
            "South Africa",
            "South Korea",
            "Spain",
            "Sri Lanka",
            "Sweden",
            "Switzerland",
            "Taiwan",
            "Thailand",
            "Trinidad and Tobago",
            "Turkey",
            "United Arab Emirates",
            "United Kingdom",
            "Venezuela",
            "Vietnam",
            "United States"
           ],
           "name": "",
           "type": "choropleth",
           "z": [
            3.518747091293335,
            1.0818976163864136,
            5.071894645690918,
            25.840192794799805,
            0.2222243994474411,
            27.618213653564453,
            4.622976303100586,
            26.194747924804688,
            15.74431324005127,
            3.983122825622559,
            12.017394065856934,
            0,
            1.3170925378799438,
            0.0406653471291065,
            9.24820613861084,
            5.595043659210205,
            23.36688041687012,
            11.60239315032959,
            1.7416129112243652,
            5.903736591339111,
            0.1577373296022415,
            23.200014114379883,
            9.270711898803713,
            8.364607810974121,
            5.151486396789551,
            1.0816304683685305,
            3.3116633892059326,
            0,
            13.789759635925291,
            11.651081085205078,
            0,
            0.5740101337432861,
            5.346494197845459,
            9.63311004638672,
            13.34361457824707,
            0,
            39.54505157470703,
            65.39910125732422,
            0,
            7.840171337127685,
            12.172947883605955,
            7.593554973602295,
            0.3502076268196106,
            29.766380310058597,
            0,
            1.02953040599823,
            0,
            5.695992469787598,
            0.0298661682754755,
            3.209915399551392,
            21.11080551147461,
            10.943519592285156,
            32.100040435791016,
            41.494388580322266,
            10.439053535461426,
            8.597766876220703,
            0,
            6.9609694480896,
            0,
            0.5762794613838196,
            2.1339144706726074,
            2.240062952041626,
            4.171401977539063
           ]
          }
         ],
         "name": "1966"
        },
        {
         "data": [
          {
           "coloraxis": "coloraxis",
           "geo": "geo",
           "hovertemplate": "Year=1967<br>Entity=%{location}<br>Renewables (% equivalent primary energy)=%{z}<extra></extra>",
           "locationmode": "country names",
           "locations": [
            "Algeria",
            "Argentina",
            "Australia",
            "Austria",
            "Belgium",
            "Brazil",
            "Bulgaria",
            "Canada",
            "Chile",
            "China",
            "Colombia",
            "Cyprus",
            "Czechia",
            "Denmark",
            "Ecuador",
            "Egypt",
            "Finland",
            "France",
            "Germany",
            "Greece",
            "Hungary",
            "Iceland",
            "India",
            "Indonesia",
            "Iran",
            "Iraq",
            "Ireland",
            "Israel",
            "Italy",
            "Japan",
            "Kuwait",
            "Luxembourg",
            "Malaysia",
            "Mexico",
            "Morocco",
            "Netherlands",
            "New Zealand",
            "Norway",
            "Oman",
            "Pakistan",
            "Peru",
            "Philippines",
            "Poland",
            "Portugal",
            "Qatar",
            "Romania",
            "Saudi Arabia",
            "Slovakia",
            "South Africa",
            "South Korea",
            "Spain",
            "Sri Lanka",
            "Sweden",
            "Switzerland",
            "Taiwan",
            "Thailand",
            "Trinidad and Tobago",
            "Turkey",
            "United Arab Emirates",
            "United Kingdom",
            "Venezuela",
            "Vietnam",
            "United States"
           ],
           "name": "",
           "type": "choropleth",
           "z": [
            4.2919535636901855,
            1.0765652656555176,
            4.949548721313477,
            26.11892890930176,
            0.1685035675764084,
            27.880290985107425,
            4.0036211013793945,
            25.61042594909668,
            15.765549659729004,
            3.8183979988098153,
            12.580106735229492,
            0,
            1.2057945728302002,
            0.0388824790716171,
            9.417126655578612,
            7.041625022888184,
            24.873165130615234,
            9.537199020385742,
            1.658253788948059,
            5.145407676696777,
            0.1355412602424621,
            24.937162399291992,
            10.058605194091797,
            9.505834579467772,
            5.041223049163818,
            1.2241523265838623,
            2.887803792953491,
            0,
            12.396454811096191,
            8.793859481811523,
            0,
            0.6577614545822144,
            5.215836524963379,
            10.29133129119873,
            11.197633743286133,
            0,
            39.84817123413086,
            66.59164428710938,
            0,
            8.39201831817627,
            13.394146919250488,
            7.472383975982666,
            0.364766776561737,
            28.834285736083984,
            0,
            1.315669298171997,
            0,
            4.855119228363037,
            0.0207141749560832,
            2.7027177810668945,
            16.279375076293945,
            10.974931716918944,
            33.95441055297852,
            42.1434326171875,
            9.467522621154783,
            9.705655097961426,
            0,
            6.997379779815674,
            0,
            0.6204280257225037,
            2.373532056808472,
            1.7923457622528076,
            4.542215824127197
           ]
          }
         ],
         "name": "1967"
        },
        {
         "data": [
          {
           "coloraxis": "coloraxis",
           "geo": "geo",
           "hovertemplate": "Year=1968<br>Entity=%{location}<br>Renewables (% equivalent primary energy)=%{z}<extra></extra>",
           "locationmode": "country names",
           "locations": [
            "Algeria",
            "Argentina",
            "Australia",
            "Austria",
            "Belgium",
            "Brazil",
            "Bulgaria",
            "Canada",
            "Chile",
            "China",
            "Colombia",
            "Cyprus",
            "Czechia",
            "Denmark",
            "Ecuador",
            "Egypt",
            "Finland",
            "France",
            "Germany",
            "Greece",
            "Hungary",
            "Iceland",
            "India",
            "Indonesia",
            "Iran",
            "Iraq",
            "Ireland",
            "Israel",
            "Italy",
            "Japan",
            "Kuwait",
            "Luxembourg",
            "Malaysia",
            "Mexico",
            "Morocco",
            "Netherlands",
            "New Zealand",
            "Norway",
            "Oman",
            "Pakistan",
            "Peru",
            "Philippines",
            "Poland",
            "Portugal",
            "Qatar",
            "Romania",
            "Saudi Arabia",
            "Slovakia",
            "South Africa",
            "South Korea",
            "Spain",
            "Sri Lanka",
            "Sweden",
            "Switzerland",
            "Taiwan",
            "Thailand",
            "Trinidad and Tobago",
            "Turkey",
            "United Arab Emirates",
            "United Kingdom",
            "Venezuela",
            "Vietnam",
            "United States"
           ],
           "name": "",
           "type": "choropleth",
           "z": [
            5.486194610595703,
            1.2273393869400024,
            4.865467548370361,
            25.099164962768555,
            0.1550234109163284,
            25.555753707885746,
            2.311564922332764,
            24.474010467529297,
            13.26151180267334,
            4.458870887756348,
            13.300461769104004,
            0,
            0.8947587609291077,
            0.0312566831707954,
            8.330953598022461,
            9.956792831420898,
            20.67276763916016,
            10.092880249023438,
            1.5761398077011108,
            4.080320358276367,
            0.1417907327413559,
            24.370615005493164,
            10.857532501220703,
            11.010139465332031,
            4.931734085083008,
            1.3923404216766355,
            2.3684356212615967,
            0,
            11.59219741821289,
            8.451984405517578,
            0,
            0.6211580038070679,
            5.593569755554199,
            10.84283447265625,
            11.839537620544434,
            0,
            41.17457580566406,
            67.13723754882812,
            0,
            8.885177612304688,
            14.111241340637209,
            6.774563312530518,
            0.3562216162681579,
            27.05286407470703,
            0,
            1.3085218667984009,
            0,
            4.037016868591309,
            0.0181175209581851,
            2.29959774017334,
            16.65400505065918,
            12.205965042114258,
            31.443342208862305,
            39.67350387573242,
            12.089816093444824,
            7.769661903381348,
            0,
            7.87749719619751,
            0,
            0.4564071893692016,
            3.6946752071380615,
            1.929360270500183,
            4.3309736251831055
           ]
          }
         ],
         "name": "1968"
        },
        {
         "data": [
          {
           "coloraxis": "coloraxis",
           "geo": "geo",
           "hovertemplate": "Year=1969<br>Entity=%{location}<br>Renewables (% equivalent primary energy)=%{z}<extra></extra>",
           "locationmode": "country names",
           "locations": [
            "Algeria",
            "Argentina",
            "Australia",
            "Austria",
            "Belgium",
            "Brazil",
            "Bulgaria",
            "Canada",
            "Chile",
            "China",
            "Colombia",
            "Cyprus",
            "Czechia",
            "Denmark",
            "Ecuador",
            "Egypt",
            "Finland",
            "France",
            "Germany",
            "Greece",
            "Hungary",
            "Iceland",
            "India",
            "Indonesia",
            "Iran",
            "Iraq",
            "Ireland",
            "Israel",
            "Italy",
            "Japan",
            "Kuwait",
            "Luxembourg",
            "Malaysia",
            "Mexico",
            "Morocco",
            "Netherlands",
            "New Zealand",
            "Norway",
            "Oman",
            "Pakistan",
            "Peru",
            "Philippines",
            "Poland",
            "Portugal",
            "Qatar",
            "Romania",
            "Saudi Arabia",
            "Slovakia",
            "South Africa",
            "South Korea",
            "Spain",
            "Sri Lanka",
            "Sweden",
            "Switzerland",
            "Taiwan",
            "Thailand",
            "Trinidad and Tobago",
            "Turkey",
            "United Arab Emirates",
            "United Kingdom",
            "Venezuela",
            "Vietnam",
            "United States"
           ],
           "name": "",
           "type": "choropleth",
           "z": [
            3.1827635765075684,
            1.0651699304580688,
            5.0869879722595215,
            22.27536964416504,
            0.1331521123647689,
            25.05621910095215,
            2.9225401878356934,
            25.52126884460449,
            13.893922805786133,
            3.727402210235596,
            14.52613925933838,
            0,
            0.7005398273468018,
            0.0285265762358903,
            8.701672554016113,
            16.082429885864258,
            15.680414199829102,
            9.634167671203612,
            1.1857671737670898,
            5.802620887756348,
            0.1413314789533615,
            30.625391006469727,
            10.873967170715332,
            10.201886177062988,
            4.837111473083496,
            1.3289313316345217,
            1.7883479595184326,
            0,
            10.46550464630127,
            7.61188268661499,
            0,
            0.502257764339447,
            6.4295334815979,
            10.475299835205078,
            13.958054542541504,
            0,
            40.15027618408203,
            63.88058090209961,
            0,
            9.329750061035156,
            15.24188995361328,
            6.673861980438232,
            0.284521222114563,
            30.38658142089844,
            0,
            1.615439534187317,
            0,
            3.0090577602386475,
            0.0153965763747692,
            2.9266607761383057,
            18.460060119628903,
            13.611146926879885,
            26.98740577697754,
            36.70130157470703,
            9.12302303314209,
            5.476836681365967,
            0,
            7.791776180267334,
            0,
            0.3853139579296112,
            4.241876125335693,
            1.837692379951477,
            4.598878383636475
           ]
          }
         ],
         "name": "1969"
        },
        {
         "data": [
          {
           "coloraxis": "coloraxis",
           "geo": "geo",
           "hovertemplate": "Year=1970<br>Entity=%{location}<br>Renewables (% equivalent primary energy)=%{z}<extra></extra>",
           "locationmode": "country names",
           "locations": [
            "Algeria",
            "Argentina",
            "Australia",
            "Austria",
            "Belgium",
            "Brazil",
            "Bulgaria",
            "Canada",
            "Chile",
            "China",
            "Colombia",
            "Cyprus",
            "Czechia",
            "Denmark",
            "Ecuador",
            "Egypt",
            "Finland",
            "France",
            "Germany",
            "Greece",
            "Hungary",
            "Iceland",
            "India",
            "Indonesia",
            "Iran",
            "Iraq",
            "Ireland",
            "Israel",
            "Italy",
            "Japan",
            "Kuwait",
            "Luxembourg",
            "Malaysia",
            "Mexico",
            "Morocco",
            "Netherlands",
            "New Zealand",
            "Norway",
            "Oman",
            "Pakistan",
            "Peru",
            "Philippines",
            "Poland",
            "Portugal",
            "Qatar",
            "Romania",
            "Saudi Arabia",
            "Slovakia",
            "South Africa",
            "South Korea",
            "Spain",
            "Sri Lanka",
            "Sweden",
            "Switzerland",
            "Taiwan",
            "Thailand",
            "Trinidad and Tobago",
            "Turkey",
            "United Arab Emirates",
            "United Kingdom",
            "Venezuela",
            "Vietnam",
            "United States"
           ],
           "name": "",
           "type": "choropleth",
           "z": [
            4.665683746337891,
            1.3534115552902222,
            5.421450614929199,
            24.77025604248047,
            0.1348093897104263,
            26.90108108520508,
            3.0394954681396484,
            25.025075912475582,
            14.088003158569336,
            3.009592294692993,
            14.817516326904297,
            0,
            0.9598851203918456,
            0.0292061157524585,
            8.106535911560059,
            15.16463565826416,
            15.499043464660645,
            9.537435531616213,
            1.5171291828155518,
            6.698559761047363,
            0.1215164810419082,
            41.68929290771485,
            11.784119606018066,
            11.570672035217283,
            4.415298461914063,
            1.301562786102295,
            3.130312919616699,
            0,
            9.408058166503906,
            6.836434364318848,
            0,
            0.5346629619598389,
            8.029953956604004,
            10.98171329498291,
            13.115361213684082,
            0,
            38.823341369628906,
            61.51011657714844,
            0,
            8.390380859375,
            14.120806694030762,
            6.776431083679199,
            0.5491498708724976,
            23.095155715942383,
            0,
            1.898038387298584,
            0,
            4.102990627288818,
            0.017539408057928,
            2.155395030975342,
            15.559318542480469,
            11.076228141784668,
            25.30118560791016,
            34.63469696044922,
            7.86768102645874,
            7.854705810546875,
            0,
            6.475101470947266,
            0,
            0.5257811546325684,
            5.406153678894043,
            1.9573317766189573,
            4.400803089141846
           ]
          }
         ],
         "name": "1970"
        },
        {
         "data": [
          {
           "coloraxis": "coloraxis",
           "geo": "geo",
           "hovertemplate": "Year=1971<br>Entity=%{location}<br>Renewables (% equivalent primary energy)=%{z}<extra></extra>",
           "locationmode": "country names",
           "locations": [
            "Algeria",
            "Argentina",
            "Australia",
            "Austria",
            "Bangladesh",
            "Belgium",
            "Brazil",
            "Bulgaria",
            "Canada",
            "Chile",
            "China",
            "Colombia",
            "Cyprus",
            "Czechia",
            "Denmark",
            "Ecuador",
            "Egypt",
            "Finland",
            "France",
            "Germany",
            "Greece",
            "Hungary",
            "Iceland",
            "India",
            "Indonesia",
            "Iran",
            "Iraq",
            "Ireland",
            "Israel",
            "Italy",
            "Japan",
            "Kuwait",
            "Luxembourg",
            "Malaysia",
            "Mexico",
            "Morocco",
            "Netherlands",
            "New Zealand",
            "Norway",
            "Oman",
            "Pakistan",
            "Peru",
            "Philippines",
            "Poland",
            "Portugal",
            "Qatar",
            "Romania",
            "Saudi Arabia",
            "Slovakia",
            "South Africa",
            "South Korea",
            "Spain",
            "Sri Lanka",
            "Sweden",
            "Switzerland",
            "Taiwan",
            "Thailand",
            "Trinidad and Tobago",
            "Turkey",
            "United Arab Emirates",
            "United Kingdom",
            "Venezuela",
            "Vietnam",
            "United States"
           ],
           "name": "",
           "type": "choropleth",
           "z": [
            2.455918788909912,
            1.270321488380432,
            5.822727203369141,
            19.65230178833008,
            3.859757661819458,
            0.0748556479811668,
            26.817771911621094,
            2.9434654712677,
            24.927824020385746,
            14.758605003356934,
            3.0704047679901123,
            15.987798690795898,
            0,
            0.6451210975646973,
            0.0309045780450105,
            8.015813827514648,
            15.87799835205078,
            16.927217483520508,
            7.942842483520508,
            1.179680585861206,
            5.656627655029297,
            0.1283919960260391,
            41.70726013183594,
            12.42677116394043,
            4.001150131225586,
            4.332554340362549,
            1.3798673152923584,
            1.7471479177474976,
            0,
            8.673787117004395,
            7.166181564331055,
            0,
            0.3143104612827301,
            6.255808353424072,
            10.142724990844728,
            13.92387866973877,
            0,
            41.63017272949219,
            63.96649932861328,
            0,
            11.71886157989502,
            17.272397994995117,
            5.4605889320373535,
            0.4868724048137665,
            22.091991424560547,
            0,
            2.898531913757324,
            0,
            2.8729021549224854,
            0.0729435011744499,
            2.1541755199432373,
            16.187814712524414,
            12.125496864318848,
            31.1534366607666,
            33.697242736816406,
            6.759337902069092,
            8.126887321472168,
            0.2474021911621093,
            5.071615219116211,
            0,
            0.398343563079834,
            6.983936786651611,
            2.246330499649048,
            4.614474773406982
           ]
          }
         ],
         "name": "1971"
        },
        {
         "data": [
          {
           "coloraxis": "coloraxis",
           "geo": "geo",
           "hovertemplate": "Year=1972<br>Entity=%{location}<br>Renewables (% equivalent primary energy)=%{z}<extra></extra>",
           "locationmode": "country names",
           "locations": [
            "Algeria",
            "Argentina",
            "Australia",
            "Austria",
            "Bangladesh",
            "Belgium",
            "Brazil",
            "Bulgaria",
            "Canada",
            "Chile",
            "China",
            "Colombia",
            "Cyprus",
            "Czechia",
            "Denmark",
            "Ecuador",
            "Egypt",
            "Finland",
            "France",
            "Germany",
            "Greece",
            "Hungary",
            "Iceland",
            "India",
            "Indonesia",
            "Iran",
            "Iraq",
            "Ireland",
            "Israel",
            "Italy",
            "Japan",
            "Kuwait",
            "Luxembourg",
            "Malaysia",
            "Mexico",
            "Morocco",
            "Netherlands",
            "New Zealand",
            "Norway",
            "Oman",
            "Pakistan",
            "Peru",
            "Philippines",
            "Poland",
            "Portugal",
            "Qatar",
            "Romania",
            "Saudi Arabia",
            "Slovakia",
            "South Africa",
            "South Korea",
            "Spain",
            "Sri Lanka",
            "Sweden",
            "Switzerland",
            "Taiwan",
            "Thailand",
            "Trinidad and Tobago",
            "Turkey",
            "United Arab Emirates",
            "United Kingdom",
            "Venezuela",
            "Vietnam",
            "United States"
           ],
           "name": "",
           "type": "choropleth",
           "z": [
            3.278343439102173,
            1.2349965572357178,
            5.599285125732422,
            19.524147033691406,
            3.406534433364868,
            0.0945844948291778,
            27.39073371887207,
            2.761652946472168,
            25.893644332885746,
            16.94106674194336,
            3.22759747505188,
            15.767953872680664,
            0,
            0.671215832233429,
            0.0292841084301471,
            7.758965969085693,
            14.635689735412598,
            15.603095054626465,
            7.446317195892334,
            1.1219959259033203,
            5.09004545211792,
            0.1424880623817443,
            42.60580062866211,
            11.463116645812988,
            3.373836040496826,
            5.018947601318359,
            1.1780089139938354,
            2.440846920013428,
            0,
            8.623178482055664,
            6.914736270904541,
            0,
            0.3594193458557129,
            6.196172714233398,
            9.780027389526367,
            13.526378631591797,
            0,
            41.19132995605469,
            64.29580688476562,
            0,
            13.25389575958252,
            19.887008666992188,
            6.2965407371521,
            0.468399316072464,
            23.16050720214844,
            0,
            4.49291467666626,
            0,
            2.861374616622925,
            0.525794267654419,
            2.153486490249634,
            16.690349578857422,
            11.862130165100098,
            31.28821182250977,
            28.542724609375,
            7.442085266113281,
            5.650622844696045,
            0.1794983893632888,
            5.530313968658447,
            0,
            0.3925662636756897,
            7.378935813903809,
            1.5929765701293943,
            4.526047229766846
           ]
          }
         ],
         "name": "1972"
        },
        {
         "data": [
          {
           "coloraxis": "coloraxis",
           "geo": "geo",
           "hovertemplate": "Year=1973<br>Entity=%{location}<br>Renewables (% equivalent primary energy)=%{z}<extra></extra>",
           "locationmode": "country names",
           "locations": [
            "Algeria",
            "Argentina",
            "Australia",
            "Austria",
            "Bangladesh",
            "Belgium",
            "Brazil",
            "Bulgaria",
            "Canada",
            "Chile",
            "China",
            "Colombia",
            "Cyprus",
            "Czechia",
            "Denmark",
            "Ecuador",
            "Egypt",
            "Finland",
            "France",
            "Germany",
            "Greece",
            "Hungary",
            "Iceland",
            "India",
            "Indonesia",
            "Iran",
            "Iraq",
            "Ireland",
            "Israel",
            "Italy",
            "Japan",
            "Kuwait",
            "Luxembourg",
            "Malaysia",
            "Mexico",
            "Morocco",
            "Netherlands",
            "New Zealand",
            "Norway",
            "Oman",
            "Pakistan",
            "Peru",
            "Philippines",
            "Poland",
            "Portugal",
            "Qatar",
            "Romania",
            "Saudi Arabia",
            "Slovakia",
            "South Africa",
            "South Korea",
            "Spain",
            "Sri Lanka",
            "Sweden",
            "Switzerland",
            "Taiwan",
            "Thailand",
            "Trinidad and Tobago",
            "Turkey",
            "United Arab Emirates",
            "United Kingdom",
            "Venezuela",
            "Vietnam",
            "United States"
           ],
           "name": "",
           "type": "choropleth",
           "z": [
            4.175826072692871,
            2.2836952209472656,
            5.588664531707764,
            20.177391052246094,
            5.024386882781982,
            0.1535860300064087,
            26.10169982910156,
            3.260542154312134,
            25.55288314819336,
            17.183692932128906,
            3.4170150756835938,
            17.170427322387695,
            0,
            0.5706368088722229,
            0.0302673727273941,
            7.086233615875244,
            15.458051681518556,
            14.431478500366213,
            6.709061622619629,
            1.2137141227722168,
            3.673645496368408,
            0.1208183839917182,
            45.0670166015625,
            11.957463264465332,
            3.7743794918060303,
            3.557704448699951,
            1.737240195274353,
            2.1648736000061035,
            0,
            7.571964740753174,
            4.894681930541992,
            0,
            0.2993406057357788,
            5.646239280700684,
            9.648298263549805,
            9.094624519348145,
            0,
            39.1683349609375,
            65.58218383789062,
            0,
            13.087776184082031,
            18.57759666442871,
            5.803766250610352,
            0.4581685066223144,
            21.92057609558105,
            0,
            4.244083404541016,
            0,
            2.35184097290039,
            0.5772110223770142,
            1.6347564458847046,
            12.429852485656738,
            9.413183212280272,
            33.03090286254883,
            28.31479263305664,
            5.953055381774902,
            5.797545909881592,
            0.1499493718147277,
            4.050086498260498,
            0,
            0.4255182147026062,
            6.668882846832275,
            1.5021532773971558,
            4.354759693145752
           ]
          }
         ],
         "name": "1973"
        },
        {
         "data": [
          {
           "coloraxis": "coloraxis",
           "geo": "geo",
           "hovertemplate": "Year=1974<br>Entity=%{location}<br>Renewables (% equivalent primary energy)=%{z}<extra></extra>",
           "locationmode": "country names",
           "locations": [
            "Algeria",
            "Argentina",
            "Australia",
            "Austria",
            "Bangladesh",
            "Belgium",
            "Brazil",
            "Bulgaria",
            "Canada",
            "Chile",
            "China",
            "Colombia",
            "Cyprus",
            "Czechia",
            "Denmark",
            "Ecuador",
            "Egypt",
            "Finland",
            "France",
            "Germany",
            "Greece",
            "Hungary",
            "Iceland",
            "India",
            "Indonesia",
            "Iran",
            "Iraq",
            "Ireland",
            "Israel",
            "Italy",
            "Japan",
            "Kuwait",
            "Luxembourg",
            "Malaysia",
            "Mexico",
            "Morocco",
            "Netherlands",
            "New Zealand",
            "Norway",
            "Oman",
            "Pakistan",
            "Peru",
            "Philippines",
            "Poland",
            "Portugal",
            "Qatar",
            "Romania",
            "Saudi Arabia",
            "Slovakia",
            "South Africa",
            "South Korea",
            "Spain",
            "Sri Lanka",
            "Sweden",
            "Switzerland",
            "Taiwan",
            "Thailand",
            "Trinidad and Tobago",
            "Turkey",
            "United Arab Emirates",
            "United Kingdom",
            "Venezuela",
            "Vietnam",
            "United States"
           ],
           "name": "",
           "type": "choropleth",
           "z": [
            2.4947381019592285,
            3.6298017501831055,
            5.955109596252441,
            23.734527587890625,
            3.4634594917297363,
            0.1914431452751159,
            26.92813491821289,
            2.562397718429565,
            26.811582565307617,
            19.690105438232425,
            3.749354600906372,
            17.395509719848633,
            0,
            0.9500237107276917,
            0.033269178122282,
            6.978053569793701,
            16.143081665039062,
            18.064271926879883,
            8.016220092773438,
            1.4188613891601562,
            3.9671506881713863,
            0.0940158516168594,
            47.44718551635742,
            10.86085319519043,
            3.902294158935547,
            3.455620527267456,
            2.446626663208008,
            2.6304750442504883,
            0,
            7.702657699584961,
            6.030980110168457,
            0,
            0.4354034066200256,
            5.05663013458252,
            9.094654083251951,
            9.542439460754396,
            0,
            40.75779342651367,
            68.31411743164062,
            0,
            12.144384384155272,
            17.592985153198242,
            5.381934642791748,
            0.6209821105003357,
            22.277812957763672,
            0,
            4.733458995819092,
            0,
            3.757552146911621,
            0.6448366045951843,
            2.332909107208252,
            12.622825622558594,
            15.72243309020996,
            34.125144958496094,
            31.02661895751953,
            8.604859352111816,
            7.285396575927734,
            0.1342056393623352,
            5.047706604003906,
            0,
            0.4752092957496643,
            7.98165225982666,
            2.0197300910949707,
            4.902864933013916
           ]
          }
         ],
         "name": "1974"
        },
        {
         "data": [
          {
           "coloraxis": "coloraxis",
           "geo": "geo",
           "hovertemplate": "Year=1975<br>Entity=%{location}<br>Renewables (% equivalent primary energy)=%{z}<extra></extra>",
           "locationmode": "country names",
           "locations": [
            "Algeria",
            "Argentina",
            "Australia",
            "Austria",
            "Bangladesh",
            "Belgium",
            "Brazil",
            "Bulgaria",
            "Canada",
            "Chile",
            "China",
            "Colombia",
            "Cyprus",
            "Czechia",
            "Denmark",
            "Ecuador",
            "Egypt",
            "Finland",
            "France",
            "Germany",
            "Greece",
            "Hungary",
            "Iceland",
            "India",
            "Indonesia",
            "Iran",
            "Iraq",
            "Ireland",
            "Israel",
            "Italy",
            "Japan",
            "Kuwait",
            "Luxembourg",
            "Malaysia",
            "Mexico",
            "Morocco",
            "Netherlands",
            "New Zealand",
            "Norway",
            "Oman",
            "Pakistan",
            "Peru",
            "Philippines",
            "Poland",
            "Portugal",
            "Qatar",
            "Romania",
            "Saudi Arabia",
            "Slovakia",
            "South Africa",
            "South Korea",
            "Spain",
            "Sri Lanka",
            "Sweden",
            "Switzerland",
            "Taiwan",
            "Thailand",
            "Trinidad and Tobago",
            "Turkey",
            "United Arab Emirates",
            "United Kingdom",
            "Venezuela",
            "Vietnam",
            "United States"
           ],
           "name": "",
           "type": "choropleth",
           "z": [
            1.378281831741333,
            3.862202882766724,
            6.297008037567139,
            25.03424644470215,
            6.043976306915283,
            0.1556085348129272,
            27.9958610534668,
            2.733940839767456,
            26.15631484985352,
            21.93380546569824,
            3.503823757171631,
            19.2356071472168,
            0,
            0.910229504108429,
            0.0295361597090959,
            8.653943061828613,
            16.160579681396484,
            17.089670181274414,
            9.053054809570312,
            1.4353294372558594,
            3.0048630237579346,
            0.1787005215883255,
            48.56276321411133,
            12.067704200744627,
            3.342118501663208,
            3.1140482425689697,
            2.579850673675537,
            1.8612477779388428,
            0,
            8.419504165649414,
            6.373206615447998,
            0,
            0.4528567790985107,
            4.897926330566406,
            7.784452438354492,
            7.1343913078308105,
            0.3115214109420776,
            43.62090301513672,
            67.97406768798828,
            0,
            13.310853958129885,
            17.86097526550293,
            5.507622718811035,
            0.5374193787574768,
            18.622507095336918,
            0,
            4.793048858642578,
            0,
            3.2334024906158447,
            0.5984427332878113,
            1.8735325336456297,
            10.509173393249512,
            16.262670516967773,
            32.381832122802734,
            34.594242095947266,
            8.733821868896484,
            9.127364158630373,
            0.1532322913408279,
            7.770755290985107,
            0,
            0.4751985371112823,
            8.89340591430664,
            2.163102149963379,
            5.006975173950195
           ]
          }
         ],
         "name": "1975"
        },
        {
         "data": [
          {
           "coloraxis": "coloraxis",
           "geo": "geo",
           "hovertemplate": "Year=1976<br>Entity=%{location}<br>Renewables (% equivalent primary energy)=%{z}<extra></extra>",
           "locationmode": "country names",
           "locations": [
            "Algeria",
            "Argentina",
            "Australia",
            "Austria",
            "Bangladesh",
            "Belgium",
            "Brazil",
            "Bulgaria",
            "Canada",
            "Chile",
            "China",
            "Colombia",
            "Cyprus",
            "Czechia",
            "Denmark",
            "Ecuador",
            "Egypt",
            "Finland",
            "France",
            "Germany",
            "Greece",
            "Hungary",
            "Iceland",
            "India",
            "Indonesia",
            "Iran",
            "Iraq",
            "Ireland",
            "Israel",
            "Italy",
            "Japan",
            "Kuwait",
            "Luxembourg",
            "Malaysia",
            "Mexico",
            "Morocco",
            "Netherlands",
            "New Zealand",
            "Norway",
            "Oman",
            "Pakistan",
            "Peru",
            "Philippines",
            "Poland",
            "Portugal",
            "Qatar",
            "Romania",
            "Saudi Arabia",
            "Slovakia",
            "South Africa",
            "South Korea",
            "Spain",
            "Sri Lanka",
            "Sweden",
            "Switzerland",
            "Taiwan",
            "Thailand",
            "Trinidad and Tobago",
            "Turkey",
            "United Arab Emirates",
            "United Kingdom",
            "Venezuela",
            "Vietnam",
            "United States"
           ],
           "name": "",
           "type": "choropleth",
           "z": [
            1.4010223150253296,
            3.5544235706329346,
            5.793421268463135,
            20.905319213867188,
            5.868124008178711,
            0.0917551815509796,
            29.16008758544922,
            3.1084790229797363,
            26.332035064697266,
            21.624561309814453,
            3.372568368911743,
            19.40712547302246,
            0,
            0.7058946490287781,
            0.0242749769240617,
            7.572480201721191,
            15.923643112182615,
            12.514572143554688,
            6.899677753448486,
            1.1208523511886597,
            2.536214590072632,
            0.1693198978900909,
            50.019866943359375,
            12.036797523498535,
            1.8672399520874023,
            3.09524917602539,
            2.0427801609039307,
            2.0663716793060303,
            0,
            7.616763591766357,
            6.161350250244141,
            0,
            0.2848826944828033,
            4.137609004974365,
            8.308449745178223,
            6.46608829498291,
            0.3101771473884582,
            39.51554489135742,
            67.33344268798828,
            0,
            14.231517791748049,
            18.501680374145508,
            6.518621921539307,
            0.4238294959068298,
            14.216822624206545,
            0,
            3.8519480228424072,
            0,
            3.1432197093963623,
            0.9604041576385498,
            1.7800427675247192,
            7.937400817871094,
            17.04448890686035,
            29.012697219848636,
            29.048126220703125,
            5.838050842285156,
            9.248512268066406,
            0.1125821620225906,
            9.604342460632324,
            0,
            0.5503048896789551,
            9.633481979370115,
            4.162711143493652,
            4.552707672119141
           ]
          }
         ],
         "name": "1976"
        },
        {
         "data": [
          {
           "coloraxis": "coloraxis",
           "geo": "geo",
           "hovertemplate": "Year=1977<br>Entity=%{location}<br>Renewables (% equivalent primary energy)=%{z}<extra></extra>",
           "locationmode": "country names",
           "locations": [
            "Algeria",
            "Argentina",
            "Australia",
            "Austria",
            "Bangladesh",
            "Belgium",
            "Brazil",
            "Bulgaria",
            "Canada",
            "Chile",
            "China",
            "Colombia",
            "Cyprus",
            "Czechia",
            "Denmark",
            "Ecuador",
            "Egypt",
            "Finland",
            "France",
            "Germany",
            "Greece",
            "Hungary",
            "Iceland",
            "India",
            "Indonesia",
            "Iran",
            "Iraq",
            "Ireland",
            "Israel",
            "Italy",
            "Japan",
            "Kuwait",
            "Luxembourg",
            "Malaysia",
            "Mexico",
            "Morocco",
            "Netherlands",
            "New Zealand",
            "Norway",
            "Oman",
            "Pakistan",
            "Peru",
            "Philippines",
            "Poland",
            "Portugal",
            "Qatar",
            "Romania",
            "Saudi Arabia",
            "Slovakia",
            "South Africa",
            "South Korea",
            "Spain",
            "Sri Lanka",
            "Sweden",
            "Switzerland",
            "Taiwan",
            "Thailand",
            "Trinidad and Tobago",
            "Turkey",
            "United Arab Emirates",
            "United Kingdom",
            "Venezuela",
            "Vietnam",
            "United States"
           ],
           "name": "",
           "type": "choropleth",
           "z": [
            0.8817282319068909,
            3.9092395305633545,
            5.269774913787842,
            25.27130508422852,
            5.079775810241699,
            0.263500452041626,
            31.08434295654297,
            3.523903608322144,
            25.808473587036133,
            22.024627685546875,
            3.2287139892578125,
            19.36701011657715,
            0,
            0.929659068584442,
            0.0325508713722229,
            5.873260498046875,
            16.571006774902344,
            15.202662467956545,
            10.59511947631836,
            1.3967294692993164,
            2.5015759468078613,
            0.1454194635152816,
            50.60869598388672,
            12.415875434875488,
            2.347829818725586,
            2.825014591217041,
            2.406090497970581,
            2.432969093322754,
            0,
            9.689523696899414,
            5.355945110321045,
            0,
            0.6932639479637146,
            2.869304895401001,
            8.738277435302734,
            7.88484001159668,
            0.3140356540679931,
            36.93730926513672,
            64.26859283447266,
            0,
            15.62037467956543,
            19.07871437072754,
            4.5764336585998535,
            0.4948288798332214,
            25.45116233825684,
            0,
            4.187205314636231,
            0,
            3.566640615463257,
            0.971405029296875,
            1.2054132223129272,
            14.476511001586914,
            17.357145309448242,
            28.68962287902832,
            35.28424072265625,
            4.998221397399902,
            7.54719066619873,
            0.130991131067276,
            9.0404634475708,
            0,
            0.4708891212940216,
            9.9391450881958,
            4.191826820373535,
            3.549314022064209
           ]
          }
         ],
         "name": "1977"
        },
        {
         "data": [
          {
           "coloraxis": "coloraxis",
           "geo": "geo",
           "hovertemplate": "Year=1978<br>Entity=%{location}<br>Renewables (% equivalent primary energy)=%{z}<extra></extra>",
           "locationmode": "country names",
           "locations": [
            "Algeria",
            "Argentina",
            "Australia",
            "Austria",
            "Bangladesh",
            "Belgium",
            "Brazil",
            "Bulgaria",
            "Canada",
            "Chile",
            "China",
            "Colombia",
            "Cyprus",
            "Czechia",
            "Denmark",
            "Ecuador",
            "Egypt",
            "Finland",
            "France",
            "Germany",
            "Greece",
            "Hungary",
            "Iceland",
            "India",
            "Indonesia",
            "Iran",
            "Iraq",
            "Ireland",
            "Israel",
            "Italy",
            "Japan",
            "Kuwait",
            "Luxembourg",
            "Malaysia",
            "Mexico",
            "Morocco",
            "Netherlands",
            "New Zealand",
            "Norway",
            "Oman",
            "Pakistan",
            "Peru",
            "Philippines",
            "Poland",
            "Portugal",
            "Qatar",
            "Romania",
            "Saudi Arabia",
            "Slovakia",
            "South Africa",
            "South Korea",
            "Spain",
            "Sri Lanka",
            "Sweden",
            "Switzerland",
            "Taiwan",
            "Thailand",
            "Trinidad and Tobago",
            "Turkey",
            "United Arab Emirates",
            "United Kingdom",
            "Venezuela",
            "Vietnam",
            "United States"
           ],
           "name": "",
           "type": "choropleth",
           "z": [
            0.6521151065826416,
            5.227678298950195,
            5.50869607925415,
            24.24462509155273,
            5.536711692810059,
            0.2591516971588135,
            31.529354095458984,
            2.8053689002990723,
            27.05876922607422,
            21.67330741882324,
            2.7594637870788574,
            20.86288452148437,
            0,
            0.8529741168022156,
            0.0370170474052429,
            7.960052967071533,
            17.237102508544922,
            11.78243637084961,
            9.109526634216309,
            1.408961057662964,
            3.821863174438477,
            0.1259311735630035,
            50.14910888671875,
            14.818278312683104,
            1.49062979221344,
            4.526003360748291,
            3.056793212890625,
            2.1924867630004883,
            0,
            8.49870491027832,
            4.956838130950928,
            0,
            0.6544173955917358,
            2.5391790866851807,
            6.597963809967041,
            7.705757617950439,
            0.4299201965332031,
            39.574161529541016,
            64.17826080322266,
            0,
            18.11039352416992,
            19.59223937988281,
            5.834701061248779,
            0.4693491756916046,
            26.158958435058597,
            0,
            4.415801525115967,
            0,
            3.189220905303955,
            0.9622714519500732,
            1.396591067314148,
            14.644488334655762,
            18.62853240966797,
            26.57862091064453,
            32.51401138305664,
            5.222677707672119,
            4.572802543640137,
            0.1640346348285675,
            9.20789909362793,
            0,
            0.4820573925971985,
            9.782297134399414,
            5.387956142425537,
            4.32757043838501
           ]
          }
         ],
         "name": "1978"
        },
        {
         "data": [
          {
           "coloraxis": "coloraxis",
           "geo": "geo",
           "hovertemplate": "Year=1979<br>Entity=%{location}<br>Renewables (% equivalent primary energy)=%{z}<extra></extra>",
           "locationmode": "country names",
           "locations": [
            "Algeria",
            "Argentina",
            "Australia",
            "Austria",
            "Bangladesh",
            "Belgium",
            "Brazil",
            "Bulgaria",
            "Canada",
            "Chile",
            "China",
            "Colombia",
            "Cyprus",
            "Czechia",
            "Denmark",
            "Ecuador",
            "Egypt",
            "Finland",
            "France",
            "Germany",
            "Greece",
            "Hungary",
            "Iceland",
            "India",
            "Indonesia",
            "Iran",
            "Iraq",
            "Ireland",
            "Israel",
            "Italy",
            "Japan",
            "Kuwait",
            "Luxembourg",
            "Malaysia",
            "Mexico",
            "Morocco",
            "Netherlands",
            "New Zealand",
            "Norway",
            "Oman",
            "Pakistan",
            "Peru",
            "Philippines",
            "Poland",
            "Portugal",
            "Qatar",
            "Romania",
            "Saudi Arabia",
            "Slovakia",
            "South Africa",
            "South Korea",
            "Spain",
            "Sri Lanka",
            "Sweden",
            "Switzerland",
            "Taiwan",
            "Thailand",
            "Trinidad and Tobago",
            "Turkey",
            "United Arab Emirates",
            "United Kingdom",
            "Venezuela",
            "Vietnam",
            "United States"
           ],
           "name": "",
           "type": "choropleth",
           "z": [
            0.5792936086654663,
            6.702306270599365,
            5.16584062576294,
            25.784454345703125,
            5.825671672821045,
            0.2870648205280304,
            33.387489318847656,
            3.076347827911377,
            27.29702377319336,
            21.54591941833496,
            3.008899211883545,
            21.54510498046875,
            0,
            1.0576006174087524,
            0.0432814955711364,
            6.85176420211792,
            15.267534255981444,
            12.091408729553224,
            8.611678123474121,
            1.3454017639160156,
            5.193461418151856,
            0.134546160697937,
            52.47784423828125,
            13.540278434753418,
            1.4562846422195437,
            3.634271144866944,
            3.5280182361602783,
            2.35259747505188,
            0,
            8.319644927978516,
            5.505947589874268,
            0,
            0.6921459436416626,
            2.6952223777771,
            6.747371673583984,
            7.719042301177978,
            0.3800928890705108,
            44.90281295776367,
            65.8646469116211,
            0,
            17.961801528930664,
            20.157331466674805,
            6.946878910064697,
            0.4277540743350982,
            25.62454414367676,
            0,
            4.625902652740479,
            0,
            2.5852420330047607,
            0.5590492486953735,
            1.539095163345337,
            15.632555961608888,
            18.950075149536133,
            26.67998313903809,
            30.90443992614746,
            4.524598121643066,
            6.653911590576172,
            0.1856541782617569,
            10.75222110748291,
            0,
            0.4867534637451172,
            10.32923698425293,
            6.249330043792725,
            4.29140567779541
           ]
          }
         ],
         "name": "1979"
        },
        {
         "data": [
          {
           "coloraxis": "coloraxis",
           "geo": "geo",
           "hovertemplate": "Year=1980<br>Entity=%{location}<br>Renewables (% equivalent primary energy)=%{z}<extra></extra>",
           "locationmode": "country names",
           "locations": [
            "Algeria",
            "Argentina",
            "Australia",
            "Austria",
            "Bangladesh",
            "Belgium",
            "Brazil",
            "Bulgaria",
            "Canada",
            "Chile",
            "China",
            "Colombia",
            "Cyprus",
            "Czechia",
            "Denmark",
            "Ecuador",
            "Egypt",
            "Finland",
            "France",
            "Germany",
            "Greece",
            "Hungary",
            "Iceland",
            "India",
            "Indonesia",
            "Iran",
            "Iraq",
            "Ireland",
            "Israel",
            "Italy",
            "Japan",
            "Kuwait",
            "Luxembourg",
            "Malaysia",
            "Mexico",
            "Morocco",
            "Netherlands",
            "New Zealand",
            "Norway",
            "Oman",
            "Pakistan",
            "Peru",
            "Philippines",
            "Poland",
            "Portugal",
            "Qatar",
            "Romania",
            "Saudi Arabia",
            "Slovakia",
            "South Africa",
            "South Korea",
            "Spain",
            "Sri Lanka",
            "Sweden",
            "Switzerland",
            "Taiwan",
            "Thailand",
            "Trinidad and Tobago",
            "Turkey",
            "United Arab Emirates",
            "United Kingdom",
            "Venezuela",
            "Vietnam",
            "United States"
           ],
           "name": "",
           "type": "choropleth",
           "z": [
            0.4290015995502472,
            9.55285930633545,
            4.862271785736084,
            26.82601547241211,
            4.960880279541016,
            0.3143763244152069,
            36.18800735473633,
            3.2677273750305176,
            27.53968620300293,
            22.060731887817383,
            3.566197633743286,
            23.044971466064453,
            0,
            1.142623782157898,
            0.0566110722720623,
            6.642500877380371,
            13.694029808044434,
            11.41530704498291,
            9.114398002624512,
            1.478190541267395,
            5.00654411315918,
            0.1029033064842224,
            55.95431518554688,
            13.453117370605469,
            1.2272299528121948,
            4.064725875854492,
            2.01292085647583,
            2.465599775314331,
            0,
            8.439496994018555,
            6.194887161254883,
            0,
            0.7774392366409302,
            3.290118932723999,
            5.803557872772217,
            7.371124744415283,
            0.3747804760932922,
            46.87519836425781,
            65.2524642944336,
            0,
            16.98236656188965,
            19.488487243652344,
            11.085450172424316,
            0.5173494815826416,
            19.19294548034668,
            0,
            5.105916500091553,
            0,
            3.046743154525757,
            0.4541718363761902,
            1.250689148902893,
            9.981171607971191,
            19.01776695251465,
            27.514144897460938,
            32.37267303466797,
            2.749598979949951,
            2.5895779132843018,
            0.1730902642011642,
            11.387236595153809,
            0,
            0.4910255670547485,
            9.45448112487793,
            8.125602722167969,
            4.419220924377441
           ]
          }
         ],
         "name": "1980"
        },
        {
         "data": [
          {
           "coloraxis": "coloraxis",
           "geo": "geo",
           "hovertemplate": "Year=1981<br>Entity=%{location}<br>Renewables (% equivalent primary energy)=%{z}<extra></extra>",
           "locationmode": "country names",
           "locations": [
            "Algeria",
            "Argentina",
            "Australia",
            "Austria",
            "Bangladesh",
            "Belgium",
            "Brazil",
            "Bulgaria",
            "Canada",
            "Chile",
            "China",
            "Colombia",
            "Cyprus",
            "Czechia",
            "Denmark",
            "Ecuador",
            "Egypt",
            "Finland",
            "France",
            "Germany",
            "Greece",
            "Hungary",
            "Iceland",
            "India",
            "Indonesia",
            "Iran",
            "Iraq",
            "Ireland",
            "Israel",
            "Italy",
            "Japan",
            "Kuwait",
            "Luxembourg",
            "Malaysia",
            "Mexico",
            "Morocco",
            "Netherlands",
            "New Zealand",
            "Norway",
            "Oman",
            "Pakistan",
            "Peru",
            "Philippines",
            "Poland",
            "Portugal",
            "Qatar",
            "Romania",
            "Saudi Arabia",
            "Slovakia",
            "South Africa",
            "South Korea",
            "Spain",
            "Sri Lanka",
            "Sweden",
            "Switzerland",
            "Taiwan",
            "Thailand",
            "Trinidad and Tobago",
            "Turkey",
            "United Arab Emirates",
            "United Kingdom",
            "Venezuela",
            "Vietnam",
            "United States"
           ],
           "name": "",
           "type": "choropleth",
           "z": [
            0.50294029712677,
            9.54153060913086,
            4.930354595184326,
            29.28065299987793,
            5.0166497230529785,
            0.3818604946136474,
            37.504878997802734,
            3.2318060398101807,
            29.403928756713867,
            22.26287078857422,
            4.066496849060059,
            22.21888542175293,
            0,
            0.9889816045761108,
            0.0650050640106201,
            5.350114345550537,
            12.526339530944824,
            15.10919189453125,
            9.551752090454102,
            1.5739785432815552,
            5.126492023468018,
            0.1559333801269531,
            56.77239990234375,
            12.948171615600586,
            1.140681505203247,
            4.421916484832764,
            1.9036805629730225,
            2.597018241882324,
            0.0062838718295097,
            8.140424728393555,
            6.236940383911133,
            0,
            0.9906176328659058,
            3.5273146629333496,
            7.537362575531006,
            5.136460304260254,
            0.4187572598457336,
            47.39573669433594,
            68.5978775024414,
            0,
            16.49428367614746,
            21.09334945678711,
            15.252098083496094,
            0.5322903394699097,
            12.520672798156738,
            0,
            5.134109973907471,
            0,
            2.674782514572144,
            0.650050938129425,
            1.6159815788269043,
            7.407119750976562,
            19.23289680480957,
            28.23970031738281,
            34.29216384887695,
            4.807727336883545,
            6.015193939208984,
            0.1197926700115203,
            12.50270175933838,
            0,
            0.5643997192382812,
            9.426735877990724,
            8.210463523864746,
            4.336748600006104
           ]
          }
         ],
         "name": "1981"
        },
        {
         "data": [
          {
           "coloraxis": "coloraxis",
           "geo": "geo",
           "hovertemplate": "Year=1982<br>Entity=%{location}<br>Renewables (% equivalent primary energy)=%{z}<extra></extra>",
           "locationmode": "country names",
           "locations": [
            "Algeria",
            "Argentina",
            "Australia",
            "Austria",
            "Bangladesh",
            "Belgium",
            "Brazil",
            "Bulgaria",
            "Canada",
            "Chile",
            "China",
            "Colombia",
            "Cyprus",
            "Czechia",
            "Denmark",
            "Ecuador",
            "Egypt",
            "Finland",
            "France",
            "Germany",
            "Greece",
            "Hungary",
            "Iceland",
            "India",
            "Indonesia",
            "Iran",
            "Iraq",
            "Ireland",
            "Israel",
            "Italy",
            "Japan",
            "Kuwait",
            "Luxembourg",
            "Malaysia",
            "Mexico",
            "Morocco",
            "Netherlands",
            "New Zealand",
            "Norway",
            "Oman",
            "Pakistan",
            "Peru",
            "Philippines",
            "Poland",
            "Portugal",
            "Qatar",
            "Romania",
            "Saudi Arabia",
            "Slovakia",
            "South Africa",
            "South Korea",
            "Spain",
            "Sri Lanka",
            "Sweden",
            "Switzerland",
            "Taiwan",
            "Thailand",
            "Trinidad and Tobago",
            "Turkey",
            "United Arab Emirates",
            "United Kingdom",
            "Venezuela",
            "Vietnam",
            "United States"
           ],
           "name": "",
           "type": "choropleth",
           "z": [
            0.570870041847229,
            11.22947883605957,
            4.636782646179199,
            30.31977081298828,
            3.805250644683838,
            0.2197636067867279,
            39.09782028198242,
            2.6594314575195312,
            29.416236877441406,
            26.58951568603516,
            4.421272277832031,
            22.697723388671875,
            0,
            0.8108595609664917,
            0.0721524506807327,
            5.59368371963501,
            11.533038139343262,
            14.666409492492676,
            9.705157279968262,
            1.6178512573242188,
            5.286510467529297,
            0.1469283103942871,
            61.47043228149414,
            11.035112380981444,
            1.220451593399048,
            4.111237049102783,
            1.808008313179016,
            2.439051628112793,
            0.0058150542899966,
            8.032729148864746,
            6.735273361206055,
            0,
            0.9594649076461792,
            3.170203447341919,
            6.843096733093262,
            2.784217596054077,
            0.1106641292572021,
            43.06932830810547,
            69.16161346435547,
            0,
            16.82915496826172,
            22.348915100097656,
            15.784579277038574,
            0.3948366641998291,
            15.776885986328123,
            0,
            4.819664478302002,
            0,
            2.373645544052124,
            0.3714905083179474,
            1.0666205883026123,
            8.885108947753906,
            18.261444091796875,
            27.447362899780277,
            35.78217697143555,
            4.304234981536865,
            7.570967674255371,
            0.0966300517320633,
            12.745107650756836,
            0,
            0.5869545340538025,
            9.688068389892578,
            7.957214832305908,
            5.256711483001709
           ]
          }
         ],
         "name": "1982"
        },
        {
         "data": [
          {
           "coloraxis": "coloraxis",
           "geo": "geo",
           "hovertemplate": "Year=1983<br>Entity=%{location}<br>Renewables (% equivalent primary energy)=%{z}<extra></extra>",
           "locationmode": "country names",
           "locations": [
            "Algeria",
            "Argentina",
            "Australia",
            "Austria",
            "Bangladesh",
            "Belgium",
            "Brazil",
            "Bulgaria",
            "Canada",
            "Chile",
            "China",
            "Colombia",
            "Cyprus",
            "Czechia",
            "Denmark",
            "Ecuador",
            "Egypt",
            "Finland",
            "France",
            "Germany",
            "Greece",
            "Hungary",
            "Iceland",
            "India",
            "Indonesia",
            "Iran",
            "Iraq",
            "Ireland",
            "Israel",
            "Italy",
            "Japan",
            "Kuwait",
            "Luxembourg",
            "Malaysia",
            "Mexico",
            "Morocco",
            "Netherlands",
            "New Zealand",
            "Norway",
            "Oman",
            "Pakistan",
            "Peru",
            "Philippines",
            "Poland",
            "Portugal",
            "Qatar",
            "Romania",
            "Saudi Arabia",
            "Slovakia",
            "South Africa",
            "South Korea",
            "Spain",
            "Sri Lanka",
            "Sweden",
            "Switzerland",
            "Taiwan",
            "Thailand",
            "Trinidad and Tobago",
            "Turkey",
            "United Arab Emirates",
            "United Kingdom",
            "Venezuela",
            "Vietnam",
            "United States"
           ],
           "name": "",
           "type": "choropleth",
           "z": [
            0.2564494609832763,
            11.303474426269531,
            4.534481525421143,
            30.117788314819336,
            4.870658874511719,
            0.2131948769092559,
            41.86777114868164,
            2.9039196968078613,
            30.49922561645508,
            28.068626403808597,
            4.823490619659424,
            21.79018783569336,
            0,
            0.8022947311401367,
            0.1496665030717849,
            10.982114791870115,
            9.98041534423828,
            15.364748001098633,
            9.325616836547852,
            1.4992613792419434,
            3.454516887664795,
            0.1457432061433792,
            62.74847412109375,
            10.110920906066896,
            1.7323704957962036,
            3.38846492767334,
            1.5740337371826172,
            2.4031906127929688,
            0.0028920301701873,
            8.177462577819824,
            6.926650524139404,
            0,
            1.0039244890213013,
            3.213416337966919,
            6.308685779571533,
            2.280400514602661,
            0.096007153391838,
            44.42584228515625,
            71.88227844238281,
            0,
            18.234487533569336,
            24.38044166564941,
            16.986289978027344,
            0.4428483545780182,
            17.658931732177734,
            0,
            4.10995626449585,
            0,
            2.5121586322784424,
            0.2147051990032196,
            1.312051773071289,
            8.936359405517578,
            14.01951503753662,
            32.015357971191406,
            33.554874420166016,
            4.056090354919434,
            6.589135646820068,
            0.0880345478653907,
            9.873126983642578,
            0,
            0.5845907330513,
            11.105162620544434,
            5.967464447021484,
            5.684815406799316
           ]
          }
         ],
         "name": "1983"
        },
        {
         "data": [
          {
           "coloraxis": "coloraxis",
           "geo": "geo",
           "hovertemplate": "Year=1984<br>Entity=%{location}<br>Renewables (% equivalent primary energy)=%{z}<extra></extra>",
           "locationmode": "country names",
           "locations": [
            "Algeria",
            "Argentina",
            "Australia",
            "Austria",
            "Bangladesh",
            "Belgium",
            "Brazil",
            "Bulgaria",
            "Canada",
            "Chile",
            "China",
            "Colombia",
            "Cyprus",
            "Czechia",
            "Denmark",
            "Ecuador",
            "Egypt",
            "Finland",
            "France",
            "Germany",
            "Greece",
            "Hungary",
            "Iceland",
            "India",
            "Indonesia",
            "Iran",
            "Iraq",
            "Ireland",
            "Israel",
            "Italy",
            "Japan",
            "Kuwait",
            "Luxembourg",
            "Malaysia",
            "Mexico",
            "Morocco",
            "Netherlands",
            "New Zealand",
            "Norway",
            "Oman",
            "Pakistan",
            "Peru",
            "Philippines",
            "Poland",
            "Portugal",
            "Qatar",
            "Romania",
            "Saudi Arabia",
            "Slovakia",
            "South Africa",
            "South Korea",
            "Spain",
            "Sri Lanka",
            "Sweden",
            "Switzerland",
            "Taiwan",
            "Thailand",
            "Trinidad and Tobago",
            "Turkey",
            "United Arab Emirates",
            "United Kingdom",
            "Venezuela",
            "Vietnam",
            "United States"
           ],
           "name": "",
           "type": "choropleth",
           "z": [
            0.5136735439300537,
            12.132671356201172,
            4.718454360961914,
            26.68983268737793,
            6.105583190917969,
            0.2137230485677719,
            43.21894836425781,
            2.8398351669311523,
            30.85584259033203,
            27.798900604248047,
            4.5154547691345215,
            23.639833450317383,
            0,
            0.6089416146278381,
            0.1514883190393448,
            18.537538528442383,
            8.979602813720703,
            14.383723258972168,
            8.554503440856934,
            1.43718421459198,
            4.046571254730225,
            0.1656923741102218,
            62.047271728515625,
            10.576085090637209,
            1.7180938720703125,
            2.9317567348480225,
            1.4442424774169922,
            2.139005184173584,
            0.0055845901370048,
            8.236616134643555,
            5.621933937072754,
            0,
            1.0007658004760742,
            5.883321285247803,
            6.831296443939209,
            1.712327241897583,
            0.006805820390582,
            43.67002487182617,
            71.1363296508789,
            0,
            17.85936164855957,
            24.780765533447266,
            22.255998611450195,
            0.3671587705612182,
            20.36532974243164,
            0,
            4.670980453491211,
            0,
            1.9794106483459477,
            0.1849105507135391,
            1.0462830066680908,
            10.203864097595217,
            22.73234367370605,
            32.46769332885742,
            29.559743881225582,
            3.418205976486206,
            6.626251220703125,
            0.0725667774677276,
            11.116494178771973,
            0,
            0.5849745869636536,
            12.205676078796388,
            7.733730316162109,
            5.334360599517822
           ]
          }
         ],
         "name": "1984"
        },
        {
         "data": [
          {
           "coloraxis": "coloraxis",
           "geo": "geo",
           "hovertemplate": "Year=1985<br>Entity=%{location}<br>Renewables (% equivalent primary energy)=%{z}<extra></extra>",
           "locationmode": "country names",
           "locations": [
            "Algeria",
            "Argentina",
            "Australia",
            "Austria",
            "Azerbaijan",
            "Bangladesh",
            "Belarus",
            "Belgium",
            "Brazil",
            "Bulgaria",
            "Canada",
            "Chile",
            "China",
            "Colombia",
            "Cyprus",
            "Czechia",
            "Denmark",
            "Ecuador",
            "Egypt",
            "Estonia",
            "Finland",
            "France",
            "Germany",
            "Greece",
            "Hungary",
            "Iceland",
            "India",
            "Indonesia",
            "Iran",
            "Iraq",
            "Ireland",
            "Israel",
            "Italy",
            "Japan",
            "Kazakhstan",
            "Kuwait",
            "Latvia",
            "Lithuania",
            "Luxembourg",
            "Malaysia",
            "Mexico",
            "Morocco",
            "Netherlands",
            "New Zealand",
            "Norway",
            "Oman",
            "Pakistan",
            "Peru",
            "Philippines",
            "Poland",
            "Portugal",
            "Qatar",
            "Romania",
            "Russia",
            "Saudi Arabia",
            "Slovakia",
            "South Africa",
            "South Korea",
            "Spain",
            "Sri Lanka",
            "Sweden",
            "Switzerland",
            "Taiwan",
            "Thailand",
            "Trinidad and Tobago",
            "Turkey",
            "Turkmenistan",
            "Ukraine",
            "United Arab Emirates",
            "United Kingdom",
            "Uzbekistan",
            "Venezuela",
            "Vietnam",
            "United States"
           ],
           "name": "",
           "type": "choropleth",
           "z": [
            0.7282653450965881,
            12.75955581665039,
            4.863154888153076,
            29.76928329467773,
            1.6519356966018677,
            4.526681423187256,
            0.0144934775307774,
            0.1869768798351287,
            43.929534912109375,
            1.9635511636734009,
            31.61163330078125,
            30.296178817749023,
            4.441830158233643,
            24.44196128845215,
            0,
            0.7824311256408691,
            0.1628583520650863,
            15.903298377990724,
            8.225811958312988,
            0,
            12.764183044433594,
            7.887791156768799,
            1.3216147422790527,
            3.7546212673187256,
            0.1374802589416504,
            61.47184371948242,
            9.670783996582031,
            1.9808586835861208,
            2.7088303565979004,
            1.2590632438659668,
            2.487560510635376,
            0.0060216025449335,
            7.986701488494873,
            6.361672401428223,
            1.9355251789093015,
            0,
            8.286785125732422,
            0.6436672806739807,
            0.8154661655426025,
            6.482968330383301,
            7.820509910583496,
            2.200667381286621,
            0.1721609681844711,
            41.67255783081055,
            69.52919006347656,
            0,
            17.652673721313477,
            26.952510833740234,
            24.901979446411133,
            0.4598645865917206,
            22.151050567626957,
            0,
            5.25835657119751,
            4.942973136901856,
            0,
            2.6119329929351807,
            0.2017548531293869,
            1.5088706016540527,
            10.242602348327637,
            27.56766700744629,
            31.184616088867188,
            29.632400512695312,
            4.468096733093262,
            5.735532283782959,
            0.0918197259306907,
            9.229307174682615,
            0.0061920741572976,
            1.139194369316101,
            0,
            0.4892039000988006,
            3.4388773441314697,
            13.29366683959961,
            7.084222316741943,
            4.76577615737915
           ]
          }
         ],
         "name": "1985"
        },
        {
         "data": [
          {
           "coloraxis": "coloraxis",
           "geo": "geo",
           "hovertemplate": "Year=1986<br>Entity=%{location}<br>Renewables (% equivalent primary energy)=%{z}<extra></extra>",
           "locationmode": "country names",
           "locations": [
            "Algeria",
            "Argentina",
            "Australia",
            "Austria",
            "Azerbaijan",
            "Bangladesh",
            "Belarus",
            "Belgium",
            "Brazil",
            "Bulgaria",
            "Canada",
            "Chile",
            "China",
            "Colombia",
            "Cyprus",
            "Czechia",
            "Denmark",
            "Ecuador",
            "Egypt",
            "Estonia",
            "Finland",
            "France",
            "Germany",
            "Greece",
            "Hungary",
            "Iceland",
            "India",
            "Indonesia",
            "Iran",
            "Iraq",
            "Ireland",
            "Israel",
            "Italy",
            "Japan",
            "Kazakhstan",
            "Kuwait",
            "Latvia",
            "Lithuania",
            "Luxembourg",
            "Malaysia",
            "Mexico",
            "Morocco",
            "Netherlands",
            "New Zealand",
            "Norway",
            "Oman",
            "Pakistan",
            "Peru",
            "Philippines",
            "Poland",
            "Portugal",
            "Qatar",
            "Romania",
            "Russia",
            "Saudi Arabia",
            "Slovakia",
            "South Africa",
            "South Korea",
            "Spain",
            "Sri Lanka",
            "Sweden",
            "Switzerland",
            "Taiwan",
            "Thailand",
            "Trinidad and Tobago",
            "Turkey",
            "Turkmenistan",
            "Ukraine",
            "United Arab Emirates",
            "United Kingdom",
            "Uzbekistan",
            "Venezuela",
            "Vietnam",
            "United States"
           ],
           "name": "",
           "type": "choropleth",
           "z": [
            0.2664044797420501,
            12.2985258102417,
            4.798559665679932,
            30.17765617370605,
            0.9406937956809998,
            2.532797574996948,
            0.012695332057774,
            0.2481858879327774,
            43.21952438354492,
            2.001533031463623,
            32.045928955078125,
            31.16471099853516,
            4.338527679443359,
            27.27632522583008,
            0,
            0.8687312006950378,
            0.2779197692871094,
            18.563940048217773,
            7.888433456420898,
            0,
            12.67592430114746,
            7.764792442321777,
            1.410529851913452,
            4.321011543273926,
            0.1372341364622116,
            62.14561462402344,
            9.16761875152588,
            2.986825704574585,
            3.4556095600128174,
            1.07521390914917,
            2.52718448638916,
            0.0171735845506191,
            7.828548431396484,
            6.296619892120361,
            1.7365297079086304,
            0,
            8.983882904052734,
            0.6819007396697998,
            0.978445827960968,
            6.458531856536865,
            6.596591949462891,
            2.815340280532837,
            0.2057678997516632,
            43.00836563110352,
            66.977294921875,
            0,
            15.925439834594728,
            26.9285831451416,
            24.75696563720703,
            0.3816991448402405,
            17.003498077392578,
            0,
            4.37827730178833,
            4.996936798095703,
            0,
            2.0846352577209477,
            0.5151001214981079,
            1.3128159046173096,
            8.501705169677734,
            28.917848587036133,
            26.016822814941406,
            29.05949592590332,
            4.194707870483398,
            8.074996948242188,
            0.1350616514682769,
            8.374287605285645,
            0.0049751503393054,
            1.128100037574768,
            0,
            0.5739720463752747,
            2.9812471866607666,
            13.745108604431152,
            6.225276947021484,
            4.898404121398926
           ]
          }
         ],
         "name": "1986"
        },
        {
         "data": [
          {
           "coloraxis": "coloraxis",
           "geo": "geo",
           "hovertemplate": "Year=1987<br>Entity=%{location}<br>Renewables (% equivalent primary energy)=%{z}<extra></extra>",
           "locationmode": "country names",
           "locations": [
            "Algeria",
            "Argentina",
            "Australia",
            "Austria",
            "Azerbaijan",
            "Bangladesh",
            "Belarus",
            "Belgium",
            "Brazil",
            "Bulgaria",
            "Canada",
            "Chile",
            "China",
            "Colombia",
            "Cyprus",
            "Czechia",
            "Denmark",
            "Ecuador",
            "Egypt",
            "Estonia",
            "Finland",
            "France",
            "Germany",
            "Greece",
            "Hungary",
            "Iceland",
            "India",
            "Indonesia",
            "Iran",
            "Iraq",
            "Ireland",
            "Israel",
            "Italy",
            "Japan",
            "Kazakhstan",
            "Kuwait",
            "Latvia",
            "Lithuania",
            "Luxembourg",
            "Malaysia",
            "Mexico",
            "Morocco",
            "Netherlands",
            "New Zealand",
            "Norway",
            "Oman",
            "Pakistan",
            "Peru",
            "Philippines",
            "Poland",
            "Portugal",
            "Qatar",
            "Romania",
            "Russia",
            "Saudi Arabia",
            "Slovakia",
            "South Africa",
            "South Korea",
            "Spain",
            "Sri Lanka",
            "Sweden",
            "Switzerland",
            "Taiwan",
            "Thailand",
            "Trinidad and Tobago",
            "Turkey",
            "Turkmenistan",
            "Ukraine",
            "United Arab Emirates",
            "United Kingdom",
            "Uzbekistan",
            "Venezuela",
            "Vietnam",
            "United States"
           ],
           "name": "",
           "type": "choropleth",
           "z": [
            0.5174273252487183,
            12.247486114501951,
            4.532893180847168,
            32.193809509277344,
            0.970684289932251,
            2.63650131225586,
            0.0125131821259856,
            0.3006138801574707,
            42.7772102355957,
            2.1663286685943604,
            31.6495418548584,
            32.09479904174805,
            4.255547523498535,
            27.310853958129883,
            0,
            1.1157935857772827,
            0.370658814907074,
            20.51675033569336,
            7.43703556060791,
            0,
            13.40602207183838,
            8.58464527130127,
            1.5094993114471436,
            3.3969619274139404,
            0.144158586859703,
            61.632625579833984,
            8.030695915222168,
            2.911230564117432,
            3.5734786987304688,
            3.949446678161621,
            1.8662728071212769,
            0.0266785155981779,
            7.361894130706787,
            5.851933002471924,
            2.0357260704040527,
            0,
            12.136781692504885,
            0.6134985089302063,
            1.2274539470672607,
            7.548476219177246,
            6.118594646453857,
            3.506812572479248,
            0.2552417516708374,
            42.311649322509766,
            68.43144226074219,
            0,
            18.66611099243164,
            27.01639747619629,
            19.908721923828125,
            0.3551029562950134,
            17.78904151916504,
            0,
            4.377776622772217,
            4.7855329513549805,
            0,
            2.351402997970581,
            0.5051980018615723,
            1.5100772380828855,
            8.477232933044434,
            23.1450309753418,
            31.16565322875977,
            30.83039283752441,
            3.48176908493042,
            5.194031715393066,
            0.1705773323774337,
            11.513276100158691,
            0.0050011007115244,
            0.9946019649505616,
            0,
            0.5047144889831543,
            4.197022914886475,
            16.863821029663086,
            5.4386162757873535,
            4.2147536277771
           ]
          }
         ],
         "name": "1987"
        },
        {
         "data": [
          {
           "coloraxis": "coloraxis",
           "geo": "geo",
           "hovertemplate": "Year=1988<br>Entity=%{location}<br>Renewables (% equivalent primary energy)=%{z}<extra></extra>",
           "locationmode": "country names",
           "locations": [
            "Algeria",
            "Argentina",
            "Australia",
            "Austria",
            "Azerbaijan",
            "Bangladesh",
            "Belarus",
            "Belgium",
            "Brazil",
            "Bulgaria",
            "Canada",
            "Chile",
            "China",
            "Colombia",
            "Cyprus",
            "Czechia",
            "Denmark",
            "Ecuador",
            "Egypt",
            "Estonia",
            "Finland",
            "France",
            "Germany",
            "Greece",
            "Hungary",
            "Iceland",
            "India",
            "Indonesia",
            "Iran",
            "Iraq",
            "Ireland",
            "Israel",
            "Italy",
            "Japan",
            "Kazakhstan",
            "Kuwait",
            "Latvia",
            "Lithuania",
            "Luxembourg",
            "Malaysia",
            "Mexico",
            "Morocco",
            "Netherlands",
            "New Zealand",
            "Norway",
            "Oman",
            "Pakistan",
            "Peru",
            "Philippines",
            "Poland",
            "Portugal",
            "Qatar",
            "Romania",
            "Russia",
            "Saudi Arabia",
            "Slovakia",
            "South Africa",
            "South Korea",
            "Spain",
            "Sri Lanka",
            "Sweden",
            "Switzerland",
            "Taiwan",
            "Thailand",
            "Trinidad and Tobago",
            "Turkey",
            "Turkmenistan",
            "Ukraine",
            "United Arab Emirates",
            "United Kingdom",
            "Uzbekistan",
            "Venezuela",
            "Vietnam",
            "United States"
           ],
           "name": "",
           "type": "choropleth",
           "z": [
            0.1771743595600128,
            8.417366981506348,
            4.641680240631104,
            32.7332649230957,
            0.8420581221580505,
            3.090863943099976,
            0.0123360687866806,
            0.2812286019325256,
            44.01119613647461,
            2.166203737258911,
            29.611337661743164,
            28.361740112304688,
            4.32307243347168,
            28.748077392578125,
            0,
            0.9459826946258544,
            0.5722485780715942,
            18.75929450988769,
            7.214404582977295,
            0,
            13.07046604156494,
            9.174312591552734,
            1.500933289527893,
            2.738327741622925,
            0.1475629210472107,
            62.10895156860352,
            8.229918479919434,
            3.0289969444274902,
            3.696800470352173,
            3.410572290420532,
            2.3837883472442627,
            0.0248918738216161,
            7.3950276374816895,
            6.523026466369629,
            2.3956873416900635,
            0,
            10.432146072387695,
            0.6201880574226379,
            1.1297141313552856,
            8.279656410217285,
            6.784612655639648,
            3.7663094997406006,
            0.3074186444282532,
            42.15485000610352,
            69.97985076904297,
            0,
            18.41936492919922,
            26.545846939086918,
            20.45767974853516,
            0.3668825328350067,
            21.131492614746094,
            0,
            5.665992736816406,
            4.656944274902344,
            0,
            2.125359058380127,
            0.8970548510551453,
            0.6779970526695251,
            10.430665016174316,
            27.90509986877441,
            31.07804298400879,
            31.572078704833984,
            2.674820899963379,
            4.262178421020508,
            0.1351906061172485,
            16.268531799316406,
            0.0049674627371132,
            1.2357125282287598,
            0,
            0.5811958312988281,
            4.414184093475342,
            17.953767776489258,
            7.0410003662109375,
            3.664999723434448
           ]
          }
         ],
         "name": "1988"
        },
        {
         "data": [
          {
           "coloraxis": "coloraxis",
           "geo": "geo",
           "hovertemplate": "Year=1989<br>Entity=%{location}<br>Renewables (% equivalent primary energy)=%{z}<extra></extra>",
           "locationmode": "country names",
           "locations": [
            "Algeria",
            "Argentina",
            "Australia",
            "Austria",
            "Azerbaijan",
            "Bangladesh",
            "Belarus",
            "Belgium",
            "Brazil",
            "Bulgaria",
            "Canada",
            "Chile",
            "China",
            "Colombia",
            "Cyprus",
            "Czechia",
            "Denmark",
            "Ecuador",
            "Egypt",
            "Estonia",
            "Finland",
            "France",
            "Germany",
            "Greece",
            "Hungary",
            "Iceland",
            "India",
            "Indonesia",
            "Iran",
            "Iraq",
            "Ireland",
            "Israel",
            "Italy",
            "Japan",
            "Kazakhstan",
            "Kuwait",
            "Latvia",
            "Lithuania",
            "Luxembourg",
            "Malaysia",
            "Mexico",
            "Morocco",
            "Netherlands",
            "New Zealand",
            "Norway",
            "Oman",
            "Pakistan",
            "Peru",
            "Philippines",
            "Poland",
            "Portugal",
            "Qatar",
            "Romania",
            "Russia",
            "Saudi Arabia",
            "Slovakia",
            "South Africa",
            "South Korea",
            "Spain",
            "Sri Lanka",
            "Sweden",
            "Switzerland",
            "Taiwan",
            "Thailand",
            "Trinidad and Tobago",
            "Turkey",
            "Turkmenistan",
            "Ukraine",
            "United Arab Emirates",
            "United Kingdom",
            "Uzbekistan",
            "Venezuela",
            "Vietnam",
            "United States"
           ],
           "name": "",
           "type": "choropleth",
           "z": [
            0.2249582260847091,
            7.543593406677246,
            4.419953346252441,
            32.40857696533203,
            0.8257337808609009,
            3.9078640937805176,
            0.0127549590542912,
            0.2577132880687713,
            44.574317932128906,
            2.265166044235229,
            27.81739616394043,
            21.771547317504883,
            4.468027114868164,
            29.79399871826172,
            0,
            0.7638888359069824,
            0.8869142532348633,
            18.673532485961918,
            7.353952407836914,
            0,
            12.690624237060549,
            5.59973669052124,
            1.3991726636886597,
            2.0288121700286865,
            0.1416177302598953,
            60.840476989746094,
            8.742303848266602,
            3.408119440078736,
            2.7610442638397217,
            3.0038673877716064,
            1.8510284423828125,
            0.0071300221607089,
            6.018290519714356,
            6.458432197570801,
            2.538257360458374,
            0,
            12.539953231811523,
            0.5725497603416443,
            0.7626808881759644,
            6.836901664733887,
            7.293380260467529,
            4.231739044189453,
            0.3433368802070617,
            47.13667297363281,
            71.44203186035156,
            0,
            17.649538040161133,
            29.118135452270508,
            20.05256462097168,
            0.3461389243602752,
            9.885159492492676,
            0,
            5.235843181610107,
            4.605263233184815,
            0,
            2.3424203395843506,
            0.8193387389183044,
            0.9301869869232178,
            5.533020496368408,
            30.912357330322266,
            32.6711311340332,
            28.20342254638672,
            2.734282732009888,
            5.435298919677734,
            0.1323267519474029,
            10.282753944396973,
            0.0048344633542001,
            1.0963214635849,
            0,
            0.5676242709159851,
            3.277204990386963,
            18.04505729675293,
            15.831216812133787,
            4.30154275894165
           ]
          }
         ],
         "name": "1989"
        },
        {
         "data": [
          {
           "coloraxis": "coloraxis",
           "geo": "geo",
           "hovertemplate": "Year=1990<br>Entity=%{location}<br>Renewables (% equivalent primary energy)=%{z}<extra></extra>",
           "locationmode": "country names",
           "locations": [
            "Algeria",
            "Argentina",
            "Australia",
            "Austria",
            "Azerbaijan",
            "Bangladesh",
            "Belarus",
            "Belgium",
            "Brazil",
            "Bulgaria",
            "Canada",
            "Chile",
            "China",
            "Colombia",
            "Croatia",
            "Cyprus",
            "Czechia",
            "Denmark",
            "Ecuador",
            "Egypt",
            "Estonia",
            "Finland",
            "France",
            "Germany",
            "Greece",
            "Hungary",
            "Iceland",
            "India",
            "Indonesia",
            "Iran",
            "Iraq",
            "Ireland",
            "Israel",
            "Italy",
            "Japan",
            "Kazakhstan",
            "Kuwait",
            "Latvia",
            "Lithuania",
            "Luxembourg",
            "Malaysia",
            "Mexico",
            "Morocco",
            "Netherlands",
            "New Zealand",
            "Norway",
            "Oman",
            "Pakistan",
            "Peru",
            "Philippines",
            "Poland",
            "Portugal",
            "Qatar",
            "Romania",
            "Russia",
            "Saudi Arabia",
            "Slovakia",
            "Slovenia",
            "South Africa",
            "South Korea",
            "Spain",
            "Sri Lanka",
            "Sweden",
            "Switzerland",
            "Taiwan",
            "Thailand",
            "Trinidad and Tobago",
            "Turkey",
            "Turkmenistan",
            "Ukraine",
            "United Arab Emirates",
            "United Kingdom",
            "Uzbekistan",
            "Venezuela",
            "Vietnam",
            "United States"
           ],
           "name": "",
           "type": "choropleth",
           "z": [
            0.1267386972904205,
            10.292678833007812,
            4.459391117095947,
            28.9086856842041,
            1.881659984588623,
            3.539271354675293,
            0.0126916766166687,
            0.2747964859008789,
            45.27548599243164,
            1.711651086807251,
            29.48099899291992,
            18.957916259765625,
            4.723667621612549,
            32.64093399047852,
            11.200591087341309,
            0,
            0.6279107928276062,
            1.266486644744873,
            18.208444595336918,
            7.520865440368652,
            0,
            15.044628143310549,
            6.2226409912109375,
            1.336940050125122,
            1.8226951360702517,
            0.1796697378158569,
            60.33362579345703,
            8.542831420898438,
            3.731863260269165,
            2.6902496814727783,
            5.7843523025512695,
            1.7610795497894287,
            0.0068617342039942,
            5.5439982414245605,
            5.605645179748535,
            2.534389019012451,
            0,
            15.375503540039062,
            0.6063738465309143,
            0.6646014451980591,
            4.940909385681152,
            6.830843448638916,
            4.359245777130127,
            0.2806209623813629,
            41.456180572509766,
            72.44773864746094,
            0,
            16.537376403808594,
            29.30202865600586,
            18.938623428344727,
            0.3606971204280853,
            14.758711814880373,
            0,
            4.590248107910156,
            4.898304462432861,
            0,
            2.2383956909179688,
            12.690258026123049,
            0.2900504469871521,
            1.2995164394378662,
            7.1988701820373535,
            31.11433982849121,
            32.335453033447266,
            26.99221992492676,
            3.3431942462921143,
            4.073401927947998,
            0.1421816051006317,
            12.219701766967772,
            0.0058338353410363,
            0.9731683731079102,
            0,
            0.6801177859306335,
            3.7738037109375,
            18.11903953552246,
            20.58405303955078,
            4.724676609039307
           ]
          }
         ],
         "name": "1990"
        },
        {
         "data": [
          {
           "coloraxis": "coloraxis",
           "geo": "geo",
           "hovertemplate": "Year=1991<br>Entity=%{location}<br>Renewables (% equivalent primary energy)=%{z}<extra></extra>",
           "locationmode": "country names",
           "locations": [
            "Algeria",
            "Argentina",
            "Australia",
            "Austria",
            "Azerbaijan",
            "Bangladesh",
            "Belarus",
            "Belgium",
            "Brazil",
            "Bulgaria",
            "Canada",
            "Chile",
            "China",
            "Colombia",
            "Croatia",
            "Cyprus",
            "Czechia",
            "Denmark",
            "Ecuador",
            "Egypt",
            "Estonia",
            "Finland",
            "France",
            "Germany",
            "Greece",
            "Hungary",
            "Iceland",
            "India",
            "Indonesia",
            "Iran",
            "Iraq",
            "Ireland",
            "Israel",
            "Italy",
            "Japan",
            "Kazakhstan",
            "Kuwait",
            "Latvia",
            "Lithuania",
            "Luxembourg",
            "Malaysia",
            "Mexico",
            "Morocco",
            "Netherlands",
            "New Zealand",
            "Norway",
            "Oman",
            "Pakistan",
            "Peru",
            "Philippines",
            "Poland",
            "Portugal",
            "Qatar",
            "Romania",
            "Russia",
            "Saudi Arabia",
            "Slovakia",
            "Slovenia",
            "South Africa",
            "South Korea",
            "Spain",
            "Sri Lanka",
            "Sweden",
            "Switzerland",
            "Taiwan",
            "Thailand",
            "Trinidad and Tobago",
            "Turkey",
            "Turkmenistan",
            "Ukraine",
            "United Arab Emirates",
            "United Kingdom",
            "Uzbekistan",
            "Venezuela",
            "Vietnam",
            "United States"
           ],
           "name": "",
           "type": "choropleth",
           "z": [
            0.2776069939136505,
            9.081443786621094,
            4.7400617599487305,
            27.58718681335449,
            2.0779731273651123,
            3.477609157562256,
            0.0114487251266837,
            0.2574799358844757,
            45.86178970336914,
            2.7520618438720703,
            30.49942779541016,
            24.08466148376465,
            4.424777984619141,
            31.699800491333008,
            20.50486183166504,
            0,
            0.6470876932144165,
            1.4587733745574951,
            16.781824111938477,
            7.396338939666748,
            0,
            16.64373207092285,
            6.26654052734375,
            1.2709577083587646,
            3.145860433578491,
            0.2154788523912429,
            61.54582977294922,
            9.029864311218262,
            3.812469959259033,
            1.8835831880569456,
            4.28729248046875,
            1.8195366859436035,
            0.0135207260027527,
            7.020092010498047,
            5.9171295166015625,
            2.479836225509644,
            0,
            12.15385913848877,
            0.4682885408401489,
            0.7338107824325562,
            4.358415126800537,
            6.3246049880981445,
            4.325900077819824,
            0.3191479742527008,
            40.46457290649414,
            71.44004821777344,
            0,
            16.701480865478516,
            32.345062255859375,
            17.744583129882812,
            0.3782130479812622,
            14.244230270385742,
            0,
            6.907992839813232,
            5.0031914710998535,
            0,
            1.8738332986831665,
            15.370842933654783,
            0.5727413892745972,
            0.8552601337432861,
            7.452907562255859,
            30.897804260253903,
            29.826091766357425,
            28.26373291015625,
            1.969025492668152,
            3.400254249572754,
            0.1150112450122833,
            11.752680778503418,
            0.0056805326603353,
            1.156305193901062,
            0,
            0.6104341745376587,
            3.46509337425232,
            21.67565155029297,
            23.79098892211914,
            4.72428560256958
           ]
          }
         ],
         "name": "1991"
        },
        {
         "data": [
          {
           "coloraxis": "coloraxis",
           "geo": "geo",
           "hovertemplate": "Year=1992<br>Entity=%{location}<br>Renewables (% equivalent primary energy)=%{z}<extra></extra>",
           "locationmode": "country names",
           "locations": [
            "Algeria",
            "Argentina",
            "Australia",
            "Austria",
            "Azerbaijan",
            "Bangladesh",
            "Belarus",
            "Belgium",
            "Brazil",
            "Bulgaria",
            "Canada",
            "Chile",
            "China",
            "Colombia",
            "Croatia",
            "Cyprus",
            "Czechia",
            "Denmark",
            "Ecuador",
            "Egypt",
            "Estonia",
            "Finland",
            "France",
            "Germany",
            "Greece",
            "Hungary",
            "Iceland",
            "India",
            "Indonesia",
            "Iran",
            "Iraq",
            "Ireland",
            "Israel",
            "Italy",
            "Japan",
            "Kazakhstan",
            "Kuwait",
            "Latvia",
            "Lithuania",
            "Luxembourg",
            "Malaysia",
            "Mexico",
            "Morocco",
            "Netherlands",
            "New Zealand",
            "Norway",
            "Oman",
            "Pakistan",
            "Peru",
            "Philippines",
            "Poland",
            "Portugal",
            "Qatar",
            "Romania",
            "Russia",
            "Saudi Arabia",
            "Slovakia",
            "Slovenia",
            "South Africa",
            "South Korea",
            "Spain",
            "Sri Lanka",
            "Sweden",
            "Switzerland",
            "Taiwan",
            "Thailand",
            "Trinidad and Tobago",
            "Turkey",
            "Turkmenistan",
            "Ukraine",
            "United Arab Emirates",
            "United Kingdom",
            "Uzbekistan",
            "Venezuela",
            "Vietnam",
            "United States"
           ],
           "name": "",
           "type": "choropleth",
           "z": [
            0.1837574690580368,
            10.206743240356444,
            4.731717109680176,
            31.037273406982425,
            2.409932851791382,
            3.0288853645324707,
            0.0124688521027565,
            0.2941910922527313,
            44.90270614624024,
            2.477391004562378,
            30.512109756469727,
            28.35539054870605,
            4.412701606750488,
            24.60545539855957,
            15.994292259216309,
            0,
            0.8583593368530273,
            2.0408639907836914,
            16.52834701538086,
            7.380685806274414,
            0,
            18.367647171020508,
            7.3992438316345215,
            1.5204551219940186,
            2.2052266597747803,
            0.2120923548936844,
            60.99951171875,
            8.140623092651367,
            4.408542633056641,
            2.795917510986328,
            6.584853172302246,
            1.990980863571167,
            0.0559749267995357,
            7.082338809967041,
            5.080174922943115,
            2.3956668376922607,
            0,
            13.070239067077637,
            0.7034368515014648,
            0.6107495427131653,
            3.721477746963501,
            7.251021862030029,
            3.0396227836608887,
            0.3399998843669891,
            37.514610290527344,
            71.86555480957031,
            0,
            17.344545364379883,
            28.06740951538086,
            14.223133087158203,
            0.424808531999588,
            7.96611738204956,
            0,
            6.283785343170166,
            5.336780071258545,
            0,
            2.679717302322388,
            15.600479125976562,
            0.2165115028619766,
            0.6740404963493347,
            5.013250350952148,
            26.79806900024414,
            34.72596740722656,
            28.394737243652344,
            3.078827381134033,
            2.862964630126953,
            0.1303890198469162,
            13.07958698272705,
            0.0083349412307143,
            0.921140432357788,
            0,
            0.7424993515014648,
            3.8065381050109854,
            21.255586624145508,
            24.912485122680664,
            4.261230945587158
           ]
          }
         ],
         "name": "1992"
        },
        {
         "data": [
          {
           "coloraxis": "coloraxis",
           "geo": "geo",
           "hovertemplate": "Year=1993<br>Entity=%{location}<br>Renewables (% equivalent primary energy)=%{z}<extra></extra>",
           "locationmode": "country names",
           "locations": [
            "Algeria",
            "Argentina",
            "Australia",
            "Austria",
            "Azerbaijan",
            "Bangladesh",
            "Belarus",
            "Belgium",
            "Brazil",
            "Bulgaria",
            "Canada",
            "Chile",
            "China",
            "Colombia",
            "Croatia",
            "Cyprus",
            "Czechia",
            "Denmark",
            "Ecuador",
            "Egypt",
            "Estonia",
            "Finland",
            "France",
            "Germany",
            "Greece",
            "Hungary",
            "Iceland",
            "India",
            "Indonesia",
            "Iran",
            "Iraq",
            "Ireland",
            "Israel",
            "Italy",
            "Japan",
            "Kazakhstan",
            "Kuwait",
            "Latvia",
            "Lithuania",
            "Luxembourg",
            "Malaysia",
            "Mexico",
            "Morocco",
            "Netherlands",
            "New Zealand",
            "Norway",
            "Oman",
            "Pakistan",
            "Peru",
            "Philippines",
            "Poland",
            "Portugal",
            "Qatar",
            "Romania",
            "Russia",
            "Saudi Arabia",
            "Slovakia",
            "Slovenia",
            "South Africa",
            "South Korea",
            "Spain",
            "Sri Lanka",
            "Sweden",
            "Switzerland",
            "Taiwan",
            "Thailand",
            "Trinidad and Tobago",
            "Turkey",
            "Turkmenistan",
            "Ukraine",
            "United Arab Emirates",
            "United Kingdom",
            "Uzbekistan",
            "Venezuela",
            "Vietnam",
            "United States"
           ],
           "name": "",
           "type": "choropleth",
           "z": [
            0.3502801358699798,
            12.216532707214355,
            4.75942850112915,
            32.08808517456055,
            3.8572144508361816,
            2.1043288707733154,
            0.0166659001260995,
            0.2466530501842498,
            45.159629821777344,
            2.1902918815612797,
            30.45089340209961,
            27.52927017211914,
            4.7578606605529785,
            27.847396850585938,
            16.08796501159668,
            0,
            0.9921496510505676,
            2.361985206604004,
            18.627613067626957,
            7.595428943634033,
            0,
            17.727712631225586,
            6.968883514404297,
            1.583544135093689,
            2.2926175594329834,
            0.2188168913125991,
            61.05936050415039,
            8.035937309265137,
            3.847653388977051,
            3.4577884674072266,
            5.8610520362854,
            1.849105954170227,
            0.0462117157876491,
            7.147924423217773,
            5.666120529174805,
            3.015272378921509,
            0,
            17.300792694091797,
            1.1366833448410034,
            0.6041135191917419,
            4.189680576324463,
            7.209392070770264,
            1.3822969198226929,
            0.374287486076355,
            40.29460525512695,
            71.1773681640625,
            0,
            17.234846115112305,
            31.19631767272949,
            14.52389907836914,
            0.4059490263462066,
            13.151094436645508,
            0,
            7.054651737213135,
            5.78029727935791,
            0,
            4.88240385055542,
            13.463438987731934,
            0.042108479887247,
            0.8389674425125122,
            6.625087738037109,
            32.161766052246094,
            35.322853088378906,
            31.08303451538086,
            1.8557116985321045,
            2.197190284729004,
            0.1154540330171585,
            15.372352600097656,
            0.01208390109241,
            1.4715107679367063,
            0,
            0.6676498055458069,
            4.146083354949951,
            21.576940536499023,
            24.039852142333984,
            4.571409702301025
           ]
          }
         ],
         "name": "1993"
        },
        {
         "data": [
          {
           "coloraxis": "coloraxis",
           "geo": "geo",
           "hovertemplate": "Year=1994<br>Entity=%{location}<br>Renewables (% equivalent primary energy)=%{z}<extra></extra>",
           "locationmode": "country names",
           "locations": [
            "Algeria",
            "Argentina",
            "Australia",
            "Austria",
            "Azerbaijan",
            "Bangladesh",
            "Belarus",
            "Belgium",
            "Brazil",
            "Bulgaria",
            "Canada",
            "Chile",
            "China",
            "Colombia",
            "Croatia",
            "Cyprus",
            "Czechia",
            "Denmark",
            "Ecuador",
            "Egypt",
            "Estonia",
            "Finland",
            "France",
            "Germany",
            "Greece",
            "Hungary",
            "Iceland",
            "India",
            "Indonesia",
            "Iran",
            "Iraq",
            "Ireland",
            "Israel",
            "Italy",
            "Japan",
            "Kazakhstan",
            "Kuwait",
            "Latvia",
            "Lithuania",
            "Luxembourg",
            "Malaysia",
            "Mexico",
            "Morocco",
            "Netherlands",
            "New Zealand",
            "Norway",
            "Oman",
            "Pakistan",
            "Peru",
            "Philippines",
            "Poland",
            "Portugal",
            "Qatar",
            "Romania",
            "Russia",
            "Saudi Arabia",
            "Slovakia",
            "Slovenia",
            "South Africa",
            "South Korea",
            "Spain",
            "Sri Lanka",
            "Sweden",
            "Switzerland",
            "Taiwan",
            "Thailand",
            "Trinidad and Tobago",
            "Turkey",
            "Turkmenistan",
            "Ukraine",
            "United Arab Emirates",
            "United Kingdom",
            "Uzbekistan",
            "Venezuela",
            "Vietnam",
            "United States"
           ],
           "name": "",
           "type": "choropleth",
           "z": [
            0.1625789850950241,
            13.306406021118164,
            4.527180671691895,
            31.296300888061523,
            3.1670033931732178,
            2.761680603027344,
            0.0199361536651849,
            0.2759146392345428,
            44.56560134887695,
            1.719669222831726,
            29.92730140686035,
            25.95452308654785,
            4.952474117279053,
            29.80908203125,
            18.960315704345703,
            0,
            1.136947512626648,
            2.132141351699829,
            19.351001739501957,
            7.676783084869385,
            0,
            15.916638374328612,
            8.563506126403809,
            1.7396334409713743,
            2.5512795448303223,
            0.2185582220554351,
            61.054908752441406,
            8.66722583770752,
            3.521223306655884,
            2.0214617252349854,
            5.243114471435547,
            2.141103982925415,
            0.0391833409667015,
            7.645524501800537,
            4.097033977508545,
            4.072830677032471,
            0,
            20.521249771118164,
            1.514650821685791,
            0.7752812504768372,
            5.270333290100098,
            5.448117256164551,
            2.3779470920562744,
            0.4266581833362579,
            41.2523078918457,
            69.031494140625,
            0,
            16.347652435302734,
            30.9783992767334,
            15.574134826660156,
            0.4881243109703064,
            15.609878540039062,
            0,
            7.641243934631348,
            6.394296646118164,
            0,
            6.225819110870361,
            14.16608715057373,
            0.2969961166381836,
            0.4319862127304077,
            7.313819408416748,
            31.979883193969727,
            28.229177474975582,
            32.31832504272461,
            2.141310930252075,
            2.397928237915039,
            0.1245081424713134,
            14.304976463317873,
            0.0090709067881107,
            1.8900632858276367,
            0,
            0.8253747820854187,
            4.109858512878418,
            21.469650268554688,
            24.97269630432129,
            4.25481653213501
           ]
          }
         ],
         "name": "1994"
        },
        {
         "data": [
          {
           "coloraxis": "coloraxis",
           "geo": "geo",
           "hovertemplate": "Year=1995<br>Entity=%{location}<br>Renewables (% equivalent primary energy)=%{z}<extra></extra>",
           "locationmode": "country names",
           "locations": [
            "Algeria",
            "Argentina",
            "Australia",
            "Austria",
            "Azerbaijan",
            "Bangladesh",
            "Belarus",
            "Belgium",
            "Brazil",
            "Bulgaria",
            "Canada",
            "Chile",
            "China",
            "Colombia",
            "Croatia",
            "Cyprus",
            "Czechia",
            "Denmark",
            "Ecuador",
            "Egypt",
            "Estonia",
            "Finland",
            "France",
            "Germany",
            "Greece",
            "Hungary",
            "Iceland",
            "India",
            "Indonesia",
            "Iran",
            "Iraq",
            "Ireland",
            "Israel",
            "Italy",
            "Japan",
            "Kazakhstan",
            "Kuwait",
            "Latvia",
            "Lithuania",
            "Luxembourg",
            "Malaysia",
            "Mexico",
            "Morocco",
            "Netherlands",
            "New Zealand",
            "Norway",
            "Oman",
            "Pakistan",
            "Peru",
            "Philippines",
            "Poland",
            "Portugal",
            "Qatar",
            "Romania",
            "Russia",
            "Saudi Arabia",
            "Slovakia",
            "Slovenia",
            "South Africa",
            "South Korea",
            "Spain",
            "Sri Lanka",
            "Sweden",
            "Switzerland",
            "Taiwan",
            "Thailand",
            "Trinidad and Tobago",
            "Turkey",
            "Turkmenistan",
            "Ukraine",
            "United Arab Emirates",
            "United Kingdom",
            "Uzbekistan",
            "Venezuela",
            "Vietnam",
            "United States"
           ],
           "name": "",
           "type": "choropleth",
           "z": [
            0.182247593998909,
            12.535518646240234,
            4.239725112915039,
            31.51592063903809,
            2.864072799682617,
            1.026994705200195,
            0.023589264601469,
            0.3051198720932007,
            44.34580993652344,
            2.518761396408081,
            29.88811683654785,
            26.028478622436523,
            5.5538201332092285,
            29.33157730102539,
            19.149620056152344,
            0,
            1.4834487438201904,
            2.313322067260742,
            16.0936336517334,
            7.558946132659912,
            0.0308315623551607,
            17.851295471191406,
            7.823903083801269,
            1.889189839363098,
            3.3267502784729004,
            0.2304143905639648,
            61.59295272827149,
            7.686767578125,
            3.5392696857452397,
            2.326306104660034,
            5.992914199829102,
            1.6306569576263428,
            0.0378692410886287,
            6.312265872955322,
            4.652009010314941,
            4.114584922790527,
            0,
            19.486257553100582,
            1.118697166442871,
            0.9501821994781494,
            4.62030553817749,
            7.110982418060303,
            1.763482928276062,
            0.4561201333999634,
            42.104042053222656,
            70.81211853027344,
            0,
            16.378124237060547,
            28.913646697998047,
            14.212176322937012,
            0.5228233933448792,
            11.508939743041992,
            0,
            8.897040367126465,
            6.769153594970703,
            0,
            6.879693031311035,
            12.907959938049316,
            0.1399753242731094,
            0.5102640390396118,
            5.938282489776611,
            32.76565170288086,
            32.06243133544922,
            30.771350860595703,
            1.982553482055664,
            3.2421882152557373,
            0.1183999702334404,
            14.92419719696045,
            0.0110200494527816,
            1.5910707712173462,
            0,
            0.7896187901496887,
            3.5991854667663574,
            20.91527366638184,
            24.6088809967041,
            4.762141227722168
           ]
          }
         ],
         "name": "1995"
        },
        {
         "data": [
          {
           "coloraxis": "coloraxis",
           "geo": "geo",
           "hovertemplate": "Year=1996<br>Entity=%{location}<br>Renewables (% equivalent primary energy)=%{z}<extra></extra>",
           "locationmode": "country names",
           "locations": [
            "Algeria",
            "Argentina",
            "Australia",
            "Austria",
            "Azerbaijan",
            "Bangladesh",
            "Belarus",
            "Belgium",
            "Brazil",
            "Bulgaria",
            "Canada",
            "Chile",
            "China",
            "Colombia",
            "Croatia",
            "Cyprus",
            "Czechia",
            "Denmark",
            "Ecuador",
            "Egypt",
            "Estonia",
            "Finland",
            "France",
            "Germany",
            "Greece",
            "Hungary",
            "Iceland",
            "India",
            "Indonesia",
            "Iran",
            "Iraq",
            "Ireland",
            "Israel",
            "Italy",
            "Japan",
            "Kazakhstan",
            "Kuwait",
            "Latvia",
            "Lithuania",
            "Luxembourg",
            "Malaysia",
            "Mexico",
            "Morocco",
            "Netherlands",
            "New Zealand",
            "Norway",
            "Oman",
            "Pakistan",
            "Peru",
            "Philippines",
            "Poland",
            "Portugal",
            "Qatar",
            "Romania",
            "Russia",
            "Saudi Arabia",
            "Slovakia",
            "Slovenia",
            "South Africa",
            "South Korea",
            "Spain",
            "Sri Lanka",
            "Sweden",
            "Switzerland",
            "Taiwan",
            "Thailand",
            "Trinidad and Tobago",
            "Turkey",
            "Turkmenistan",
            "Ukraine",
            "United Arab Emirates",
            "United Kingdom",
            "Uzbekistan",
            "Venezuela",
            "Vietnam",
            "United States"
           ],
           "name": "",
           "type": "choropleth",
           "z": [
            0.12880340218544,
            10.225037574768066,
            4.23659086227417,
            28.95120620727539,
            3.4498770236968994,
            1.9475641250610352,
            0.0183994248509407,
            0.2427208870649337,
            44.08195877075195,
            3.190023422241211,
            30.87930679321289,
            22.551898956298828,
            5.143133163452148,
            31.475914001464844,
            24.704439163208008,
            0,
            1.343038558959961,
            2.1877264976501465,
            17.381893157958984,
            7.361753940582275,
            0.0241957437247037,
            15.462066650390623,
            6.882894039154053,
            1.6823945045471191,
            3.99127197265625,
            0.2641087770462036,
            59.821136474609375,
            6.789632797241211,
            3.508815288543701,
            2.2645998001098637,
            5.454255104064941,
            1.6184037923812866,
            0.0350807718932628,
            7.04185962677002,
            4.5326762199401855,
            4.159170627593994,
            0,
            13.271233558654783,
            0.898501992225647,
            0.6496766805648804,
            3.45036244392395,
            7.60121488571167,
            5.402516841888428,
            0.563913106918335,
            39.54180908203125,
            66.01223754882812,
            0,
            16.76286506652832,
            28.77692604064941,
            14.502601623535156,
            0.5270423889160156,
            18.70630645751953,
            0,
            8.448899269104004,
            6.157421112060547,
            0,
            5.9181108474731445,
            13.877272605895996,
            0.3590045869350433,
            0.4361970424652099,
            9.653098106384276,
            22.438142776489254,
            25.265974044799805,
            26.179201126098636,
            1.9023185968399048,
            3.158660650253296,
            0.0538361370563507,
            15.543943405151367,
            0.0094481203705072,
            1.4804906845092771,
            0,
            0.6443789005279541,
            3.678831815719605,
            22.46203994750977,
            24.358139038085938,
            5.018571376800537
           ]
          }
         ],
         "name": "1996"
        },
        {
         "data": [
          {
           "coloraxis": "coloraxis",
           "geo": "geo",
           "hovertemplate": "Year=1997<br>Entity=%{location}<br>Renewables (% equivalent primary energy)=%{z}<extra></extra>",
           "locationmode": "country names",
           "locations": [
            "Algeria",
            "Argentina",
            "Australia",
            "Austria",
            "Azerbaijan",
            "Bangladesh",
            "Belarus",
            "Belgium",
            "Brazil",
            "Bulgaria",
            "Canada",
            "Chile",
            "China",
            "Colombia",
            "Croatia",
            "Cyprus",
            "Czechia",
            "Denmark",
            "Ecuador",
            "Egypt",
            "Estonia",
            "Finland",
            "France",
            "Germany",
            "Greece",
            "Hungary",
            "Iceland",
            "India",
            "Indonesia",
            "Iran",
            "Iraq",
            "Ireland",
            "Israel",
            "Italy",
            "Japan",
            "Kazakhstan",
            "Kuwait",
            "Latvia",
            "Lithuania",
            "Luxembourg",
            "Malaysia",
            "Mexico",
            "Morocco",
            "Netherlands",
            "New Zealand",
            "Norway",
            "Oman",
            "Pakistan",
            "Peru",
            "Philippines",
            "Poland",
            "Portugal",
            "Qatar",
            "Romania",
            "Russia",
            "Saudi Arabia",
            "Slovakia",
            "Slovenia",
            "South Africa",
            "South Korea",
            "Spain",
            "Sri Lanka",
            "Sweden",
            "Switzerland",
            "Taiwan",
            "Thailand",
            "Trinidad and Tobago",
            "Turkey",
            "Turkmenistan",
            "Ukraine",
            "United Arab Emirates",
            "United Kingdom",
            "Uzbekistan",
            "Venezuela",
            "Vietnam",
            "United States"
           ],
           "name": "",
           "type": "choropleth",
           "z": [
            0.0744559019804,
            12.514141082763672,
            4.145838737487793,
            29.96346664428711,
            4.0128254890441895,
            1.8034275770187376,
            0.0238740518689155,
            0.2500346302986145,
            43.489933013916016,
            3.1750752925872803,
            30.28490447998047,
            21.909547805786133,
            5.361733913421631,
            27.334064483642575,
            18.54490089416504,
            0,
            1.3685675859451294,
            3.3808846473693848,
            16.071613311767578,
            7.24384880065918,
            0.0392568632960319,
            17.178953170776367,
            6.80388879776001,
            1.8035167455673216,
            3.4691076278686523,
            0.2833541631698608,
            62.26046752929688,
            6.570899486541748,
            2.477278470993042,
            1.4810699224472046,
            4.675354957580566,
            1.6524463891983032,
            0.0334176681935787,
            6.921144008636475,
            4.951632499694824,
            4.181544780731201,
            0,
            20.91794776916504,
            0.8816192746162415,
            0.9025550484657288,
            2.3939244747161865,
            6.423584938049316,
            5.531386375427246,
            0.6360036134719849,
            35.60651397705078,
            66.31446075439453,
            0,
            12.89863395690918,
            28.343660354614254,
            13.195356369018556,
            0.5504409074783325,
            16.634517669677734,
            0,
            9.899968147277832,
            6.642446517944336,
            0,
            5.796412944793701,
            11.434757232666016,
            0.5707284212112427,
            0.4026863574981689,
            8.211402893066406,
            23.044755935668945,
            32.551292419433594,
            28.932559967041016,
            1.9892830848693848,
            2.977715253829956,
            0.057017732411623,
            14.665958404541016,
            0.0123385256156325,
            1.7526177167892456,
            0,
            0.825344979763031,
            3.291520833969116,
            22.59819793701172,
            20.527612686157227,
            5.11522102355957
           ]
          }
         ],
         "name": "1997"
        },
        {
         "data": [
          {
           "coloraxis": "coloraxis",
           "geo": "geo",
           "hovertemplate": "Year=1998<br>Entity=%{location}<br>Renewables (% equivalent primary energy)=%{z}<extra></extra>",
           "locationmode": "country names",
           "locations": [
            "Algeria",
            "Argentina",
            "Australia",
            "Austria",
            "Azerbaijan",
            "Bangladesh",
            "Belarus",
            "Belgium",
            "Brazil",
            "Bulgaria",
            "Canada",
            "Chile",
            "China",
            "Colombia",
            "Croatia",
            "Cyprus",
            "Czechia",
            "Denmark",
            "Ecuador",
            "Egypt",
            "Estonia",
            "Finland",
            "France",
            "Germany",
            "Greece",
            "Hungary",
            "Iceland",
            "India",
            "Indonesia",
            "Iran",
            "Iraq",
            "Ireland",
            "Israel",
            "Italy",
            "Japan",
            "Kazakhstan",
            "Kuwait",
            "Latvia",
            "Lithuania",
            "Luxembourg",
            "Malaysia",
            "Mexico",
            "Morocco",
            "Netherlands",
            "New Zealand",
            "Norway",
            "Oman",
            "Pakistan",
            "Peru",
            "Philippines",
            "Poland",
            "Portugal",
            "Qatar",
            "Romania",
            "Russia",
            "Saudi Arabia",
            "Slovakia",
            "Slovenia",
            "South Africa",
            "South Korea",
            "Spain",
            "Sri Lanka",
            "Sweden",
            "Switzerland",
            "Taiwan",
            "Thailand",
            "Trinidad and Tobago",
            "Turkey",
            "Turkmenistan",
            "Ukraine",
            "United Arab Emirates",
            "United Kingdom",
            "Uzbekistan",
            "Venezuela",
            "Vietnam",
            "United States"
           ],
           "name": "",
           "type": "choropleth",
           "z": [
            0.2061796188354492,
            11.482151985168455,
            4.037755966186523,
            30.441696166992188,
            4.555314540863037,
            2.037123680114746,
            0.0325518324971199,
            0.3166766464710235,
            43.57197189331055,
            3.721184015274048,
            29.307371139526367,
            18.05925750732422,
            5.427778244018555,
            26.691463470458984,
            18.053991317749023,
            0,
            1.2816920280456543,
            4.675768852233887,
            15.920068740844728,
            7.154178619384766,
            0.0656705722212791,
            20.30083465576172,
            6.470213890075684,
            1.9705649614334104,
            3.15884017944336,
            0.2245397120714187,
            64.60302734375,
            7.381818294525146,
            4.014904499053955,
            1.792133927345276,
            5.8698039054870605,
            2.216397523880005,
            0.0317553468048572,
            6.806154727935791,
            5.1708760261535645,
            4.193706512451172,
            0,
            28.085607528686523,
            1.1615424156188965,
            1.2946181297302246,
            2.660114288330078,
            5.862017154693604,
            4.600728511810303,
            0.7268246412277222,
            38.75766372680664,
            67.21876525878906,
            0,
            15.70711898803711,
            29.41726493835449,
            13.60515022277832,
            0.6830112934112549,
            15.1640043258667,
            0,
            11.665589332580566,
            6.699800491333008,
            0,
            6.022058963775635,
            12.727214813232422,
            0.4763036072254181,
            0.6597698330879211,
            7.815210342407227,
            24.54949378967285,
            32.492069244384766,
            28.326658248901367,
            2.213547706604004,
            2.375905752182007,
            0.0561727918684482,
            15.141606330871582,
            0.0119019281119108,
            2.900869369506836,
            0,
            0.9855971932411194,
            3.2868781089782715,
            21.551677703857425,
            18.06495475769043,
            4.695756912231445
           ]
          }
         ],
         "name": "1998"
        },
        {
         "data": [
          {
           "coloraxis": "coloraxis",
           "geo": "geo",
           "hovertemplate": "Year=1999<br>Entity=%{location}<br>Renewables (% equivalent primary energy)=%{z}<extra></extra>",
           "locationmode": "country names",
           "locations": [
            "Algeria",
            "Argentina",
            "Australia",
            "Austria",
            "Azerbaijan",
            "Bangladesh",
            "Belarus",
            "Belgium",
            "Brazil",
            "Bulgaria",
            "Canada",
            "Chile",
            "China",
            "Colombia",
            "Croatia",
            "Cyprus",
            "Czechia",
            "Denmark",
            "Ecuador",
            "Egypt",
            "Estonia",
            "Finland",
            "France",
            "Germany",
            "Greece",
            "Hungary",
            "Iceland",
            "India",
            "Indonesia",
            "Iran",
            "Iraq",
            "Ireland",
            "Israel",
            "Italy",
            "Japan",
            "Kazakhstan",
            "Kuwait",
            "Latvia",
            "Lithuania",
            "Luxembourg",
            "Malaysia",
            "Mexico",
            "Morocco",
            "Netherlands",
            "New Zealand",
            "Norway",
            "Oman",
            "Pakistan",
            "Peru",
            "Philippines",
            "Poland",
            "Portugal",
            "Qatar",
            "Romania",
            "Russia",
            "Saudi Arabia",
            "Slovakia",
            "Slovenia",
            "South Africa",
            "South Korea",
            "Spain",
            "Sri Lanka",
            "Sweden",
            "Switzerland",
            "Taiwan",
            "Thailand",
            "Trinidad and Tobago",
            "Turkey",
            "Turkmenistan",
            "Ukraine",
            "United Arab Emirates",
            "United Kingdom",
            "Uzbekistan",
            "Venezuela",
            "Vietnam",
            "United States"
           ],
           "name": "",
           "type": "choropleth",
           "z": [
            0.1927434206008911,
            9.226556777954102,
            4.008933544158936,
            32.257999420166016,
            3.5315983295440674,
            1.93972909450531,
            0.0227077603340148,
            0.3602191209793091,
            43.143802642822266,
            3.786312341690064,
            29.588794708251957,
            15.2758150100708,
            5.188285827636719,
            31.37824821472168,
            21.228256225585938,
            0,
            1.5926198959350586,
            5.389066696166992,
            19.251895904541016,
            7.409151077270508,
            0.0933113694190979,
            17.99002456665039,
            7.388863086700439,
            2.227585792541504,
            3.964061975479126,
            0.2573080956935882,
            67.37352752685547,
            7.12459659576416,
            3.8524580001831055,
            1.1498689651489258,
            4.700111389160156,
            2.0142810344696045,
            0.0404441058635711,
            7.31284236907959,
            4.856287479400635,
            4.45552921295166,
            0,
            21.13871955871582,
            1.3867839574813845,
            1.0463186502456665,
            4.217978477478027,
            7.305535793304443,
            2.058801889419556,
            0.7947908639907837,
            35.64335250854492,
            68.737548828125,
            0,
            13.423368453979492,
            30.105939865112305,
            17.624540328979492,
            0.6465410590171814,
            9.102554321289062,
            0,
            12.841182708740234,
            6.69929838180542,
            0,
            6.261233329772949,
            14.0621337890625,
            0.2344794869422912,
            0.5936902761459351,
            5.629496574401856,
            24.37567138671875,
            32.139984130859375,
            32.33128356933594,
            1.8112775087356567,
            1.6081547737121582,
            0.0505411177873611,
            12.753751754760742,
            0.0103807915002107,
            2.6803247928619385,
            0,
            1.1055505275726318,
            2.86635422706604,
            22.52948760986328,
            21.65902328491211,
            4.583451747894287
           ]
          }
         ],
         "name": "1999"
        },
        {
         "data": [
          {
           "coloraxis": "coloraxis",
           "geo": "geo",
           "hovertemplate": "Year=2000<br>Entity=%{location}<br>Renewables (% equivalent primary energy)=%{z}<extra></extra>",
           "locationmode": "country names",
           "locations": [
            "Algeria",
            "Argentina",
            "Australia",
            "Austria",
            "Azerbaijan",
            "Bangladesh",
            "Belarus",
            "Belgium",
            "Brazil",
            "Bulgaria",
            "Canada",
            "Chile",
            "China",
            "Colombia",
            "Croatia",
            "Cyprus",
            "Czechia",
            "Denmark",
            "Ecuador",
            "Egypt",
            "Estonia",
            "Finland",
            "France",
            "Germany",
            "Greece",
            "Hungary",
            "Iceland",
            "India",
            "Indonesia",
            "Iran",
            "Iraq",
            "Ireland",
            "Israel",
            "Italy",
            "Japan",
            "Kazakhstan",
            "Kuwait",
            "Latvia",
            "Lithuania",
            "Luxembourg",
            "Malaysia",
            "Mexico",
            "Morocco",
            "Netherlands",
            "New Zealand",
            "Norway",
            "Oman",
            "Pakistan",
            "Peru",
            "Philippines",
            "Poland",
            "Portugal",
            "Qatar",
            "Romania",
            "Russia",
            "Saudi Arabia",
            "Slovakia",
            "Slovenia",
            "South Africa",
            "South Korea",
            "Spain",
            "Sri Lanka",
            "Sweden",
            "Switzerland",
            "Taiwan",
            "Thailand",
            "Trinidad and Tobago",
            "Turkey",
            "Turkmenistan",
            "Ukraine",
            "United Arab Emirates",
            "United Kingdom",
            "Uzbekistan",
            "Venezuela",
            "Vietnam",
            "United States"
           ],
           "name": "",
           "type": "choropleth",
           "z": [
            0.0532354824244976,
            12.283858299255373,
            3.988877773284912,
            32.95425796508789,
            3.446013927459717,
            1.6270726919174194,
            0.0313018634915351,
            0.433269053697586,
            43.28843307495117,
            3.634775400161743,
            29.7678165435791,
            19.57340240478516,
            5.656925201416016,
            29.556066513061523,
            19.766572952270508,
            0,
            1.4434270858764648,
            7.095674514770508,
            21.613927841186523,
            7.416068077087402,
            0.1016683876514434,
            19.70283317565918,
            6.744560718536377,
            2.88711166381836,
            3.2847325801849365,
            0.2618878483772278,
            67.80518341064453,
            6.376289367675781,
            3.733640432357788,
            0.808289110660553,
            2.9294536113739014,
            2.0416548252105717,
            0.0403157323598861,
            7.155643463134766,
            4.82745361328125,
            6.022824287414551,
            0,
            22.118162155151367,
            1.2857235670089722,
            1.3703701496124268,
            3.681302785873413,
            7.15089750289917,
            1.968584418296814,
            0.925859272480011,
            36.37421417236328,
            72.39788818359375,
            0,
            11.344158172607422,
            32.49596405029297,
            18.59521484375,
            0.6828017234802246,
            13.07334041595459,
            0,
            10.396162033081056,
            6.728621482849121,
            0,
            6.252773761749268,
            14.703166961669922,
            0.4055584669113159,
            0.5420218110084534,
            7.008230686187744,
            17.71566390991211,
            38.59571075439453,
            30.638751983642575,
            1.6464219093322754,
            2.5746095180511475,
            0.0540404245257377,
            10.657172203063965,
            0.0077894371934235,
            2.103800773620605,
            0,
            1.1345574855804443,
            2.899540662765503,
            22.72384452819824,
            20.092161178588867,
            4.02735710144043
           ]
          }
         ],
         "name": "2000"
        },
        {
         "data": [
          {
           "coloraxis": "coloraxis",
           "geo": "geo",
           "hovertemplate": "Year=2001<br>Entity=%{location}<br>Renewables (% equivalent primary energy)=%{z}<extra></extra>",
           "locationmode": "country names",
           "locations": [
            "Algeria",
            "Argentina",
            "Australia",
            "Austria",
            "Azerbaijan",
            "Bangladesh",
            "Belarus",
            "Belgium",
            "Brazil",
            "Bulgaria",
            "Canada",
            "Chile",
            "China",
            "Colombia",
            "Croatia",
            "Cyprus",
            "Czechia",
            "Denmark",
            "Ecuador",
            "Egypt",
            "Estonia",
            "Finland",
            "France",
            "Germany",
            "Greece",
            "Hungary",
            "Iceland",
            "India",
            "Indonesia",
            "Iran",
            "Iraq",
            "Ireland",
            "Israel",
            "Italy",
            "Japan",
            "Kazakhstan",
            "Kuwait",
            "Latvia",
            "Lithuania",
            "Luxembourg",
            "Malaysia",
            "Mexico",
            "Morocco",
            "Netherlands",
            "New Zealand",
            "Norway",
            "Oman",
            "Pakistan",
            "Peru",
            "Philippines",
            "Poland",
            "Portugal",
            "Qatar",
            "Romania",
            "Russia",
            "Saudi Arabia",
            "Slovakia",
            "Slovenia",
            "South Africa",
            "South Korea",
            "Spain",
            "Sri Lanka",
            "Sweden",
            "Switzerland",
            "Taiwan",
            "Thailand",
            "Trinidad and Tobago",
            "Turkey",
            "Turkmenistan",
            "Ukraine",
            "United Arab Emirates",
            "United Kingdom",
            "Uzbekistan",
            "Venezuela",
            "Vietnam",
            "United States"
           ],
           "name": "",
           "type": "choropleth",
           "z": [
            0.065218485891819,
            15.937487602233888,
            3.8707621097564697,
            30.81651306152344,
            3.011781692504883,
            1.8750032186508176,
            0.0355434641242027,
            0.4492052793502807,
            39.11162185668945,
            2.270816802978516,
            28.2014102935791,
            22.04735946655273,
            6.618624210357666,
            30.60448455810547,
            20.780860900878903,
            0,
            1.5817999839782717,
            7.402515411376953,
            19.692354202270508,
            7.225909233093262,
            0.0963035598397255,
            17.71671485900879,
            7.405366897583008,
            2.94116759300232,
            2.2960410118103027,
            0.2692703604698181,
            69.64024353027344,
            5.99252462387085,
            4.112386703491211,
            0.8181908130645752,
            3.016484260559082,
            1.6617000102996826,
            0.0258592069149017,
            7.608505249023437,
            4.716365814208984,
            5.704264163970947,
            0,
            20.512126922607425,
            1.0550187826156616,
            1.2522311210632324,
            3.139981985092163,
            6.3393073081970215,
            2.4725899696350098,
            0.9883764982223512,
            32.73076629638672,
            67.58245849609375,
            0,
            11.41504955291748,
            35.52646255493164,
            16.949201583862305,
            0.8203049898147583,
            15.646868705749512,
            0,
            10.312889099121094,
            6.975970268249512,
            0,
            6.664679050445557,
            13.84743881225586,
            0.5403345227241516,
            0.312198281288147,
            9.167547225952148,
            17.628238677978516,
            35.828453063964844,
            31.92898368835449,
            1.8205389976501465,
            2.5714476108551025,
            0.073654256761074,
            9.108513832092283,
            0.0061345929279923,
            2.264666080474853,
            0,
            1.085674524307251,
            2.9385921955108643,
            20.884944915771484,
            22.102148056030277,
            3.4213709831237797
           ]
          }
         ],
         "name": "2001"
        },
        {
         "data": [
          {
           "coloraxis": "coloraxis",
           "geo": "geo",
           "hovertemplate": "Year=2002<br>Entity=%{location}<br>Renewables (% equivalent primary energy)=%{z}<extra></extra>",
           "locationmode": "country names",
           "locations": [
            "Algeria",
            "Argentina",
            "Australia",
            "Austria",
            "Azerbaijan",
            "Bangladesh",
            "Belarus",
            "Belgium",
            "Brazil",
            "Bulgaria",
            "Canada",
            "Chile",
            "China",
            "Colombia",
            "Croatia",
            "Cyprus",
            "Czechia",
            "Denmark",
            "Ecuador",
            "Egypt",
            "Estonia",
            "Finland",
            "France",
            "Germany",
            "Greece",
            "Hungary",
            "Iceland",
            "India",
            "Indonesia",
            "Iran",
            "Iraq",
            "Ireland",
            "Israel",
            "Italy",
            "Japan",
            "Kazakhstan",
            "Kuwait",
            "Latvia",
            "Lithuania",
            "Luxembourg",
            "Malaysia",
            "Mexico",
            "Morocco",
            "Netherlands",
            "New Zealand",
            "Norway",
            "Oman",
            "Pakistan",
            "Peru",
            "Philippines",
            "Poland",
            "Portugal",
            "Qatar",
            "Romania",
            "Russia",
            "Saudi Arabia",
            "Slovakia",
            "Slovenia",
            "South Africa",
            "South Korea",
            "Spain",
            "Sri Lanka",
            "Sweden",
            "Switzerland",
            "Taiwan",
            "Thailand",
            "Trinidad and Tobago",
            "Turkey",
            "Turkmenistan",
            "Ukraine",
            "United Arab Emirates",
            "United Kingdom",
            "Uzbekistan",
            "Venezuela",
            "Vietnam",
            "United States"
           ],
           "name": "",
           "type": "choropleth",
           "z": [
            0.0516767688095569,
            16.249305725097656,
            3.931450366973877,
            30.32511711120605,
            4.700666427612305,
            1.362207531929016,
            0.0329970680177211,
            0.4797349274158478,
            40.75665283203125,
            2.9185118675231934,
            28.54655647277832,
            22.61726951599121,
            6.28048849105835,
            32.69255447387695,
            16.80569076538086,
            0,
            1.8193734884262085,
            8.586956977844238,
            21.095178604125977,
            6.795775890350342,
            0.1870826184749603,
            16.264904022216797,
            6.175621032714844,
            3.5386319160461426,
            2.7831921577453613,
            0.2477126717567443,
            69.75589752197266,
            5.731832027435303,
            3.683813571929932,
            1.4433478116989136,
            3.8850464820861816,
            2.2286500930786133,
            0.0402974635362625,
            6.778376579284668,
            4.702637195587158,
            6.120413780212402,
            0,
            17.687973022460938,
            1.071800708770752,
            1.0301426649093628,
            2.593757390975952,
            5.449038505554199,
            2.324991226196289,
            1.1863465309143066,
            35.126747131347656,
            69.30982208251953,
            0,
            12.188603401184082,
            35.35195541381836,
            16.691974639892578,
            0.8196592330932617,
            9.748955726623535,
            0,
            10.61510944366455,
            6.492728233337402,
            0,
            7.00519323348999,
            12.223347663879396,
            0.6535402536392212,
            0.4185769259929657,
            6.44627046585083,
            14.75817584991455,
            32.52216720581055,
            29.157331466674805,
            1.2093641757965088,
            2.8180336952209477,
            0.0616665482521057,
            11.535796165466309,
            0.0072076362557709,
            1.8132338523864744,
            0,
            1.2876194715499878,
            2.927602529525757,
            20.20368385314941,
            20.06266021728516,
            4.015506744384766
           ]
          }
         ],
         "name": "2002"
        },
        {
         "data": [
          {
           "coloraxis": "coloraxis",
           "geo": "geo",
           "hovertemplate": "Year=2003<br>Entity=%{location}<br>Renewables (% equivalent primary energy)=%{z}<extra></extra>",
           "locationmode": "country names",
           "locations": [
            "Algeria",
            "Argentina",
            "Australia",
            "Austria",
            "Azerbaijan",
            "Bangladesh",
            "Belarus",
            "Belgium",
            "Brazil",
            "Bulgaria",
            "Canada",
            "Chile",
            "China",
            "Colombia",
            "Croatia",
            "Cyprus",
            "Czechia",
            "Denmark",
            "Ecuador",
            "Egypt",
            "Estonia",
            "Finland",
            "France",
            "Germany",
            "Greece",
            "Hungary",
            "Iceland",
            "India",
            "Indonesia",
            "Iran",
            "Iraq",
            "Ireland",
            "Israel",
            "Italy",
            "Japan",
            "Kazakhstan",
            "Kuwait",
            "Latvia",
            "Lithuania",
            "Luxembourg",
            "Malaysia",
            "Mexico",
            "Morocco",
            "Netherlands",
            "New Zealand",
            "Norway",
            "Oman",
            "Pakistan",
            "Peru",
            "Philippines",
            "Poland",
            "Portugal",
            "Qatar",
            "Romania",
            "Russia",
            "Saudi Arabia",
            "Slovakia",
            "Slovenia",
            "South Africa",
            "South Korea",
            "Spain",
            "Sri Lanka",
            "Sweden",
            "Switzerland",
            "Taiwan",
            "Thailand",
            "Trinidad and Tobago",
            "Turkey",
            "Turkmenistan",
            "Ukraine",
            "United Arab Emirates",
            "United Kingdom",
            "Uzbekistan",
            "Venezuela",
            "Vietnam",
            "United States"
           ],
           "name": "",
           "type": "choropleth",
           "z": [
            0.2281039953231811,
            14.408259391784668,
            4.0149688720703125,
            25.14051818847656,
            5.277902603149414,
            1.2784041166305542,
            0.0318962857127189,
            0.4867145419120788,
            42.28412628173828,
            3.85972261428833,
            27.18001365661621,
            22.01080894470215,
            5.301109313964844,
            33.38913345336914,
            14.887933731079102,
            0,
            1.0856817960739136,
            9.462800979614258,
            19.53344345092773,
            5.937697887420654,
            0.2202849835157394,
            14.59368133544922,
            5.96218204498291,
            3.641989707946777,
            4.297642230987549,
            0.3591854870319366,
            69.681640625,
            5.624061584472656,
            3.2210946083068848,
            1.6837654113769531,
            4.535982608795166,
            1.877527356147766,
            0.0522136241197586,
            6.339079856872559,
            5.332041263580322,
            5.3825554847717285,
            0,
            16.751474380493164,
            0.9452001452445984,
            0.9174071550369264,
            2.253213167190552,
            4.65245532989502,
            3.657069444656372,
            1.1635091304779053,
            34.357147216796875,
            63.816036224365234,
            0,
            13.333745002746582,
            36.600242614746094,
            16.424407958984375,
            0.6754677295684814,
            17.057003021240234,
            0,
            8.716782569885254,
            6.075376987457275,
            0,
            4.494421482086182,
            11.17664623260498,
            0.2989763021469116,
            0.5985386967658997,
            9.758903503417969,
            17.510587692260742,
            27.90148162841797,
            28.983333587646484,
            1.2677935361862185,
            2.722708225250244,
            0.0273346900939941,
            11.330117225646973,
            0.0051890471950173,
            1.688597321510315,
            0,
            1.2342336177825928,
            3.66965913772583,
            21.840665817260746,
            19.297657012939453,
            4.18004035949707
           ]
          }
         ],
         "name": "2003"
        },
        {
         "data": [
          {
           "coloraxis": "coloraxis",
           "geo": "geo",
           "hovertemplate": "Year=2004<br>Entity=%{location}<br>Renewables (% equivalent primary energy)=%{z}<extra></extra>",
           "locationmode": "country names",
           "locations": [
            "Algeria",
            "Argentina",
            "Australia",
            "Austria",
            "Azerbaijan",
            "Bangladesh",
            "Belarus",
            "Belgium",
            "Brazil",
            "Bulgaria",
            "Canada",
            "Chile",
            "China",
            "Colombia",
            "Croatia",
            "Cyprus",
            "Czechia",
            "Denmark",
            "Ecuador",
            "Egypt",
            "Estonia",
            "Finland",
            "France",
            "Germany",
            "Greece",
            "Hungary",
            "Iceland",
            "India",
            "Indonesia",
            "Iran",
            "Iraq",
            "Ireland",
            "Israel",
            "Italy",
            "Japan",
            "Kazakhstan",
            "Kuwait",
            "Latvia",
            "Lithuania",
            "Luxembourg",
            "Malaysia",
            "Mexico",
            "Morocco",
            "Netherlands",
            "New Zealand",
            "Norway",
            "Oman",
            "Pakistan",
            "Peru",
            "Philippines",
            "Poland",
            "Portugal",
            "Qatar",
            "Romania",
            "Russia",
            "Saudi Arabia",
            "Slovakia",
            "Slovenia",
            "South Africa",
            "South Korea",
            "Spain",
            "Sri Lanka",
            "Sweden",
            "Switzerland",
            "Taiwan",
            "Thailand",
            "Trinidad and Tobago",
            "Turkey",
            "Turkmenistan",
            "Ukraine",
            "United Arab Emirates",
            "United Kingdom",
            "Uzbekistan",
            "Venezuela",
            "Vietnam",
            "United States"
           ],
           "name": "",
           "type": "choropleth",
           "z": [
            0.2067869007587433,
            12.185575485229492,
            4.036560535430908,
            27.63378524780273,
            5.158581733703613,
            1.2296963930130005,
            0.0343801379203796,
            0.6062989234924316,
            42.2861557006836,
            4.144021987915039,
            26.82792282104492,
            19.76844596862793,
            5.600940227508545,
            34.505455017089844,
            19.89908218383789,
            0.0069648222997784,
            1.4602341651916504,
            11.729121208190918,
            18.73490524291992,
            5.634644031524658,
            0.2874273657798767,
            19.509204864501957,
            5.970314979553223,
            4.516597747802734,
            4.291225910186768,
            1.0114941596984863,
            68.89617919921875,
            7.460848808288574,
            3.4259636402130127,
            1.884332299232483,
            5.081915855407715,
            2.2567780017852783,
            0.0461368672549724,
            7.220356941223144,
            5.257669925689697,
            4.701576232910156,
            0,
            20.242414474487305,
            1.1986761093139648,
            1.1120193004608154,
            2.319720268249512,
            5.303242206573486,
            3.4734976291656494,
            1.5031250715255735,
            37.79446792602539,
            64.23876190185547,
            0,
            12.676342964172363,
            32.29750442504883,
            16.85270881652832,
            0.8912424445152283,
            12.08957290649414,
            0,
            10.407816886901855,
            6.754271030426025,
            0,
            5.424992084503174,
            14.30686378479004,
            0.2939848303794861,
            0.5346380472183228,
            8.44090461730957,
            16.02532196044922,
            30.18760299682617,
            28.436500549316406,
            1.2749457359313965,
            2.313349723815918,
            0.0464581362903118,
            13.691692352294922,
            0.005208134651184,
            2.1416072845458984,
            0,
            1.6083946228027344,
            3.3196120262146,
            23.13043594360352,
            14.763954162597656,
            4.101511478424072
           ]
          }
         ],
         "name": "2004"
        },
        {
         "data": [
          {
           "coloraxis": "coloraxis",
           "geo": "geo",
           "hovertemplate": "Year=2005<br>Entity=%{location}<br>Renewables (% equivalent primary energy)=%{z}<extra></extra>",
           "locationmode": "country names",
           "locations": [
            "Algeria",
            "Argentina",
            "Australia",
            "Austria",
            "Azerbaijan",
            "Bangladesh",
            "Belarus",
            "Belgium",
            "Brazil",
            "Bulgaria",
            "Canada",
            "Chile",
            "China",
            "Colombia",
            "Croatia",
            "Cyprus",
            "Czechia",
            "Denmark",
            "Ecuador",
            "Egypt",
            "Estonia",
            "Finland",
            "France",
            "Germany",
            "Greece",
            "Hungary",
            "Iceland",
            "India",
            "Indonesia",
            "Iran",
            "Iraq",
            "Ireland",
            "Israel",
            "Italy",
            "Japan",
            "Kazakhstan",
            "Kuwait",
            "Latvia",
            "Lithuania",
            "Luxembourg",
            "Malaysia",
            "Mexico",
            "Morocco",
            "Netherlands",
            "New Zealand",
            "Norway",
            "Oman",
            "Pakistan",
            "Peru",
            "Philippines",
            "Poland",
            "Portugal",
            "Qatar",
            "Romania",
            "Russia",
            "Saudi Arabia",
            "Slovakia",
            "Slovenia",
            "South Africa",
            "South Korea",
            "Spain",
            "Sri Lanka",
            "Sweden",
            "Switzerland",
            "Taiwan",
            "Thailand",
            "Trinidad and Tobago",
            "Turkey",
            "Turkmenistan",
            "Ukraine",
            "United Arab Emirates",
            "United Kingdom",
            "Uzbekistan",
            "Venezuela",
            "Vietnam",
            "United States"
           ],
           "name": "",
           "type": "choropleth",
           "z": [
            0.434118777513504,
            12.78852367401123,
            4.313553333282471,
            27.94786071777344,
            5.165003299713135,
            1.1353458166122437,
            0.0372844524681568,
            0.8666802048683167,
            43.14569854736328,
            5.212997913360596,
            28.26547622680664,
            22.41524314880371,
            5.554481029510498,
            35.05353164672852,
            18.502132415771484,
            0.0075332997366786,
            1.7223583459854126,
            12.488842964172363,
            16.59660530090332,
            5.385705947875977,
            0.5005239248275757,
            19.463720321655277,
            5.3653340339660645,
            5.208419322967529,
            4.600325584411621,
            1.910650372505188,
            68.64934539794922,
            6.894316673278809,
            3.527426242828369,
            2.142638683319092,
            4.544925212860107,
            2.884649991989136,
            0.0456203892827034,
            6.433543682098389,
            4.790322780609131,
            4.432411670684815,
            0,
            20.85358428955078,
            1.4099653959274292,
            1.1679210662841797,
            2.2862064838409424,
            5.473337173461914,
            2.08169174194336,
            2.078050136566162,
            34.68292236328125,
            69.73603057861328,
            0,
            13.59751033782959,
            31.846309661865234,
            16.317411422729492,
            1.1354769468307495,
            8.11561393737793,
            0,
            12.62943172454834,
            6.603690147399902,
            0,
            5.801838874816895,
            12.04576301574707,
            0.4043339192867279,
            0.4535388648509979,
            6.923494338989258,
            16.077098846435547,
            34.73208999633789,
            27.37746810913086,
            1.4732279777526855,
            2.27521014213562,
            0.0418197251856327,
            11.418582916259766,
            0.0051119741983711,
            2.211732149124145,
            0,
            1.924692988395691,
            3.499483585357666,
            24.53365898132324,
            12.84674835205078,
            4.219231128692627
           ]
          }
         ],
         "name": "2005"
        },
        {
         "data": [
          {
           "coloraxis": "coloraxis",
           "geo": "geo",
           "hovertemplate": "Year=2006<br>Entity=%{location}<br>Renewables (% equivalent primary energy)=%{z}<extra></extra>",
           "locationmode": "country names",
           "locations": [
            "Algeria",
            "Argentina",
            "Australia",
            "Austria",
            "Azerbaijan",
            "Bangladesh",
            "Belarus",
            "Belgium",
            "Brazil",
            "Bulgaria",
            "Canada",
            "Chile",
            "China",
            "Colombia",
            "Croatia",
            "Cyprus",
            "Czechia",
            "Denmark",
            "Ecuador",
            "Egypt",
            "Estonia",
            "Finland",
            "France",
            "Germany",
            "Greece",
            "Hungary",
            "Iceland",
            "India",
            "Indonesia",
            "Iran",
            "Iraq",
            "Ireland",
            "Israel",
            "Italy",
            "Japan",
            "Kazakhstan",
            "Kuwait",
            "Latvia",
            "Lithuania",
            "Luxembourg",
            "Malaysia",
            "Mexico",
            "Morocco",
            "Netherlands",
            "New Zealand",
            "Norway",
            "Oman",
            "Pakistan",
            "Peru",
            "Philippines",
            "Poland",
            "Portugal",
            "Qatar",
            "Romania",
            "Russia",
            "Saudi Arabia",
            "Slovakia",
            "Slovenia",
            "South Africa",
            "South Korea",
            "Spain",
            "Sri Lanka",
            "Sweden",
            "Switzerland",
            "Taiwan",
            "Thailand",
            "Trinidad and Tobago",
            "Turkey",
            "Turkmenistan",
            "Ukraine",
            "United Arab Emirates",
            "United Kingdom",
            "Uzbekistan",
            "Venezuela",
            "Vietnam",
            "United States"
           ],
           "name": "",
           "type": "choropleth",
           "z": [
            0.1632719486951828,
            13.449461936950684,
            4.233413219451904,
            28.591209411621094,
            4.366299629211426,
            1.046309471130371,
            0.0360127910971641,
            1.209545016288757,
            43.04596328735352,
            4.984425067901611,
            27.61646842956543,
            22.56665802001953,
            5.577982425689697,
            34.14271926879883,
            17.524089813232422,
            0.012689396739006,
            1.9475972652435305,
            10.61083984375,
            16.251609802246094,
            5.172313690185547,
            0.5939513444900513,
            17.534887313842773,
            5.96973180770874,
            6.026304721832275,
            5.3219499588012695,
            1.540813446044922,
            70.91828155517578,
            7.706239700317383,
            3.220308542251587,
            2.50073790550232,
            4.73859977722168,
            3.701901912689209,
            0.0291454084217548,
            6.7299885749816895,
            5.309008598327637,
            4.047025203704834,
            0,
            17.83665657043457,
            1.3948395252227783,
            1.3908711671829224,
            2.3655073642730717,
            5.586086273193359,
            2.018249034881592,
            2.3150839805603027,
            34.81112289428711,
            66.7352523803711,
            0,
            12.633492469787598,
            34.128055572509766,
            18.684961318969727,
            1.2485812902450562,
            15.57256317138672,
            0,
            11.172654151916504,
            6.309632778167725,
            0,
            6.194248199462891,
            12.255212783813477,
            0.7259401679039001,
            0.4502668976783752,
            8.360922813415527,
            19.95938873291016,
            32.33127975463867,
            26.049184799194336,
            1.4754010438919067,
            2.9778263568878174,
            0.0421880409121513,
            11.456920623779297,
            0.0050275013782083,
            2.2632830142974854,
            0,
            2.11630916595459,
            3.159280776977539,
            24.40198516845703,
            16.607240676879883,
            4.678860664367676
           ]
          }
         ],
         "name": "2006"
        },
        {
         "data": [
          {
           "coloraxis": "coloraxis",
           "geo": "geo",
           "hovertemplate": "Year=2007<br>Entity=%{location}<br>Renewables (% equivalent primary energy)=%{z}<extra></extra>",
           "locationmode": "country names",
           "locations": [
            "Algeria",
            "Argentina",
            "Australia",
            "Austria",
            "Azerbaijan",
            "Bangladesh",
            "Belarus",
            "Belgium",
            "Brazil",
            "Bulgaria",
            "Canada",
            "Chile",
            "China",
            "Colombia",
            "Croatia",
            "Cyprus",
            "Czechia",
            "Denmark",
            "Ecuador",
            "Egypt",
            "Estonia",
            "Finland",
            "France",
            "Germany",
            "Greece",
            "Hungary",
            "Iceland",
            "India",
            "Indonesia",
            "Iran",
            "Iraq",
            "Ireland",
            "Israel",
            "Italy",
            "Japan",
            "Kazakhstan",
            "Kuwait",
            "Latvia",
            "Lithuania",
            "Luxembourg",
            "Malaysia",
            "Mexico",
            "Morocco",
            "Netherlands",
            "New Zealand",
            "Norway",
            "Oman",
            "Pakistan",
            "Peru",
            "Philippines",
            "Poland",
            "Portugal",
            "Qatar",
            "Romania",
            "Russia",
            "Saudi Arabia",
            "Slovakia",
            "Slovenia",
            "South Africa",
            "South Korea",
            "Spain",
            "Sri Lanka",
            "Sweden",
            "Switzerland",
            "Taiwan",
            "Thailand",
            "Trinidad and Tobago",
            "Turkey",
            "Turkmenistan",
            "Ukraine",
            "United Arab Emirates",
            "United Kingdom",
            "Uzbekistan",
            "Venezuela",
            "Vietnam",
            "United States"
           ],
           "name": "",
           "type": "choropleth",
           "z": [
            0.1599045693874359,
            10.599154472351074,
            3.976722717285156,
            30.980609893798828,
            4.502970218658447,
            1.0207374095916748,
            0.0496960021555423,
            1.4152519702911377,
            44.38022613525391,
            3.510520696640014,
            27.69431495666504,
            18.70613670349121,
            5.71853494644165,
            35.182762145996094,
            12.365527153015137,
            0.0296303909271955,
            1.9150995016098025,
            12.422539710998535,
            19.55727195739746,
            5.363155364990234,
            0.5890300869941711,
            18.869096755981445,
            6.638713359832764,
            7.653833389282227,
            3.113685846328736,
            1.963713526725769,
            74.30168914794922,
            7.855644702911377,
            3.370551109313965,
            2.270635843276977,
            4.272894382476807,
            4.042658805847168,
            0.0265799686312675,
            6.431970596313477,
            4.761953353881836,
            3.818174362182617,
            0,
            17.44501495361328,
            1.6962822675704956,
            1.5379573106765747,
            2.138460159301758,
            5.20954704284668,
            2.050191640853882,
            2.417424440383911,
            35.40663528442383,
            69.2405014038086,
            0,
            12.365367889404297,
            31.03961563110352,
            16.430105209350586,
            1.562344670295715,
            16.1436710357666,
            0,
            10.032530784606934,
            6.371350765228272,
            0,
            6.746675968170166,
            11.193771362304688,
            0.7023894190788269,
            0.5043082237243652,
            9.064817428588867,
            16.62855339050293,
            34.599029541015625,
            29.711977005004883,
            1.526246428489685,
            2.9363691806793213,
            0.0310517288744449,
            8.779489517211914,
            0.0051490101031959,
            1.8360310792922971,
            0,
            2.422110080718994,
            3.23553466796875,
            23.413423538208008,
            17.202272415161133,
            4.373008728027344
           ]
          }
         ],
         "name": "2007"
        },
        {
         "data": [
          {
           "coloraxis": "coloraxis",
           "geo": "geo",
           "hovertemplate": "Year=2008<br>Entity=%{location}<br>Renewables (% equivalent primary energy)=%{z}<extra></extra>",
           "locationmode": "country names",
           "locations": [
            "Algeria",
            "Argentina",
            "Australia",
            "Austria",
            "Azerbaijan",
            "Bangladesh",
            "Belarus",
            "Belgium",
            "Brazil",
            "Bulgaria",
            "Canada",
            "Chile",
            "China",
            "Colombia",
            "Croatia",
            "Cyprus",
            "Czechia",
            "Denmark",
            "Ecuador",
            "Egypt",
            "Estonia",
            "Finland",
            "France",
            "Germany",
            "Greece",
            "Hungary",
            "Iceland",
            "India",
            "Indonesia",
            "Iran",
            "Iraq",
            "Ireland",
            "Israel",
            "Italy",
            "Japan",
            "Kazakhstan",
            "Kuwait",
            "Latvia",
            "Lithuania",
            "Luxembourg",
            "Malaysia",
            "Mexico",
            "Morocco",
            "Netherlands",
            "New Zealand",
            "Norway",
            "Oman",
            "Pakistan",
            "Peru",
            "Philippines",
            "Poland",
            "Portugal",
            "Qatar",
            "Romania",
            "Russia",
            "Saudi Arabia",
            "Slovakia",
            "Slovenia",
            "South Africa",
            "South Korea",
            "Spain",
            "Sri Lanka",
            "Sweden",
            "Switzerland",
            "Taiwan",
            "Thailand",
            "Trinidad and Tobago",
            "Turkey",
            "Turkmenistan",
            "Ukraine",
            "United Arab Emirates",
            "United Kingdom",
            "Uzbekistan",
            "Venezuela",
            "Vietnam",
            "United States"
           ],
           "name": "",
           "type": "choropleth",
           "z": [
            0.1877543032169342,
            10.437064170837402,
            3.681326389312744,
            31.345478057861328,
            4.184756755828857,
            1.2218128442764282,
            0.0729058384895324,
            1.7643935680389404,
            43.36677551269531,
            3.5983686447143555,
            28.590091705322266,
            20.915376663208008,
            7.268667221069336,
            33.941410064697266,
            15.226480484008787,
            0.1330990642309188,
            2.153617143630981,
            12.605600357055664,
            22.617521286010746,
            5.414237022399902,
            0.8455262780189514,
            22.42776679992676,
            7.632267475128174,
            7.817628383636475,
            3.98714017868042,
            2.488173246383667,
            81.15161895751953,
            7.257065296173096,
            3.5865321159362797,
            0.9235934615135192,
            2.381868362426758,
            5.1767683029174805,
            0.035232625901699,
            8.195320129394531,
            4.830859184265137,
            3.284911870956421,
            0,
            19.558801651000977,
            1.7692843675613403,
            1.6481373310089111,
            2.6245639324188232,
            6.696115970611572,
            1.8975967168807983,
            2.913216352462769,
            34.397457122802734,
            69.89543151855469,
            0,
            10.553434371948242,
            28.02155303955078,
            17.31336212158203,
            2.207611322402954,
            15.146782875061035,
            0,
            10.699505805969238,
            5.867445468902588,
            8.16559841041e-05,
            6.227740287780762,
            13.05240535736084,
            0.3504508435726166,
            0.5293462872505188,
            9.948370933532717,
            18.366500854492188,
            36.928470611572266,
            29.249441146850582,
            1.5631176233291626,
            2.9482808113098145,
            0.0332830809056758,
            8.211599349975586,
            0.0062377746216952,
            2.132999897003174,
            0,
            2.912039041519165,
            2.328987836837769,
            24.75938034057617,
            16.009517669677734,
            5.004550457000732
           ]
          }
         ],
         "name": "2008"
        },
        {
         "data": [
          {
           "coloraxis": "coloraxis",
           "geo": "geo",
           "hovertemplate": "Year=2009<br>Entity=%{location}<br>Renewables (% equivalent primary energy)=%{z}<extra></extra>",
           "locationmode": "country names",
           "locations": [
            "Algeria",
            "Argentina",
            "Australia",
            "Austria",
            "Azerbaijan",
            "Bangladesh",
            "Belarus",
            "Belgium",
            "Brazil",
            "Bulgaria",
            "Canada",
            "Chile",
            "China",
            "Colombia",
            "Croatia",
            "Cyprus",
            "Czechia",
            "Denmark",
            "Ecuador",
            "Egypt",
            "Estonia",
            "Finland",
            "France",
            "Germany",
            "Greece",
            "Hungary",
            "Iceland",
            "India",
            "Indonesia",
            "Iran",
            "Iraq",
            "Ireland",
            "Israel",
            "Italy",
            "Japan",
            "Kazakhstan",
            "Kuwait",
            "Latvia",
            "Lithuania",
            "Luxembourg",
            "Malaysia",
            "Mexico",
            "Morocco",
            "Netherlands",
            "New Zealand",
            "Norway",
            "Oman",
            "Pakistan",
            "Peru",
            "Philippines",
            "Poland",
            "Portugal",
            "Qatar",
            "Romania",
            "Russia",
            "Saudi Arabia",
            "Slovakia",
            "Slovenia",
            "South Africa",
            "South Korea",
            "Spain",
            "Sri Lanka",
            "Sweden",
            "Switzerland",
            "Taiwan",
            "Thailand",
            "Trinidad and Tobago",
            "Turkey",
            "Turkmenistan",
            "Ukraine",
            "United Arab Emirates",
            "United Kingdom",
            "Uzbekistan",
            "Venezuela",
            "Vietnam",
            "United States"
           ],
           "name": "",
           "type": "choropleth",
           "z": [
            0.2127854824066162,
            11.783506393432615,
            3.920266151428223,
            34.322513580322266,
            4.871127605438232,
            0.5117601156234741,
            0.1132526993751525,
            2.521434783935547,
            46.30883026123047,
            5.127213001251221,
            29.209449768066406,
            21.77743148803711,
            6.9355316162109375,
            31.377744674682617,
            19.643877029418945,
            0.280972957611084,
            2.7962987422943115,
            13.328370094299316,
            18.929243087768555,
            4.800594806671143,
            2.787216186523437,
            19.18045997619629,
            7.70644998550415,
            8.454279899597168,
            5.843324661254883,
            3.308107614517212,
            82.50260162353516,
            6.473570346832275,
            3.655174016952514,
            0.8136967420578003,
            2.32802677154541,
            6.452940464019775,
            0.114865705370903,
            10.585500717163086,
            5.021396160125732,
            3.3547346591949463,
            0,
            22.685836791992188,
            2.186495065689087,
            1.6371243000030518,
            2.622681140899658,
            4.956578254699707,
            4.711688995361328,
            3.4302778244018555,
            37.89860534667969,
            67.78923034667969,
            0,
            10.885856628417969,
            28.333690643310547,
            16.679698944091797,
            3.065821647644043,
            18.849367141723636,
            0,
            10.989452362060549,
            6.485455513000488,
            7.74425279814e-05,
            7.332043170928955,
            15.946547508239746,
            0.3878562748432159,
            0.570094645023346,
            12.662100791931152,
            17.01668357849121,
            39.14199066162109,
            28.932710647583008,
            1.4994723796844482,
            3.0501224994659424,
            0.0325741730630397,
            8.923343658447266,
            0.003802033374086,
            2.5476245880126958,
            0.0019177263602614,
            3.54540491104126,
            3.4478518962860107,
            24.415695190429688,
            17.948020935058594,
            5.80000638961792
           ]
          }
         ],
         "name": "2009"
        },
        {
         "data": [
          {
           "coloraxis": "coloraxis",
           "geo": "geo",
           "hovertemplate": "Year=2010<br>Entity=%{location}<br>Renewables (% equivalent primary energy)=%{z}<extra></extra>",
           "locationmode": "country names",
           "locations": [
            "Algeria",
            "Argentina",
            "Australia",
            "Austria",
            "Azerbaijan",
            "Bangladesh",
            "Belarus",
            "Belgium",
            "Brazil",
            "Bulgaria",
            "Canada",
            "Chile",
            "China",
            "Colombia",
            "Croatia",
            "Cyprus",
            "Czechia",
            "Denmark",
            "Ecuador",
            "Egypt",
            "Estonia",
            "Finland",
            "France",
            "Germany",
            "Greece",
            "Hungary",
            "Iceland",
            "India",
            "Indonesia",
            "Iran",
            "Iraq",
            "Ireland",
            "Israel",
            "Italy",
            "Japan",
            "Kazakhstan",
            "Kuwait",
            "Latvia",
            "Lithuania",
            "Luxembourg",
            "Malaysia",
            "Mexico",
            "Morocco",
            "Netherlands",
            "New Zealand",
            "Norway",
            "Oman",
            "Pakistan",
            "Peru",
            "Philippines",
            "Poland",
            "Portugal",
            "Qatar",
            "Romania",
            "Russia",
            "Saudi Arabia",
            "Slovakia",
            "Slovenia",
            "South Africa",
            "South Korea",
            "Spain",
            "Sri Lanka",
            "Sweden",
            "Switzerland",
            "Taiwan",
            "Thailand",
            "Trinidad and Tobago",
            "Turkey",
            "Turkmenistan",
            "Ukraine",
            "United Arab Emirates",
            "United Kingdom",
            "Uzbekistan",
            "Venezuela",
            "Vietnam",
            "United States"
           ],
           "name": "",
           "type": "choropleth",
           "z": [
            0.1151323765516281,
            11.661375045776367,
            4.312804698944092,
            31.605642318725582,
            7.311431884765625,
            0.8648931980133057,
            0.1292484998703003,
            3.099550724029541,
            44.24653625488281,
            7.616096019744873,
            27.78968811035156,
            19.26434135437012,
            7.615997791290283,
            30.09203720092773,
            23.85037422180176,
            0.6377341151237488,
            3.355466604232788,
            15.651074409484863,
            15.936485290527344,
            4.461719036102295,
            4.391971588134766,
            19.64714241027832,
            8.220292091369629,
            8.792469024658203,
            7.824593067169189,
            3.356312990188598,
            83.07627868652344,
            6.5836710929870605,
            4.326220989227295,
            1.1950724124908447,
            2.637557029724121,
            5.853092670440674,
            0.1872830390930175,
            11.43080997467041,
            5.684884071350098,
            3.624057292938232,
            0,
            20.366039276123047,
            3.9403252601623535,
            1.5543997287750244,
            2.325418710708618,
            6.283123970031738,
            5.887355327606201,
            3.2134413719177246,
            38.81748580932617,
            65.4701919555664,
            0,
            11.174628257751465,
            25.21364021301269,
            14.187131881713867,
            3.4536800384521484,
            27.393207550048828,
            0,
            14.136738777160645,
            5.931856155395508,
            0.0004681668942794,
            7.976163387298584,
            15.326107025146484,
            0.3150299787521362,
            0.9195590615272522,
            16.7428035736084,
            22.89451789855957,
            38.351444244384766,
            29.882568359375,
            1.562086820602417,
            2.8064701557159424,
            0.0047509721480309,
            12.280028343200684,
            0.0036830562166869,
            2.610059976577759,
            0.0052583711221814,
            3.659129858016968,
            4.280482292175293,
            22.48446273803711,
            14.711740493774414,
            5.840554714202881
           ]
          }
         ],
         "name": "2010"
        },
        {
         "data": [
          {
           "coloraxis": "coloraxis",
           "geo": "geo",
           "hovertemplate": "Year=2011<br>Entity=%{location}<br>Renewables (% equivalent primary energy)=%{z}<extra></extra>",
           "locationmode": "country names",
           "locations": [
            "Algeria",
            "Argentina",
            "Australia",
            "Austria",
            "Azerbaijan",
            "Bangladesh",
            "Belarus",
            "Belgium",
            "Brazil",
            "Bulgaria",
            "Canada",
            "Chile",
            "China",
            "Colombia",
            "Croatia",
            "Cyprus",
            "Czechia",
            "Denmark",
            "Ecuador",
            "Egypt",
            "Estonia",
            "Finland",
            "France",
            "Germany",
            "Greece",
            "Hungary",
            "Iceland",
            "India",
            "Indonesia",
            "Iran",
            "Iraq",
            "Ireland",
            "Israel",
            "Italy",
            "Japan",
            "Kazakhstan",
            "Kuwait",
            "Latvia",
            "Lithuania",
            "Luxembourg",
            "Malaysia",
            "Mexico",
            "Morocco",
            "Netherlands",
            "New Zealand",
            "Norway",
            "Oman",
            "Pakistan",
            "Peru",
            "Philippines",
            "Poland",
            "Portugal",
            "Qatar",
            "Romania",
            "Russia",
            "Saudi Arabia",
            "Slovakia",
            "Slovenia",
            "South Africa",
            "South Korea",
            "Spain",
            "Sri Lanka",
            "Sweden",
            "Switzerland",
            "Taiwan",
            "Thailand",
            "Trinidad and Tobago",
            "Turkey",
            "Turkmenistan",
            "Ukraine",
            "United Arab Emirates",
            "United Kingdom",
            "Uzbekistan",
            "Venezuela",
            "Vietnam",
            "United States"
           ],
           "name": "",
           "type": "choropleth",
           "z": [
            0.2352599054574966,
            10.929448127746582,
            5.698980808258057,
            30.72079467773437,
            5.077953815460205,
            0.9513694643974304,
            0.1430341899394989,
            4.04599142074585,
            43.91006088256836,
            4.849966526031494,
            28.62636947631836,
            17.5023250579834,
            7.084204196929932,
            34.51567459106445,
            15.472614288330078,
            1.5228558778762815,
            4.27268123626709,
            18.646690368652344,
            19.198841094970703,
            4.331544399261475,
            4.931231498718262,
            20.955501556396484,
            7.18551778793335,
            10.566965103149414,
            6.159234046936035,
            3.07369327545166,
            83.27398681640625,
            7.5013427734375,
            3.3885977268218994,
            1.189808011054993,
            2.3962152004241943,
            8.820140838623047,
            0.3186928331851959,
            12.44304656982422,
            5.733157157897949,
            3.1190946102142334,
            0,
            19.26850891113281,
            4.594768047332764,
            1.4713187217712402,
            2.859370470046997,
            5.88685417175293,
            3.64383602142334,
            3.811289310455322,
            39.53388595581055,
            66.30011749267578,
            0,
            11.41127872467041,
            24.354307174682617,
            15.43229866027832,
            4.042588710784912,
            24.51128578186035,
            0.0946004092693328,
            11.033339500427246,
            5.585275650024414,
            0.000582544482313,
            6.984350204467773,
            12.851765632629396,
            0.6983460783958435,
            1.2539451122283936,
            15.473434448242188,
            17.23112678527832,
            39.86112594604492,
            28.44281768798828,
            1.6331026554107666,
            3.4573397636413574,
            0.0048135966062545,
            11.913782119750977,
            0.0035940851084887,
            2.098528861999512,
            0.0055922521278262,
            4.891127109527588,
            2.823631048202514,
            23.65196990966797,
            19.02745246887207,
            6.897319316864014
           ]
          }
         ],
         "name": "2011"
        },
        {
         "data": [
          {
           "coloraxis": "coloraxis",
           "geo": "geo",
           "hovertemplate": "Year=2012<br>Entity=%{location}<br>Renewables (% equivalent primary energy)=%{z}<extra></extra>",
           "locationmode": "country names",
           "locations": [
            "Algeria",
            "Argentina",
            "Australia",
            "Austria",
            "Azerbaijan",
            "Bangladesh",
            "Belarus",
            "Belgium",
            "Brazil",
            "Bulgaria",
            "Canada",
            "Chile",
            "China",
            "Colombia",
            "Croatia",
            "Cyprus",
            "Czechia",
            "Denmark",
            "Ecuador",
            "Egypt",
            "Estonia",
            "Finland",
            "France",
            "Germany",
            "Greece",
            "Hungary",
            "Iceland",
            "India",
            "Indonesia",
            "Iran",
            "Iraq",
            "Ireland",
            "Israel",
            "Italy",
            "Japan",
            "Kazakhstan",
            "Kuwait",
            "Latvia",
            "Lithuania",
            "Luxembourg",
            "Malaysia",
            "Mexico",
            "Morocco",
            "Netherlands",
            "New Zealand",
            "Norway",
            "Oman",
            "Pakistan",
            "Peru",
            "Philippines",
            "Poland",
            "Portugal",
            "Qatar",
            "Romania",
            "Russia",
            "Saudi Arabia",
            "Slovakia",
            "Slovenia",
            "South Africa",
            "South Korea",
            "Spain",
            "Sri Lanka",
            "Sweden",
            "Switzerland",
            "Taiwan",
            "Thailand",
            "Trinidad and Tobago",
            "Turkey",
            "Turkmenistan",
            "Ukraine",
            "United Arab Emirates",
            "United Kingdom",
            "Uzbekistan",
            "Venezuela",
            "Vietnam",
            "United States"
           ],
           "name": "",
           "type": "choropleth",
           "z": [
            0.2245319485664367,
            10.216425895690918,
            5.700209140777588,
            35.929344177246094,
            3.337345600128174,
            0.8256486654281616,
            0.1589693427085876,
            5.060074806213379,
            42.066368103027344,
            6.869960784912109,
            28.97691345214844,
            18.09596061706543,
            8.522597312927246,
            31.74613380432129,
            16.519664764404297,
            2.300875186920166,
            4.792661190032959,
            20.934051513671875,
            19.840085983276367,
            4.1802897453308105,
            6.125763416290283,
            24.975452423095703,
            9.13736343383789,
            11.899699211120604,
            8.102893829345703,
            3.1865038871765137,
            83.54046630859375,
            6.727289199829102,
            3.471363306045532,
            1.3722978830337524,
            2.823270320892334,
            8.67947769165039,
            0.4811303615570068,
            14.16573715209961,
            5.650204658508301,
            2.857217311859131,
            0,
            24.737150192260746,
            4.873659610748291,
            1.8497294187545776,
            2.907140254974365,
            5.4620795249938965,
            3.113783359527588,
            3.963631391525269,
            36.91487121582031,
            70.0951156616211,
            0,
            4.3177876472473145,
            24.01105308532715,
            15.557659149169922,
            5.228509426116943,
            21.7015438079834,
            0.0834220722317695,
            10.43911838531494,
            5.55089282989502,
            0.0025984717067331,
            8.0147066116333,
            14.665226936340332,
            0.3148212134838104,
            1.288482666015625,
            15.889772415161133,
            12.257574081420898,
            43.30573654174805,
            31.85407829284668,
            1.9954243898391724,
            3.770574569702149,
            0.0048528085462749,
            12.52276611328125,
            0.0037522674538195,
            2.1388649940490723,
            0.006188437808305,
            5.453806877136231,
            3.208580255508423,
            22.07914352416992,
            23.388845443725582,
            6.88633394241333
           ]
          }
         ],
         "name": "2012"
        },
        {
         "data": [
          {
           "coloraxis": "coloraxis",
           "geo": "geo",
           "hovertemplate": "Year=2013<br>Entity=%{location}<br>Renewables (% equivalent primary energy)=%{z}<extra></extra>",
           "locationmode": "country names",
           "locations": [
            "Algeria",
            "Argentina",
            "Australia",
            "Austria",
            "Azerbaijan",
            "Bangladesh",
            "Belarus",
            "Belgium",
            "Brazil",
            "Bulgaria",
            "Canada",
            "Chile",
            "China",
            "Colombia",
            "Croatia",
            "Cyprus",
            "Czechia",
            "Denmark",
            "Ecuador",
            "Egypt",
            "Estonia",
            "Finland",
            "France",
            "Germany",
            "Greece",
            "Hungary",
            "Iceland",
            "India",
            "Indonesia",
            "Iran",
            "Iraq",
            "Ireland",
            "Israel",
            "Italy",
            "Japan",
            "Kazakhstan",
            "Kuwait",
            "Latvia",
            "Lithuania",
            "Luxembourg",
            "Malaysia",
            "Mexico",
            "Morocco",
            "Netherlands",
            "New Zealand",
            "Norway",
            "Oman",
            "Pakistan",
            "Peru",
            "Philippines",
            "Poland",
            "Portugal",
            "Qatar",
            "Romania",
            "Russia",
            "Saudi Arabia",
            "Slovakia",
            "Slovenia",
            "South Africa",
            "South Korea",
            "Spain",
            "Sri Lanka",
            "Sweden",
            "Switzerland",
            "Taiwan",
            "Thailand",
            "Trinidad and Tobago",
            "Turkey",
            "Turkmenistan",
            "Ukraine",
            "United Arab Emirates",
            "United Kingdom",
            "Uzbekistan",
            "Venezuela",
            "Vietnam",
            "United States"
           ],
           "name": "",
           "type": "choropleth",
           "z": [
            0.0647631958127021,
            10.950078964233398,
            6.525868892669678,
            35.26667404174805,
            2.78069281578064,
            0.7885019183158875,
            0.2241222858428955,
            5.382620334625244,
            39.83659744262695,
            9.59291934967041,
            28.94182777404785,
            18.43241500854492,
            8.959421157836914,
            29.385107040405277,
            26.37366104125977,
            3.23244047164917,
            5.604129314422607,
            21.37827491760254,
            17.37746238708496,
            4.177184581756592,
            4.7120137214660645,
            22.64786529541016,
            10.459434509277344,
            12.063335418701172,
            12.095451354980469,
            3.550579071044922,
            83.09185791015625,
            7.329665184020996,
            4.33060359954834,
            1.525709867477417,
            2.6760001182556152,
            9.44134521484375,
            0.5884290933609009,
            17.610694885253906,
            6.12996768951416,
            2.8628833293914795,
            0.0001157512306235,
            22.284587860107425,
            6.826762199401856,
            2.3042080402374268,
            3.3195533752441406,
            5.060070037841797,
            5.1105780601501465,
            3.945788860321045,
            36.92174530029297,
            67.50863647460938,
            0.0010279703419655,
            11.522516250610352,
            24.136716842651367,
            13.84713649749756,
            5.170562744140625,
            29.105731964111328,
            0.0783619880676269,
            14.889094352722168,
            6.19066858291626,
            0.0042603677138686,
            8.994414329528809,
            17.365846633911133,
            0.3706539869308471,
            1.515562891960144,
            19.901302337646484,
            24.803470611572266,
            38.95484924316406,
            30.987796783447266,
            1.9780341386795044,
            3.859154939651489,
            0.0047402819618582,
            13.31322193145752,
            0.0050741271115839,
            3.011183738708496,
            0.0209300145506858,
            6.954725742340088,
            3.133465051651001,
            21.720542907714844,
            23.87751197814941,
            7.134616374969482
           ]
          }
         ],
         "name": "2013"
        },
        {
         "data": [
          {
           "coloraxis": "coloraxis",
           "geo": "geo",
           "hovertemplate": "Year=2014<br>Entity=%{location}<br>Renewables (% equivalent primary energy)=%{z}<extra></extra>",
           "locationmode": "country names",
           "locations": [
            "Algeria",
            "Argentina",
            "Australia",
            "Austria",
            "Azerbaijan",
            "Bangladesh",
            "Belarus",
            "Belgium",
            "Brazil",
            "Bulgaria",
            "Canada",
            "Chile",
            "China",
            "Colombia",
            "Croatia",
            "Cyprus",
            "Czechia",
            "Denmark",
            "Ecuador",
            "Egypt",
            "Estonia",
            "Finland",
            "France",
            "Germany",
            "Greece",
            "Hungary",
            "Iceland",
            "India",
            "Indonesia",
            "Iran",
            "Iraq",
            "Ireland",
            "Israel",
            "Italy",
            "Japan",
            "Kazakhstan",
            "Kuwait",
            "Latvia",
            "Lithuania",
            "Luxembourg",
            "Malaysia",
            "Mexico",
            "Morocco",
            "Netherlands",
            "New Zealand",
            "Norway",
            "Oman",
            "Pakistan",
            "Peru",
            "Philippines",
            "Poland",
            "Portugal",
            "Qatar",
            "Romania",
            "Russia",
            "Saudi Arabia",
            "Slovakia",
            "Slovenia",
            "South Africa",
            "South Korea",
            "Spain",
            "Sri Lanka",
            "Sweden",
            "Switzerland",
            "Taiwan",
            "Thailand",
            "Trinidad and Tobago",
            "Turkey",
            "Turkmenistan",
            "Ukraine",
            "United Arab Emirates",
            "United Kingdom",
            "Uzbekistan",
            "Venezuela",
            "Vietnam",
            "United States"
           ],
           "name": "",
           "type": "choropleth",
           "z": [
            0.1175024658441543,
            11.03897762298584,
            5.979823112487793,
            36.64029693603516,
            2.433617115020752,
            0.6461619734764099,
            0.2067479342222213,
            6.051173210144043,
            38.85274505615234,
            9.543798446655272,
            28.14776039123535,
            20.19316291809082,
            10.197330474853516,
            28.36468505859375,
            28.121477127075195,
            3.1309735774993896,
            5.645435810089111,
            24.63370513916016,
            17.276142120361328,
            4.181652545928955,
            5.514126300811768,
            24.728233337402344,
            10.45927906036377,
            13.278846740722656,
            10.85984706878662,
            4.012245178222656,
            82.74785614013672,
            7.344336032867432,
            4.47863245010376,
            1.4402105808258057,
            1.738718867301941,
            10.700230598449709,
            1.0096921920776367,
            19.739761352539062,
            6.935917377471924,
            2.982451915740967,
            0.002035834128037,
            19.17196273803711,
            7.00763750076294,
            2.558791160583496,
            3.5630173683166504,
            6.727101802825928,
            4.458736419677734,
            3.9784324169158936,
            37.53689193725586,
            68.88728332519531,
            0.0010236643720418,
            11.496394157409668,
            23.940710067749023,
            13.009114265441896,
            6.055966854095459,
            30.29253196716309,
            0.0739756673574447,
            17.897146224975586,
            5.8872151374816895,
            0.0042484942823648,
            9.85544204711914,
            21.73960494995117,
            0.818098247051239,
            1.7640750408172607,
            20.08855438232422,
            15.63290023803711,
            40.64850234985352,
            32.276390075683594,
            1.732457399368286,
            4.258995532989502,
            0.0053103538230061,
            9.769227027893066,
            0.0061142616905272,
            2.2846858501434326,
            0.0769170373678207,
            8.877188682556152,
            2.971806764602661,
            22.18208694458008,
            23.07397079467773,
            7.262890815734863
           ]
          }
         ],
         "name": "2014"
        },
        {
         "data": [
          {
           "coloraxis": "coloraxis",
           "geo": "geo",
           "hovertemplate": "Year=2015<br>Entity=%{location}<br>Renewables (% equivalent primary energy)=%{z}<extra></extra>",
           "locationmode": "country names",
           "locations": [
            "Algeria",
            "Argentina",
            "Australia",
            "Austria",
            "Azerbaijan",
            "Bangladesh",
            "Belarus",
            "Belgium",
            "Brazil",
            "Bulgaria",
            "Canada",
            "Chile",
            "China",
            "Colombia",
            "Croatia",
            "Cyprus",
            "Czechia",
            "Denmark",
            "Ecuador",
            "Egypt",
            "Estonia",
            "Finland",
            "France",
            "Germany",
            "Greece",
            "Hungary",
            "Iceland",
            "India",
            "Indonesia",
            "Iran",
            "Iraq",
            "Ireland",
            "Israel",
            "Italy",
            "Japan",
            "Kazakhstan",
            "Kuwait",
            "Latvia",
            "Lithuania",
            "Luxembourg",
            "Malaysia",
            "Mexico",
            "Morocco",
            "Netherlands",
            "New Zealand",
            "Norway",
            "Oman",
            "Pakistan",
            "Peru",
            "Philippines",
            "Poland",
            "Portugal",
            "Qatar",
            "Romania",
            "Russia",
            "Saudi Arabia",
            "Slovakia",
            "Slovenia",
            "South Africa",
            "South Korea",
            "Spain",
            "Sri Lanka",
            "Sweden",
            "Switzerland",
            "Taiwan",
            "Thailand",
            "Trinidad and Tobago",
            "Turkey",
            "Turkmenistan",
            "Ukraine",
            "United Arab Emirates",
            "United Kingdom",
            "Uzbekistan",
            "Venezuela",
            "Vietnam",
            "United States"
           ],
           "name": "",
           "type": "choropleth",
           "z": [
            0.09681336581707,
            10.907397270202637,
            6.290020942687988,
            34.96407699584961,
            2.757688045501709,
            0.8184085488319397,
            0.272726833820343,
            6.661416530609131,
            40.60352325439453,
            10.595033645629885,
            28.76414680480957,
            21.42767333984375,
            10.787498474121094,
            28.021617889404297,
            22.36495018005371,
            3.7763218879699703,
            5.899193286895752,
            26.659948348999023,
            19.64023208618164,
            4.328853130340576,
            6.578981876373291,
            28.13772201538086,
            10.147398948669434,
            14.823543548583984,
            13.008344650268556,
            3.892845630645752,
            81.8024673461914,
            7.184645652770996,
            3.7929575443267822,
            1.308806538581848,
            1.610298991203308,
            12.265226364135742,
            1.2998136281967163,
            17.334674835205078,
            8.06879711151123,
            3.566427230834961,
            0.0030183459166437,
            18.883399963378903,
            7.430521488189697,
            2.8418614864349365,
            3.6460347175598153,
            6.052263259887695,
            5.388848781585693,
            4.503983974456787,
            38.129432678222656,
            68.87519073486328,
            0.0029717639554291,
            11.174578666687012,
            24.02449607849121,
            12.500741004943848,
            6.561511039733887,
            24.459373474121094,
            0.0648639276623725,
            18.51751136779785,
            5.773604393005371,
            0.0040937969461083,
            9.638893127441406,
            15.851430892944336,
            1.2246651649475098,
            1.9041190147399905,
            17.507902145385742,
            18.15489196777344,
            46.59962463378906,
            33.162601470947266,
            1.8325283527374268,
            4.190981388092041,
            0.0062352367676794,
            14.063813209533691,
            0.0067770341411232,
            1.913326621055603,
            0.0695288330316543,
            10.9766206741333,
            3.01299262046814,
            20.79829978942871,
            18.58449363708496,
            7.468742847442627
           ]
          }
         ],
         "name": "2015"
        },
        {
         "data": [
          {
           "coloraxis": "coloraxis",
           "geo": "geo",
           "hovertemplate": "Year=2016<br>Entity=%{location}<br>Renewables (% equivalent primary energy)=%{z}<extra></extra>",
           "locationmode": "country names",
           "locations": [
            "Algeria",
            "Argentina",
            "Australia",
            "Austria",
            "Azerbaijan",
            "Bangladesh",
            "Belarus",
            "Belgium",
            "Brazil",
            "Bulgaria",
            "Canada",
            "Chile",
            "China",
            "Colombia",
            "Croatia",
            "Cyprus",
            "Czechia",
            "Denmark",
            "Ecuador",
            "Egypt",
            "Estonia",
            "Finland",
            "France",
            "Germany",
            "Greece",
            "Hungary",
            "Iceland",
            "India",
            "Indonesia",
            "Iran",
            "Iraq",
            "Ireland",
            "Israel",
            "Italy",
            "Japan",
            "Kazakhstan",
            "Kuwait",
            "Latvia",
            "Lithuania",
            "Luxembourg",
            "Malaysia",
            "Mexico",
            "Morocco",
            "Netherlands",
            "New Zealand",
            "Norway",
            "Oman",
            "Pakistan",
            "Peru",
            "Philippines",
            "Poland",
            "Portugal",
            "Qatar",
            "Romania",
            "Russia",
            "Saudi Arabia",
            "Slovakia",
            "Slovenia",
            "South Africa",
            "South Korea",
            "Spain",
            "Sri Lanka",
            "Sweden",
            "Switzerland",
            "Taiwan",
            "Thailand",
            "Trinidad and Tobago",
            "Turkey",
            "Turkmenistan",
            "Ukraine",
            "United Arab Emirates",
            "United Kingdom",
            "Uzbekistan",
            "Venezuela",
            "Vietnam",
            "United States"
           ],
           "name": "",
           "type": "choropleth",
           "z": [
            0.1458071172237396,
            10.167007446289062,
            7.189175605773926,
            35.65185546875,
            3.345907926559448,
            0.8060975074768066,
            0.346439927816391,
            6.3574538230896,
            43.538700103759766,
            9.049890518188477,
            29.6525993347168,
            19.706335067749023,
            11.530946731567385,
            27.708812713623047,
            23.87021827697754,
            3.666477680206299,
            5.945769786834717,
            25.71347999572754,
            23.62802505493164,
            4.131467819213867,
            6.427241802215576,
            26.586719512939453,
            10.97524642944336,
            14.607312202453612,
            13.225245475769045,
            3.8303542137146,
            79.91397857666016,
            7.011397361755371,
            5.479020118713379,
            1.4465060234069824,
            1.836539387702942,
            11.269350051879885,
            1.7576799392700195,
            17.009197235107422,
            7.975860595703125,
            4.404113292694092,
            0.0291275065392255,
            21.902061462402344,
            8.97104549407959,
            3.0525341033935547,
            4.848278999328613,
            6.131492614746094,
            5.595184803009033,
            4.676411151885986,
            38.99087142944336,
            69.86628723144531,
            0.0033375413622707,
            11.086973190307615,
            22.576679229736328,
            11.975790023803713,
            6.05049467086792,
            29.27642250061035,
            0.0671439692378044,
            18.943086624145508,
            6.171404838562012,
            0.0039634038694202,
            9.996943473815918,
            17.115886688232422,
            1.6210166215896606,
            2.0268120765686035,
            18.609848022460938,
            12.233839988708496,
            42.08269882202149,
            32.28740310668945,
            2.255850315093994,
            4.5999755859375,
            0.0069855325855314,
            14.479534149169922,
            0.0082353400066494,
            2.366657018661499,
            0.0670223236083984,
            11.037631034851074,
            3.567935943603516,
            19.94671440124512,
            19.181915283203125,
            8.285085678100586
           ]
          }
         ],
         "name": "2016"
        },
        {
         "data": [
          {
           "coloraxis": "coloraxis",
           "geo": "geo",
           "hovertemplate": "Year=2017<br>Entity=%{location}<br>Renewables (% equivalent primary energy)=%{z}<extra></extra>",
           "locationmode": "country names",
           "locations": [
            "Algeria",
            "Argentina",
            "Australia",
            "Austria",
            "Azerbaijan",
            "Bangladesh",
            "Belarus",
            "Belgium",
            "Brazil",
            "Bulgaria",
            "Canada",
            "Chile",
            "China",
            "Colombia",
            "Croatia",
            "Cyprus",
            "Czechia",
            "Denmark",
            "Ecuador",
            "Egypt",
            "Estonia",
            "Finland",
            "France",
            "Germany",
            "Greece",
            "Hungary",
            "Iceland",
            "India",
            "Indonesia",
            "Iran",
            "Iraq",
            "Ireland",
            "Israel",
            "Italy",
            "Japan",
            "Kazakhstan",
            "Kuwait",
            "Latvia",
            "Lithuania",
            "Luxembourg",
            "Malaysia",
            "Mexico",
            "Morocco",
            "Netherlands",
            "New Zealand",
            "Norway",
            "Oman",
            "Pakistan",
            "Peru",
            "Philippines",
            "Poland",
            "Portugal",
            "Qatar",
            "Romania",
            "Russia",
            "Saudi Arabia",
            "Slovakia",
            "Slovenia",
            "South Africa",
            "South Korea",
            "Spain",
            "Sri Lanka",
            "Sweden",
            "Switzerland",
            "Taiwan",
            "Thailand",
            "Trinidad and Tobago",
            "Turkey",
            "Turkmenistan",
            "Ukraine",
            "United Arab Emirates",
            "United Kingdom",
            "Uzbekistan",
            "Venezuela",
            "Vietnam",
            "United States"
           ],
           "name": "",
           "type": "choropleth",
           "z": [
            0.2470182925462722,
            10.96471881866455,
            6.750126838684082,
            34.502872467041016,
            3.049804449081421,
            0.8946443200111389,
            0.6887630820274353,
            6.910615921020508,
            43.28067779541016,
            7.6196208000183105,
            29.67363929748535,
            22.405031204223636,
            12.13882064819336,
            32.82905960083008,
            20.273584365844727,
            3.637664794921875,
            5.8155717849731445,
            30.30111694335937,
            28.335857391357425,
            3.869990587234497,
            6.830331802368164,
            28.7075138092041,
            10.437264442443848,
            16.196212768554688,
            14.015645027160645,
            3.8641884326934814,
            78.81926727294922,
            7.511875152587891,
            5.283773899078369,
            1.5620874166488647,
            1.125345230102539,
            13.157301902770996,
            1.7236597537994385,
            16.149738311767578,
            8.634003639221191,
            4.042666435241699,
            0.0400291159749031,
            30.69508934020996,
            10.216777801513672,
            3.807042598724365,
            6.291511058807373,
            6.372722148895264,
            5.2868266105651855,
            5.489981651306152,
            37.08300018310547,
            69.26099395751953,
            0.011463476344943,
            9.674949645996094,
            26.171817779541016,
            11.504091262817385,
            6.190995693206787,
            21.441804885864254,
            0.0693160071969032,
            16.684114456176758,
            6.121268272399902,
            0.0056249666959047,
            9.412672996520996,
            14.848828315734863,
            2.406186103820801,
            2.430184364318848,
            15.682350158691406,
            12.293098449707031,
            43.339447021484375,
            32.014774322509766,
            2.1802806854248047,
            5.306326389312744,
            0.0065434193238615,
            13.170472145080566,
            0.0082540307193994,
            2.975400447845459,
            0.1541274785995483,
            12.948246002197266,
            3.972285509109497,
            21.939960479736328,
            24.20834732055664,
            9.082049369812012
           ]
          }
         ],
         "name": "2017"
        },
        {
         "data": [
          {
           "coloraxis": "coloraxis",
           "geo": "geo",
           "hovertemplate": "Year=2018<br>Entity=%{location}<br>Renewables (% equivalent primary energy)=%{z}<extra></extra>",
           "locationmode": "country names",
           "locations": [
            "Algeria",
            "Argentina",
            "Australia",
            "Austria",
            "Azerbaijan",
            "Bangladesh",
            "Belarus",
            "Belgium",
            "Brazil",
            "Bulgaria",
            "Canada",
            "Chile",
            "China",
            "Colombia",
            "Croatia",
            "Cyprus",
            "Czechia",
            "Denmark",
            "Ecuador",
            "Egypt",
            "Estonia",
            "Finland",
            "France",
            "Germany",
            "Greece",
            "Hungary",
            "Iceland",
            "India",
            "Indonesia",
            "Iran",
            "Iraq",
            "Ireland",
            "Israel",
            "Italy",
            "Japan",
            "Kazakhstan",
            "Kuwait",
            "Latvia",
            "Lithuania",
            "Luxembourg",
            "Malaysia",
            "Mexico",
            "Morocco",
            "Netherlands",
            "New Zealand",
            "Norway",
            "Oman",
            "Pakistan",
            "Peru",
            "Philippines",
            "Poland",
            "Portugal",
            "Qatar",
            "Romania",
            "Russia",
            "Saudi Arabia",
            "Slovakia",
            "Slovenia",
            "South Africa",
            "South Korea",
            "Spain",
            "Sri Lanka",
            "Sweden",
            "Switzerland",
            "Taiwan",
            "Thailand",
            "Trinidad and Tobago",
            "Turkey",
            "Turkmenistan",
            "Ukraine",
            "United Arab Emirates",
            "United Kingdom",
            "Uzbekistan",
            "Venezuela",
            "Vietnam",
            "United States"
           ],
           "name": "",
           "type": "choropleth",
           "z": [
            0.2876792848110199,
            11.397629737854004,
            8.300061225891113,
            34.56892776489258,
            3.070157051086426,
            0.7471175193786621,
            0.5790961384773254,
            7.41519021987915,
            46.08049774169922,
            11.79909324645996,
            28.81451797485352,
            24.34329605102539,
            12.807393074035645,
            31.999549865722656,
            26.735349655151367,
            3.866520166397095,
            5.68550968170166,
            29.154386520385746,
            27.386934280395508,
            4.055405616760254,
            7.507283210754394,
            28.64155387878418,
            12.132494926452637,
            17.084951400756836,
            13.45522689819336,
            4.134616374969482,
            77.96495819091797,
            7.912805557250977,
            7.393457889556885,
            0.9227302074432372,
            0.9119535088539124,
            14.717062950134276,
            1.863878607749939,
            17.727497100830078,
            9.322304725646973,
            3.388838529586792,
            0.0313340798020362,
            22.432662963867188,
            8.702936172485352,
            4.155874729156494,
            6.253417491912842,
            6.939361095428467,
            7.10693359375,
            5.991268157958984,
            38.16226196289063,
            68.85804748535156,
            0.010915677063167,
            9.416380882263184,
            26.79540252685547,
            11.201895713806152,
            5.850796699523926,
            26.90010643005371,
            0.0693681389093399,
            17.542226791381836,
            6.046762466430664,
            0.0138821955770254,
            8.504162788391113,
            16.982707977294922,
            2.6591577529907227,
            2.746018409729004,
            18.23053359985352,
            18.060565948486328,
            42.21850204467773,
            31.95086669921875,
            2.179110527038574,
            6.380221366882324,
            0.0062400484457612,
            14.846624374389648,
            0.0073683462105691,
            3.4212276935577397,
            0.2737675905227661,
            14.52646827697754,
            2.9270331859588623,
            22.03890609741211,
            20.761816024780277,
            8.96493911743164
           ]
          }
         ],
         "name": "2018"
        },
        {
         "data": [
          {
           "coloraxis": "coloraxis",
           "geo": "geo",
           "hovertemplate": "Year=2019<br>Entity=%{location}<br>Renewables (% equivalent primary energy)=%{z}<extra></extra>",
           "locationmode": "country names",
           "locations": [
            "Algeria",
            "Argentina",
            "Australia",
            "Austria",
            "Azerbaijan",
            "Bangladesh",
            "Belarus",
            "Belgium",
            "Brazil",
            "Bulgaria",
            "Canada",
            "Chile",
            "China",
            "Colombia",
            "Croatia",
            "Cyprus",
            "Czechia",
            "Denmark",
            "Ecuador",
            "Egypt",
            "Estonia",
            "Finland",
            "France",
            "Germany",
            "Greece",
            "Hungary",
            "Iceland",
            "India",
            "Indonesia",
            "Iran",
            "Iraq",
            "Ireland",
            "Israel",
            "Italy",
            "Japan",
            "Kazakhstan",
            "Kuwait",
            "Latvia",
            "Lithuania",
            "Luxembourg",
            "Malaysia",
            "Mexico",
            "Morocco",
            "Netherlands",
            "New Zealand",
            "Norway",
            "Oman",
            "Pakistan",
            "Peru",
            "Philippines",
            "Poland",
            "Portugal",
            "Qatar",
            "Romania",
            "Russia",
            "Saudi Arabia",
            "Slovakia",
            "Slovenia",
            "South Africa",
            "South Korea",
            "Spain",
            "Sri Lanka",
            "Sweden",
            "Switzerland",
            "Taiwan",
            "Thailand",
            "Trinidad and Tobago",
            "Turkey",
            "Turkmenistan",
            "Ukraine",
            "United Arab Emirates",
            "United Kingdom",
            "Uzbekistan",
            "Venezuela",
            "Vietnam",
            "United States"
           ],
           "name": "",
           "type": "choropleth",
           "z": [
            0.2947469651699066,
            11.926772117614746,
            8.880722045898438,
            35.61137771606445,
            2.674583911895752,
            0.675128698348999,
            0.7077696323394775,
            7.959382057189941,
            47.30484390258789,
            9.94838523864746,
            28.586376190185547,
            24.144994735717773,
            13.51595973968506,
            29.890342712402344,
            23.463096618652344,
            4.274975299835205,
            6.115212440490723,
            32.795658111572266,
            31.769020080566406,
            5.169897556304932,
            9.912989616394045,
            29.214561462402344,
            12.384904861450195,
            18.7683048248291,
            13.694193840026855,
            4.945461273193359,
            80.0971908569336,
            8.849618911743164,
            7.870308876037598,
            2.836829900741577,
            2.2772881984710693,
            16.911176681518555,
            2.9192068576812744,
            17.939950942993164,
            9.565926551818848,
            3.468928098678589,
            0.0341841876506805,
            19.929880142211918,
            9.697965621948242,
            4.765342712402344,
            6.178408622741699,
            7.05077075958252,
            7.547047138214111,
            7.302987575531006,
            36.76237869262695,
            67.08509063720703,
            0.0175869055092334,
            11.015737533569336,
            26.621335983276367,
            10.227248191833496,
            6.98928689956665,
            26.401811599731445,
            0.066419169306755,
            16.837947845458984,
            6.201229095458984,
            0.0181807111948728,
            9.983878135681152,
            16.781370162963867,
            2.6449363231658936,
            2.9800333976745605,
            17.375850677490234,
            14.141156196594238,
            43.81376647949219,
            33.13739776611328,
            2.7165448665618896,
            6.956219673156738,
            0.0063736131414771,
            19.25493621826172,
            0.0067476881667971,
            3.290361166000366,
            0.7918253540992737,
            16.241540908813477,
            3.1970326900482178,
            22.608102798461918,
            15.891139030456545,
            9.315262794494627
           ]
          }
         ],
         "name": "2019"
        },
        {
         "data": [
          {
           "coloraxis": "coloraxis",
           "geo": "geo",
           "hovertemplate": "Year=2020<br>Entity=%{location}<br>Renewables (% equivalent primary energy)=%{z}<extra></extra>",
           "locationmode": "country names",
           "locations": [
            "Algeria",
            "Argentina",
            "Australia",
            "Austria",
            "Azerbaijan",
            "Bangladesh",
            "Belarus",
            "Belgium",
            "Brazil",
            "Bulgaria",
            "Canada",
            "Chile",
            "China",
            "Colombia",
            "Croatia",
            "Cyprus",
            "Czechia",
            "Denmark",
            "Ecuador",
            "Egypt",
            "Estonia",
            "Finland",
            "France",
            "Germany",
            "Greece",
            "Hungary",
            "Iceland",
            "India",
            "Indonesia",
            "Iran",
            "Iraq",
            "Ireland",
            "Israel",
            "Italy",
            "Japan",
            "Kazakhstan",
            "Kuwait",
            "Latvia",
            "Lithuania",
            "Luxembourg",
            "Malaysia",
            "Mexico",
            "Morocco",
            "Netherlands",
            "New Zealand",
            "Norway",
            "Oman",
            "Pakistan",
            "Peru",
            "Philippines",
            "Poland",
            "Portugal",
            "Qatar",
            "Romania",
            "Russia",
            "Saudi Arabia",
            "Slovakia",
            "Slovenia",
            "South Africa",
            "South Korea",
            "Spain",
            "Sri Lanka",
            "Sweden",
            "Switzerland",
            "Taiwan",
            "Thailand",
            "Trinidad and Tobago",
            "Turkey",
            "Turkmenistan",
            "Ukraine",
            "United Arab Emirates",
            "United Kingdom",
            "Uzbekistan",
            "Venezuela",
            "Vietnam",
            "United States"
           ],
           "name": "",
           "type": "choropleth",
           "z": [
            0.2978994250297546,
            12.17941665649414,
            10.78981113433838,
            38.26066970825195,
            1.9758317470550537,
            0.6580818295478821,
            0.9897245168685912,
            10.63779067993164,
            49.47188186645508,
            10.692996978759766,
            30.542150497436523,
            26.557531356811523,
            14.24287223815918,
            30.77278709411621,
            25.17008781433105,
            5.661981105804443,
            6.691049098968506,
            37.27245330810547,
            36.03577423095703,
            6.564623832702637,
            14.138367652893066,
            33.16851043701172,
            14.78874683380127,
            21.122827529907227,
            16.70769691467285,
            5.81624174118042,
            86.83658599853516,
            9.730036735534668,
            9.860146522521973,
            1.9643505811691284,
            1.6468850374221802,
            20.549842834472656,
            4.053859233856201,
            19.72126197814941,
            11.155339241027832,
            3.900036334991455,
            0.0365194678306579,
            24.768972396850582,
            10.144762992858888,
            6.848766803741455,
            7.163172245025635,
            9.475372314453123,
            7.6339521408081055,
            10.758957862854004,
            39.06418228149414,
            70.96305847167969,
            0.2240027040243148,
            12.021024703979492,
            30.74422836303711,
            11.044730186462402,
            7.769742012023926,
            31.72391128540039,
            0.0756966322660446,
            17.579639434814453,
            7.069781303405762,
            0.0184638928622007,
            10.480759620666504,
            19.160215377807617,
            3.1502459049224854,
            3.142855405807495,
            22.10265350341797,
            15.967421531677246,
            51.0589714050293,
            36.2105712890625,
            2.7744626998901367,
            6.991420745849609,
            0.0073120086453855,
            19.150110244750977,
            0.0071611474268138,
            4.896078586578369,
            1.0150353908538818,
            20.07898712158203,
            2.523421049118042,
            30.139423370361328,
            19.13666343688965,
            10.532232284545898
           ]
          }
         ],
         "name": "2020"
        },
        {
         "data": [
          {
           "coloraxis": "coloraxis",
           "geo": "geo",
           "hovertemplate": "Year=2021<br>Entity=%{location}<br>Renewables (% equivalent primary energy)=%{z}<extra></extra>",
           "locationmode": "country names",
           "locations": [
            "Algeria",
            "Argentina",
            "Australia",
            "Austria",
            "Azerbaijan",
            "Bangladesh",
            "Belarus",
            "Belgium",
            "Brazil",
            "Bulgaria",
            "Canada",
            "Chile",
            "China",
            "Colombia",
            "Croatia",
            "Czechia",
            "Denmark",
            "Ecuador",
            "Egypt",
            "Estonia",
            "Finland",
            "France",
            "Germany",
            "Greece",
            "Hungary",
            "Iceland",
            "India",
            "Indonesia",
            "Iran",
            "Iraq",
            "Ireland",
            "Israel",
            "Italy",
            "Japan",
            "Kazakhstan",
            "Latvia",
            "Lithuania",
            "Luxembourg",
            "Malaysia",
            "Mexico",
            "Morocco",
            "Netherlands",
            "New Zealand",
            "Norway",
            "Pakistan",
            "Peru",
            "Philippines",
            "Poland",
            "Portugal",
            "Romania",
            "Russia",
            "Slovakia",
            "Slovenia",
            "South Africa",
            "South Korea",
            "Spain",
            "Sri Lanka",
            "Sweden",
            "Switzerland",
            "Taiwan",
            "Thailand",
            "Trinidad and Tobago",
            "Turkey",
            "Turkmenistan",
            "Ukraine",
            "United Kingdom",
            "Uzbekistan",
            "Venezuela",
            "Vietnam",
            "United States"
           ],
           "name": "",
           "type": "choropleth",
           "z": [
            0.2613673508167267,
            11.329249382019045,
            12.933531761169434,
            37.48179244995117,
            2.201542854309082,
            0.6501469016075134,
            0.9698578119277954,
            9.336408615112305,
            46.2197494506836,
            11.486525535583496,
            29.8884391784668,
            26.518875122070312,
            14.946244239807127,
            33.020408630371094,
            28.271934509277344,
            6.497797966003418,
            39.24958038330078,
            32.35419845581055,
            6.230570793151856,
            14.32504653930664,
            34.611289978027344,
            13.671010971069336,
            19.45312118530273,
            19.391674041748047,
            6.819572925567627,
            86.8745346069336,
            9.310850143432615,
            10.385714530944824,
            1.2903937101364136,
            1.5024909973144531,
            17.581884384155273,
            5.132294178009033,
            18.362260818481445,
            11.428995132446287,
            3.9885740280151367,
            23.91737174987793,
            9.490350723266602,
            7.095166206359863,
            8.059835433959961,
            10.51475429534912,
            7.63616943359375,
            12.37379550933838,
            40.21865081787109,
            71.55836486816406,
            10.622897148132324,
            27.74100875854492,
            10.901630401611328,
            7.761686325073242,
            32.70395278930664,
            17.48103141784668,
            6.620289325714111,
            9.821160316467283,
            18.76845359802246,
            3.4086079597473145,
            3.724985837936402,
            22.341663360595703,
            21.40453338623047,
            50.92400741577149,
            36.716644287109375,
            3.0361571311950684,
            7.113617897033691,
            0.0071594668552279,
            16.517044067382812,
            0.0074832290410995,
            6.100841522216797,
            17.946542739868164,
            2.6506786346435547,
            28.434154510498047,
            22.73440742492676,
            10.655990600585938
           ]
          }
         ],
         "name": "2021"
        }
       ],
       "layout": {
        "coloraxis": {
         "cmax": 75,
         "cmin": 0,
         "colorbar": {
          "title": {
           "text": "Renewables (% equivalent primary energy)"
          }
         },
         "colorscale": [
          [
           0,
           "#0d0887"
          ],
          [
           0.1111111111111111,
           "#46039f"
          ],
          [
           0.2222222222222222,
           "#7201a8"
          ],
          [
           0.3333333333333333,
           "#9c179e"
          ],
          [
           0.4444444444444444,
           "#bd3786"
          ],
          [
           0.5555555555555556,
           "#d8576b"
          ],
          [
           0.6666666666666666,
           "#ed7953"
          ],
          [
           0.7777777777777778,
           "#fb9f3a"
          ],
          [
           0.8888888888888888,
           "#fdca26"
          ],
          [
           1,
           "#f0f921"
          ]
         ]
        },
        "geo": {
         "center": {},
         "domain": {
          "x": [
           0,
           1
          ],
          "y": [
           0,
           1
          ]
         },
         "scope": "world"
        },
        "height": 750,
        "legend": {
         "tracegroupgap": 0
        },
        "sliders": [
         {
          "active": 0,
          "currentvalue": {
           "prefix": "Year="
          },
          "len": 0.9,
          "pad": {
           "b": 10,
           "t": 60
          },
          "steps": [
           {
            "args": [
             [
              "1965"
             ],
             {
              "frame": {
               "duration": 0,
               "redraw": true
              },
              "fromcurrent": true,
              "mode": "immediate",
              "transition": {
               "duration": 0,
               "easing": "linear"
              }
             }
            ],
            "label": "1965",
            "method": "animate"
           },
           {
            "args": [
             [
              "1966"
             ],
             {
              "frame": {
               "duration": 0,
               "redraw": true
              },
              "fromcurrent": true,
              "mode": "immediate",
              "transition": {
               "duration": 0,
               "easing": "linear"
              }
             }
            ],
            "label": "1966",
            "method": "animate"
           },
           {
            "args": [
             [
              "1967"
             ],
             {
              "frame": {
               "duration": 0,
               "redraw": true
              },
              "fromcurrent": true,
              "mode": "immediate",
              "transition": {
               "duration": 0,
               "easing": "linear"
              }
             }
            ],
            "label": "1967",
            "method": "animate"
           },
           {
            "args": [
             [
              "1968"
             ],
             {
              "frame": {
               "duration": 0,
               "redraw": true
              },
              "fromcurrent": true,
              "mode": "immediate",
              "transition": {
               "duration": 0,
               "easing": "linear"
              }
             }
            ],
            "label": "1968",
            "method": "animate"
           },
           {
            "args": [
             [
              "1969"
             ],
             {
              "frame": {
               "duration": 0,
               "redraw": true
              },
              "fromcurrent": true,
              "mode": "immediate",
              "transition": {
               "duration": 0,
               "easing": "linear"
              }
             }
            ],
            "label": "1969",
            "method": "animate"
           },
           {
            "args": [
             [
              "1970"
             ],
             {
              "frame": {
               "duration": 0,
               "redraw": true
              },
              "fromcurrent": true,
              "mode": "immediate",
              "transition": {
               "duration": 0,
               "easing": "linear"
              }
             }
            ],
            "label": "1970",
            "method": "animate"
           },
           {
            "args": [
             [
              "1971"
             ],
             {
              "frame": {
               "duration": 0,
               "redraw": true
              },
              "fromcurrent": true,
              "mode": "immediate",
              "transition": {
               "duration": 0,
               "easing": "linear"
              }
             }
            ],
            "label": "1971",
            "method": "animate"
           },
           {
            "args": [
             [
              "1972"
             ],
             {
              "frame": {
               "duration": 0,
               "redraw": true
              },
              "fromcurrent": true,
              "mode": "immediate",
              "transition": {
               "duration": 0,
               "easing": "linear"
              }
             }
            ],
            "label": "1972",
            "method": "animate"
           },
           {
            "args": [
             [
              "1973"
             ],
             {
              "frame": {
               "duration": 0,
               "redraw": true
              },
              "fromcurrent": true,
              "mode": "immediate",
              "transition": {
               "duration": 0,
               "easing": "linear"
              }
             }
            ],
            "label": "1973",
            "method": "animate"
           },
           {
            "args": [
             [
              "1974"
             ],
             {
              "frame": {
               "duration": 0,
               "redraw": true
              },
              "fromcurrent": true,
              "mode": "immediate",
              "transition": {
               "duration": 0,
               "easing": "linear"
              }
             }
            ],
            "label": "1974",
            "method": "animate"
           },
           {
            "args": [
             [
              "1975"
             ],
             {
              "frame": {
               "duration": 0,
               "redraw": true
              },
              "fromcurrent": true,
              "mode": "immediate",
              "transition": {
               "duration": 0,
               "easing": "linear"
              }
             }
            ],
            "label": "1975",
            "method": "animate"
           },
           {
            "args": [
             [
              "1976"
             ],
             {
              "frame": {
               "duration": 0,
               "redraw": true
              },
              "fromcurrent": true,
              "mode": "immediate",
              "transition": {
               "duration": 0,
               "easing": "linear"
              }
             }
            ],
            "label": "1976",
            "method": "animate"
           },
           {
            "args": [
             [
              "1977"
             ],
             {
              "frame": {
               "duration": 0,
               "redraw": true
              },
              "fromcurrent": true,
              "mode": "immediate",
              "transition": {
               "duration": 0,
               "easing": "linear"
              }
             }
            ],
            "label": "1977",
            "method": "animate"
           },
           {
            "args": [
             [
              "1978"
             ],
             {
              "frame": {
               "duration": 0,
               "redraw": true
              },
              "fromcurrent": true,
              "mode": "immediate",
              "transition": {
               "duration": 0,
               "easing": "linear"
              }
             }
            ],
            "label": "1978",
            "method": "animate"
           },
           {
            "args": [
             [
              "1979"
             ],
             {
              "frame": {
               "duration": 0,
               "redraw": true
              },
              "fromcurrent": true,
              "mode": "immediate",
              "transition": {
               "duration": 0,
               "easing": "linear"
              }
             }
            ],
            "label": "1979",
            "method": "animate"
           },
           {
            "args": [
             [
              "1980"
             ],
             {
              "frame": {
               "duration": 0,
               "redraw": true
              },
              "fromcurrent": true,
              "mode": "immediate",
              "transition": {
               "duration": 0,
               "easing": "linear"
              }
             }
            ],
            "label": "1980",
            "method": "animate"
           },
           {
            "args": [
             [
              "1981"
             ],
             {
              "frame": {
               "duration": 0,
               "redraw": true
              },
              "fromcurrent": true,
              "mode": "immediate",
              "transition": {
               "duration": 0,
               "easing": "linear"
              }
             }
            ],
            "label": "1981",
            "method": "animate"
           },
           {
            "args": [
             [
              "1982"
             ],
             {
              "frame": {
               "duration": 0,
               "redraw": true
              },
              "fromcurrent": true,
              "mode": "immediate",
              "transition": {
               "duration": 0,
               "easing": "linear"
              }
             }
            ],
            "label": "1982",
            "method": "animate"
           },
           {
            "args": [
             [
              "1983"
             ],
             {
              "frame": {
               "duration": 0,
               "redraw": true
              },
              "fromcurrent": true,
              "mode": "immediate",
              "transition": {
               "duration": 0,
               "easing": "linear"
              }
             }
            ],
            "label": "1983",
            "method": "animate"
           },
           {
            "args": [
             [
              "1984"
             ],
             {
              "frame": {
               "duration": 0,
               "redraw": true
              },
              "fromcurrent": true,
              "mode": "immediate",
              "transition": {
               "duration": 0,
               "easing": "linear"
              }
             }
            ],
            "label": "1984",
            "method": "animate"
           },
           {
            "args": [
             [
              "1985"
             ],
             {
              "frame": {
               "duration": 0,
               "redraw": true
              },
              "fromcurrent": true,
              "mode": "immediate",
              "transition": {
               "duration": 0,
               "easing": "linear"
              }
             }
            ],
            "label": "1985",
            "method": "animate"
           },
           {
            "args": [
             [
              "1986"
             ],
             {
              "frame": {
               "duration": 0,
               "redraw": true
              },
              "fromcurrent": true,
              "mode": "immediate",
              "transition": {
               "duration": 0,
               "easing": "linear"
              }
             }
            ],
            "label": "1986",
            "method": "animate"
           },
           {
            "args": [
             [
              "1987"
             ],
             {
              "frame": {
               "duration": 0,
               "redraw": true
              },
              "fromcurrent": true,
              "mode": "immediate",
              "transition": {
               "duration": 0,
               "easing": "linear"
              }
             }
            ],
            "label": "1987",
            "method": "animate"
           },
           {
            "args": [
             [
              "1988"
             ],
             {
              "frame": {
               "duration": 0,
               "redraw": true
              },
              "fromcurrent": true,
              "mode": "immediate",
              "transition": {
               "duration": 0,
               "easing": "linear"
              }
             }
            ],
            "label": "1988",
            "method": "animate"
           },
           {
            "args": [
             [
              "1989"
             ],
             {
              "frame": {
               "duration": 0,
               "redraw": true
              },
              "fromcurrent": true,
              "mode": "immediate",
              "transition": {
               "duration": 0,
               "easing": "linear"
              }
             }
            ],
            "label": "1989",
            "method": "animate"
           },
           {
            "args": [
             [
              "1990"
             ],
             {
              "frame": {
               "duration": 0,
               "redraw": true
              },
              "fromcurrent": true,
              "mode": "immediate",
              "transition": {
               "duration": 0,
               "easing": "linear"
              }
             }
            ],
            "label": "1990",
            "method": "animate"
           },
           {
            "args": [
             [
              "1991"
             ],
             {
              "frame": {
               "duration": 0,
               "redraw": true
              },
              "fromcurrent": true,
              "mode": "immediate",
              "transition": {
               "duration": 0,
               "easing": "linear"
              }
             }
            ],
            "label": "1991",
            "method": "animate"
           },
           {
            "args": [
             [
              "1992"
             ],
             {
              "frame": {
               "duration": 0,
               "redraw": true
              },
              "fromcurrent": true,
              "mode": "immediate",
              "transition": {
               "duration": 0,
               "easing": "linear"
              }
             }
            ],
            "label": "1992",
            "method": "animate"
           },
           {
            "args": [
             [
              "1993"
             ],
             {
              "frame": {
               "duration": 0,
               "redraw": true
              },
              "fromcurrent": true,
              "mode": "immediate",
              "transition": {
               "duration": 0,
               "easing": "linear"
              }
             }
            ],
            "label": "1993",
            "method": "animate"
           },
           {
            "args": [
             [
              "1994"
             ],
             {
              "frame": {
               "duration": 0,
               "redraw": true
              },
              "fromcurrent": true,
              "mode": "immediate",
              "transition": {
               "duration": 0,
               "easing": "linear"
              }
             }
            ],
            "label": "1994",
            "method": "animate"
           },
           {
            "args": [
             [
              "1995"
             ],
             {
              "frame": {
               "duration": 0,
               "redraw": true
              },
              "fromcurrent": true,
              "mode": "immediate",
              "transition": {
               "duration": 0,
               "easing": "linear"
              }
             }
            ],
            "label": "1995",
            "method": "animate"
           },
           {
            "args": [
             [
              "1996"
             ],
             {
              "frame": {
               "duration": 0,
               "redraw": true
              },
              "fromcurrent": true,
              "mode": "immediate",
              "transition": {
               "duration": 0,
               "easing": "linear"
              }
             }
            ],
            "label": "1996",
            "method": "animate"
           },
           {
            "args": [
             [
              "1997"
             ],
             {
              "frame": {
               "duration": 0,
               "redraw": true
              },
              "fromcurrent": true,
              "mode": "immediate",
              "transition": {
               "duration": 0,
               "easing": "linear"
              }
             }
            ],
            "label": "1997",
            "method": "animate"
           },
           {
            "args": [
             [
              "1998"
             ],
             {
              "frame": {
               "duration": 0,
               "redraw": true
              },
              "fromcurrent": true,
              "mode": "immediate",
              "transition": {
               "duration": 0,
               "easing": "linear"
              }
             }
            ],
            "label": "1998",
            "method": "animate"
           },
           {
            "args": [
             [
              "1999"
             ],
             {
              "frame": {
               "duration": 0,
               "redraw": true
              },
              "fromcurrent": true,
              "mode": "immediate",
              "transition": {
               "duration": 0,
               "easing": "linear"
              }
             }
            ],
            "label": "1999",
            "method": "animate"
           },
           {
            "args": [
             [
              "2000"
             ],
             {
              "frame": {
               "duration": 0,
               "redraw": true
              },
              "fromcurrent": true,
              "mode": "immediate",
              "transition": {
               "duration": 0,
               "easing": "linear"
              }
             }
            ],
            "label": "2000",
            "method": "animate"
           },
           {
            "args": [
             [
              "2001"
             ],
             {
              "frame": {
               "duration": 0,
               "redraw": true
              },
              "fromcurrent": true,
              "mode": "immediate",
              "transition": {
               "duration": 0,
               "easing": "linear"
              }
             }
            ],
            "label": "2001",
            "method": "animate"
           },
           {
            "args": [
             [
              "2002"
             ],
             {
              "frame": {
               "duration": 0,
               "redraw": true
              },
              "fromcurrent": true,
              "mode": "immediate",
              "transition": {
               "duration": 0,
               "easing": "linear"
              }
             }
            ],
            "label": "2002",
            "method": "animate"
           },
           {
            "args": [
             [
              "2003"
             ],
             {
              "frame": {
               "duration": 0,
               "redraw": true
              },
              "fromcurrent": true,
              "mode": "immediate",
              "transition": {
               "duration": 0,
               "easing": "linear"
              }
             }
            ],
            "label": "2003",
            "method": "animate"
           },
           {
            "args": [
             [
              "2004"
             ],
             {
              "frame": {
               "duration": 0,
               "redraw": true
              },
              "fromcurrent": true,
              "mode": "immediate",
              "transition": {
               "duration": 0,
               "easing": "linear"
              }
             }
            ],
            "label": "2004",
            "method": "animate"
           },
           {
            "args": [
             [
              "2005"
             ],
             {
              "frame": {
               "duration": 0,
               "redraw": true
              },
              "fromcurrent": true,
              "mode": "immediate",
              "transition": {
               "duration": 0,
               "easing": "linear"
              }
             }
            ],
            "label": "2005",
            "method": "animate"
           },
           {
            "args": [
             [
              "2006"
             ],
             {
              "frame": {
               "duration": 0,
               "redraw": true
              },
              "fromcurrent": true,
              "mode": "immediate",
              "transition": {
               "duration": 0,
               "easing": "linear"
              }
             }
            ],
            "label": "2006",
            "method": "animate"
           },
           {
            "args": [
             [
              "2007"
             ],
             {
              "frame": {
               "duration": 0,
               "redraw": true
              },
              "fromcurrent": true,
              "mode": "immediate",
              "transition": {
               "duration": 0,
               "easing": "linear"
              }
             }
            ],
            "label": "2007",
            "method": "animate"
           },
           {
            "args": [
             [
              "2008"
             ],
             {
              "frame": {
               "duration": 0,
               "redraw": true
              },
              "fromcurrent": true,
              "mode": "immediate",
              "transition": {
               "duration": 0,
               "easing": "linear"
              }
             }
            ],
            "label": "2008",
            "method": "animate"
           },
           {
            "args": [
             [
              "2009"
             ],
             {
              "frame": {
               "duration": 0,
               "redraw": true
              },
              "fromcurrent": true,
              "mode": "immediate",
              "transition": {
               "duration": 0,
               "easing": "linear"
              }
             }
            ],
            "label": "2009",
            "method": "animate"
           },
           {
            "args": [
             [
              "2010"
             ],
             {
              "frame": {
               "duration": 0,
               "redraw": true
              },
              "fromcurrent": true,
              "mode": "immediate",
              "transition": {
               "duration": 0,
               "easing": "linear"
              }
             }
            ],
            "label": "2010",
            "method": "animate"
           },
           {
            "args": [
             [
              "2011"
             ],
             {
              "frame": {
               "duration": 0,
               "redraw": true
              },
              "fromcurrent": true,
              "mode": "immediate",
              "transition": {
               "duration": 0,
               "easing": "linear"
              }
             }
            ],
            "label": "2011",
            "method": "animate"
           },
           {
            "args": [
             [
              "2012"
             ],
             {
              "frame": {
               "duration": 0,
               "redraw": true
              },
              "fromcurrent": true,
              "mode": "immediate",
              "transition": {
               "duration": 0,
               "easing": "linear"
              }
             }
            ],
            "label": "2012",
            "method": "animate"
           },
           {
            "args": [
             [
              "2013"
             ],
             {
              "frame": {
               "duration": 0,
               "redraw": true
              },
              "fromcurrent": true,
              "mode": "immediate",
              "transition": {
               "duration": 0,
               "easing": "linear"
              }
             }
            ],
            "label": "2013",
            "method": "animate"
           },
           {
            "args": [
             [
              "2014"
             ],
             {
              "frame": {
               "duration": 0,
               "redraw": true
              },
              "fromcurrent": true,
              "mode": "immediate",
              "transition": {
               "duration": 0,
               "easing": "linear"
              }
             }
            ],
            "label": "2014",
            "method": "animate"
           },
           {
            "args": [
             [
              "2015"
             ],
             {
              "frame": {
               "duration": 0,
               "redraw": true
              },
              "fromcurrent": true,
              "mode": "immediate",
              "transition": {
               "duration": 0,
               "easing": "linear"
              }
             }
            ],
            "label": "2015",
            "method": "animate"
           },
           {
            "args": [
             [
              "2016"
             ],
             {
              "frame": {
               "duration": 0,
               "redraw": true
              },
              "fromcurrent": true,
              "mode": "immediate",
              "transition": {
               "duration": 0,
               "easing": "linear"
              }
             }
            ],
            "label": "2016",
            "method": "animate"
           },
           {
            "args": [
             [
              "2017"
             ],
             {
              "frame": {
               "duration": 0,
               "redraw": true
              },
              "fromcurrent": true,
              "mode": "immediate",
              "transition": {
               "duration": 0,
               "easing": "linear"
              }
             }
            ],
            "label": "2017",
            "method": "animate"
           },
           {
            "args": [
             [
              "2018"
             ],
             {
              "frame": {
               "duration": 0,
               "redraw": true
              },
              "fromcurrent": true,
              "mode": "immediate",
              "transition": {
               "duration": 0,
               "easing": "linear"
              }
             }
            ],
            "label": "2018",
            "method": "animate"
           },
           {
            "args": [
             [
              "2019"
             ],
             {
              "frame": {
               "duration": 0,
               "redraw": true
              },
              "fromcurrent": true,
              "mode": "immediate",
              "transition": {
               "duration": 0,
               "easing": "linear"
              }
             }
            ],
            "label": "2019",
            "method": "animate"
           },
           {
            "args": [
             [
              "2020"
             ],
             {
              "frame": {
               "duration": 0,
               "redraw": true
              },
              "fromcurrent": true,
              "mode": "immediate",
              "transition": {
               "duration": 0,
               "easing": "linear"
              }
             }
            ],
            "label": "2020",
            "method": "animate"
           },
           {
            "args": [
             [
              "2021"
             ],
             {
              "frame": {
               "duration": 0,
               "redraw": true
              },
              "fromcurrent": true,
              "mode": "immediate",
              "transition": {
               "duration": 0,
               "easing": "linear"
              }
             }
            ],
            "label": "2021",
            "method": "animate"
           }
          ],
          "x": 0.1,
          "xanchor": "left",
          "y": 0,
          "yanchor": "top"
         }
        ],
        "template": {
         "data": {
          "bar": [
           {
            "error_x": {
             "color": "#2a3f5f"
            },
            "error_y": {
             "color": "#2a3f5f"
            },
            "marker": {
             "line": {
              "color": "#E5ECF6",
              "width": 0.5
             },
             "pattern": {
              "fillmode": "overlay",
              "size": 10,
              "solidity": 0.2
             }
            },
            "type": "bar"
           }
          ],
          "barpolar": [
           {
            "marker": {
             "line": {
              "color": "#E5ECF6",
              "width": 0.5
             },
             "pattern": {
              "fillmode": "overlay",
              "size": 10,
              "solidity": 0.2
             }
            },
            "type": "barpolar"
           }
          ],
          "carpet": [
           {
            "aaxis": {
             "endlinecolor": "#2a3f5f",
             "gridcolor": "white",
             "linecolor": "white",
             "minorgridcolor": "white",
             "startlinecolor": "#2a3f5f"
            },
            "baxis": {
             "endlinecolor": "#2a3f5f",
             "gridcolor": "white",
             "linecolor": "white",
             "minorgridcolor": "white",
             "startlinecolor": "#2a3f5f"
            },
            "type": "carpet"
           }
          ],
          "choropleth": [
           {
            "colorbar": {
             "outlinewidth": 0,
             "ticks": ""
            },
            "type": "choropleth"
           }
          ],
          "contour": [
           {
            "colorbar": {
             "outlinewidth": 0,
             "ticks": ""
            },
            "colorscale": [
             [
              0,
              "#0d0887"
             ],
             [
              0.1111111111111111,
              "#46039f"
             ],
             [
              0.2222222222222222,
              "#7201a8"
             ],
             [
              0.3333333333333333,
              "#9c179e"
             ],
             [
              0.4444444444444444,
              "#bd3786"
             ],
             [
              0.5555555555555556,
              "#d8576b"
             ],
             [
              0.6666666666666666,
              "#ed7953"
             ],
             [
              0.7777777777777778,
              "#fb9f3a"
             ],
             [
              0.8888888888888888,
              "#fdca26"
             ],
             [
              1,
              "#f0f921"
             ]
            ],
            "type": "contour"
           }
          ],
          "contourcarpet": [
           {
            "colorbar": {
             "outlinewidth": 0,
             "ticks": ""
            },
            "type": "contourcarpet"
           }
          ],
          "heatmap": [
           {
            "colorbar": {
             "outlinewidth": 0,
             "ticks": ""
            },
            "colorscale": [
             [
              0,
              "#0d0887"
             ],
             [
              0.1111111111111111,
              "#46039f"
             ],
             [
              0.2222222222222222,
              "#7201a8"
             ],
             [
              0.3333333333333333,
              "#9c179e"
             ],
             [
              0.4444444444444444,
              "#bd3786"
             ],
             [
              0.5555555555555556,
              "#d8576b"
             ],
             [
              0.6666666666666666,
              "#ed7953"
             ],
             [
              0.7777777777777778,
              "#fb9f3a"
             ],
             [
              0.8888888888888888,
              "#fdca26"
             ],
             [
              1,
              "#f0f921"
             ]
            ],
            "type": "heatmap"
           }
          ],
          "heatmapgl": [
           {
            "colorbar": {
             "outlinewidth": 0,
             "ticks": ""
            },
            "colorscale": [
             [
              0,
              "#0d0887"
             ],
             [
              0.1111111111111111,
              "#46039f"
             ],
             [
              0.2222222222222222,
              "#7201a8"
             ],
             [
              0.3333333333333333,
              "#9c179e"
             ],
             [
              0.4444444444444444,
              "#bd3786"
             ],
             [
              0.5555555555555556,
              "#d8576b"
             ],
             [
              0.6666666666666666,
              "#ed7953"
             ],
             [
              0.7777777777777778,
              "#fb9f3a"
             ],
             [
              0.8888888888888888,
              "#fdca26"
             ],
             [
              1,
              "#f0f921"
             ]
            ],
            "type": "heatmapgl"
           }
          ],
          "histogram": [
           {
            "marker": {
             "pattern": {
              "fillmode": "overlay",
              "size": 10,
              "solidity": 0.2
             }
            },
            "type": "histogram"
           }
          ],
          "histogram2d": [
           {
            "colorbar": {
             "outlinewidth": 0,
             "ticks": ""
            },
            "colorscale": [
             [
              0,
              "#0d0887"
             ],
             [
              0.1111111111111111,
              "#46039f"
             ],
             [
              0.2222222222222222,
              "#7201a8"
             ],
             [
              0.3333333333333333,
              "#9c179e"
             ],
             [
              0.4444444444444444,
              "#bd3786"
             ],
             [
              0.5555555555555556,
              "#d8576b"
             ],
             [
              0.6666666666666666,
              "#ed7953"
             ],
             [
              0.7777777777777778,
              "#fb9f3a"
             ],
             [
              0.8888888888888888,
              "#fdca26"
             ],
             [
              1,
              "#f0f921"
             ]
            ],
            "type": "histogram2d"
           }
          ],
          "histogram2dcontour": [
           {
            "colorbar": {
             "outlinewidth": 0,
             "ticks": ""
            },
            "colorscale": [
             [
              0,
              "#0d0887"
             ],
             [
              0.1111111111111111,
              "#46039f"
             ],
             [
              0.2222222222222222,
              "#7201a8"
             ],
             [
              0.3333333333333333,
              "#9c179e"
             ],
             [
              0.4444444444444444,
              "#bd3786"
             ],
             [
              0.5555555555555556,
              "#d8576b"
             ],
             [
              0.6666666666666666,
              "#ed7953"
             ],
             [
              0.7777777777777778,
              "#fb9f3a"
             ],
             [
              0.8888888888888888,
              "#fdca26"
             ],
             [
              1,
              "#f0f921"
             ]
            ],
            "type": "histogram2dcontour"
           }
          ],
          "mesh3d": [
           {
            "colorbar": {
             "outlinewidth": 0,
             "ticks": ""
            },
            "type": "mesh3d"
           }
          ],
          "parcoords": [
           {
            "line": {
             "colorbar": {
              "outlinewidth": 0,
              "ticks": ""
             }
            },
            "type": "parcoords"
           }
          ],
          "pie": [
           {
            "automargin": true,
            "type": "pie"
           }
          ],
          "scatter": [
           {
            "fillpattern": {
             "fillmode": "overlay",
             "size": 10,
             "solidity": 0.2
            },
            "type": "scatter"
           }
          ],
          "scatter3d": [
           {
            "line": {
             "colorbar": {
              "outlinewidth": 0,
              "ticks": ""
             }
            },
            "marker": {
             "colorbar": {
              "outlinewidth": 0,
              "ticks": ""
             }
            },
            "type": "scatter3d"
           }
          ],
          "scattercarpet": [
           {
            "marker": {
             "colorbar": {
              "outlinewidth": 0,
              "ticks": ""
             }
            },
            "type": "scattercarpet"
           }
          ],
          "scattergeo": [
           {
            "marker": {
             "colorbar": {
              "outlinewidth": 0,
              "ticks": ""
             }
            },
            "type": "scattergeo"
           }
          ],
          "scattergl": [
           {
            "marker": {
             "colorbar": {
              "outlinewidth": 0,
              "ticks": ""
             }
            },
            "type": "scattergl"
           }
          ],
          "scattermapbox": [
           {
            "marker": {
             "colorbar": {
              "outlinewidth": 0,
              "ticks": ""
             }
            },
            "type": "scattermapbox"
           }
          ],
          "scatterpolar": [
           {
            "marker": {
             "colorbar": {
              "outlinewidth": 0,
              "ticks": ""
             }
            },
            "type": "scatterpolar"
           }
          ],
          "scatterpolargl": [
           {
            "marker": {
             "colorbar": {
              "outlinewidth": 0,
              "ticks": ""
             }
            },
            "type": "scatterpolargl"
           }
          ],
          "scatterternary": [
           {
            "marker": {
             "colorbar": {
              "outlinewidth": 0,
              "ticks": ""
             }
            },
            "type": "scatterternary"
           }
          ],
          "surface": [
           {
            "colorbar": {
             "outlinewidth": 0,
             "ticks": ""
            },
            "colorscale": [
             [
              0,
              "#0d0887"
             ],
             [
              0.1111111111111111,
              "#46039f"
             ],
             [
              0.2222222222222222,
              "#7201a8"
             ],
             [
              0.3333333333333333,
              "#9c179e"
             ],
             [
              0.4444444444444444,
              "#bd3786"
             ],
             [
              0.5555555555555556,
              "#d8576b"
             ],
             [
              0.6666666666666666,
              "#ed7953"
             ],
             [
              0.7777777777777778,
              "#fb9f3a"
             ],
             [
              0.8888888888888888,
              "#fdca26"
             ],
             [
              1,
              "#f0f921"
             ]
            ],
            "type": "surface"
           }
          ],
          "table": [
           {
            "cells": {
             "fill": {
              "color": "#EBF0F8"
             },
             "line": {
              "color": "white"
             }
            },
            "header": {
             "fill": {
              "color": "#C8D4E3"
             },
             "line": {
              "color": "white"
             }
            },
            "type": "table"
           }
          ]
         },
         "layout": {
          "annotationdefaults": {
           "arrowcolor": "#2a3f5f",
           "arrowhead": 0,
           "arrowwidth": 1
          },
          "autotypenumbers": "strict",
          "coloraxis": {
           "colorbar": {
            "outlinewidth": 0,
            "ticks": ""
           }
          },
          "colorscale": {
           "diverging": [
            [
             0,
             "#8e0152"
            ],
            [
             0.1,
             "#c51b7d"
            ],
            [
             0.2,
             "#de77ae"
            ],
            [
             0.3,
             "#f1b6da"
            ],
            [
             0.4,
             "#fde0ef"
            ],
            [
             0.5,
             "#f7f7f7"
            ],
            [
             0.6,
             "#e6f5d0"
            ],
            [
             0.7,
             "#b8e186"
            ],
            [
             0.8,
             "#7fbc41"
            ],
            [
             0.9,
             "#4d9221"
            ],
            [
             1,
             "#276419"
            ]
           ],
           "sequential": [
            [
             0,
             "#0d0887"
            ],
            [
             0.1111111111111111,
             "#46039f"
            ],
            [
             0.2222222222222222,
             "#7201a8"
            ],
            [
             0.3333333333333333,
             "#9c179e"
            ],
            [
             0.4444444444444444,
             "#bd3786"
            ],
            [
             0.5555555555555556,
             "#d8576b"
            ],
            [
             0.6666666666666666,
             "#ed7953"
            ],
            [
             0.7777777777777778,
             "#fb9f3a"
            ],
            [
             0.8888888888888888,
             "#fdca26"
            ],
            [
             1,
             "#f0f921"
            ]
           ],
           "sequentialminus": [
            [
             0,
             "#0d0887"
            ],
            [
             0.1111111111111111,
             "#46039f"
            ],
            [
             0.2222222222222222,
             "#7201a8"
            ],
            [
             0.3333333333333333,
             "#9c179e"
            ],
            [
             0.4444444444444444,
             "#bd3786"
            ],
            [
             0.5555555555555556,
             "#d8576b"
            ],
            [
             0.6666666666666666,
             "#ed7953"
            ],
            [
             0.7777777777777778,
             "#fb9f3a"
            ],
            [
             0.8888888888888888,
             "#fdca26"
            ],
            [
             1,
             "#f0f921"
            ]
           ]
          },
          "colorway": [
           "#636efa",
           "#EF553B",
           "#00cc96",
           "#ab63fa",
           "#FFA15A",
           "#19d3f3",
           "#FF6692",
           "#B6E880",
           "#FF97FF",
           "#FECB52"
          ],
          "font": {
           "color": "#2a3f5f"
          },
          "geo": {
           "bgcolor": "white",
           "lakecolor": "white",
           "landcolor": "#E5ECF6",
           "showlakes": true,
           "showland": true,
           "subunitcolor": "white"
          },
          "hoverlabel": {
           "align": "left"
          },
          "hovermode": "closest",
          "mapbox": {
           "style": "light"
          },
          "paper_bgcolor": "white",
          "plot_bgcolor": "#E5ECF6",
          "polar": {
           "angularaxis": {
            "gridcolor": "white",
            "linecolor": "white",
            "ticks": ""
           },
           "bgcolor": "#E5ECF6",
           "radialaxis": {
            "gridcolor": "white",
            "linecolor": "white",
            "ticks": ""
           }
          },
          "scene": {
           "xaxis": {
            "backgroundcolor": "#E5ECF6",
            "gridcolor": "white",
            "gridwidth": 2,
            "linecolor": "white",
            "showbackground": true,
            "ticks": "",
            "zerolinecolor": "white"
           },
           "yaxis": {
            "backgroundcolor": "#E5ECF6",
            "gridcolor": "white",
            "gridwidth": 2,
            "linecolor": "white",
            "showbackground": true,
            "ticks": "",
            "zerolinecolor": "white"
           },
           "zaxis": {
            "backgroundcolor": "#E5ECF6",
            "gridcolor": "white",
            "gridwidth": 2,
            "linecolor": "white",
            "showbackground": true,
            "ticks": "",
            "zerolinecolor": "white"
           }
          },
          "shapedefaults": {
           "line": {
            "color": "#2a3f5f"
           }
          },
          "ternary": {
           "aaxis": {
            "gridcolor": "white",
            "linecolor": "white",
            "ticks": ""
           },
           "baxis": {
            "gridcolor": "white",
            "linecolor": "white",
            "ticks": ""
           },
           "bgcolor": "#E5ECF6",
           "caxis": {
            "gridcolor": "white",
            "linecolor": "white",
            "ticks": ""
           }
          },
          "title": {
           "x": 0.05
          },
          "xaxis": {
           "automargin": true,
           "gridcolor": "white",
           "linecolor": "white",
           "ticks": "",
           "title": {
            "standoff": 15
           },
           "zerolinecolor": "white",
           "zerolinewidth": 2
          },
          "yaxis": {
           "automargin": true,
           "gridcolor": "white",
           "linecolor": "white",
           "ticks": "",
           "title": {
            "standoff": 15
           },
           "zerolinecolor": "white",
           "zerolinewidth": 2
          }
         }
        },
        "title": {
         "text": "Share of Primary Energy from Renewable Sources (1965 to 2021)"
        },
        "updatemenus": [
         {
          "buttons": [
           {
            "args": [
             null,
             {
              "frame": {
               "duration": 500,
               "redraw": true
              },
              "fromcurrent": true,
              "mode": "immediate",
              "transition": {
               "duration": 500,
               "easing": "linear"
              }
             }
            ],
            "label": "&#9654;",
            "method": "animate"
           },
           {
            "args": [
             [
              null
             ],
             {
              "frame": {
               "duration": 0,
               "redraw": true
              },
              "fromcurrent": true,
              "mode": "immediate",
              "transition": {
               "duration": 0,
               "easing": "linear"
              }
             }
            ],
            "label": "&#9724;",
            "method": "animate"
           }
          ],
          "direction": "left",
          "pad": {
           "r": 10,
           "t": 70
          },
          "showactive": false,
          "type": "buttons",
          "x": 0.1,
          "xanchor": "right",
          "y": 0,
          "yanchor": "top"
         }
        ]
       }
      },
      "text/html": [
       "<div>                            <div id=\"5772b6f8-cc67-4c98-96e6-c664f45ba378\" class=\"plotly-graph-div\" style=\"height:750px; width:100%;\"></div>            <script type=\"text/javascript\">                require([\"plotly\"], function(Plotly) {                    window.PLOTLYENV=window.PLOTLYENV || {};                                    if (document.getElementById(\"5772b6f8-cc67-4c98-96e6-c664f45ba378\")) {                    Plotly.newPlot(                        \"5772b6f8-cc67-4c98-96e6-c664f45ba378\",                        [{\"coloraxis\":\"coloraxis\",\"geo\":\"geo\",\"hovertemplate\":\"Year=1965<br>Entity=%{location}<br>Renewables (% equivalent primary energy)=%{z}<extra></extra>\",\"locationmode\":\"country names\",\"locations\":[\"Algeria\",\"Argentina\",\"Australia\",\"Austria\",\"Belgium\",\"Brazil\",\"Bulgaria\",\"Canada\",\"Chile\",\"China\",\"Colombia\",\"Cyprus\",\"Czechia\",\"Denmark\",\"Ecuador\",\"Egypt\",\"Finland\",\"France\",\"Germany\",\"Greece\",\"Hungary\",\"Iceland\",\"India\",\"Indonesia\",\"Iran\",\"Iraq\",\"Ireland\",\"Israel\",\"Italy\",\"Japan\",\"Kuwait\",\"Luxembourg\",\"Malaysia\",\"Mexico\",\"Morocco\",\"Netherlands\",\"New Zealand\",\"Norway\",\"Oman\",\"Pakistan\",\"Peru\",\"Philippines\",\"Poland\",\"Portugal\",\"Qatar\",\"Romania\",\"Saudi Arabia\",\"Slovakia\",\"South Africa\",\"South Korea\",\"Spain\",\"Sri Lanka\",\"Sweden\",\"Switzerland\",\"Taiwan\",\"Thailand\",\"Trinidad and Tobago\",\"Turkey\",\"United Arab Emirates\",\"United Kingdom\",\"Venezuela\",\"Vietnam\",\"United States\"],\"name\":\"\",\"z\":[4.763067722320557,1.1027235984802246,5.562621593475342,25.096406936645508,0.1947737485170364,27.54872131347656,4.931370735168457,25.138648986816406,16.01085662841797,4.253407001495361,11.788208961486816,0.0,1.4077873229980469,0.0444771610200405,8.50521469116211,5.587894439697266,23.96658515930176,10.584983825683594,1.614503026008606,2.9926247596740723,0.1198938563466072,24.983985900878903,9.149455070495604,6.385928153991699,5.225076198577881,0.9088937044143676,4.116825580596924,0.0,14.399823188781738,12.335086822509766,0.0,0.6112312078475952,5.246120452880859,8.934722900390625,20.22709846496582,0.0,39.25277328491211,67.87995910644531,0.0,7.898932456970215,13.740326881408691,8.365923881530762,0.3520969152450561,24.91469955444336,0.0,1.066218614578247,0.0,6.152654647827148,0.0308864526450634,2.8078150749206543,17.25343894958496,10.324469566345217,34.93345642089844,39.05083847045898,10.868430137634276,8.098695755004883,0.0,7.396099090576172,0.0,0.5887872576713562,2.114067792892456,3.41326642036438,4.368869781494141],\"type\":\"choropleth\"}],                        {\"template\":{\"data\":{\"histogram2dcontour\":[{\"type\":\"histogram2dcontour\",\"colorbar\":{\"outlinewidth\":0,\"ticks\":\"\"},\"colorscale\":[[0.0,\"#0d0887\"],[0.1111111111111111,\"#46039f\"],[0.2222222222222222,\"#7201a8\"],[0.3333333333333333,\"#9c179e\"],[0.4444444444444444,\"#bd3786\"],[0.5555555555555556,\"#d8576b\"],[0.6666666666666666,\"#ed7953\"],[0.7777777777777778,\"#fb9f3a\"],[0.8888888888888888,\"#fdca26\"],[1.0,\"#f0f921\"]]}],\"choropleth\":[{\"type\":\"choropleth\",\"colorbar\":{\"outlinewidth\":0,\"ticks\":\"\"}}],\"histogram2d\":[{\"type\":\"histogram2d\",\"colorbar\":{\"outlinewidth\":0,\"ticks\":\"\"},\"colorscale\":[[0.0,\"#0d0887\"],[0.1111111111111111,\"#46039f\"],[0.2222222222222222,\"#7201a8\"],[0.3333333333333333,\"#9c179e\"],[0.4444444444444444,\"#bd3786\"],[0.5555555555555556,\"#d8576b\"],[0.6666666666666666,\"#ed7953\"],[0.7777777777777778,\"#fb9f3a\"],[0.8888888888888888,\"#fdca26\"],[1.0,\"#f0f921\"]]}],\"heatmap\":[{\"type\":\"heatmap\",\"colorbar\":{\"outlinewidth\":0,\"ticks\":\"\"},\"colorscale\":[[0.0,\"#0d0887\"],[0.1111111111111111,\"#46039f\"],[0.2222222222222222,\"#7201a8\"],[0.3333333333333333,\"#9c179e\"],[0.4444444444444444,\"#bd3786\"],[0.5555555555555556,\"#d8576b\"],[0.6666666666666666,\"#ed7953\"],[0.7777777777777778,\"#fb9f3a\"],[0.8888888888888888,\"#fdca26\"],[1.0,\"#f0f921\"]]}],\"heatmapgl\":[{\"type\":\"heatmapgl\",\"colorbar\":{\"outlinewidth\":0,\"ticks\":\"\"},\"colorscale\":[[0.0,\"#0d0887\"],[0.1111111111111111,\"#46039f\"],[0.2222222222222222,\"#7201a8\"],[0.3333333333333333,\"#9c179e\"],[0.4444444444444444,\"#bd3786\"],[0.5555555555555556,\"#d8576b\"],[0.6666666666666666,\"#ed7953\"],[0.7777777777777778,\"#fb9f3a\"],[0.8888888888888888,\"#fdca26\"],[1.0,\"#f0f921\"]]}],\"contourcarpet\":[{\"type\":\"contourcarpet\",\"colorbar\":{\"outlinewidth\":0,\"ticks\":\"\"}}],\"contour\":[{\"type\":\"contour\",\"colorbar\":{\"outlinewidth\":0,\"ticks\":\"\"},\"colorscale\":[[0.0,\"#0d0887\"],[0.1111111111111111,\"#46039f\"],[0.2222222222222222,\"#7201a8\"],[0.3333333333333333,\"#9c179e\"],[0.4444444444444444,\"#bd3786\"],[0.5555555555555556,\"#d8576b\"],[0.6666666666666666,\"#ed7953\"],[0.7777777777777778,\"#fb9f3a\"],[0.8888888888888888,\"#fdca26\"],[1.0,\"#f0f921\"]]}],\"surface\":[{\"type\":\"surface\",\"colorbar\":{\"outlinewidth\":0,\"ticks\":\"\"},\"colorscale\":[[0.0,\"#0d0887\"],[0.1111111111111111,\"#46039f\"],[0.2222222222222222,\"#7201a8\"],[0.3333333333333333,\"#9c179e\"],[0.4444444444444444,\"#bd3786\"],[0.5555555555555556,\"#d8576b\"],[0.6666666666666666,\"#ed7953\"],[0.7777777777777778,\"#fb9f3a\"],[0.8888888888888888,\"#fdca26\"],[1.0,\"#f0f921\"]]}],\"mesh3d\":[{\"type\":\"mesh3d\",\"colorbar\":{\"outlinewidth\":0,\"ticks\":\"\"}}],\"scatter\":[{\"fillpattern\":{\"fillmode\":\"overlay\",\"size\":10,\"solidity\":0.2},\"type\":\"scatter\"}],\"parcoords\":[{\"type\":\"parcoords\",\"line\":{\"colorbar\":{\"outlinewidth\":0,\"ticks\":\"\"}}}],\"scatterpolargl\":[{\"type\":\"scatterpolargl\",\"marker\":{\"colorbar\":{\"outlinewidth\":0,\"ticks\":\"\"}}}],\"bar\":[{\"error_x\":{\"color\":\"#2a3f5f\"},\"error_y\":{\"color\":\"#2a3f5f\"},\"marker\":{\"line\":{\"color\":\"#E5ECF6\",\"width\":0.5},\"pattern\":{\"fillmode\":\"overlay\",\"size\":10,\"solidity\":0.2}},\"type\":\"bar\"}],\"scattergeo\":[{\"type\":\"scattergeo\",\"marker\":{\"colorbar\":{\"outlinewidth\":0,\"ticks\":\"\"}}}],\"scatterpolar\":[{\"type\":\"scatterpolar\",\"marker\":{\"colorbar\":{\"outlinewidth\":0,\"ticks\":\"\"}}}],\"histogram\":[{\"marker\":{\"pattern\":{\"fillmode\":\"overlay\",\"size\":10,\"solidity\":0.2}},\"type\":\"histogram\"}],\"scattergl\":[{\"type\":\"scattergl\",\"marker\":{\"colorbar\":{\"outlinewidth\":0,\"ticks\":\"\"}}}],\"scatter3d\":[{\"type\":\"scatter3d\",\"line\":{\"colorbar\":{\"outlinewidth\":0,\"ticks\":\"\"}},\"marker\":{\"colorbar\":{\"outlinewidth\":0,\"ticks\":\"\"}}}],\"scattermapbox\":[{\"type\":\"scattermapbox\",\"marker\":{\"colorbar\":{\"outlinewidth\":0,\"ticks\":\"\"}}}],\"scatterternary\":[{\"type\":\"scatterternary\",\"marker\":{\"colorbar\":{\"outlinewidth\":0,\"ticks\":\"\"}}}],\"scattercarpet\":[{\"type\":\"scattercarpet\",\"marker\":{\"colorbar\":{\"outlinewidth\":0,\"ticks\":\"\"}}}],\"carpet\":[{\"aaxis\":{\"endlinecolor\":\"#2a3f5f\",\"gridcolor\":\"white\",\"linecolor\":\"white\",\"minorgridcolor\":\"white\",\"startlinecolor\":\"#2a3f5f\"},\"baxis\":{\"endlinecolor\":\"#2a3f5f\",\"gridcolor\":\"white\",\"linecolor\":\"white\",\"minorgridcolor\":\"white\",\"startlinecolor\":\"#2a3f5f\"},\"type\":\"carpet\"}],\"table\":[{\"cells\":{\"fill\":{\"color\":\"#EBF0F8\"},\"line\":{\"color\":\"white\"}},\"header\":{\"fill\":{\"color\":\"#C8D4E3\"},\"line\":{\"color\":\"white\"}},\"type\":\"table\"}],\"barpolar\":[{\"marker\":{\"line\":{\"color\":\"#E5ECF6\",\"width\":0.5},\"pattern\":{\"fillmode\":\"overlay\",\"size\":10,\"solidity\":0.2}},\"type\":\"barpolar\"}],\"pie\":[{\"automargin\":true,\"type\":\"pie\"}]},\"layout\":{\"autotypenumbers\":\"strict\",\"colorway\":[\"#636efa\",\"#EF553B\",\"#00cc96\",\"#ab63fa\",\"#FFA15A\",\"#19d3f3\",\"#FF6692\",\"#B6E880\",\"#FF97FF\",\"#FECB52\"],\"font\":{\"color\":\"#2a3f5f\"},\"hovermode\":\"closest\",\"hoverlabel\":{\"align\":\"left\"},\"paper_bgcolor\":\"white\",\"plot_bgcolor\":\"#E5ECF6\",\"polar\":{\"bgcolor\":\"#E5ECF6\",\"angularaxis\":{\"gridcolor\":\"white\",\"linecolor\":\"white\",\"ticks\":\"\"},\"radialaxis\":{\"gridcolor\":\"white\",\"linecolor\":\"white\",\"ticks\":\"\"}},\"ternary\":{\"bgcolor\":\"#E5ECF6\",\"aaxis\":{\"gridcolor\":\"white\",\"linecolor\":\"white\",\"ticks\":\"\"},\"baxis\":{\"gridcolor\":\"white\",\"linecolor\":\"white\",\"ticks\":\"\"},\"caxis\":{\"gridcolor\":\"white\",\"linecolor\":\"white\",\"ticks\":\"\"}},\"coloraxis\":{\"colorbar\":{\"outlinewidth\":0,\"ticks\":\"\"}},\"colorscale\":{\"sequential\":[[0.0,\"#0d0887\"],[0.1111111111111111,\"#46039f\"],[0.2222222222222222,\"#7201a8\"],[0.3333333333333333,\"#9c179e\"],[0.4444444444444444,\"#bd3786\"],[0.5555555555555556,\"#d8576b\"],[0.6666666666666666,\"#ed7953\"],[0.7777777777777778,\"#fb9f3a\"],[0.8888888888888888,\"#fdca26\"],[1.0,\"#f0f921\"]],\"sequentialminus\":[[0.0,\"#0d0887\"],[0.1111111111111111,\"#46039f\"],[0.2222222222222222,\"#7201a8\"],[0.3333333333333333,\"#9c179e\"],[0.4444444444444444,\"#bd3786\"],[0.5555555555555556,\"#d8576b\"],[0.6666666666666666,\"#ed7953\"],[0.7777777777777778,\"#fb9f3a\"],[0.8888888888888888,\"#fdca26\"],[1.0,\"#f0f921\"]],\"diverging\":[[0,\"#8e0152\"],[0.1,\"#c51b7d\"],[0.2,\"#de77ae\"],[0.3,\"#f1b6da\"],[0.4,\"#fde0ef\"],[0.5,\"#f7f7f7\"],[0.6,\"#e6f5d0\"],[0.7,\"#b8e186\"],[0.8,\"#7fbc41\"],[0.9,\"#4d9221\"],[1,\"#276419\"]]},\"xaxis\":{\"gridcolor\":\"white\",\"linecolor\":\"white\",\"ticks\":\"\",\"title\":{\"standoff\":15},\"zerolinecolor\":\"white\",\"automargin\":true,\"zerolinewidth\":2},\"yaxis\":{\"gridcolor\":\"white\",\"linecolor\":\"white\",\"ticks\":\"\",\"title\":{\"standoff\":15},\"zerolinecolor\":\"white\",\"automargin\":true,\"zerolinewidth\":2},\"scene\":{\"xaxis\":{\"backgroundcolor\":\"#E5ECF6\",\"gridcolor\":\"white\",\"linecolor\":\"white\",\"showbackground\":true,\"ticks\":\"\",\"zerolinecolor\":\"white\",\"gridwidth\":2},\"yaxis\":{\"backgroundcolor\":\"#E5ECF6\",\"gridcolor\":\"white\",\"linecolor\":\"white\",\"showbackground\":true,\"ticks\":\"\",\"zerolinecolor\":\"white\",\"gridwidth\":2},\"zaxis\":{\"backgroundcolor\":\"#E5ECF6\",\"gridcolor\":\"white\",\"linecolor\":\"white\",\"showbackground\":true,\"ticks\":\"\",\"zerolinecolor\":\"white\",\"gridwidth\":2}},\"shapedefaults\":{\"line\":{\"color\":\"#2a3f5f\"}},\"annotationdefaults\":{\"arrowcolor\":\"#2a3f5f\",\"arrowhead\":0,\"arrowwidth\":1},\"geo\":{\"bgcolor\":\"white\",\"landcolor\":\"#E5ECF6\",\"subunitcolor\":\"white\",\"showland\":true,\"showlakes\":true,\"lakecolor\":\"white\"},\"title\":{\"x\":0.05},\"mapbox\":{\"style\":\"light\"}}},\"geo\":{\"domain\":{\"x\":[0.0,1.0],\"y\":[0.0,1.0]},\"center\":{},\"scope\":\"world\"},\"coloraxis\":{\"colorbar\":{\"title\":{\"text\":\"Renewables (% equivalent primary energy)\"}},\"colorscale\":[[0.0,\"#0d0887\"],[0.1111111111111111,\"#46039f\"],[0.2222222222222222,\"#7201a8\"],[0.3333333333333333,\"#9c179e\"],[0.4444444444444444,\"#bd3786\"],[0.5555555555555556,\"#d8576b\"],[0.6666666666666666,\"#ed7953\"],[0.7777777777777778,\"#fb9f3a\"],[0.8888888888888888,\"#fdca26\"],[1.0,\"#f0f921\"]],\"cmin\":0,\"cmax\":75},\"legend\":{\"tracegroupgap\":0},\"title\":{\"text\":\"Share of Primary Energy from Renewable Sources (1965 to 2021)\"},\"height\":750,\"updatemenus\":[{\"buttons\":[{\"args\":[null,{\"frame\":{\"duration\":500,\"redraw\":true},\"mode\":\"immediate\",\"fromcurrent\":true,\"transition\":{\"duration\":500,\"easing\":\"linear\"}}],\"label\":\"&#9654;\",\"method\":\"animate\"},{\"args\":[[null],{\"frame\":{\"duration\":0,\"redraw\":true},\"mode\":\"immediate\",\"fromcurrent\":true,\"transition\":{\"duration\":0,\"easing\":\"linear\"}}],\"label\":\"&#9724;\",\"method\":\"animate\"}],\"direction\":\"left\",\"pad\":{\"r\":10,\"t\":70},\"showactive\":false,\"type\":\"buttons\",\"x\":0.1,\"xanchor\":\"right\",\"y\":0,\"yanchor\":\"top\"}],\"sliders\":[{\"active\":0,\"currentvalue\":{\"prefix\":\"Year=\"},\"len\":0.9,\"pad\":{\"b\":10,\"t\":60},\"steps\":[{\"args\":[[\"1965\"],{\"frame\":{\"duration\":0,\"redraw\":true},\"mode\":\"immediate\",\"fromcurrent\":true,\"transition\":{\"duration\":0,\"easing\":\"linear\"}}],\"label\":\"1965\",\"method\":\"animate\"},{\"args\":[[\"1966\"],{\"frame\":{\"duration\":0,\"redraw\":true},\"mode\":\"immediate\",\"fromcurrent\":true,\"transition\":{\"duration\":0,\"easing\":\"linear\"}}],\"label\":\"1966\",\"method\":\"animate\"},{\"args\":[[\"1967\"],{\"frame\":{\"duration\":0,\"redraw\":true},\"mode\":\"immediate\",\"fromcurrent\":true,\"transition\":{\"duration\":0,\"easing\":\"linear\"}}],\"label\":\"1967\",\"method\":\"animate\"},{\"args\":[[\"1968\"],{\"frame\":{\"duration\":0,\"redraw\":true},\"mode\":\"immediate\",\"fromcurrent\":true,\"transition\":{\"duration\":0,\"easing\":\"linear\"}}],\"label\":\"1968\",\"method\":\"animate\"},{\"args\":[[\"1969\"],{\"frame\":{\"duration\":0,\"redraw\":true},\"mode\":\"immediate\",\"fromcurrent\":true,\"transition\":{\"duration\":0,\"easing\":\"linear\"}}],\"label\":\"1969\",\"method\":\"animate\"},{\"args\":[[\"1970\"],{\"frame\":{\"duration\":0,\"redraw\":true},\"mode\":\"immediate\",\"fromcurrent\":true,\"transition\":{\"duration\":0,\"easing\":\"linear\"}}],\"label\":\"1970\",\"method\":\"animate\"},{\"args\":[[\"1971\"],{\"frame\":{\"duration\":0,\"redraw\":true},\"mode\":\"immediate\",\"fromcurrent\":true,\"transition\":{\"duration\":0,\"easing\":\"linear\"}}],\"label\":\"1971\",\"method\":\"animate\"},{\"args\":[[\"1972\"],{\"frame\":{\"duration\":0,\"redraw\":true},\"mode\":\"immediate\",\"fromcurrent\":true,\"transition\":{\"duration\":0,\"easing\":\"linear\"}}],\"label\":\"1972\",\"method\":\"animate\"},{\"args\":[[\"1973\"],{\"frame\":{\"duration\":0,\"redraw\":true},\"mode\":\"immediate\",\"fromcurrent\":true,\"transition\":{\"duration\":0,\"easing\":\"linear\"}}],\"label\":\"1973\",\"method\":\"animate\"},{\"args\":[[\"1974\"],{\"frame\":{\"duration\":0,\"redraw\":true},\"mode\":\"immediate\",\"fromcurrent\":true,\"transition\":{\"duration\":0,\"easing\":\"linear\"}}],\"label\":\"1974\",\"method\":\"animate\"},{\"args\":[[\"1975\"],{\"frame\":{\"duration\":0,\"redraw\":true},\"mode\":\"immediate\",\"fromcurrent\":true,\"transition\":{\"duration\":0,\"easing\":\"linear\"}}],\"label\":\"1975\",\"method\":\"animate\"},{\"args\":[[\"1976\"],{\"frame\":{\"duration\":0,\"redraw\":true},\"mode\":\"immediate\",\"fromcurrent\":true,\"transition\":{\"duration\":0,\"easing\":\"linear\"}}],\"label\":\"1976\",\"method\":\"animate\"},{\"args\":[[\"1977\"],{\"frame\":{\"duration\":0,\"redraw\":true},\"mode\":\"immediate\",\"fromcurrent\":true,\"transition\":{\"duration\":0,\"easing\":\"linear\"}}],\"label\":\"1977\",\"method\":\"animate\"},{\"args\":[[\"1978\"],{\"frame\":{\"duration\":0,\"redraw\":true},\"mode\":\"immediate\",\"fromcurrent\":true,\"transition\":{\"duration\":0,\"easing\":\"linear\"}}],\"label\":\"1978\",\"method\":\"animate\"},{\"args\":[[\"1979\"],{\"frame\":{\"duration\":0,\"redraw\":true},\"mode\":\"immediate\",\"fromcurrent\":true,\"transition\":{\"duration\":0,\"easing\":\"linear\"}}],\"label\":\"1979\",\"method\":\"animate\"},{\"args\":[[\"1980\"],{\"frame\":{\"duration\":0,\"redraw\":true},\"mode\":\"immediate\",\"fromcurrent\":true,\"transition\":{\"duration\":0,\"easing\":\"linear\"}}],\"label\":\"1980\",\"method\":\"animate\"},{\"args\":[[\"1981\"],{\"frame\":{\"duration\":0,\"redraw\":true},\"mode\":\"immediate\",\"fromcurrent\":true,\"transition\":{\"duration\":0,\"easing\":\"linear\"}}],\"label\":\"1981\",\"method\":\"animate\"},{\"args\":[[\"1982\"],{\"frame\":{\"duration\":0,\"redraw\":true},\"mode\":\"immediate\",\"fromcurrent\":true,\"transition\":{\"duration\":0,\"easing\":\"linear\"}}],\"label\":\"1982\",\"method\":\"animate\"},{\"args\":[[\"1983\"],{\"frame\":{\"duration\":0,\"redraw\":true},\"mode\":\"immediate\",\"fromcurrent\":true,\"transition\":{\"duration\":0,\"easing\":\"linear\"}}],\"label\":\"1983\",\"method\":\"animate\"},{\"args\":[[\"1984\"],{\"frame\":{\"duration\":0,\"redraw\":true},\"mode\":\"immediate\",\"fromcurrent\":true,\"transition\":{\"duration\":0,\"easing\":\"linear\"}}],\"label\":\"1984\",\"method\":\"animate\"},{\"args\":[[\"1985\"],{\"frame\":{\"duration\":0,\"redraw\":true},\"mode\":\"immediate\",\"fromcurrent\":true,\"transition\":{\"duration\":0,\"easing\":\"linear\"}}],\"label\":\"1985\",\"method\":\"animate\"},{\"args\":[[\"1986\"],{\"frame\":{\"duration\":0,\"redraw\":true},\"mode\":\"immediate\",\"fromcurrent\":true,\"transition\":{\"duration\":0,\"easing\":\"linear\"}}],\"label\":\"1986\",\"method\":\"animate\"},{\"args\":[[\"1987\"],{\"frame\":{\"duration\":0,\"redraw\":true},\"mode\":\"immediate\",\"fromcurrent\":true,\"transition\":{\"duration\":0,\"easing\":\"linear\"}}],\"label\":\"1987\",\"method\":\"animate\"},{\"args\":[[\"1988\"],{\"frame\":{\"duration\":0,\"redraw\":true},\"mode\":\"immediate\",\"fromcurrent\":true,\"transition\":{\"duration\":0,\"easing\":\"linear\"}}],\"label\":\"1988\",\"method\":\"animate\"},{\"args\":[[\"1989\"],{\"frame\":{\"duration\":0,\"redraw\":true},\"mode\":\"immediate\",\"fromcurrent\":true,\"transition\":{\"duration\":0,\"easing\":\"linear\"}}],\"label\":\"1989\",\"method\":\"animate\"},{\"args\":[[\"1990\"],{\"frame\":{\"duration\":0,\"redraw\":true},\"mode\":\"immediate\",\"fromcurrent\":true,\"transition\":{\"duration\":0,\"easing\":\"linear\"}}],\"label\":\"1990\",\"method\":\"animate\"},{\"args\":[[\"1991\"],{\"frame\":{\"duration\":0,\"redraw\":true},\"mode\":\"immediate\",\"fromcurrent\":true,\"transition\":{\"duration\":0,\"easing\":\"linear\"}}],\"label\":\"1991\",\"method\":\"animate\"},{\"args\":[[\"1992\"],{\"frame\":{\"duration\":0,\"redraw\":true},\"mode\":\"immediate\",\"fromcurrent\":true,\"transition\":{\"duration\":0,\"easing\":\"linear\"}}],\"label\":\"1992\",\"method\":\"animate\"},{\"args\":[[\"1993\"],{\"frame\":{\"duration\":0,\"redraw\":true},\"mode\":\"immediate\",\"fromcurrent\":true,\"transition\":{\"duration\":0,\"easing\":\"linear\"}}],\"label\":\"1993\",\"method\":\"animate\"},{\"args\":[[\"1994\"],{\"frame\":{\"duration\":0,\"redraw\":true},\"mode\":\"immediate\",\"fromcurrent\":true,\"transition\":{\"duration\":0,\"easing\":\"linear\"}}],\"label\":\"1994\",\"method\":\"animate\"},{\"args\":[[\"1995\"],{\"frame\":{\"duration\":0,\"redraw\":true},\"mode\":\"immediate\",\"fromcurrent\":true,\"transition\":{\"duration\":0,\"easing\":\"linear\"}}],\"label\":\"1995\",\"method\":\"animate\"},{\"args\":[[\"1996\"],{\"frame\":{\"duration\":0,\"redraw\":true},\"mode\":\"immediate\",\"fromcurrent\":true,\"transition\":{\"duration\":0,\"easing\":\"linear\"}}],\"label\":\"1996\",\"method\":\"animate\"},{\"args\":[[\"1997\"],{\"frame\":{\"duration\":0,\"redraw\":true},\"mode\":\"immediate\",\"fromcurrent\":true,\"transition\":{\"duration\":0,\"easing\":\"linear\"}}],\"label\":\"1997\",\"method\":\"animate\"},{\"args\":[[\"1998\"],{\"frame\":{\"duration\":0,\"redraw\":true},\"mode\":\"immediate\",\"fromcurrent\":true,\"transition\":{\"duration\":0,\"easing\":\"linear\"}}],\"label\":\"1998\",\"method\":\"animate\"},{\"args\":[[\"1999\"],{\"frame\":{\"duration\":0,\"redraw\":true},\"mode\":\"immediate\",\"fromcurrent\":true,\"transition\":{\"duration\":0,\"easing\":\"linear\"}}],\"label\":\"1999\",\"method\":\"animate\"},{\"args\":[[\"2000\"],{\"frame\":{\"duration\":0,\"redraw\":true},\"mode\":\"immediate\",\"fromcurrent\":true,\"transition\":{\"duration\":0,\"easing\":\"linear\"}}],\"label\":\"2000\",\"method\":\"animate\"},{\"args\":[[\"2001\"],{\"frame\":{\"duration\":0,\"redraw\":true},\"mode\":\"immediate\",\"fromcurrent\":true,\"transition\":{\"duration\":0,\"easing\":\"linear\"}}],\"label\":\"2001\",\"method\":\"animate\"},{\"args\":[[\"2002\"],{\"frame\":{\"duration\":0,\"redraw\":true},\"mode\":\"immediate\",\"fromcurrent\":true,\"transition\":{\"duration\":0,\"easing\":\"linear\"}}],\"label\":\"2002\",\"method\":\"animate\"},{\"args\":[[\"2003\"],{\"frame\":{\"duration\":0,\"redraw\":true},\"mode\":\"immediate\",\"fromcurrent\":true,\"transition\":{\"duration\":0,\"easing\":\"linear\"}}],\"label\":\"2003\",\"method\":\"animate\"},{\"args\":[[\"2004\"],{\"frame\":{\"duration\":0,\"redraw\":true},\"mode\":\"immediate\",\"fromcurrent\":true,\"transition\":{\"duration\":0,\"easing\":\"linear\"}}],\"label\":\"2004\",\"method\":\"animate\"},{\"args\":[[\"2005\"],{\"frame\":{\"duration\":0,\"redraw\":true},\"mode\":\"immediate\",\"fromcurrent\":true,\"transition\":{\"duration\":0,\"easing\":\"linear\"}}],\"label\":\"2005\",\"method\":\"animate\"},{\"args\":[[\"2006\"],{\"frame\":{\"duration\":0,\"redraw\":true},\"mode\":\"immediate\",\"fromcurrent\":true,\"transition\":{\"duration\":0,\"easing\":\"linear\"}}],\"label\":\"2006\",\"method\":\"animate\"},{\"args\":[[\"2007\"],{\"frame\":{\"duration\":0,\"redraw\":true},\"mode\":\"immediate\",\"fromcurrent\":true,\"transition\":{\"duration\":0,\"easing\":\"linear\"}}],\"label\":\"2007\",\"method\":\"animate\"},{\"args\":[[\"2008\"],{\"frame\":{\"duration\":0,\"redraw\":true},\"mode\":\"immediate\",\"fromcurrent\":true,\"transition\":{\"duration\":0,\"easing\":\"linear\"}}],\"label\":\"2008\",\"method\":\"animate\"},{\"args\":[[\"2009\"],{\"frame\":{\"duration\":0,\"redraw\":true},\"mode\":\"immediate\",\"fromcurrent\":true,\"transition\":{\"duration\":0,\"easing\":\"linear\"}}],\"label\":\"2009\",\"method\":\"animate\"},{\"args\":[[\"2010\"],{\"frame\":{\"duration\":0,\"redraw\":true},\"mode\":\"immediate\",\"fromcurrent\":true,\"transition\":{\"duration\":0,\"easing\":\"linear\"}}],\"label\":\"2010\",\"method\":\"animate\"},{\"args\":[[\"2011\"],{\"frame\":{\"duration\":0,\"redraw\":true},\"mode\":\"immediate\",\"fromcurrent\":true,\"transition\":{\"duration\":0,\"easing\":\"linear\"}}],\"label\":\"2011\",\"method\":\"animate\"},{\"args\":[[\"2012\"],{\"frame\":{\"duration\":0,\"redraw\":true},\"mode\":\"immediate\",\"fromcurrent\":true,\"transition\":{\"duration\":0,\"easing\":\"linear\"}}],\"label\":\"2012\",\"method\":\"animate\"},{\"args\":[[\"2013\"],{\"frame\":{\"duration\":0,\"redraw\":true},\"mode\":\"immediate\",\"fromcurrent\":true,\"transition\":{\"duration\":0,\"easing\":\"linear\"}}],\"label\":\"2013\",\"method\":\"animate\"},{\"args\":[[\"2014\"],{\"frame\":{\"duration\":0,\"redraw\":true},\"mode\":\"immediate\",\"fromcurrent\":true,\"transition\":{\"duration\":0,\"easing\":\"linear\"}}],\"label\":\"2014\",\"method\":\"animate\"},{\"args\":[[\"2015\"],{\"frame\":{\"duration\":0,\"redraw\":true},\"mode\":\"immediate\",\"fromcurrent\":true,\"transition\":{\"duration\":0,\"easing\":\"linear\"}}],\"label\":\"2015\",\"method\":\"animate\"},{\"args\":[[\"2016\"],{\"frame\":{\"duration\":0,\"redraw\":true},\"mode\":\"immediate\",\"fromcurrent\":true,\"transition\":{\"duration\":0,\"easing\":\"linear\"}}],\"label\":\"2016\",\"method\":\"animate\"},{\"args\":[[\"2017\"],{\"frame\":{\"duration\":0,\"redraw\":true},\"mode\":\"immediate\",\"fromcurrent\":true,\"transition\":{\"duration\":0,\"easing\":\"linear\"}}],\"label\":\"2017\",\"method\":\"animate\"},{\"args\":[[\"2018\"],{\"frame\":{\"duration\":0,\"redraw\":true},\"mode\":\"immediate\",\"fromcurrent\":true,\"transition\":{\"duration\":0,\"easing\":\"linear\"}}],\"label\":\"2018\",\"method\":\"animate\"},{\"args\":[[\"2019\"],{\"frame\":{\"duration\":0,\"redraw\":true},\"mode\":\"immediate\",\"fromcurrent\":true,\"transition\":{\"duration\":0,\"easing\":\"linear\"}}],\"label\":\"2019\",\"method\":\"animate\"},{\"args\":[[\"2020\"],{\"frame\":{\"duration\":0,\"redraw\":true},\"mode\":\"immediate\",\"fromcurrent\":true,\"transition\":{\"duration\":0,\"easing\":\"linear\"}}],\"label\":\"2020\",\"method\":\"animate\"},{\"args\":[[\"2021\"],{\"frame\":{\"duration\":0,\"redraw\":true},\"mode\":\"immediate\",\"fromcurrent\":true,\"transition\":{\"duration\":0,\"easing\":\"linear\"}}],\"label\":\"2021\",\"method\":\"animate\"}],\"x\":0.1,\"xanchor\":\"left\",\"y\":0,\"yanchor\":\"top\"}]},                        {\"responsive\": true}                    ).then(function(){\n",
       "                            Plotly.addFrames('5772b6f8-cc67-4c98-96e6-c664f45ba378', [{\"data\":[{\"coloraxis\":\"coloraxis\",\"geo\":\"geo\",\"hovertemplate\":\"Year=1965<br>Entity=%{location}<br>Renewables (% equivalent primary energy)=%{z}<extra></extra>\",\"locationmode\":\"country names\",\"locations\":[\"Algeria\",\"Argentina\",\"Australia\",\"Austria\",\"Belgium\",\"Brazil\",\"Bulgaria\",\"Canada\",\"Chile\",\"China\",\"Colombia\",\"Cyprus\",\"Czechia\",\"Denmark\",\"Ecuador\",\"Egypt\",\"Finland\",\"France\",\"Germany\",\"Greece\",\"Hungary\",\"Iceland\",\"India\",\"Indonesia\",\"Iran\",\"Iraq\",\"Ireland\",\"Israel\",\"Italy\",\"Japan\",\"Kuwait\",\"Luxembourg\",\"Malaysia\",\"Mexico\",\"Morocco\",\"Netherlands\",\"New Zealand\",\"Norway\",\"Oman\",\"Pakistan\",\"Peru\",\"Philippines\",\"Poland\",\"Portugal\",\"Qatar\",\"Romania\",\"Saudi Arabia\",\"Slovakia\",\"South Africa\",\"South Korea\",\"Spain\",\"Sri Lanka\",\"Sweden\",\"Switzerland\",\"Taiwan\",\"Thailand\",\"Trinidad and Tobago\",\"Turkey\",\"United Arab Emirates\",\"United Kingdom\",\"Venezuela\",\"Vietnam\",\"United States\"],\"name\":\"\",\"z\":[4.763067722320557,1.1027235984802246,5.562621593475342,25.096406936645508,0.1947737485170364,27.54872131347656,4.931370735168457,25.138648986816406,16.01085662841797,4.253407001495361,11.788208961486816,0.0,1.4077873229980469,0.0444771610200405,8.50521469116211,5.587894439697266,23.96658515930176,10.584983825683594,1.614503026008606,2.9926247596740723,0.1198938563466072,24.983985900878903,9.149455070495604,6.385928153991699,5.225076198577881,0.9088937044143676,4.116825580596924,0.0,14.399823188781738,12.335086822509766,0.0,0.6112312078475952,5.246120452880859,8.934722900390625,20.22709846496582,0.0,39.25277328491211,67.87995910644531,0.0,7.898932456970215,13.740326881408691,8.365923881530762,0.3520969152450561,24.91469955444336,0.0,1.066218614578247,0.0,6.152654647827148,0.0308864526450634,2.8078150749206543,17.25343894958496,10.324469566345217,34.93345642089844,39.05083847045898,10.868430137634276,8.098695755004883,0.0,7.396099090576172,0.0,0.5887872576713562,2.114067792892456,3.41326642036438,4.368869781494141],\"type\":\"choropleth\"}],\"name\":\"1965\"},{\"data\":[{\"coloraxis\":\"coloraxis\",\"geo\":\"geo\",\"hovertemplate\":\"Year=1966<br>Entity=%{location}<br>Renewables (% equivalent primary energy)=%{z}<extra></extra>\",\"locationmode\":\"country names\",\"locations\":[\"Algeria\",\"Argentina\",\"Australia\",\"Austria\",\"Belgium\",\"Brazil\",\"Bulgaria\",\"Canada\",\"Chile\",\"China\",\"Colombia\",\"Cyprus\",\"Czechia\",\"Denmark\",\"Ecuador\",\"Egypt\",\"Finland\",\"France\",\"Germany\",\"Greece\",\"Hungary\",\"Iceland\",\"India\",\"Indonesia\",\"Iran\",\"Iraq\",\"Ireland\",\"Israel\",\"Italy\",\"Japan\",\"Kuwait\",\"Luxembourg\",\"Malaysia\",\"Mexico\",\"Morocco\",\"Netherlands\",\"New Zealand\",\"Norway\",\"Oman\",\"Pakistan\",\"Peru\",\"Philippines\",\"Poland\",\"Portugal\",\"Qatar\",\"Romania\",\"Saudi Arabia\",\"Slovakia\",\"South Africa\",\"South Korea\",\"Spain\",\"Sri Lanka\",\"Sweden\",\"Switzerland\",\"Taiwan\",\"Thailand\",\"Trinidad and Tobago\",\"Turkey\",\"United Arab Emirates\",\"United Kingdom\",\"Venezuela\",\"Vietnam\",\"United States\"],\"name\":\"\",\"z\":[3.518747091293335,1.0818976163864136,5.071894645690918,25.840192794799805,0.2222243994474411,27.618213653564453,4.622976303100586,26.194747924804688,15.74431324005127,3.983122825622559,12.017394065856934,0.0,1.3170925378799438,0.0406653471291065,9.24820613861084,5.595043659210205,23.36688041687012,11.60239315032959,1.7416129112243652,5.903736591339111,0.1577373296022415,23.200014114379883,9.270711898803713,8.364607810974121,5.151486396789551,1.0816304683685305,3.3116633892059326,0.0,13.789759635925291,11.651081085205078,0.0,0.5740101337432861,5.346494197845459,9.63311004638672,13.34361457824707,0.0,39.54505157470703,65.39910125732422,0.0,7.840171337127685,12.172947883605955,7.593554973602295,0.3502076268196106,29.766380310058597,0.0,1.02953040599823,0.0,5.695992469787598,0.0298661682754755,3.209915399551392,21.11080551147461,10.943519592285156,32.100040435791016,41.494388580322266,10.439053535461426,8.597766876220703,0.0,6.9609694480896,0.0,0.5762794613838196,2.1339144706726074,2.240062952041626,4.171401977539063],\"type\":\"choropleth\"}],\"name\":\"1966\"},{\"data\":[{\"coloraxis\":\"coloraxis\",\"geo\":\"geo\",\"hovertemplate\":\"Year=1967<br>Entity=%{location}<br>Renewables (% equivalent primary energy)=%{z}<extra></extra>\",\"locationmode\":\"country names\",\"locations\":[\"Algeria\",\"Argentina\",\"Australia\",\"Austria\",\"Belgium\",\"Brazil\",\"Bulgaria\",\"Canada\",\"Chile\",\"China\",\"Colombia\",\"Cyprus\",\"Czechia\",\"Denmark\",\"Ecuador\",\"Egypt\",\"Finland\",\"France\",\"Germany\",\"Greece\",\"Hungary\",\"Iceland\",\"India\",\"Indonesia\",\"Iran\",\"Iraq\",\"Ireland\",\"Israel\",\"Italy\",\"Japan\",\"Kuwait\",\"Luxembourg\",\"Malaysia\",\"Mexico\",\"Morocco\",\"Netherlands\",\"New Zealand\",\"Norway\",\"Oman\",\"Pakistan\",\"Peru\",\"Philippines\",\"Poland\",\"Portugal\",\"Qatar\",\"Romania\",\"Saudi Arabia\",\"Slovakia\",\"South Africa\",\"South Korea\",\"Spain\",\"Sri Lanka\",\"Sweden\",\"Switzerland\",\"Taiwan\",\"Thailand\",\"Trinidad and Tobago\",\"Turkey\",\"United Arab Emirates\",\"United Kingdom\",\"Venezuela\",\"Vietnam\",\"United States\"],\"name\":\"\",\"z\":[4.2919535636901855,1.0765652656555176,4.949548721313477,26.11892890930176,0.1685035675764084,27.880290985107425,4.0036211013793945,25.61042594909668,15.765549659729004,3.8183979988098153,12.580106735229492,0.0,1.2057945728302002,0.0388824790716171,9.417126655578612,7.041625022888184,24.873165130615234,9.537199020385742,1.658253788948059,5.145407676696777,0.1355412602424621,24.937162399291992,10.058605194091797,9.505834579467772,5.041223049163818,1.2241523265838623,2.887803792953491,0.0,12.396454811096191,8.793859481811523,0.0,0.6577614545822144,5.215836524963379,10.29133129119873,11.197633743286133,0.0,39.84817123413086,66.59164428710938,0.0,8.39201831817627,13.394146919250488,7.472383975982666,0.364766776561737,28.834285736083984,0.0,1.315669298171997,0.0,4.855119228363037,0.0207141749560832,2.7027177810668945,16.279375076293945,10.974931716918944,33.95441055297852,42.1434326171875,9.467522621154783,9.705655097961426,0.0,6.997379779815674,0.0,0.6204280257225037,2.373532056808472,1.7923457622528076,4.542215824127197],\"type\":\"choropleth\"}],\"name\":\"1967\"},{\"data\":[{\"coloraxis\":\"coloraxis\",\"geo\":\"geo\",\"hovertemplate\":\"Year=1968<br>Entity=%{location}<br>Renewables (% equivalent primary energy)=%{z}<extra></extra>\",\"locationmode\":\"country names\",\"locations\":[\"Algeria\",\"Argentina\",\"Australia\",\"Austria\",\"Belgium\",\"Brazil\",\"Bulgaria\",\"Canada\",\"Chile\",\"China\",\"Colombia\",\"Cyprus\",\"Czechia\",\"Denmark\",\"Ecuador\",\"Egypt\",\"Finland\",\"France\",\"Germany\",\"Greece\",\"Hungary\",\"Iceland\",\"India\",\"Indonesia\",\"Iran\",\"Iraq\",\"Ireland\",\"Israel\",\"Italy\",\"Japan\",\"Kuwait\",\"Luxembourg\",\"Malaysia\",\"Mexico\",\"Morocco\",\"Netherlands\",\"New Zealand\",\"Norway\",\"Oman\",\"Pakistan\",\"Peru\",\"Philippines\",\"Poland\",\"Portugal\",\"Qatar\",\"Romania\",\"Saudi Arabia\",\"Slovakia\",\"South Africa\",\"South Korea\",\"Spain\",\"Sri Lanka\",\"Sweden\",\"Switzerland\",\"Taiwan\",\"Thailand\",\"Trinidad and Tobago\",\"Turkey\",\"United Arab Emirates\",\"United Kingdom\",\"Venezuela\",\"Vietnam\",\"United States\"],\"name\":\"\",\"z\":[5.486194610595703,1.2273393869400024,4.865467548370361,25.099164962768555,0.1550234109163284,25.555753707885746,2.311564922332764,24.474010467529297,13.26151180267334,4.458870887756348,13.300461769104004,0.0,0.8947587609291077,0.0312566831707954,8.330953598022461,9.956792831420898,20.67276763916016,10.092880249023438,1.5761398077011108,4.080320358276367,0.1417907327413559,24.370615005493164,10.857532501220703,11.010139465332031,4.931734085083008,1.3923404216766355,2.3684356212615967,0.0,11.59219741821289,8.451984405517578,0.0,0.6211580038070679,5.593569755554199,10.84283447265625,11.839537620544434,0.0,41.17457580566406,67.13723754882812,0.0,8.885177612304688,14.111241340637209,6.774563312530518,0.3562216162681579,27.05286407470703,0.0,1.3085218667984009,0.0,4.037016868591309,0.0181175209581851,2.29959774017334,16.65400505065918,12.205965042114258,31.443342208862305,39.67350387573242,12.089816093444824,7.769661903381348,0.0,7.87749719619751,0.0,0.4564071893692016,3.6946752071380615,1.929360270500183,4.3309736251831055],\"type\":\"choropleth\"}],\"name\":\"1968\"},{\"data\":[{\"coloraxis\":\"coloraxis\",\"geo\":\"geo\",\"hovertemplate\":\"Year=1969<br>Entity=%{location}<br>Renewables (% equivalent primary energy)=%{z}<extra></extra>\",\"locationmode\":\"country names\",\"locations\":[\"Algeria\",\"Argentina\",\"Australia\",\"Austria\",\"Belgium\",\"Brazil\",\"Bulgaria\",\"Canada\",\"Chile\",\"China\",\"Colombia\",\"Cyprus\",\"Czechia\",\"Denmark\",\"Ecuador\",\"Egypt\",\"Finland\",\"France\",\"Germany\",\"Greece\",\"Hungary\",\"Iceland\",\"India\",\"Indonesia\",\"Iran\",\"Iraq\",\"Ireland\",\"Israel\",\"Italy\",\"Japan\",\"Kuwait\",\"Luxembourg\",\"Malaysia\",\"Mexico\",\"Morocco\",\"Netherlands\",\"New Zealand\",\"Norway\",\"Oman\",\"Pakistan\",\"Peru\",\"Philippines\",\"Poland\",\"Portugal\",\"Qatar\",\"Romania\",\"Saudi Arabia\",\"Slovakia\",\"South Africa\",\"South Korea\",\"Spain\",\"Sri Lanka\",\"Sweden\",\"Switzerland\",\"Taiwan\",\"Thailand\",\"Trinidad and Tobago\",\"Turkey\",\"United Arab Emirates\",\"United Kingdom\",\"Venezuela\",\"Vietnam\",\"United States\"],\"name\":\"\",\"z\":[3.1827635765075684,1.0651699304580688,5.0869879722595215,22.27536964416504,0.1331521123647689,25.05621910095215,2.9225401878356934,25.52126884460449,13.893922805786133,3.727402210235596,14.52613925933838,0.0,0.7005398273468018,0.0285265762358903,8.701672554016113,16.082429885864258,15.680414199829102,9.634167671203612,1.1857671737670898,5.802620887756348,0.1413314789533615,30.625391006469727,10.873967170715332,10.201886177062988,4.837111473083496,1.3289313316345217,1.7883479595184326,0.0,10.46550464630127,7.61188268661499,0.0,0.502257764339447,6.4295334815979,10.475299835205078,13.958054542541504,0.0,40.15027618408203,63.88058090209961,0.0,9.329750061035156,15.24188995361328,6.673861980438232,0.284521222114563,30.38658142089844,0.0,1.615439534187317,0.0,3.0090577602386475,0.0153965763747692,2.9266607761383057,18.460060119628903,13.611146926879885,26.98740577697754,36.70130157470703,9.12302303314209,5.476836681365967,0.0,7.791776180267334,0.0,0.3853139579296112,4.241876125335693,1.837692379951477,4.598878383636475],\"type\":\"choropleth\"}],\"name\":\"1969\"},{\"data\":[{\"coloraxis\":\"coloraxis\",\"geo\":\"geo\",\"hovertemplate\":\"Year=1970<br>Entity=%{location}<br>Renewables (% equivalent primary energy)=%{z}<extra></extra>\",\"locationmode\":\"country names\",\"locations\":[\"Algeria\",\"Argentina\",\"Australia\",\"Austria\",\"Belgium\",\"Brazil\",\"Bulgaria\",\"Canada\",\"Chile\",\"China\",\"Colombia\",\"Cyprus\",\"Czechia\",\"Denmark\",\"Ecuador\",\"Egypt\",\"Finland\",\"France\",\"Germany\",\"Greece\",\"Hungary\",\"Iceland\",\"India\",\"Indonesia\",\"Iran\",\"Iraq\",\"Ireland\",\"Israel\",\"Italy\",\"Japan\",\"Kuwait\",\"Luxembourg\",\"Malaysia\",\"Mexico\",\"Morocco\",\"Netherlands\",\"New Zealand\",\"Norway\",\"Oman\",\"Pakistan\",\"Peru\",\"Philippines\",\"Poland\",\"Portugal\",\"Qatar\",\"Romania\",\"Saudi Arabia\",\"Slovakia\",\"South Africa\",\"South Korea\",\"Spain\",\"Sri Lanka\",\"Sweden\",\"Switzerland\",\"Taiwan\",\"Thailand\",\"Trinidad and Tobago\",\"Turkey\",\"United Arab Emirates\",\"United Kingdom\",\"Venezuela\",\"Vietnam\",\"United States\"],\"name\":\"\",\"z\":[4.665683746337891,1.3534115552902222,5.421450614929199,24.77025604248047,0.1348093897104263,26.90108108520508,3.0394954681396484,25.025075912475582,14.088003158569336,3.009592294692993,14.817516326904297,0.0,0.9598851203918456,0.0292061157524585,8.106535911560059,15.16463565826416,15.499043464660645,9.537435531616213,1.5171291828155518,6.698559761047363,0.1215164810419082,41.68929290771485,11.784119606018066,11.570672035217283,4.415298461914063,1.301562786102295,3.130312919616699,0.0,9.408058166503906,6.836434364318848,0.0,0.5346629619598389,8.029953956604004,10.98171329498291,13.115361213684082,0.0,38.823341369628906,61.51011657714844,0.0,8.390380859375,14.120806694030762,6.776431083679199,0.5491498708724976,23.095155715942383,0.0,1.898038387298584,0.0,4.102990627288818,0.017539408057928,2.155395030975342,15.559318542480469,11.076228141784668,25.30118560791016,34.63469696044922,7.86768102645874,7.854705810546875,0.0,6.475101470947266,0.0,0.5257811546325684,5.406153678894043,1.9573317766189573,4.400803089141846],\"type\":\"choropleth\"}],\"name\":\"1970\"},{\"data\":[{\"coloraxis\":\"coloraxis\",\"geo\":\"geo\",\"hovertemplate\":\"Year=1971<br>Entity=%{location}<br>Renewables (% equivalent primary energy)=%{z}<extra></extra>\",\"locationmode\":\"country names\",\"locations\":[\"Algeria\",\"Argentina\",\"Australia\",\"Austria\",\"Bangladesh\",\"Belgium\",\"Brazil\",\"Bulgaria\",\"Canada\",\"Chile\",\"China\",\"Colombia\",\"Cyprus\",\"Czechia\",\"Denmark\",\"Ecuador\",\"Egypt\",\"Finland\",\"France\",\"Germany\",\"Greece\",\"Hungary\",\"Iceland\",\"India\",\"Indonesia\",\"Iran\",\"Iraq\",\"Ireland\",\"Israel\",\"Italy\",\"Japan\",\"Kuwait\",\"Luxembourg\",\"Malaysia\",\"Mexico\",\"Morocco\",\"Netherlands\",\"New Zealand\",\"Norway\",\"Oman\",\"Pakistan\",\"Peru\",\"Philippines\",\"Poland\",\"Portugal\",\"Qatar\",\"Romania\",\"Saudi Arabia\",\"Slovakia\",\"South Africa\",\"South Korea\",\"Spain\",\"Sri Lanka\",\"Sweden\",\"Switzerland\",\"Taiwan\",\"Thailand\",\"Trinidad and Tobago\",\"Turkey\",\"United Arab Emirates\",\"United Kingdom\",\"Venezuela\",\"Vietnam\",\"United States\"],\"name\":\"\",\"z\":[2.455918788909912,1.270321488380432,5.822727203369141,19.65230178833008,3.859757661819458,0.0748556479811668,26.817771911621094,2.9434654712677,24.927824020385746,14.758605003356934,3.0704047679901123,15.987798690795898,0.0,0.6451210975646973,0.0309045780450105,8.015813827514648,15.87799835205078,16.927217483520508,7.942842483520508,1.179680585861206,5.656627655029297,0.1283919960260391,41.70726013183594,12.42677116394043,4.001150131225586,4.332554340362549,1.3798673152923584,1.7471479177474976,0.0,8.673787117004395,7.166181564331055,0.0,0.3143104612827301,6.255808353424072,10.142724990844728,13.92387866973877,0.0,41.63017272949219,63.96649932861328,0.0,11.71886157989502,17.272397994995117,5.4605889320373535,0.4868724048137665,22.091991424560547,0.0,2.898531913757324,0.0,2.8729021549224854,0.0729435011744499,2.1541755199432373,16.187814712524414,12.125496864318848,31.1534366607666,33.697242736816406,6.759337902069092,8.126887321472168,0.2474021911621093,5.071615219116211,0.0,0.398343563079834,6.983936786651611,2.246330499649048,4.614474773406982],\"type\":\"choropleth\"}],\"name\":\"1971\"},{\"data\":[{\"coloraxis\":\"coloraxis\",\"geo\":\"geo\",\"hovertemplate\":\"Year=1972<br>Entity=%{location}<br>Renewables (% equivalent primary energy)=%{z}<extra></extra>\",\"locationmode\":\"country names\",\"locations\":[\"Algeria\",\"Argentina\",\"Australia\",\"Austria\",\"Bangladesh\",\"Belgium\",\"Brazil\",\"Bulgaria\",\"Canada\",\"Chile\",\"China\",\"Colombia\",\"Cyprus\",\"Czechia\",\"Denmark\",\"Ecuador\",\"Egypt\",\"Finland\",\"France\",\"Germany\",\"Greece\",\"Hungary\",\"Iceland\",\"India\",\"Indonesia\",\"Iran\",\"Iraq\",\"Ireland\",\"Israel\",\"Italy\",\"Japan\",\"Kuwait\",\"Luxembourg\",\"Malaysia\",\"Mexico\",\"Morocco\",\"Netherlands\",\"New Zealand\",\"Norway\",\"Oman\",\"Pakistan\",\"Peru\",\"Philippines\",\"Poland\",\"Portugal\",\"Qatar\",\"Romania\",\"Saudi Arabia\",\"Slovakia\",\"South Africa\",\"South Korea\",\"Spain\",\"Sri Lanka\",\"Sweden\",\"Switzerland\",\"Taiwan\",\"Thailand\",\"Trinidad and Tobago\",\"Turkey\",\"United Arab Emirates\",\"United Kingdom\",\"Venezuela\",\"Vietnam\",\"United States\"],\"name\":\"\",\"z\":[3.278343439102173,1.2349965572357178,5.599285125732422,19.524147033691406,3.406534433364868,0.0945844948291778,27.39073371887207,2.761652946472168,25.893644332885746,16.94106674194336,3.22759747505188,15.767953872680664,0.0,0.671215832233429,0.0292841084301471,7.758965969085693,14.635689735412598,15.603095054626465,7.446317195892334,1.1219959259033203,5.09004545211792,0.1424880623817443,42.60580062866211,11.463116645812988,3.373836040496826,5.018947601318359,1.1780089139938354,2.440846920013428,0.0,8.623178482055664,6.914736270904541,0.0,0.3594193458557129,6.196172714233398,9.780027389526367,13.526378631591797,0.0,41.19132995605469,64.29580688476562,0.0,13.25389575958252,19.887008666992188,6.2965407371521,0.468399316072464,23.16050720214844,0.0,4.49291467666626,0.0,2.861374616622925,0.525794267654419,2.153486490249634,16.690349578857422,11.862130165100098,31.28821182250977,28.542724609375,7.442085266113281,5.650622844696045,0.1794983893632888,5.530313968658447,0.0,0.3925662636756897,7.378935813903809,1.5929765701293943,4.526047229766846],\"type\":\"choropleth\"}],\"name\":\"1972\"},{\"data\":[{\"coloraxis\":\"coloraxis\",\"geo\":\"geo\",\"hovertemplate\":\"Year=1973<br>Entity=%{location}<br>Renewables (% equivalent primary energy)=%{z}<extra></extra>\",\"locationmode\":\"country names\",\"locations\":[\"Algeria\",\"Argentina\",\"Australia\",\"Austria\",\"Bangladesh\",\"Belgium\",\"Brazil\",\"Bulgaria\",\"Canada\",\"Chile\",\"China\",\"Colombia\",\"Cyprus\",\"Czechia\",\"Denmark\",\"Ecuador\",\"Egypt\",\"Finland\",\"France\",\"Germany\",\"Greece\",\"Hungary\",\"Iceland\",\"India\",\"Indonesia\",\"Iran\",\"Iraq\",\"Ireland\",\"Israel\",\"Italy\",\"Japan\",\"Kuwait\",\"Luxembourg\",\"Malaysia\",\"Mexico\",\"Morocco\",\"Netherlands\",\"New Zealand\",\"Norway\",\"Oman\",\"Pakistan\",\"Peru\",\"Philippines\",\"Poland\",\"Portugal\",\"Qatar\",\"Romania\",\"Saudi Arabia\",\"Slovakia\",\"South Africa\",\"South Korea\",\"Spain\",\"Sri Lanka\",\"Sweden\",\"Switzerland\",\"Taiwan\",\"Thailand\",\"Trinidad and Tobago\",\"Turkey\",\"United Arab Emirates\",\"United Kingdom\",\"Venezuela\",\"Vietnam\",\"United States\"],\"name\":\"\",\"z\":[4.175826072692871,2.2836952209472656,5.588664531707764,20.177391052246094,5.024386882781982,0.1535860300064087,26.10169982910156,3.260542154312134,25.55288314819336,17.183692932128906,3.4170150756835938,17.170427322387695,0.0,0.5706368088722229,0.0302673727273941,7.086233615875244,15.458051681518556,14.431478500366213,6.709061622619629,1.2137141227722168,3.673645496368408,0.1208183839917182,45.0670166015625,11.957463264465332,3.7743794918060303,3.557704448699951,1.737240195274353,2.1648736000061035,0.0,7.571964740753174,4.894681930541992,0.0,0.2993406057357788,5.646239280700684,9.648298263549805,9.094624519348145,0.0,39.1683349609375,65.58218383789062,0.0,13.087776184082031,18.57759666442871,5.803766250610352,0.4581685066223144,21.92057609558105,0.0,4.244083404541016,0.0,2.35184097290039,0.5772110223770142,1.6347564458847046,12.429852485656738,9.413183212280272,33.03090286254883,28.31479263305664,5.953055381774902,5.797545909881592,0.1499493718147277,4.050086498260498,0.0,0.4255182147026062,6.668882846832275,1.5021532773971558,4.354759693145752],\"type\":\"choropleth\"}],\"name\":\"1973\"},{\"data\":[{\"coloraxis\":\"coloraxis\",\"geo\":\"geo\",\"hovertemplate\":\"Year=1974<br>Entity=%{location}<br>Renewables (% equivalent primary energy)=%{z}<extra></extra>\",\"locationmode\":\"country names\",\"locations\":[\"Algeria\",\"Argentina\",\"Australia\",\"Austria\",\"Bangladesh\",\"Belgium\",\"Brazil\",\"Bulgaria\",\"Canada\",\"Chile\",\"China\",\"Colombia\",\"Cyprus\",\"Czechia\",\"Denmark\",\"Ecuador\",\"Egypt\",\"Finland\",\"France\",\"Germany\",\"Greece\",\"Hungary\",\"Iceland\",\"India\",\"Indonesia\",\"Iran\",\"Iraq\",\"Ireland\",\"Israel\",\"Italy\",\"Japan\",\"Kuwait\",\"Luxembourg\",\"Malaysia\",\"Mexico\",\"Morocco\",\"Netherlands\",\"New Zealand\",\"Norway\",\"Oman\",\"Pakistan\",\"Peru\",\"Philippines\",\"Poland\",\"Portugal\",\"Qatar\",\"Romania\",\"Saudi Arabia\",\"Slovakia\",\"South Africa\",\"South Korea\",\"Spain\",\"Sri Lanka\",\"Sweden\",\"Switzerland\",\"Taiwan\",\"Thailand\",\"Trinidad and Tobago\",\"Turkey\",\"United Arab Emirates\",\"United Kingdom\",\"Venezuela\",\"Vietnam\",\"United States\"],\"name\":\"\",\"z\":[2.4947381019592285,3.6298017501831055,5.955109596252441,23.734527587890625,3.4634594917297363,0.1914431452751159,26.92813491821289,2.562397718429565,26.811582565307617,19.690105438232425,3.749354600906372,17.395509719848633,0.0,0.9500237107276917,0.033269178122282,6.978053569793701,16.143081665039062,18.064271926879883,8.016220092773438,1.4188613891601562,3.9671506881713863,0.0940158516168594,47.44718551635742,10.86085319519043,3.902294158935547,3.455620527267456,2.446626663208008,2.6304750442504883,0.0,7.702657699584961,6.030980110168457,0.0,0.4354034066200256,5.05663013458252,9.094654083251951,9.542439460754396,0.0,40.75779342651367,68.31411743164062,0.0,12.144384384155272,17.592985153198242,5.381934642791748,0.6209821105003357,22.277812957763672,0.0,4.733458995819092,0.0,3.757552146911621,0.6448366045951843,2.332909107208252,12.622825622558594,15.72243309020996,34.125144958496094,31.02661895751953,8.604859352111816,7.285396575927734,0.1342056393623352,5.047706604003906,0.0,0.4752092957496643,7.98165225982666,2.0197300910949707,4.902864933013916],\"type\":\"choropleth\"}],\"name\":\"1974\"},{\"data\":[{\"coloraxis\":\"coloraxis\",\"geo\":\"geo\",\"hovertemplate\":\"Year=1975<br>Entity=%{location}<br>Renewables (% equivalent primary energy)=%{z}<extra></extra>\",\"locationmode\":\"country names\",\"locations\":[\"Algeria\",\"Argentina\",\"Australia\",\"Austria\",\"Bangladesh\",\"Belgium\",\"Brazil\",\"Bulgaria\",\"Canada\",\"Chile\",\"China\",\"Colombia\",\"Cyprus\",\"Czechia\",\"Denmark\",\"Ecuador\",\"Egypt\",\"Finland\",\"France\",\"Germany\",\"Greece\",\"Hungary\",\"Iceland\",\"India\",\"Indonesia\",\"Iran\",\"Iraq\",\"Ireland\",\"Israel\",\"Italy\",\"Japan\",\"Kuwait\",\"Luxembourg\",\"Malaysia\",\"Mexico\",\"Morocco\",\"Netherlands\",\"New Zealand\",\"Norway\",\"Oman\",\"Pakistan\",\"Peru\",\"Philippines\",\"Poland\",\"Portugal\",\"Qatar\",\"Romania\",\"Saudi Arabia\",\"Slovakia\",\"South Africa\",\"South Korea\",\"Spain\",\"Sri Lanka\",\"Sweden\",\"Switzerland\",\"Taiwan\",\"Thailand\",\"Trinidad and Tobago\",\"Turkey\",\"United Arab Emirates\",\"United Kingdom\",\"Venezuela\",\"Vietnam\",\"United States\"],\"name\":\"\",\"z\":[1.378281831741333,3.862202882766724,6.297008037567139,25.03424644470215,6.043976306915283,0.1556085348129272,27.9958610534668,2.733940839767456,26.15631484985352,21.93380546569824,3.503823757171631,19.2356071472168,0.0,0.910229504108429,0.0295361597090959,8.653943061828613,16.160579681396484,17.089670181274414,9.053054809570312,1.4353294372558594,3.0048630237579346,0.1787005215883255,48.56276321411133,12.067704200744627,3.342118501663208,3.1140482425689697,2.579850673675537,1.8612477779388428,0.0,8.419504165649414,6.373206615447998,0.0,0.4528567790985107,4.897926330566406,7.784452438354492,7.1343913078308105,0.3115214109420776,43.62090301513672,67.97406768798828,0.0,13.310853958129885,17.86097526550293,5.507622718811035,0.5374193787574768,18.622507095336918,0.0,4.793048858642578,0.0,3.2334024906158447,0.5984427332878113,1.8735325336456297,10.509173393249512,16.262670516967773,32.381832122802734,34.594242095947266,8.733821868896484,9.127364158630373,0.1532322913408279,7.770755290985107,0.0,0.4751985371112823,8.89340591430664,2.163102149963379,5.006975173950195],\"type\":\"choropleth\"}],\"name\":\"1975\"},{\"data\":[{\"coloraxis\":\"coloraxis\",\"geo\":\"geo\",\"hovertemplate\":\"Year=1976<br>Entity=%{location}<br>Renewables (% equivalent primary energy)=%{z}<extra></extra>\",\"locationmode\":\"country names\",\"locations\":[\"Algeria\",\"Argentina\",\"Australia\",\"Austria\",\"Bangladesh\",\"Belgium\",\"Brazil\",\"Bulgaria\",\"Canada\",\"Chile\",\"China\",\"Colombia\",\"Cyprus\",\"Czechia\",\"Denmark\",\"Ecuador\",\"Egypt\",\"Finland\",\"France\",\"Germany\",\"Greece\",\"Hungary\",\"Iceland\",\"India\",\"Indonesia\",\"Iran\",\"Iraq\",\"Ireland\",\"Israel\",\"Italy\",\"Japan\",\"Kuwait\",\"Luxembourg\",\"Malaysia\",\"Mexico\",\"Morocco\",\"Netherlands\",\"New Zealand\",\"Norway\",\"Oman\",\"Pakistan\",\"Peru\",\"Philippines\",\"Poland\",\"Portugal\",\"Qatar\",\"Romania\",\"Saudi Arabia\",\"Slovakia\",\"South Africa\",\"South Korea\",\"Spain\",\"Sri Lanka\",\"Sweden\",\"Switzerland\",\"Taiwan\",\"Thailand\",\"Trinidad and Tobago\",\"Turkey\",\"United Arab Emirates\",\"United Kingdom\",\"Venezuela\",\"Vietnam\",\"United States\"],\"name\":\"\",\"z\":[1.4010223150253296,3.5544235706329346,5.793421268463135,20.905319213867188,5.868124008178711,0.0917551815509796,29.16008758544922,3.1084790229797363,26.332035064697266,21.624561309814453,3.372568368911743,19.40712547302246,0.0,0.7058946490287781,0.0242749769240617,7.572480201721191,15.923643112182615,12.514572143554688,6.899677753448486,1.1208523511886597,2.536214590072632,0.1693198978900909,50.019866943359375,12.036797523498535,1.8672399520874023,3.09524917602539,2.0427801609039307,2.0663716793060303,0.0,7.616763591766357,6.161350250244141,0.0,0.2848826944828033,4.137609004974365,8.308449745178223,6.46608829498291,0.3101771473884582,39.51554489135742,67.33344268798828,0.0,14.231517791748049,18.501680374145508,6.518621921539307,0.4238294959068298,14.216822624206545,0.0,3.8519480228424072,0.0,3.1432197093963623,0.9604041576385498,1.7800427675247192,7.937400817871094,17.04448890686035,29.012697219848636,29.048126220703125,5.838050842285156,9.248512268066406,0.1125821620225906,9.604342460632324,0.0,0.5503048896789551,9.633481979370115,4.162711143493652,4.552707672119141],\"type\":\"choropleth\"}],\"name\":\"1976\"},{\"data\":[{\"coloraxis\":\"coloraxis\",\"geo\":\"geo\",\"hovertemplate\":\"Year=1977<br>Entity=%{location}<br>Renewables (% equivalent primary energy)=%{z}<extra></extra>\",\"locationmode\":\"country names\",\"locations\":[\"Algeria\",\"Argentina\",\"Australia\",\"Austria\",\"Bangladesh\",\"Belgium\",\"Brazil\",\"Bulgaria\",\"Canada\",\"Chile\",\"China\",\"Colombia\",\"Cyprus\",\"Czechia\",\"Denmark\",\"Ecuador\",\"Egypt\",\"Finland\",\"France\",\"Germany\",\"Greece\",\"Hungary\",\"Iceland\",\"India\",\"Indonesia\",\"Iran\",\"Iraq\",\"Ireland\",\"Israel\",\"Italy\",\"Japan\",\"Kuwait\",\"Luxembourg\",\"Malaysia\",\"Mexico\",\"Morocco\",\"Netherlands\",\"New Zealand\",\"Norway\",\"Oman\",\"Pakistan\",\"Peru\",\"Philippines\",\"Poland\",\"Portugal\",\"Qatar\",\"Romania\",\"Saudi Arabia\",\"Slovakia\",\"South Africa\",\"South Korea\",\"Spain\",\"Sri Lanka\",\"Sweden\",\"Switzerland\",\"Taiwan\",\"Thailand\",\"Trinidad and Tobago\",\"Turkey\",\"United Arab Emirates\",\"United Kingdom\",\"Venezuela\",\"Vietnam\",\"United States\"],\"name\":\"\",\"z\":[0.8817282319068909,3.9092395305633545,5.269774913787842,25.27130508422852,5.079775810241699,0.263500452041626,31.08434295654297,3.523903608322144,25.808473587036133,22.024627685546875,3.2287139892578125,19.36701011657715,0.0,0.929659068584442,0.0325508713722229,5.873260498046875,16.571006774902344,15.202662467956545,10.59511947631836,1.3967294692993164,2.5015759468078613,0.1454194635152816,50.60869598388672,12.415875434875488,2.347829818725586,2.825014591217041,2.406090497970581,2.432969093322754,0.0,9.689523696899414,5.355945110321045,0.0,0.6932639479637146,2.869304895401001,8.738277435302734,7.88484001159668,0.3140356540679931,36.93730926513672,64.26859283447266,0.0,15.62037467956543,19.07871437072754,4.5764336585998535,0.4948288798332214,25.45116233825684,0.0,4.187205314636231,0.0,3.566640615463257,0.971405029296875,1.2054132223129272,14.476511001586914,17.357145309448242,28.68962287902832,35.28424072265625,4.998221397399902,7.54719066619873,0.130991131067276,9.0404634475708,0.0,0.4708891212940216,9.9391450881958,4.191826820373535,3.549314022064209],\"type\":\"choropleth\"}],\"name\":\"1977\"},{\"data\":[{\"coloraxis\":\"coloraxis\",\"geo\":\"geo\",\"hovertemplate\":\"Year=1978<br>Entity=%{location}<br>Renewables (% equivalent primary energy)=%{z}<extra></extra>\",\"locationmode\":\"country names\",\"locations\":[\"Algeria\",\"Argentina\",\"Australia\",\"Austria\",\"Bangladesh\",\"Belgium\",\"Brazil\",\"Bulgaria\",\"Canada\",\"Chile\",\"China\",\"Colombia\",\"Cyprus\",\"Czechia\",\"Denmark\",\"Ecuador\",\"Egypt\",\"Finland\",\"France\",\"Germany\",\"Greece\",\"Hungary\",\"Iceland\",\"India\",\"Indonesia\",\"Iran\",\"Iraq\",\"Ireland\",\"Israel\",\"Italy\",\"Japan\",\"Kuwait\",\"Luxembourg\",\"Malaysia\",\"Mexico\",\"Morocco\",\"Netherlands\",\"New Zealand\",\"Norway\",\"Oman\",\"Pakistan\",\"Peru\",\"Philippines\",\"Poland\",\"Portugal\",\"Qatar\",\"Romania\",\"Saudi Arabia\",\"Slovakia\",\"South Africa\",\"South Korea\",\"Spain\",\"Sri Lanka\",\"Sweden\",\"Switzerland\",\"Taiwan\",\"Thailand\",\"Trinidad and Tobago\",\"Turkey\",\"United Arab Emirates\",\"United Kingdom\",\"Venezuela\",\"Vietnam\",\"United States\"],\"name\":\"\",\"z\":[0.6521151065826416,5.227678298950195,5.50869607925415,24.24462509155273,5.536711692810059,0.2591516971588135,31.529354095458984,2.8053689002990723,27.05876922607422,21.67330741882324,2.7594637870788574,20.86288452148437,0.0,0.8529741168022156,0.0370170474052429,7.960052967071533,17.237102508544922,11.78243637084961,9.109526634216309,1.408961057662964,3.821863174438477,0.1259311735630035,50.14910888671875,14.818278312683104,1.49062979221344,4.526003360748291,3.056793212890625,2.1924867630004883,0.0,8.49870491027832,4.956838130950928,0.0,0.6544173955917358,2.5391790866851807,6.597963809967041,7.705757617950439,0.4299201965332031,39.574161529541016,64.17826080322266,0.0,18.11039352416992,19.59223937988281,5.834701061248779,0.4693491756916046,26.158958435058597,0.0,4.415801525115967,0.0,3.189220905303955,0.9622714519500732,1.396591067314148,14.644488334655762,18.62853240966797,26.57862091064453,32.51401138305664,5.222677707672119,4.572802543640137,0.1640346348285675,9.20789909362793,0.0,0.4820573925971985,9.782297134399414,5.387956142425537,4.32757043838501],\"type\":\"choropleth\"}],\"name\":\"1978\"},{\"data\":[{\"coloraxis\":\"coloraxis\",\"geo\":\"geo\",\"hovertemplate\":\"Year=1979<br>Entity=%{location}<br>Renewables (% equivalent primary energy)=%{z}<extra></extra>\",\"locationmode\":\"country names\",\"locations\":[\"Algeria\",\"Argentina\",\"Australia\",\"Austria\",\"Bangladesh\",\"Belgium\",\"Brazil\",\"Bulgaria\",\"Canada\",\"Chile\",\"China\",\"Colombia\",\"Cyprus\",\"Czechia\",\"Denmark\",\"Ecuador\",\"Egypt\",\"Finland\",\"France\",\"Germany\",\"Greece\",\"Hungary\",\"Iceland\",\"India\",\"Indonesia\",\"Iran\",\"Iraq\",\"Ireland\",\"Israel\",\"Italy\",\"Japan\",\"Kuwait\",\"Luxembourg\",\"Malaysia\",\"Mexico\",\"Morocco\",\"Netherlands\",\"New Zealand\",\"Norway\",\"Oman\",\"Pakistan\",\"Peru\",\"Philippines\",\"Poland\",\"Portugal\",\"Qatar\",\"Romania\",\"Saudi Arabia\",\"Slovakia\",\"South Africa\",\"South Korea\",\"Spain\",\"Sri Lanka\",\"Sweden\",\"Switzerland\",\"Taiwan\",\"Thailand\",\"Trinidad and Tobago\",\"Turkey\",\"United Arab Emirates\",\"United Kingdom\",\"Venezuela\",\"Vietnam\",\"United States\"],\"name\":\"\",\"z\":[0.5792936086654663,6.702306270599365,5.16584062576294,25.784454345703125,5.825671672821045,0.2870648205280304,33.387489318847656,3.076347827911377,27.29702377319336,21.54591941833496,3.008899211883545,21.54510498046875,0.0,1.0576006174087524,0.0432814955711364,6.85176420211792,15.267534255981444,12.091408729553224,8.611678123474121,1.3454017639160156,5.193461418151856,0.134546160697937,52.47784423828125,13.540278434753418,1.4562846422195437,3.634271144866944,3.5280182361602783,2.35259747505188,0.0,8.319644927978516,5.505947589874268,0.0,0.6921459436416626,2.6952223777771,6.747371673583984,7.719042301177978,0.3800928890705108,44.90281295776367,65.8646469116211,0.0,17.961801528930664,20.157331466674805,6.946878910064697,0.4277540743350982,25.62454414367676,0.0,4.625902652740479,0.0,2.5852420330047607,0.5590492486953735,1.539095163345337,15.632555961608888,18.950075149536133,26.67998313903809,30.90443992614746,4.524598121643066,6.653911590576172,0.1856541782617569,10.75222110748291,0.0,0.4867534637451172,10.32923698425293,6.249330043792725,4.29140567779541],\"type\":\"choropleth\"}],\"name\":\"1979\"},{\"data\":[{\"coloraxis\":\"coloraxis\",\"geo\":\"geo\",\"hovertemplate\":\"Year=1980<br>Entity=%{location}<br>Renewables (% equivalent primary energy)=%{z}<extra></extra>\",\"locationmode\":\"country names\",\"locations\":[\"Algeria\",\"Argentina\",\"Australia\",\"Austria\",\"Bangladesh\",\"Belgium\",\"Brazil\",\"Bulgaria\",\"Canada\",\"Chile\",\"China\",\"Colombia\",\"Cyprus\",\"Czechia\",\"Denmark\",\"Ecuador\",\"Egypt\",\"Finland\",\"France\",\"Germany\",\"Greece\",\"Hungary\",\"Iceland\",\"India\",\"Indonesia\",\"Iran\",\"Iraq\",\"Ireland\",\"Israel\",\"Italy\",\"Japan\",\"Kuwait\",\"Luxembourg\",\"Malaysia\",\"Mexico\",\"Morocco\",\"Netherlands\",\"New Zealand\",\"Norway\",\"Oman\",\"Pakistan\",\"Peru\",\"Philippines\",\"Poland\",\"Portugal\",\"Qatar\",\"Romania\",\"Saudi Arabia\",\"Slovakia\",\"South Africa\",\"South Korea\",\"Spain\",\"Sri Lanka\",\"Sweden\",\"Switzerland\",\"Taiwan\",\"Thailand\",\"Trinidad and Tobago\",\"Turkey\",\"United Arab Emirates\",\"United Kingdom\",\"Venezuela\",\"Vietnam\",\"United States\"],\"name\":\"\",\"z\":[0.4290015995502472,9.55285930633545,4.862271785736084,26.82601547241211,4.960880279541016,0.3143763244152069,36.18800735473633,3.2677273750305176,27.53968620300293,22.060731887817383,3.566197633743286,23.044971466064453,0.0,1.142623782157898,0.0566110722720623,6.642500877380371,13.694029808044434,11.41530704498291,9.114398002624512,1.478190541267395,5.00654411315918,0.1029033064842224,55.95431518554688,13.453117370605469,1.2272299528121948,4.064725875854492,2.01292085647583,2.465599775314331,0.0,8.439496994018555,6.194887161254883,0.0,0.7774392366409302,3.290118932723999,5.803557872772217,7.371124744415283,0.3747804760932922,46.87519836425781,65.2524642944336,0.0,16.98236656188965,19.488487243652344,11.085450172424316,0.5173494815826416,19.19294548034668,0.0,5.105916500091553,0.0,3.046743154525757,0.4541718363761902,1.250689148902893,9.981171607971191,19.01776695251465,27.514144897460938,32.37267303466797,2.749598979949951,2.5895779132843018,0.1730902642011642,11.387236595153809,0.0,0.4910255670547485,9.45448112487793,8.125602722167969,4.419220924377441],\"type\":\"choropleth\"}],\"name\":\"1980\"},{\"data\":[{\"coloraxis\":\"coloraxis\",\"geo\":\"geo\",\"hovertemplate\":\"Year=1981<br>Entity=%{location}<br>Renewables (% equivalent primary energy)=%{z}<extra></extra>\",\"locationmode\":\"country names\",\"locations\":[\"Algeria\",\"Argentina\",\"Australia\",\"Austria\",\"Bangladesh\",\"Belgium\",\"Brazil\",\"Bulgaria\",\"Canada\",\"Chile\",\"China\",\"Colombia\",\"Cyprus\",\"Czechia\",\"Denmark\",\"Ecuador\",\"Egypt\",\"Finland\",\"France\",\"Germany\",\"Greece\",\"Hungary\",\"Iceland\",\"India\",\"Indonesia\",\"Iran\",\"Iraq\",\"Ireland\",\"Israel\",\"Italy\",\"Japan\",\"Kuwait\",\"Luxembourg\",\"Malaysia\",\"Mexico\",\"Morocco\",\"Netherlands\",\"New Zealand\",\"Norway\",\"Oman\",\"Pakistan\",\"Peru\",\"Philippines\",\"Poland\",\"Portugal\",\"Qatar\",\"Romania\",\"Saudi Arabia\",\"Slovakia\",\"South Africa\",\"South Korea\",\"Spain\",\"Sri Lanka\",\"Sweden\",\"Switzerland\",\"Taiwan\",\"Thailand\",\"Trinidad and Tobago\",\"Turkey\",\"United Arab Emirates\",\"United Kingdom\",\"Venezuela\",\"Vietnam\",\"United States\"],\"name\":\"\",\"z\":[0.50294029712677,9.54153060913086,4.930354595184326,29.28065299987793,5.0166497230529785,0.3818604946136474,37.504878997802734,3.2318060398101807,29.403928756713867,22.26287078857422,4.066496849060059,22.21888542175293,0.0,0.9889816045761108,0.0650050640106201,5.350114345550537,12.526339530944824,15.10919189453125,9.551752090454102,1.5739785432815552,5.126492023468018,0.1559333801269531,56.77239990234375,12.948171615600586,1.140681505203247,4.421916484832764,1.9036805629730225,2.597018241882324,0.0062838718295097,8.140424728393555,6.236940383911133,0.0,0.9906176328659058,3.5273146629333496,7.537362575531006,5.136460304260254,0.4187572598457336,47.39573669433594,68.5978775024414,0.0,16.49428367614746,21.09334945678711,15.252098083496094,0.5322903394699097,12.520672798156738,0.0,5.134109973907471,0.0,2.674782514572144,0.650050938129425,1.6159815788269043,7.407119750976562,19.23289680480957,28.23970031738281,34.29216384887695,4.807727336883545,6.015193939208984,0.1197926700115203,12.50270175933838,0.0,0.5643997192382812,9.426735877990724,8.210463523864746,4.336748600006104],\"type\":\"choropleth\"}],\"name\":\"1981\"},{\"data\":[{\"coloraxis\":\"coloraxis\",\"geo\":\"geo\",\"hovertemplate\":\"Year=1982<br>Entity=%{location}<br>Renewables (% equivalent primary energy)=%{z}<extra></extra>\",\"locationmode\":\"country names\",\"locations\":[\"Algeria\",\"Argentina\",\"Australia\",\"Austria\",\"Bangladesh\",\"Belgium\",\"Brazil\",\"Bulgaria\",\"Canada\",\"Chile\",\"China\",\"Colombia\",\"Cyprus\",\"Czechia\",\"Denmark\",\"Ecuador\",\"Egypt\",\"Finland\",\"France\",\"Germany\",\"Greece\",\"Hungary\",\"Iceland\",\"India\",\"Indonesia\",\"Iran\",\"Iraq\",\"Ireland\",\"Israel\",\"Italy\",\"Japan\",\"Kuwait\",\"Luxembourg\",\"Malaysia\",\"Mexico\",\"Morocco\",\"Netherlands\",\"New Zealand\",\"Norway\",\"Oman\",\"Pakistan\",\"Peru\",\"Philippines\",\"Poland\",\"Portugal\",\"Qatar\",\"Romania\",\"Saudi Arabia\",\"Slovakia\",\"South Africa\",\"South Korea\",\"Spain\",\"Sri Lanka\",\"Sweden\",\"Switzerland\",\"Taiwan\",\"Thailand\",\"Trinidad and Tobago\",\"Turkey\",\"United Arab Emirates\",\"United Kingdom\",\"Venezuela\",\"Vietnam\",\"United States\"],\"name\":\"\",\"z\":[0.570870041847229,11.22947883605957,4.636782646179199,30.31977081298828,3.805250644683838,0.2197636067867279,39.09782028198242,2.6594314575195312,29.416236877441406,26.58951568603516,4.421272277832031,22.697723388671875,0.0,0.8108595609664917,0.0721524506807327,5.59368371963501,11.533038139343262,14.666409492492676,9.705157279968262,1.6178512573242188,5.286510467529297,0.1469283103942871,61.47043228149414,11.035112380981444,1.220451593399048,4.111237049102783,1.808008313179016,2.439051628112793,0.0058150542899966,8.032729148864746,6.735273361206055,0.0,0.9594649076461792,3.170203447341919,6.843096733093262,2.784217596054077,0.1106641292572021,43.06932830810547,69.16161346435547,0.0,16.82915496826172,22.348915100097656,15.784579277038574,0.3948366641998291,15.776885986328123,0.0,4.819664478302002,0.0,2.373645544052124,0.3714905083179474,1.0666205883026123,8.885108947753906,18.261444091796875,27.447362899780277,35.78217697143555,4.304234981536865,7.570967674255371,0.0966300517320633,12.745107650756836,0.0,0.5869545340538025,9.688068389892578,7.957214832305908,5.256711483001709],\"type\":\"choropleth\"}],\"name\":\"1982\"},{\"data\":[{\"coloraxis\":\"coloraxis\",\"geo\":\"geo\",\"hovertemplate\":\"Year=1983<br>Entity=%{location}<br>Renewables (% equivalent primary energy)=%{z}<extra></extra>\",\"locationmode\":\"country names\",\"locations\":[\"Algeria\",\"Argentina\",\"Australia\",\"Austria\",\"Bangladesh\",\"Belgium\",\"Brazil\",\"Bulgaria\",\"Canada\",\"Chile\",\"China\",\"Colombia\",\"Cyprus\",\"Czechia\",\"Denmark\",\"Ecuador\",\"Egypt\",\"Finland\",\"France\",\"Germany\",\"Greece\",\"Hungary\",\"Iceland\",\"India\",\"Indonesia\",\"Iran\",\"Iraq\",\"Ireland\",\"Israel\",\"Italy\",\"Japan\",\"Kuwait\",\"Luxembourg\",\"Malaysia\",\"Mexico\",\"Morocco\",\"Netherlands\",\"New Zealand\",\"Norway\",\"Oman\",\"Pakistan\",\"Peru\",\"Philippines\",\"Poland\",\"Portugal\",\"Qatar\",\"Romania\",\"Saudi Arabia\",\"Slovakia\",\"South Africa\",\"South Korea\",\"Spain\",\"Sri Lanka\",\"Sweden\",\"Switzerland\",\"Taiwan\",\"Thailand\",\"Trinidad and Tobago\",\"Turkey\",\"United Arab Emirates\",\"United Kingdom\",\"Venezuela\",\"Vietnam\",\"United States\"],\"name\":\"\",\"z\":[0.2564494609832763,11.303474426269531,4.534481525421143,30.117788314819336,4.870658874511719,0.2131948769092559,41.86777114868164,2.9039196968078613,30.49922561645508,28.068626403808597,4.823490619659424,21.79018783569336,0.0,0.8022947311401367,0.1496665030717849,10.982114791870115,9.98041534423828,15.364748001098633,9.325616836547852,1.4992613792419434,3.454516887664795,0.1457432061433792,62.74847412109375,10.110920906066896,1.7323704957962036,3.38846492767334,1.5740337371826172,2.4031906127929688,0.0028920301701873,8.177462577819824,6.926650524139404,0.0,1.0039244890213013,3.213416337966919,6.308685779571533,2.280400514602661,0.096007153391838,44.42584228515625,71.88227844238281,0.0,18.234487533569336,24.38044166564941,16.986289978027344,0.4428483545780182,17.658931732177734,0.0,4.10995626449585,0.0,2.5121586322784424,0.2147051990032196,1.312051773071289,8.936359405517578,14.01951503753662,32.015357971191406,33.554874420166016,4.056090354919434,6.589135646820068,0.0880345478653907,9.873126983642578,0.0,0.5845907330513,11.105162620544434,5.967464447021484,5.684815406799316],\"type\":\"choropleth\"}],\"name\":\"1983\"},{\"data\":[{\"coloraxis\":\"coloraxis\",\"geo\":\"geo\",\"hovertemplate\":\"Year=1984<br>Entity=%{location}<br>Renewables (% equivalent primary energy)=%{z}<extra></extra>\",\"locationmode\":\"country names\",\"locations\":[\"Algeria\",\"Argentina\",\"Australia\",\"Austria\",\"Bangladesh\",\"Belgium\",\"Brazil\",\"Bulgaria\",\"Canada\",\"Chile\",\"China\",\"Colombia\",\"Cyprus\",\"Czechia\",\"Denmark\",\"Ecuador\",\"Egypt\",\"Finland\",\"France\",\"Germany\",\"Greece\",\"Hungary\",\"Iceland\",\"India\",\"Indonesia\",\"Iran\",\"Iraq\",\"Ireland\",\"Israel\",\"Italy\",\"Japan\",\"Kuwait\",\"Luxembourg\",\"Malaysia\",\"Mexico\",\"Morocco\",\"Netherlands\",\"New Zealand\",\"Norway\",\"Oman\",\"Pakistan\",\"Peru\",\"Philippines\",\"Poland\",\"Portugal\",\"Qatar\",\"Romania\",\"Saudi Arabia\",\"Slovakia\",\"South Africa\",\"South Korea\",\"Spain\",\"Sri Lanka\",\"Sweden\",\"Switzerland\",\"Taiwan\",\"Thailand\",\"Trinidad and Tobago\",\"Turkey\",\"United Arab Emirates\",\"United Kingdom\",\"Venezuela\",\"Vietnam\",\"United States\"],\"name\":\"\",\"z\":[0.5136735439300537,12.132671356201172,4.718454360961914,26.68983268737793,6.105583190917969,0.2137230485677719,43.21894836425781,2.8398351669311523,30.85584259033203,27.798900604248047,4.5154547691345215,23.639833450317383,0.0,0.6089416146278381,0.1514883190393448,18.537538528442383,8.979602813720703,14.383723258972168,8.554503440856934,1.43718421459198,4.046571254730225,0.1656923741102218,62.047271728515625,10.576085090637209,1.7180938720703125,2.9317567348480225,1.4442424774169922,2.139005184173584,0.0055845901370048,8.236616134643555,5.621933937072754,0.0,1.0007658004760742,5.883321285247803,6.831296443939209,1.712327241897583,0.006805820390582,43.67002487182617,71.1363296508789,0.0,17.85936164855957,24.780765533447266,22.255998611450195,0.3671587705612182,20.36532974243164,0.0,4.670980453491211,0.0,1.9794106483459477,0.1849105507135391,1.0462830066680908,10.203864097595217,22.73234367370605,32.46769332885742,29.559743881225582,3.418205976486206,6.626251220703125,0.0725667774677276,11.116494178771973,0.0,0.5849745869636536,12.205676078796388,7.733730316162109,5.334360599517822],\"type\":\"choropleth\"}],\"name\":\"1984\"},{\"data\":[{\"coloraxis\":\"coloraxis\",\"geo\":\"geo\",\"hovertemplate\":\"Year=1985<br>Entity=%{location}<br>Renewables (% equivalent primary energy)=%{z}<extra></extra>\",\"locationmode\":\"country names\",\"locations\":[\"Algeria\",\"Argentina\",\"Australia\",\"Austria\",\"Azerbaijan\",\"Bangladesh\",\"Belarus\",\"Belgium\",\"Brazil\",\"Bulgaria\",\"Canada\",\"Chile\",\"China\",\"Colombia\",\"Cyprus\",\"Czechia\",\"Denmark\",\"Ecuador\",\"Egypt\",\"Estonia\",\"Finland\",\"France\",\"Germany\",\"Greece\",\"Hungary\",\"Iceland\",\"India\",\"Indonesia\",\"Iran\",\"Iraq\",\"Ireland\",\"Israel\",\"Italy\",\"Japan\",\"Kazakhstan\",\"Kuwait\",\"Latvia\",\"Lithuania\",\"Luxembourg\",\"Malaysia\",\"Mexico\",\"Morocco\",\"Netherlands\",\"New Zealand\",\"Norway\",\"Oman\",\"Pakistan\",\"Peru\",\"Philippines\",\"Poland\",\"Portugal\",\"Qatar\",\"Romania\",\"Russia\",\"Saudi Arabia\",\"Slovakia\",\"South Africa\",\"South Korea\",\"Spain\",\"Sri Lanka\",\"Sweden\",\"Switzerland\",\"Taiwan\",\"Thailand\",\"Trinidad and Tobago\",\"Turkey\",\"Turkmenistan\",\"Ukraine\",\"United Arab Emirates\",\"United Kingdom\",\"Uzbekistan\",\"Venezuela\",\"Vietnam\",\"United States\"],\"name\":\"\",\"z\":[0.7282653450965881,12.75955581665039,4.863154888153076,29.76928329467773,1.6519356966018677,4.526681423187256,0.0144934775307774,0.1869768798351287,43.929534912109375,1.9635511636734009,31.61163330078125,30.296178817749023,4.441830158233643,24.44196128845215,0.0,0.7824311256408691,0.1628583520650863,15.903298377990724,8.225811958312988,0.0,12.764183044433594,7.887791156768799,1.3216147422790527,3.7546212673187256,0.1374802589416504,61.47184371948242,9.670783996582031,1.9808586835861208,2.7088303565979004,1.2590632438659668,2.487560510635376,0.0060216025449335,7.986701488494873,6.361672401428223,1.9355251789093015,0.0,8.286785125732422,0.6436672806739807,0.8154661655426025,6.482968330383301,7.820509910583496,2.200667381286621,0.1721609681844711,41.67255783081055,69.52919006347656,0.0,17.652673721313477,26.952510833740234,24.901979446411133,0.4598645865917206,22.151050567626957,0.0,5.25835657119751,4.942973136901856,0.0,2.6119329929351807,0.2017548531293869,1.5088706016540527,10.242602348327637,27.56766700744629,31.184616088867188,29.632400512695312,4.468096733093262,5.735532283782959,0.0918197259306907,9.229307174682615,0.0061920741572976,1.139194369316101,0.0,0.4892039000988006,3.4388773441314697,13.29366683959961,7.084222316741943,4.76577615737915],\"type\":\"choropleth\"}],\"name\":\"1985\"},{\"data\":[{\"coloraxis\":\"coloraxis\",\"geo\":\"geo\",\"hovertemplate\":\"Year=1986<br>Entity=%{location}<br>Renewables (% equivalent primary energy)=%{z}<extra></extra>\",\"locationmode\":\"country names\",\"locations\":[\"Algeria\",\"Argentina\",\"Australia\",\"Austria\",\"Azerbaijan\",\"Bangladesh\",\"Belarus\",\"Belgium\",\"Brazil\",\"Bulgaria\",\"Canada\",\"Chile\",\"China\",\"Colombia\",\"Cyprus\",\"Czechia\",\"Denmark\",\"Ecuador\",\"Egypt\",\"Estonia\",\"Finland\",\"France\",\"Germany\",\"Greece\",\"Hungary\",\"Iceland\",\"India\",\"Indonesia\",\"Iran\",\"Iraq\",\"Ireland\",\"Israel\",\"Italy\",\"Japan\",\"Kazakhstan\",\"Kuwait\",\"Latvia\",\"Lithuania\",\"Luxembourg\",\"Malaysia\",\"Mexico\",\"Morocco\",\"Netherlands\",\"New Zealand\",\"Norway\",\"Oman\",\"Pakistan\",\"Peru\",\"Philippines\",\"Poland\",\"Portugal\",\"Qatar\",\"Romania\",\"Russia\",\"Saudi Arabia\",\"Slovakia\",\"South Africa\",\"South Korea\",\"Spain\",\"Sri Lanka\",\"Sweden\",\"Switzerland\",\"Taiwan\",\"Thailand\",\"Trinidad and Tobago\",\"Turkey\",\"Turkmenistan\",\"Ukraine\",\"United Arab Emirates\",\"United Kingdom\",\"Uzbekistan\",\"Venezuela\",\"Vietnam\",\"United States\"],\"name\":\"\",\"z\":[0.2664044797420501,12.2985258102417,4.798559665679932,30.17765617370605,0.9406937956809998,2.532797574996948,0.012695332057774,0.2481858879327774,43.21952438354492,2.001533031463623,32.045928955078125,31.16471099853516,4.338527679443359,27.27632522583008,0.0,0.8687312006950378,0.2779197692871094,18.563940048217773,7.888433456420898,0.0,12.67592430114746,7.764792442321777,1.410529851913452,4.321011543273926,0.1372341364622116,62.14561462402344,9.16761875152588,2.986825704574585,3.4556095600128174,1.07521390914917,2.52718448638916,0.0171735845506191,7.828548431396484,6.296619892120361,1.7365297079086304,0.0,8.983882904052734,0.6819007396697998,0.978445827960968,6.458531856536865,6.596591949462891,2.815340280532837,0.2057678997516632,43.00836563110352,66.977294921875,0.0,15.925439834594728,26.9285831451416,24.75696563720703,0.3816991448402405,17.003498077392578,0.0,4.37827730178833,4.996936798095703,0.0,2.0846352577209477,0.5151001214981079,1.3128159046173096,8.501705169677734,28.917848587036133,26.016822814941406,29.05949592590332,4.194707870483398,8.074996948242188,0.1350616514682769,8.374287605285645,0.0049751503393054,1.128100037574768,0.0,0.5739720463752747,2.9812471866607666,13.745108604431152,6.225276947021484,4.898404121398926],\"type\":\"choropleth\"}],\"name\":\"1986\"},{\"data\":[{\"coloraxis\":\"coloraxis\",\"geo\":\"geo\",\"hovertemplate\":\"Year=1987<br>Entity=%{location}<br>Renewables (% equivalent primary energy)=%{z}<extra></extra>\",\"locationmode\":\"country names\",\"locations\":[\"Algeria\",\"Argentina\",\"Australia\",\"Austria\",\"Azerbaijan\",\"Bangladesh\",\"Belarus\",\"Belgium\",\"Brazil\",\"Bulgaria\",\"Canada\",\"Chile\",\"China\",\"Colombia\",\"Cyprus\",\"Czechia\",\"Denmark\",\"Ecuador\",\"Egypt\",\"Estonia\",\"Finland\",\"France\",\"Germany\",\"Greece\",\"Hungary\",\"Iceland\",\"India\",\"Indonesia\",\"Iran\",\"Iraq\",\"Ireland\",\"Israel\",\"Italy\",\"Japan\",\"Kazakhstan\",\"Kuwait\",\"Latvia\",\"Lithuania\",\"Luxembourg\",\"Malaysia\",\"Mexico\",\"Morocco\",\"Netherlands\",\"New Zealand\",\"Norway\",\"Oman\",\"Pakistan\",\"Peru\",\"Philippines\",\"Poland\",\"Portugal\",\"Qatar\",\"Romania\",\"Russia\",\"Saudi Arabia\",\"Slovakia\",\"South Africa\",\"South Korea\",\"Spain\",\"Sri Lanka\",\"Sweden\",\"Switzerland\",\"Taiwan\",\"Thailand\",\"Trinidad and Tobago\",\"Turkey\",\"Turkmenistan\",\"Ukraine\",\"United Arab Emirates\",\"United Kingdom\",\"Uzbekistan\",\"Venezuela\",\"Vietnam\",\"United States\"],\"name\":\"\",\"z\":[0.5174273252487183,12.247486114501951,4.532893180847168,32.193809509277344,0.970684289932251,2.63650131225586,0.0125131821259856,0.3006138801574707,42.7772102355957,2.1663286685943604,31.6495418548584,32.09479904174805,4.255547523498535,27.310853958129883,0.0,1.1157935857772827,0.370658814907074,20.51675033569336,7.43703556060791,0.0,13.40602207183838,8.58464527130127,1.5094993114471436,3.3969619274139404,0.144158586859703,61.632625579833984,8.030695915222168,2.911230564117432,3.5734786987304688,3.949446678161621,1.8662728071212769,0.0266785155981779,7.361894130706787,5.851933002471924,2.0357260704040527,0.0,12.136781692504885,0.6134985089302063,1.2274539470672607,7.548476219177246,6.118594646453857,3.506812572479248,0.2552417516708374,42.311649322509766,68.43144226074219,0.0,18.66611099243164,27.01639747619629,19.908721923828125,0.3551029562950134,17.78904151916504,0.0,4.377776622772217,4.7855329513549805,0.0,2.351402997970581,0.5051980018615723,1.5100772380828855,8.477232933044434,23.1450309753418,31.16565322875977,30.83039283752441,3.48176908493042,5.194031715393066,0.1705773323774337,11.513276100158691,0.0050011007115244,0.9946019649505616,0.0,0.5047144889831543,4.197022914886475,16.863821029663086,5.4386162757873535,4.2147536277771],\"type\":\"choropleth\"}],\"name\":\"1987\"},{\"data\":[{\"coloraxis\":\"coloraxis\",\"geo\":\"geo\",\"hovertemplate\":\"Year=1988<br>Entity=%{location}<br>Renewables (% equivalent primary energy)=%{z}<extra></extra>\",\"locationmode\":\"country names\",\"locations\":[\"Algeria\",\"Argentina\",\"Australia\",\"Austria\",\"Azerbaijan\",\"Bangladesh\",\"Belarus\",\"Belgium\",\"Brazil\",\"Bulgaria\",\"Canada\",\"Chile\",\"China\",\"Colombia\",\"Cyprus\",\"Czechia\",\"Denmark\",\"Ecuador\",\"Egypt\",\"Estonia\",\"Finland\",\"France\",\"Germany\",\"Greece\",\"Hungary\",\"Iceland\",\"India\",\"Indonesia\",\"Iran\",\"Iraq\",\"Ireland\",\"Israel\",\"Italy\",\"Japan\",\"Kazakhstan\",\"Kuwait\",\"Latvia\",\"Lithuania\",\"Luxembourg\",\"Malaysia\",\"Mexico\",\"Morocco\",\"Netherlands\",\"New Zealand\",\"Norway\",\"Oman\",\"Pakistan\",\"Peru\",\"Philippines\",\"Poland\",\"Portugal\",\"Qatar\",\"Romania\",\"Russia\",\"Saudi Arabia\",\"Slovakia\",\"South Africa\",\"South Korea\",\"Spain\",\"Sri Lanka\",\"Sweden\",\"Switzerland\",\"Taiwan\",\"Thailand\",\"Trinidad and Tobago\",\"Turkey\",\"Turkmenistan\",\"Ukraine\",\"United Arab Emirates\",\"United Kingdom\",\"Uzbekistan\",\"Venezuela\",\"Vietnam\",\"United States\"],\"name\":\"\",\"z\":[0.1771743595600128,8.417366981506348,4.641680240631104,32.7332649230957,0.8420581221580505,3.090863943099976,0.0123360687866806,0.2812286019325256,44.01119613647461,2.166203737258911,29.611337661743164,28.361740112304688,4.32307243347168,28.748077392578125,0.0,0.9459826946258544,0.5722485780715942,18.75929450988769,7.214404582977295,0.0,13.07046604156494,9.174312591552734,1.500933289527893,2.738327741622925,0.1475629210472107,62.10895156860352,8.229918479919434,3.0289969444274902,3.696800470352173,3.410572290420532,2.3837883472442627,0.0248918738216161,7.3950276374816895,6.523026466369629,2.3956873416900635,0.0,10.432146072387695,0.6201880574226379,1.1297141313552856,8.279656410217285,6.784612655639648,3.7663094997406006,0.3074186444282532,42.15485000610352,69.97985076904297,0.0,18.41936492919922,26.545846939086918,20.45767974853516,0.3668825328350067,21.131492614746094,0.0,5.665992736816406,4.656944274902344,0.0,2.125359058380127,0.8970548510551453,0.6779970526695251,10.430665016174316,27.90509986877441,31.07804298400879,31.572078704833984,2.674820899963379,4.262178421020508,0.1351906061172485,16.268531799316406,0.0049674627371132,1.2357125282287598,0.0,0.5811958312988281,4.414184093475342,17.953767776489258,7.0410003662109375,3.664999723434448],\"type\":\"choropleth\"}],\"name\":\"1988\"},{\"data\":[{\"coloraxis\":\"coloraxis\",\"geo\":\"geo\",\"hovertemplate\":\"Year=1989<br>Entity=%{location}<br>Renewables (% equivalent primary energy)=%{z}<extra></extra>\",\"locationmode\":\"country names\",\"locations\":[\"Algeria\",\"Argentina\",\"Australia\",\"Austria\",\"Azerbaijan\",\"Bangladesh\",\"Belarus\",\"Belgium\",\"Brazil\",\"Bulgaria\",\"Canada\",\"Chile\",\"China\",\"Colombia\",\"Cyprus\",\"Czechia\",\"Denmark\",\"Ecuador\",\"Egypt\",\"Estonia\",\"Finland\",\"France\",\"Germany\",\"Greece\",\"Hungary\",\"Iceland\",\"India\",\"Indonesia\",\"Iran\",\"Iraq\",\"Ireland\",\"Israel\",\"Italy\",\"Japan\",\"Kazakhstan\",\"Kuwait\",\"Latvia\",\"Lithuania\",\"Luxembourg\",\"Malaysia\",\"Mexico\",\"Morocco\",\"Netherlands\",\"New Zealand\",\"Norway\",\"Oman\",\"Pakistan\",\"Peru\",\"Philippines\",\"Poland\",\"Portugal\",\"Qatar\",\"Romania\",\"Russia\",\"Saudi Arabia\",\"Slovakia\",\"South Africa\",\"South Korea\",\"Spain\",\"Sri Lanka\",\"Sweden\",\"Switzerland\",\"Taiwan\",\"Thailand\",\"Trinidad and Tobago\",\"Turkey\",\"Turkmenistan\",\"Ukraine\",\"United Arab Emirates\",\"United Kingdom\",\"Uzbekistan\",\"Venezuela\",\"Vietnam\",\"United States\"],\"name\":\"\",\"z\":[0.2249582260847091,7.543593406677246,4.419953346252441,32.40857696533203,0.8257337808609009,3.9078640937805176,0.0127549590542912,0.2577132880687713,44.574317932128906,2.265166044235229,27.81739616394043,21.771547317504883,4.468027114868164,29.79399871826172,0.0,0.7638888359069824,0.8869142532348633,18.673532485961918,7.353952407836914,0.0,12.690624237060549,5.59973669052124,1.3991726636886597,2.0288121700286865,0.1416177302598953,60.840476989746094,8.742303848266602,3.408119440078736,2.7610442638397217,3.0038673877716064,1.8510284423828125,0.0071300221607089,6.018290519714356,6.458432197570801,2.538257360458374,0.0,12.539953231811523,0.5725497603416443,0.7626808881759644,6.836901664733887,7.293380260467529,4.231739044189453,0.3433368802070617,47.13667297363281,71.44203186035156,0.0,17.649538040161133,29.118135452270508,20.05256462097168,0.3461389243602752,9.885159492492676,0.0,5.235843181610107,4.605263233184815,0.0,2.3424203395843506,0.8193387389183044,0.9301869869232178,5.533020496368408,30.912357330322266,32.6711311340332,28.20342254638672,2.734282732009888,5.435298919677734,0.1323267519474029,10.282753944396973,0.0048344633542001,1.0963214635849,0.0,0.5676242709159851,3.277204990386963,18.04505729675293,15.831216812133787,4.30154275894165],\"type\":\"choropleth\"}],\"name\":\"1989\"},{\"data\":[{\"coloraxis\":\"coloraxis\",\"geo\":\"geo\",\"hovertemplate\":\"Year=1990<br>Entity=%{location}<br>Renewables (% equivalent primary energy)=%{z}<extra></extra>\",\"locationmode\":\"country names\",\"locations\":[\"Algeria\",\"Argentina\",\"Australia\",\"Austria\",\"Azerbaijan\",\"Bangladesh\",\"Belarus\",\"Belgium\",\"Brazil\",\"Bulgaria\",\"Canada\",\"Chile\",\"China\",\"Colombia\",\"Croatia\",\"Cyprus\",\"Czechia\",\"Denmark\",\"Ecuador\",\"Egypt\",\"Estonia\",\"Finland\",\"France\",\"Germany\",\"Greece\",\"Hungary\",\"Iceland\",\"India\",\"Indonesia\",\"Iran\",\"Iraq\",\"Ireland\",\"Israel\",\"Italy\",\"Japan\",\"Kazakhstan\",\"Kuwait\",\"Latvia\",\"Lithuania\",\"Luxembourg\",\"Malaysia\",\"Mexico\",\"Morocco\",\"Netherlands\",\"New Zealand\",\"Norway\",\"Oman\",\"Pakistan\",\"Peru\",\"Philippines\",\"Poland\",\"Portugal\",\"Qatar\",\"Romania\",\"Russia\",\"Saudi Arabia\",\"Slovakia\",\"Slovenia\",\"South Africa\",\"South Korea\",\"Spain\",\"Sri Lanka\",\"Sweden\",\"Switzerland\",\"Taiwan\",\"Thailand\",\"Trinidad and Tobago\",\"Turkey\",\"Turkmenistan\",\"Ukraine\",\"United Arab Emirates\",\"United Kingdom\",\"Uzbekistan\",\"Venezuela\",\"Vietnam\",\"United States\"],\"name\":\"\",\"z\":[0.1267386972904205,10.292678833007812,4.459391117095947,28.9086856842041,1.881659984588623,3.539271354675293,0.0126916766166687,0.2747964859008789,45.27548599243164,1.711651086807251,29.48099899291992,18.957916259765625,4.723667621612549,32.64093399047852,11.200591087341309,0.0,0.6279107928276062,1.266486644744873,18.208444595336918,7.520865440368652,0.0,15.044628143310549,6.2226409912109375,1.336940050125122,1.8226951360702517,0.1796697378158569,60.33362579345703,8.542831420898438,3.731863260269165,2.6902496814727783,5.7843523025512695,1.7610795497894287,0.0068617342039942,5.5439982414245605,5.605645179748535,2.534389019012451,0.0,15.375503540039062,0.6063738465309143,0.6646014451980591,4.940909385681152,6.830843448638916,4.359245777130127,0.2806209623813629,41.456180572509766,72.44773864746094,0.0,16.537376403808594,29.30202865600586,18.938623428344727,0.3606971204280853,14.758711814880373,0.0,4.590248107910156,4.898304462432861,0.0,2.2383956909179688,12.690258026123049,0.2900504469871521,1.2995164394378662,7.1988701820373535,31.11433982849121,32.335453033447266,26.99221992492676,3.3431942462921143,4.073401927947998,0.1421816051006317,12.219701766967772,0.0058338353410363,0.9731683731079102,0.0,0.6801177859306335,3.7738037109375,18.11903953552246,20.58405303955078,4.724676609039307],\"type\":\"choropleth\"}],\"name\":\"1990\"},{\"data\":[{\"coloraxis\":\"coloraxis\",\"geo\":\"geo\",\"hovertemplate\":\"Year=1991<br>Entity=%{location}<br>Renewables (% equivalent primary energy)=%{z}<extra></extra>\",\"locationmode\":\"country names\",\"locations\":[\"Algeria\",\"Argentina\",\"Australia\",\"Austria\",\"Azerbaijan\",\"Bangladesh\",\"Belarus\",\"Belgium\",\"Brazil\",\"Bulgaria\",\"Canada\",\"Chile\",\"China\",\"Colombia\",\"Croatia\",\"Cyprus\",\"Czechia\",\"Denmark\",\"Ecuador\",\"Egypt\",\"Estonia\",\"Finland\",\"France\",\"Germany\",\"Greece\",\"Hungary\",\"Iceland\",\"India\",\"Indonesia\",\"Iran\",\"Iraq\",\"Ireland\",\"Israel\",\"Italy\",\"Japan\",\"Kazakhstan\",\"Kuwait\",\"Latvia\",\"Lithuania\",\"Luxembourg\",\"Malaysia\",\"Mexico\",\"Morocco\",\"Netherlands\",\"New Zealand\",\"Norway\",\"Oman\",\"Pakistan\",\"Peru\",\"Philippines\",\"Poland\",\"Portugal\",\"Qatar\",\"Romania\",\"Russia\",\"Saudi Arabia\",\"Slovakia\",\"Slovenia\",\"South Africa\",\"South Korea\",\"Spain\",\"Sri Lanka\",\"Sweden\",\"Switzerland\",\"Taiwan\",\"Thailand\",\"Trinidad and Tobago\",\"Turkey\",\"Turkmenistan\",\"Ukraine\",\"United Arab Emirates\",\"United Kingdom\",\"Uzbekistan\",\"Venezuela\",\"Vietnam\",\"United States\"],\"name\":\"\",\"z\":[0.2776069939136505,9.081443786621094,4.7400617599487305,27.58718681335449,2.0779731273651123,3.477609157562256,0.0114487251266837,0.2574799358844757,45.86178970336914,2.7520618438720703,30.49942779541016,24.08466148376465,4.424777984619141,31.699800491333008,20.50486183166504,0.0,0.6470876932144165,1.4587733745574951,16.781824111938477,7.396338939666748,0.0,16.64373207092285,6.26654052734375,1.2709577083587646,3.145860433578491,0.2154788523912429,61.54582977294922,9.029864311218262,3.812469959259033,1.8835831880569456,4.28729248046875,1.8195366859436035,0.0135207260027527,7.020092010498047,5.9171295166015625,2.479836225509644,0.0,12.15385913848877,0.4682885408401489,0.7338107824325562,4.358415126800537,6.3246049880981445,4.325900077819824,0.3191479742527008,40.46457290649414,71.44004821777344,0.0,16.701480865478516,32.345062255859375,17.744583129882812,0.3782130479812622,14.244230270385742,0.0,6.907992839813232,5.0031914710998535,0.0,1.8738332986831665,15.370842933654783,0.5727413892745972,0.8552601337432861,7.452907562255859,30.897804260253903,29.826091766357425,28.26373291015625,1.969025492668152,3.400254249572754,0.1150112450122833,11.752680778503418,0.0056805326603353,1.156305193901062,0.0,0.6104341745376587,3.46509337425232,21.67565155029297,23.79098892211914,4.72428560256958],\"type\":\"choropleth\"}],\"name\":\"1991\"},{\"data\":[{\"coloraxis\":\"coloraxis\",\"geo\":\"geo\",\"hovertemplate\":\"Year=1992<br>Entity=%{location}<br>Renewables (% equivalent primary energy)=%{z}<extra></extra>\",\"locationmode\":\"country names\",\"locations\":[\"Algeria\",\"Argentina\",\"Australia\",\"Austria\",\"Azerbaijan\",\"Bangladesh\",\"Belarus\",\"Belgium\",\"Brazil\",\"Bulgaria\",\"Canada\",\"Chile\",\"China\",\"Colombia\",\"Croatia\",\"Cyprus\",\"Czechia\",\"Denmark\",\"Ecuador\",\"Egypt\",\"Estonia\",\"Finland\",\"France\",\"Germany\",\"Greece\",\"Hungary\",\"Iceland\",\"India\",\"Indonesia\",\"Iran\",\"Iraq\",\"Ireland\",\"Israel\",\"Italy\",\"Japan\",\"Kazakhstan\",\"Kuwait\",\"Latvia\",\"Lithuania\",\"Luxembourg\",\"Malaysia\",\"Mexico\",\"Morocco\",\"Netherlands\",\"New Zealand\",\"Norway\",\"Oman\",\"Pakistan\",\"Peru\",\"Philippines\",\"Poland\",\"Portugal\",\"Qatar\",\"Romania\",\"Russia\",\"Saudi Arabia\",\"Slovakia\",\"Slovenia\",\"South Africa\",\"South Korea\",\"Spain\",\"Sri Lanka\",\"Sweden\",\"Switzerland\",\"Taiwan\",\"Thailand\",\"Trinidad and Tobago\",\"Turkey\",\"Turkmenistan\",\"Ukraine\",\"United Arab Emirates\",\"United Kingdom\",\"Uzbekistan\",\"Venezuela\",\"Vietnam\",\"United States\"],\"name\":\"\",\"z\":[0.1837574690580368,10.206743240356444,4.731717109680176,31.037273406982425,2.409932851791382,3.0288853645324707,0.0124688521027565,0.2941910922527313,44.90270614624024,2.477391004562378,30.512109756469727,28.35539054870605,4.412701606750488,24.60545539855957,15.994292259216309,0.0,0.8583593368530273,2.0408639907836914,16.52834701538086,7.380685806274414,0.0,18.367647171020508,7.3992438316345215,1.5204551219940186,2.2052266597747803,0.2120923548936844,60.99951171875,8.140623092651367,4.408542633056641,2.795917510986328,6.584853172302246,1.990980863571167,0.0559749267995357,7.082338809967041,5.080174922943115,2.3956668376922607,0.0,13.070239067077637,0.7034368515014648,0.6107495427131653,3.721477746963501,7.251021862030029,3.0396227836608887,0.3399998843669891,37.514610290527344,71.86555480957031,0.0,17.344545364379883,28.06740951538086,14.223133087158203,0.424808531999588,7.96611738204956,0.0,6.283785343170166,5.336780071258545,0.0,2.679717302322388,15.600479125976562,0.2165115028619766,0.6740404963493347,5.013250350952148,26.79806900024414,34.72596740722656,28.394737243652344,3.078827381134033,2.862964630126953,0.1303890198469162,13.07958698272705,0.0083349412307143,0.921140432357788,0.0,0.7424993515014648,3.8065381050109854,21.255586624145508,24.912485122680664,4.261230945587158],\"type\":\"choropleth\"}],\"name\":\"1992\"},{\"data\":[{\"coloraxis\":\"coloraxis\",\"geo\":\"geo\",\"hovertemplate\":\"Year=1993<br>Entity=%{location}<br>Renewables (% equivalent primary energy)=%{z}<extra></extra>\",\"locationmode\":\"country names\",\"locations\":[\"Algeria\",\"Argentina\",\"Australia\",\"Austria\",\"Azerbaijan\",\"Bangladesh\",\"Belarus\",\"Belgium\",\"Brazil\",\"Bulgaria\",\"Canada\",\"Chile\",\"China\",\"Colombia\",\"Croatia\",\"Cyprus\",\"Czechia\",\"Denmark\",\"Ecuador\",\"Egypt\",\"Estonia\",\"Finland\",\"France\",\"Germany\",\"Greece\",\"Hungary\",\"Iceland\",\"India\",\"Indonesia\",\"Iran\",\"Iraq\",\"Ireland\",\"Israel\",\"Italy\",\"Japan\",\"Kazakhstan\",\"Kuwait\",\"Latvia\",\"Lithuania\",\"Luxembourg\",\"Malaysia\",\"Mexico\",\"Morocco\",\"Netherlands\",\"New Zealand\",\"Norway\",\"Oman\",\"Pakistan\",\"Peru\",\"Philippines\",\"Poland\",\"Portugal\",\"Qatar\",\"Romania\",\"Russia\",\"Saudi Arabia\",\"Slovakia\",\"Slovenia\",\"South Africa\",\"South Korea\",\"Spain\",\"Sri Lanka\",\"Sweden\",\"Switzerland\",\"Taiwan\",\"Thailand\",\"Trinidad and Tobago\",\"Turkey\",\"Turkmenistan\",\"Ukraine\",\"United Arab Emirates\",\"United Kingdom\",\"Uzbekistan\",\"Venezuela\",\"Vietnam\",\"United States\"],\"name\":\"\",\"z\":[0.3502801358699798,12.216532707214355,4.75942850112915,32.08808517456055,3.8572144508361816,2.1043288707733154,0.0166659001260995,0.2466530501842498,45.159629821777344,2.1902918815612797,30.45089340209961,27.52927017211914,4.7578606605529785,27.847396850585938,16.08796501159668,0.0,0.9921496510505676,2.361985206604004,18.627613067626957,7.595428943634033,0.0,17.727712631225586,6.968883514404297,1.583544135093689,2.2926175594329834,0.2188168913125991,61.05936050415039,8.035937309265137,3.847653388977051,3.4577884674072266,5.8610520362854,1.849105954170227,0.0462117157876491,7.147924423217773,5.666120529174805,3.015272378921509,0.0,17.300792694091797,1.1366833448410034,0.6041135191917419,4.189680576324463,7.209392070770264,1.3822969198226929,0.374287486076355,40.29460525512695,71.1773681640625,0.0,17.234846115112305,31.19631767272949,14.52389907836914,0.4059490263462066,13.151094436645508,0.0,7.054651737213135,5.78029727935791,0.0,4.88240385055542,13.463438987731934,0.042108479887247,0.8389674425125122,6.625087738037109,32.161766052246094,35.322853088378906,31.08303451538086,1.8557116985321045,2.197190284729004,0.1154540330171585,15.372352600097656,0.01208390109241,1.4715107679367063,0.0,0.6676498055458069,4.146083354949951,21.576940536499023,24.039852142333984,4.571409702301025],\"type\":\"choropleth\"}],\"name\":\"1993\"},{\"data\":[{\"coloraxis\":\"coloraxis\",\"geo\":\"geo\",\"hovertemplate\":\"Year=1994<br>Entity=%{location}<br>Renewables (% equivalent primary energy)=%{z}<extra></extra>\",\"locationmode\":\"country names\",\"locations\":[\"Algeria\",\"Argentina\",\"Australia\",\"Austria\",\"Azerbaijan\",\"Bangladesh\",\"Belarus\",\"Belgium\",\"Brazil\",\"Bulgaria\",\"Canada\",\"Chile\",\"China\",\"Colombia\",\"Croatia\",\"Cyprus\",\"Czechia\",\"Denmark\",\"Ecuador\",\"Egypt\",\"Estonia\",\"Finland\",\"France\",\"Germany\",\"Greece\",\"Hungary\",\"Iceland\",\"India\",\"Indonesia\",\"Iran\",\"Iraq\",\"Ireland\",\"Israel\",\"Italy\",\"Japan\",\"Kazakhstan\",\"Kuwait\",\"Latvia\",\"Lithuania\",\"Luxembourg\",\"Malaysia\",\"Mexico\",\"Morocco\",\"Netherlands\",\"New Zealand\",\"Norway\",\"Oman\",\"Pakistan\",\"Peru\",\"Philippines\",\"Poland\",\"Portugal\",\"Qatar\",\"Romania\",\"Russia\",\"Saudi Arabia\",\"Slovakia\",\"Slovenia\",\"South Africa\",\"South Korea\",\"Spain\",\"Sri Lanka\",\"Sweden\",\"Switzerland\",\"Taiwan\",\"Thailand\",\"Trinidad and Tobago\",\"Turkey\",\"Turkmenistan\",\"Ukraine\",\"United Arab Emirates\",\"United Kingdom\",\"Uzbekistan\",\"Venezuela\",\"Vietnam\",\"United States\"],\"name\":\"\",\"z\":[0.1625789850950241,13.306406021118164,4.527180671691895,31.296300888061523,3.1670033931732178,2.761680603027344,0.0199361536651849,0.2759146392345428,44.56560134887695,1.719669222831726,29.92730140686035,25.95452308654785,4.952474117279053,29.80908203125,18.960315704345703,0.0,1.136947512626648,2.132141351699829,19.351001739501957,7.676783084869385,0.0,15.916638374328612,8.563506126403809,1.7396334409713743,2.5512795448303223,0.2185582220554351,61.054908752441406,8.66722583770752,3.521223306655884,2.0214617252349854,5.243114471435547,2.141103982925415,0.0391833409667015,7.645524501800537,4.097033977508545,4.072830677032471,0.0,20.521249771118164,1.514650821685791,0.7752812504768372,5.270333290100098,5.448117256164551,2.3779470920562744,0.4266581833362579,41.2523078918457,69.031494140625,0.0,16.347652435302734,30.9783992767334,15.574134826660156,0.4881243109703064,15.609878540039062,0.0,7.641243934631348,6.394296646118164,0.0,6.225819110870361,14.16608715057373,0.2969961166381836,0.4319862127304077,7.313819408416748,31.979883193969727,28.229177474975582,32.31832504272461,2.141310930252075,2.397928237915039,0.1245081424713134,14.304976463317873,0.0090709067881107,1.8900632858276367,0.0,0.8253747820854187,4.109858512878418,21.469650268554688,24.97269630432129,4.25481653213501],\"type\":\"choropleth\"}],\"name\":\"1994\"},{\"data\":[{\"coloraxis\":\"coloraxis\",\"geo\":\"geo\",\"hovertemplate\":\"Year=1995<br>Entity=%{location}<br>Renewables (% equivalent primary energy)=%{z}<extra></extra>\",\"locationmode\":\"country names\",\"locations\":[\"Algeria\",\"Argentina\",\"Australia\",\"Austria\",\"Azerbaijan\",\"Bangladesh\",\"Belarus\",\"Belgium\",\"Brazil\",\"Bulgaria\",\"Canada\",\"Chile\",\"China\",\"Colombia\",\"Croatia\",\"Cyprus\",\"Czechia\",\"Denmark\",\"Ecuador\",\"Egypt\",\"Estonia\",\"Finland\",\"France\",\"Germany\",\"Greece\",\"Hungary\",\"Iceland\",\"India\",\"Indonesia\",\"Iran\",\"Iraq\",\"Ireland\",\"Israel\",\"Italy\",\"Japan\",\"Kazakhstan\",\"Kuwait\",\"Latvia\",\"Lithuania\",\"Luxembourg\",\"Malaysia\",\"Mexico\",\"Morocco\",\"Netherlands\",\"New Zealand\",\"Norway\",\"Oman\",\"Pakistan\",\"Peru\",\"Philippines\",\"Poland\",\"Portugal\",\"Qatar\",\"Romania\",\"Russia\",\"Saudi Arabia\",\"Slovakia\",\"Slovenia\",\"South Africa\",\"South Korea\",\"Spain\",\"Sri Lanka\",\"Sweden\",\"Switzerland\",\"Taiwan\",\"Thailand\",\"Trinidad and Tobago\",\"Turkey\",\"Turkmenistan\",\"Ukraine\",\"United Arab Emirates\",\"United Kingdom\",\"Uzbekistan\",\"Venezuela\",\"Vietnam\",\"United States\"],\"name\":\"\",\"z\":[0.182247593998909,12.535518646240234,4.239725112915039,31.51592063903809,2.864072799682617,1.026994705200195,0.023589264601469,0.3051198720932007,44.34580993652344,2.518761396408081,29.88811683654785,26.028478622436523,5.5538201332092285,29.33157730102539,19.149620056152344,0.0,1.4834487438201904,2.313322067260742,16.0936336517334,7.558946132659912,0.0308315623551607,17.851295471191406,7.823903083801269,1.889189839363098,3.3267502784729004,0.2304143905639648,61.59295272827149,7.686767578125,3.5392696857452397,2.326306104660034,5.992914199829102,1.6306569576263428,0.0378692410886287,6.312265872955322,4.652009010314941,4.114584922790527,0.0,19.486257553100582,1.118697166442871,0.9501821994781494,4.62030553817749,7.110982418060303,1.763482928276062,0.4561201333999634,42.104042053222656,70.81211853027344,0.0,16.378124237060547,28.913646697998047,14.212176322937012,0.5228233933448792,11.508939743041992,0.0,8.897040367126465,6.769153594970703,0.0,6.879693031311035,12.907959938049316,0.1399753242731094,0.5102640390396118,5.938282489776611,32.76565170288086,32.06243133544922,30.771350860595703,1.982553482055664,3.2421882152557373,0.1183999702334404,14.92419719696045,0.0110200494527816,1.5910707712173462,0.0,0.7896187901496887,3.5991854667663574,20.91527366638184,24.6088809967041,4.762141227722168],\"type\":\"choropleth\"}],\"name\":\"1995\"},{\"data\":[{\"coloraxis\":\"coloraxis\",\"geo\":\"geo\",\"hovertemplate\":\"Year=1996<br>Entity=%{location}<br>Renewables (% equivalent primary energy)=%{z}<extra></extra>\",\"locationmode\":\"country names\",\"locations\":[\"Algeria\",\"Argentina\",\"Australia\",\"Austria\",\"Azerbaijan\",\"Bangladesh\",\"Belarus\",\"Belgium\",\"Brazil\",\"Bulgaria\",\"Canada\",\"Chile\",\"China\",\"Colombia\",\"Croatia\",\"Cyprus\",\"Czechia\",\"Denmark\",\"Ecuador\",\"Egypt\",\"Estonia\",\"Finland\",\"France\",\"Germany\",\"Greece\",\"Hungary\",\"Iceland\",\"India\",\"Indonesia\",\"Iran\",\"Iraq\",\"Ireland\",\"Israel\",\"Italy\",\"Japan\",\"Kazakhstan\",\"Kuwait\",\"Latvia\",\"Lithuania\",\"Luxembourg\",\"Malaysia\",\"Mexico\",\"Morocco\",\"Netherlands\",\"New Zealand\",\"Norway\",\"Oman\",\"Pakistan\",\"Peru\",\"Philippines\",\"Poland\",\"Portugal\",\"Qatar\",\"Romania\",\"Russia\",\"Saudi Arabia\",\"Slovakia\",\"Slovenia\",\"South Africa\",\"South Korea\",\"Spain\",\"Sri Lanka\",\"Sweden\",\"Switzerland\",\"Taiwan\",\"Thailand\",\"Trinidad and Tobago\",\"Turkey\",\"Turkmenistan\",\"Ukraine\",\"United Arab Emirates\",\"United Kingdom\",\"Uzbekistan\",\"Venezuela\",\"Vietnam\",\"United States\"],\"name\":\"\",\"z\":[0.12880340218544,10.225037574768066,4.23659086227417,28.95120620727539,3.4498770236968994,1.9475641250610352,0.0183994248509407,0.2427208870649337,44.08195877075195,3.190023422241211,30.87930679321289,22.551898956298828,5.143133163452148,31.475914001464844,24.704439163208008,0.0,1.343038558959961,2.1877264976501465,17.381893157958984,7.361753940582275,0.0241957437247037,15.462066650390623,6.882894039154053,1.6823945045471191,3.99127197265625,0.2641087770462036,59.821136474609375,6.789632797241211,3.508815288543701,2.2645998001098637,5.454255104064941,1.6184037923812866,0.0350807718932628,7.04185962677002,4.5326762199401855,4.159170627593994,0.0,13.271233558654783,0.898501992225647,0.6496766805648804,3.45036244392395,7.60121488571167,5.402516841888428,0.563913106918335,39.54180908203125,66.01223754882812,0.0,16.76286506652832,28.77692604064941,14.502601623535156,0.5270423889160156,18.70630645751953,0.0,8.448899269104004,6.157421112060547,0.0,5.9181108474731445,13.877272605895996,0.3590045869350433,0.4361970424652099,9.653098106384276,22.438142776489254,25.265974044799805,26.179201126098636,1.9023185968399048,3.158660650253296,0.0538361370563507,15.543943405151367,0.0094481203705072,1.4804906845092771,0.0,0.6443789005279541,3.678831815719605,22.46203994750977,24.358139038085938,5.018571376800537],\"type\":\"choropleth\"}],\"name\":\"1996\"},{\"data\":[{\"coloraxis\":\"coloraxis\",\"geo\":\"geo\",\"hovertemplate\":\"Year=1997<br>Entity=%{location}<br>Renewables (% equivalent primary energy)=%{z}<extra></extra>\",\"locationmode\":\"country names\",\"locations\":[\"Algeria\",\"Argentina\",\"Australia\",\"Austria\",\"Azerbaijan\",\"Bangladesh\",\"Belarus\",\"Belgium\",\"Brazil\",\"Bulgaria\",\"Canada\",\"Chile\",\"China\",\"Colombia\",\"Croatia\",\"Cyprus\",\"Czechia\",\"Denmark\",\"Ecuador\",\"Egypt\",\"Estonia\",\"Finland\",\"France\",\"Germany\",\"Greece\",\"Hungary\",\"Iceland\",\"India\",\"Indonesia\",\"Iran\",\"Iraq\",\"Ireland\",\"Israel\",\"Italy\",\"Japan\",\"Kazakhstan\",\"Kuwait\",\"Latvia\",\"Lithuania\",\"Luxembourg\",\"Malaysia\",\"Mexico\",\"Morocco\",\"Netherlands\",\"New Zealand\",\"Norway\",\"Oman\",\"Pakistan\",\"Peru\",\"Philippines\",\"Poland\",\"Portugal\",\"Qatar\",\"Romania\",\"Russia\",\"Saudi Arabia\",\"Slovakia\",\"Slovenia\",\"South Africa\",\"South Korea\",\"Spain\",\"Sri Lanka\",\"Sweden\",\"Switzerland\",\"Taiwan\",\"Thailand\",\"Trinidad and Tobago\",\"Turkey\",\"Turkmenistan\",\"Ukraine\",\"United Arab Emirates\",\"United Kingdom\",\"Uzbekistan\",\"Venezuela\",\"Vietnam\",\"United States\"],\"name\":\"\",\"z\":[0.0744559019804,12.514141082763672,4.145838737487793,29.96346664428711,4.0128254890441895,1.8034275770187376,0.0238740518689155,0.2500346302986145,43.489933013916016,3.1750752925872803,30.28490447998047,21.909547805786133,5.361733913421631,27.334064483642575,18.54490089416504,0.0,1.3685675859451294,3.3808846473693848,16.071613311767578,7.24384880065918,0.0392568632960319,17.178953170776367,6.80388879776001,1.8035167455673216,3.4691076278686523,0.2833541631698608,62.26046752929688,6.570899486541748,2.477278470993042,1.4810699224472046,4.675354957580566,1.6524463891983032,0.0334176681935787,6.921144008636475,4.951632499694824,4.181544780731201,0.0,20.91794776916504,0.8816192746162415,0.9025550484657288,2.3939244747161865,6.423584938049316,5.531386375427246,0.6360036134719849,35.60651397705078,66.31446075439453,0.0,12.89863395690918,28.343660354614254,13.195356369018556,0.5504409074783325,16.634517669677734,0.0,9.899968147277832,6.642446517944336,0.0,5.796412944793701,11.434757232666016,0.5707284212112427,0.4026863574981689,8.211402893066406,23.044755935668945,32.551292419433594,28.932559967041016,1.9892830848693848,2.977715253829956,0.057017732411623,14.665958404541016,0.0123385256156325,1.7526177167892456,0.0,0.825344979763031,3.291520833969116,22.59819793701172,20.527612686157227,5.11522102355957],\"type\":\"choropleth\"}],\"name\":\"1997\"},{\"data\":[{\"coloraxis\":\"coloraxis\",\"geo\":\"geo\",\"hovertemplate\":\"Year=1998<br>Entity=%{location}<br>Renewables (% equivalent primary energy)=%{z}<extra></extra>\",\"locationmode\":\"country names\",\"locations\":[\"Algeria\",\"Argentina\",\"Australia\",\"Austria\",\"Azerbaijan\",\"Bangladesh\",\"Belarus\",\"Belgium\",\"Brazil\",\"Bulgaria\",\"Canada\",\"Chile\",\"China\",\"Colombia\",\"Croatia\",\"Cyprus\",\"Czechia\",\"Denmark\",\"Ecuador\",\"Egypt\",\"Estonia\",\"Finland\",\"France\",\"Germany\",\"Greece\",\"Hungary\",\"Iceland\",\"India\",\"Indonesia\",\"Iran\",\"Iraq\",\"Ireland\",\"Israel\",\"Italy\",\"Japan\",\"Kazakhstan\",\"Kuwait\",\"Latvia\",\"Lithuania\",\"Luxembourg\",\"Malaysia\",\"Mexico\",\"Morocco\",\"Netherlands\",\"New Zealand\",\"Norway\",\"Oman\",\"Pakistan\",\"Peru\",\"Philippines\",\"Poland\",\"Portugal\",\"Qatar\",\"Romania\",\"Russia\",\"Saudi Arabia\",\"Slovakia\",\"Slovenia\",\"South Africa\",\"South Korea\",\"Spain\",\"Sri Lanka\",\"Sweden\",\"Switzerland\",\"Taiwan\",\"Thailand\",\"Trinidad and Tobago\",\"Turkey\",\"Turkmenistan\",\"Ukraine\",\"United Arab Emirates\",\"United Kingdom\",\"Uzbekistan\",\"Venezuela\",\"Vietnam\",\"United States\"],\"name\":\"\",\"z\":[0.2061796188354492,11.482151985168455,4.037755966186523,30.441696166992188,4.555314540863037,2.037123680114746,0.0325518324971199,0.3166766464710235,43.57197189331055,3.721184015274048,29.307371139526367,18.05925750732422,5.427778244018555,26.691463470458984,18.053991317749023,0.0,1.2816920280456543,4.675768852233887,15.920068740844728,7.154178619384766,0.0656705722212791,20.30083465576172,6.470213890075684,1.9705649614334104,3.15884017944336,0.2245397120714187,64.60302734375,7.381818294525146,4.014904499053955,1.792133927345276,5.8698039054870605,2.216397523880005,0.0317553468048572,6.806154727935791,5.1708760261535645,4.193706512451172,0.0,28.085607528686523,1.1615424156188965,1.2946181297302246,2.660114288330078,5.862017154693604,4.600728511810303,0.7268246412277222,38.75766372680664,67.21876525878906,0.0,15.70711898803711,29.41726493835449,13.60515022277832,0.6830112934112549,15.1640043258667,0.0,11.665589332580566,6.699800491333008,0.0,6.022058963775635,12.727214813232422,0.4763036072254181,0.6597698330879211,7.815210342407227,24.54949378967285,32.492069244384766,28.326658248901367,2.213547706604004,2.375905752182007,0.0561727918684482,15.141606330871582,0.0119019281119108,2.900869369506836,0.0,0.9855971932411194,3.2868781089782715,21.551677703857425,18.06495475769043,4.695756912231445],\"type\":\"choropleth\"}],\"name\":\"1998\"},{\"data\":[{\"coloraxis\":\"coloraxis\",\"geo\":\"geo\",\"hovertemplate\":\"Year=1999<br>Entity=%{location}<br>Renewables (% equivalent primary energy)=%{z}<extra></extra>\",\"locationmode\":\"country names\",\"locations\":[\"Algeria\",\"Argentina\",\"Australia\",\"Austria\",\"Azerbaijan\",\"Bangladesh\",\"Belarus\",\"Belgium\",\"Brazil\",\"Bulgaria\",\"Canada\",\"Chile\",\"China\",\"Colombia\",\"Croatia\",\"Cyprus\",\"Czechia\",\"Denmark\",\"Ecuador\",\"Egypt\",\"Estonia\",\"Finland\",\"France\",\"Germany\",\"Greece\",\"Hungary\",\"Iceland\",\"India\",\"Indonesia\",\"Iran\",\"Iraq\",\"Ireland\",\"Israel\",\"Italy\",\"Japan\",\"Kazakhstan\",\"Kuwait\",\"Latvia\",\"Lithuania\",\"Luxembourg\",\"Malaysia\",\"Mexico\",\"Morocco\",\"Netherlands\",\"New Zealand\",\"Norway\",\"Oman\",\"Pakistan\",\"Peru\",\"Philippines\",\"Poland\",\"Portugal\",\"Qatar\",\"Romania\",\"Russia\",\"Saudi Arabia\",\"Slovakia\",\"Slovenia\",\"South Africa\",\"South Korea\",\"Spain\",\"Sri Lanka\",\"Sweden\",\"Switzerland\",\"Taiwan\",\"Thailand\",\"Trinidad and Tobago\",\"Turkey\",\"Turkmenistan\",\"Ukraine\",\"United Arab Emirates\",\"United Kingdom\",\"Uzbekistan\",\"Venezuela\",\"Vietnam\",\"United States\"],\"name\":\"\",\"z\":[0.1927434206008911,9.226556777954102,4.008933544158936,32.257999420166016,3.5315983295440674,1.93972909450531,0.0227077603340148,0.3602191209793091,43.143802642822266,3.786312341690064,29.588794708251957,15.2758150100708,5.188285827636719,31.37824821472168,21.228256225585938,0.0,1.5926198959350586,5.389066696166992,19.251895904541016,7.409151077270508,0.0933113694190979,17.99002456665039,7.388863086700439,2.227585792541504,3.964061975479126,0.2573080956935882,67.37352752685547,7.12459659576416,3.8524580001831055,1.1498689651489258,4.700111389160156,2.0142810344696045,0.0404441058635711,7.31284236907959,4.856287479400635,4.45552921295166,0.0,21.13871955871582,1.3867839574813845,1.0463186502456665,4.217978477478027,7.305535793304443,2.058801889419556,0.7947908639907837,35.64335250854492,68.737548828125,0.0,13.423368453979492,30.105939865112305,17.624540328979492,0.6465410590171814,9.102554321289062,0.0,12.841182708740234,6.69929838180542,0.0,6.261233329772949,14.0621337890625,0.2344794869422912,0.5936902761459351,5.629496574401856,24.37567138671875,32.139984130859375,32.33128356933594,1.8112775087356567,1.6081547737121582,0.0505411177873611,12.753751754760742,0.0103807915002107,2.6803247928619385,0.0,1.1055505275726318,2.86635422706604,22.52948760986328,21.65902328491211,4.583451747894287],\"type\":\"choropleth\"}],\"name\":\"1999\"},{\"data\":[{\"coloraxis\":\"coloraxis\",\"geo\":\"geo\",\"hovertemplate\":\"Year=2000<br>Entity=%{location}<br>Renewables (% equivalent primary energy)=%{z}<extra></extra>\",\"locationmode\":\"country names\",\"locations\":[\"Algeria\",\"Argentina\",\"Australia\",\"Austria\",\"Azerbaijan\",\"Bangladesh\",\"Belarus\",\"Belgium\",\"Brazil\",\"Bulgaria\",\"Canada\",\"Chile\",\"China\",\"Colombia\",\"Croatia\",\"Cyprus\",\"Czechia\",\"Denmark\",\"Ecuador\",\"Egypt\",\"Estonia\",\"Finland\",\"France\",\"Germany\",\"Greece\",\"Hungary\",\"Iceland\",\"India\",\"Indonesia\",\"Iran\",\"Iraq\",\"Ireland\",\"Israel\",\"Italy\",\"Japan\",\"Kazakhstan\",\"Kuwait\",\"Latvia\",\"Lithuania\",\"Luxembourg\",\"Malaysia\",\"Mexico\",\"Morocco\",\"Netherlands\",\"New Zealand\",\"Norway\",\"Oman\",\"Pakistan\",\"Peru\",\"Philippines\",\"Poland\",\"Portugal\",\"Qatar\",\"Romania\",\"Russia\",\"Saudi Arabia\",\"Slovakia\",\"Slovenia\",\"South Africa\",\"South Korea\",\"Spain\",\"Sri Lanka\",\"Sweden\",\"Switzerland\",\"Taiwan\",\"Thailand\",\"Trinidad and Tobago\",\"Turkey\",\"Turkmenistan\",\"Ukraine\",\"United Arab Emirates\",\"United Kingdom\",\"Uzbekistan\",\"Venezuela\",\"Vietnam\",\"United States\"],\"name\":\"\",\"z\":[0.0532354824244976,12.283858299255373,3.988877773284912,32.95425796508789,3.446013927459717,1.6270726919174194,0.0313018634915351,0.433269053697586,43.28843307495117,3.634775400161743,29.7678165435791,19.57340240478516,5.656925201416016,29.556066513061523,19.766572952270508,0.0,1.4434270858764648,7.095674514770508,21.613927841186523,7.416068077087402,0.1016683876514434,19.70283317565918,6.744560718536377,2.88711166381836,3.2847325801849365,0.2618878483772278,67.80518341064453,6.376289367675781,3.733640432357788,0.808289110660553,2.9294536113739014,2.0416548252105717,0.0403157323598861,7.155643463134766,4.82745361328125,6.022824287414551,0.0,22.118162155151367,1.2857235670089722,1.3703701496124268,3.681302785873413,7.15089750289917,1.968584418296814,0.925859272480011,36.37421417236328,72.39788818359375,0.0,11.344158172607422,32.49596405029297,18.59521484375,0.6828017234802246,13.07334041595459,0.0,10.396162033081056,6.728621482849121,0.0,6.252773761749268,14.703166961669922,0.4055584669113159,0.5420218110084534,7.008230686187744,17.71566390991211,38.59571075439453,30.638751983642575,1.6464219093322754,2.5746095180511475,0.0540404245257377,10.657172203063965,0.0077894371934235,2.103800773620605,0.0,1.1345574855804443,2.899540662765503,22.72384452819824,20.092161178588867,4.02735710144043],\"type\":\"choropleth\"}],\"name\":\"2000\"},{\"data\":[{\"coloraxis\":\"coloraxis\",\"geo\":\"geo\",\"hovertemplate\":\"Year=2001<br>Entity=%{location}<br>Renewables (% equivalent primary energy)=%{z}<extra></extra>\",\"locationmode\":\"country names\",\"locations\":[\"Algeria\",\"Argentina\",\"Australia\",\"Austria\",\"Azerbaijan\",\"Bangladesh\",\"Belarus\",\"Belgium\",\"Brazil\",\"Bulgaria\",\"Canada\",\"Chile\",\"China\",\"Colombia\",\"Croatia\",\"Cyprus\",\"Czechia\",\"Denmark\",\"Ecuador\",\"Egypt\",\"Estonia\",\"Finland\",\"France\",\"Germany\",\"Greece\",\"Hungary\",\"Iceland\",\"India\",\"Indonesia\",\"Iran\",\"Iraq\",\"Ireland\",\"Israel\",\"Italy\",\"Japan\",\"Kazakhstan\",\"Kuwait\",\"Latvia\",\"Lithuania\",\"Luxembourg\",\"Malaysia\",\"Mexico\",\"Morocco\",\"Netherlands\",\"New Zealand\",\"Norway\",\"Oman\",\"Pakistan\",\"Peru\",\"Philippines\",\"Poland\",\"Portugal\",\"Qatar\",\"Romania\",\"Russia\",\"Saudi Arabia\",\"Slovakia\",\"Slovenia\",\"South Africa\",\"South Korea\",\"Spain\",\"Sri Lanka\",\"Sweden\",\"Switzerland\",\"Taiwan\",\"Thailand\",\"Trinidad and Tobago\",\"Turkey\",\"Turkmenistan\",\"Ukraine\",\"United Arab Emirates\",\"United Kingdom\",\"Uzbekistan\",\"Venezuela\",\"Vietnam\",\"United States\"],\"name\":\"\",\"z\":[0.065218485891819,15.937487602233888,3.8707621097564697,30.81651306152344,3.011781692504883,1.8750032186508176,0.0355434641242027,0.4492052793502807,39.11162185668945,2.270816802978516,28.2014102935791,22.04735946655273,6.618624210357666,30.60448455810547,20.780860900878903,0.0,1.5817999839782717,7.402515411376953,19.692354202270508,7.225909233093262,0.0963035598397255,17.71671485900879,7.405366897583008,2.94116759300232,2.2960410118103027,0.2692703604698181,69.64024353027344,5.99252462387085,4.112386703491211,0.8181908130645752,3.016484260559082,1.6617000102996826,0.0258592069149017,7.608505249023437,4.716365814208984,5.704264163970947,0.0,20.512126922607425,1.0550187826156616,1.2522311210632324,3.139981985092163,6.3393073081970215,2.4725899696350098,0.9883764982223512,32.73076629638672,67.58245849609375,0.0,11.41504955291748,35.52646255493164,16.949201583862305,0.8203049898147583,15.646868705749512,0.0,10.312889099121094,6.975970268249512,0.0,6.664679050445557,13.84743881225586,0.5403345227241516,0.312198281288147,9.167547225952148,17.628238677978516,35.828453063964844,31.92898368835449,1.8205389976501465,2.5714476108551025,0.073654256761074,9.108513832092283,0.0061345929279923,2.264666080474853,0.0,1.085674524307251,2.9385921955108643,20.884944915771484,22.102148056030277,3.4213709831237797],\"type\":\"choropleth\"}],\"name\":\"2001\"},{\"data\":[{\"coloraxis\":\"coloraxis\",\"geo\":\"geo\",\"hovertemplate\":\"Year=2002<br>Entity=%{location}<br>Renewables (% equivalent primary energy)=%{z}<extra></extra>\",\"locationmode\":\"country names\",\"locations\":[\"Algeria\",\"Argentina\",\"Australia\",\"Austria\",\"Azerbaijan\",\"Bangladesh\",\"Belarus\",\"Belgium\",\"Brazil\",\"Bulgaria\",\"Canada\",\"Chile\",\"China\",\"Colombia\",\"Croatia\",\"Cyprus\",\"Czechia\",\"Denmark\",\"Ecuador\",\"Egypt\",\"Estonia\",\"Finland\",\"France\",\"Germany\",\"Greece\",\"Hungary\",\"Iceland\",\"India\",\"Indonesia\",\"Iran\",\"Iraq\",\"Ireland\",\"Israel\",\"Italy\",\"Japan\",\"Kazakhstan\",\"Kuwait\",\"Latvia\",\"Lithuania\",\"Luxembourg\",\"Malaysia\",\"Mexico\",\"Morocco\",\"Netherlands\",\"New Zealand\",\"Norway\",\"Oman\",\"Pakistan\",\"Peru\",\"Philippines\",\"Poland\",\"Portugal\",\"Qatar\",\"Romania\",\"Russia\",\"Saudi Arabia\",\"Slovakia\",\"Slovenia\",\"South Africa\",\"South Korea\",\"Spain\",\"Sri Lanka\",\"Sweden\",\"Switzerland\",\"Taiwan\",\"Thailand\",\"Trinidad and Tobago\",\"Turkey\",\"Turkmenistan\",\"Ukraine\",\"United Arab Emirates\",\"United Kingdom\",\"Uzbekistan\",\"Venezuela\",\"Vietnam\",\"United States\"],\"name\":\"\",\"z\":[0.0516767688095569,16.249305725097656,3.931450366973877,30.32511711120605,4.700666427612305,1.362207531929016,0.0329970680177211,0.4797349274158478,40.75665283203125,2.9185118675231934,28.54655647277832,22.61726951599121,6.28048849105835,32.69255447387695,16.80569076538086,0.0,1.8193734884262085,8.586956977844238,21.095178604125977,6.795775890350342,0.1870826184749603,16.264904022216797,6.175621032714844,3.5386319160461426,2.7831921577453613,0.2477126717567443,69.75589752197266,5.731832027435303,3.683813571929932,1.4433478116989136,3.8850464820861816,2.2286500930786133,0.0402974635362625,6.778376579284668,4.702637195587158,6.120413780212402,0.0,17.687973022460938,1.071800708770752,1.0301426649093628,2.593757390975952,5.449038505554199,2.324991226196289,1.1863465309143066,35.126747131347656,69.30982208251953,0.0,12.188603401184082,35.35195541381836,16.691974639892578,0.8196592330932617,9.748955726623535,0.0,10.61510944366455,6.492728233337402,0.0,7.00519323348999,12.223347663879396,0.6535402536392212,0.4185769259929657,6.44627046585083,14.75817584991455,32.52216720581055,29.157331466674805,1.2093641757965088,2.8180336952209477,0.0616665482521057,11.535796165466309,0.0072076362557709,1.8132338523864744,0.0,1.2876194715499878,2.927602529525757,20.20368385314941,20.06266021728516,4.015506744384766],\"type\":\"choropleth\"}],\"name\":\"2002\"},{\"data\":[{\"coloraxis\":\"coloraxis\",\"geo\":\"geo\",\"hovertemplate\":\"Year=2003<br>Entity=%{location}<br>Renewables (% equivalent primary energy)=%{z}<extra></extra>\",\"locationmode\":\"country names\",\"locations\":[\"Algeria\",\"Argentina\",\"Australia\",\"Austria\",\"Azerbaijan\",\"Bangladesh\",\"Belarus\",\"Belgium\",\"Brazil\",\"Bulgaria\",\"Canada\",\"Chile\",\"China\",\"Colombia\",\"Croatia\",\"Cyprus\",\"Czechia\",\"Denmark\",\"Ecuador\",\"Egypt\",\"Estonia\",\"Finland\",\"France\",\"Germany\",\"Greece\",\"Hungary\",\"Iceland\",\"India\",\"Indonesia\",\"Iran\",\"Iraq\",\"Ireland\",\"Israel\",\"Italy\",\"Japan\",\"Kazakhstan\",\"Kuwait\",\"Latvia\",\"Lithuania\",\"Luxembourg\",\"Malaysia\",\"Mexico\",\"Morocco\",\"Netherlands\",\"New Zealand\",\"Norway\",\"Oman\",\"Pakistan\",\"Peru\",\"Philippines\",\"Poland\",\"Portugal\",\"Qatar\",\"Romania\",\"Russia\",\"Saudi Arabia\",\"Slovakia\",\"Slovenia\",\"South Africa\",\"South Korea\",\"Spain\",\"Sri Lanka\",\"Sweden\",\"Switzerland\",\"Taiwan\",\"Thailand\",\"Trinidad and Tobago\",\"Turkey\",\"Turkmenistan\",\"Ukraine\",\"United Arab Emirates\",\"United Kingdom\",\"Uzbekistan\",\"Venezuela\",\"Vietnam\",\"United States\"],\"name\":\"\",\"z\":[0.2281039953231811,14.408259391784668,4.0149688720703125,25.14051818847656,5.277902603149414,1.2784041166305542,0.0318962857127189,0.4867145419120788,42.28412628173828,3.85972261428833,27.18001365661621,22.01080894470215,5.301109313964844,33.38913345336914,14.887933731079102,0.0,1.0856817960739136,9.462800979614258,19.53344345092773,5.937697887420654,0.2202849835157394,14.59368133544922,5.96218204498291,3.641989707946777,4.297642230987549,0.3591854870319366,69.681640625,5.624061584472656,3.2210946083068848,1.6837654113769531,4.535982608795166,1.877527356147766,0.0522136241197586,6.339079856872559,5.332041263580322,5.3825554847717285,0.0,16.751474380493164,0.9452001452445984,0.9174071550369264,2.253213167190552,4.65245532989502,3.657069444656372,1.1635091304779053,34.357147216796875,63.816036224365234,0.0,13.333745002746582,36.600242614746094,16.424407958984375,0.6754677295684814,17.057003021240234,0.0,8.716782569885254,6.075376987457275,0.0,4.494421482086182,11.17664623260498,0.2989763021469116,0.5985386967658997,9.758903503417969,17.510587692260742,27.90148162841797,28.983333587646484,1.2677935361862185,2.722708225250244,0.0273346900939941,11.330117225646973,0.0051890471950173,1.688597321510315,0.0,1.2342336177825928,3.66965913772583,21.840665817260746,19.297657012939453,4.18004035949707],\"type\":\"choropleth\"}],\"name\":\"2003\"},{\"data\":[{\"coloraxis\":\"coloraxis\",\"geo\":\"geo\",\"hovertemplate\":\"Year=2004<br>Entity=%{location}<br>Renewables (% equivalent primary energy)=%{z}<extra></extra>\",\"locationmode\":\"country names\",\"locations\":[\"Algeria\",\"Argentina\",\"Australia\",\"Austria\",\"Azerbaijan\",\"Bangladesh\",\"Belarus\",\"Belgium\",\"Brazil\",\"Bulgaria\",\"Canada\",\"Chile\",\"China\",\"Colombia\",\"Croatia\",\"Cyprus\",\"Czechia\",\"Denmark\",\"Ecuador\",\"Egypt\",\"Estonia\",\"Finland\",\"France\",\"Germany\",\"Greece\",\"Hungary\",\"Iceland\",\"India\",\"Indonesia\",\"Iran\",\"Iraq\",\"Ireland\",\"Israel\",\"Italy\",\"Japan\",\"Kazakhstan\",\"Kuwait\",\"Latvia\",\"Lithuania\",\"Luxembourg\",\"Malaysia\",\"Mexico\",\"Morocco\",\"Netherlands\",\"New Zealand\",\"Norway\",\"Oman\",\"Pakistan\",\"Peru\",\"Philippines\",\"Poland\",\"Portugal\",\"Qatar\",\"Romania\",\"Russia\",\"Saudi Arabia\",\"Slovakia\",\"Slovenia\",\"South Africa\",\"South Korea\",\"Spain\",\"Sri Lanka\",\"Sweden\",\"Switzerland\",\"Taiwan\",\"Thailand\",\"Trinidad and Tobago\",\"Turkey\",\"Turkmenistan\",\"Ukraine\",\"United Arab Emirates\",\"United Kingdom\",\"Uzbekistan\",\"Venezuela\",\"Vietnam\",\"United States\"],\"name\":\"\",\"z\":[0.2067869007587433,12.185575485229492,4.036560535430908,27.63378524780273,5.158581733703613,1.2296963930130005,0.0343801379203796,0.6062989234924316,42.2861557006836,4.144021987915039,26.82792282104492,19.76844596862793,5.600940227508545,34.505455017089844,19.89908218383789,0.0069648222997784,1.4602341651916504,11.729121208190918,18.73490524291992,5.634644031524658,0.2874273657798767,19.509204864501957,5.970314979553223,4.516597747802734,4.291225910186768,1.0114941596984863,68.89617919921875,7.460848808288574,3.4259636402130127,1.884332299232483,5.081915855407715,2.2567780017852783,0.0461368672549724,7.220356941223144,5.257669925689697,4.701576232910156,0.0,20.242414474487305,1.1986761093139648,1.1120193004608154,2.319720268249512,5.303242206573486,3.4734976291656494,1.5031250715255735,37.79446792602539,64.23876190185547,0.0,12.676342964172363,32.29750442504883,16.85270881652832,0.8912424445152283,12.08957290649414,0.0,10.407816886901855,6.754271030426025,0.0,5.424992084503174,14.30686378479004,0.2939848303794861,0.5346380472183228,8.44090461730957,16.02532196044922,30.18760299682617,28.436500549316406,1.2749457359313965,2.313349723815918,0.0464581362903118,13.691692352294922,0.005208134651184,2.1416072845458984,0.0,1.6083946228027344,3.3196120262146,23.13043594360352,14.763954162597656,4.101511478424072],\"type\":\"choropleth\"}],\"name\":\"2004\"},{\"data\":[{\"coloraxis\":\"coloraxis\",\"geo\":\"geo\",\"hovertemplate\":\"Year=2005<br>Entity=%{location}<br>Renewables (% equivalent primary energy)=%{z}<extra></extra>\",\"locationmode\":\"country names\",\"locations\":[\"Algeria\",\"Argentina\",\"Australia\",\"Austria\",\"Azerbaijan\",\"Bangladesh\",\"Belarus\",\"Belgium\",\"Brazil\",\"Bulgaria\",\"Canada\",\"Chile\",\"China\",\"Colombia\",\"Croatia\",\"Cyprus\",\"Czechia\",\"Denmark\",\"Ecuador\",\"Egypt\",\"Estonia\",\"Finland\",\"France\",\"Germany\",\"Greece\",\"Hungary\",\"Iceland\",\"India\",\"Indonesia\",\"Iran\",\"Iraq\",\"Ireland\",\"Israel\",\"Italy\",\"Japan\",\"Kazakhstan\",\"Kuwait\",\"Latvia\",\"Lithuania\",\"Luxembourg\",\"Malaysia\",\"Mexico\",\"Morocco\",\"Netherlands\",\"New Zealand\",\"Norway\",\"Oman\",\"Pakistan\",\"Peru\",\"Philippines\",\"Poland\",\"Portugal\",\"Qatar\",\"Romania\",\"Russia\",\"Saudi Arabia\",\"Slovakia\",\"Slovenia\",\"South Africa\",\"South Korea\",\"Spain\",\"Sri Lanka\",\"Sweden\",\"Switzerland\",\"Taiwan\",\"Thailand\",\"Trinidad and Tobago\",\"Turkey\",\"Turkmenistan\",\"Ukraine\",\"United Arab Emirates\",\"United Kingdom\",\"Uzbekistan\",\"Venezuela\",\"Vietnam\",\"United States\"],\"name\":\"\",\"z\":[0.434118777513504,12.78852367401123,4.313553333282471,27.94786071777344,5.165003299713135,1.1353458166122437,0.0372844524681568,0.8666802048683167,43.14569854736328,5.212997913360596,28.26547622680664,22.41524314880371,5.554481029510498,35.05353164672852,18.502132415771484,0.0075332997366786,1.7223583459854126,12.488842964172363,16.59660530090332,5.385705947875977,0.5005239248275757,19.463720321655277,5.3653340339660645,5.208419322967529,4.600325584411621,1.910650372505188,68.64934539794922,6.894316673278809,3.527426242828369,2.142638683319092,4.544925212860107,2.884649991989136,0.0456203892827034,6.433543682098389,4.790322780609131,4.432411670684815,0.0,20.85358428955078,1.4099653959274292,1.1679210662841797,2.2862064838409424,5.473337173461914,2.08169174194336,2.078050136566162,34.68292236328125,69.73603057861328,0.0,13.59751033782959,31.846309661865234,16.317411422729492,1.1354769468307495,8.11561393737793,0.0,12.62943172454834,6.603690147399902,0.0,5.801838874816895,12.04576301574707,0.4043339192867279,0.4535388648509979,6.923494338989258,16.077098846435547,34.73208999633789,27.37746810913086,1.4732279777526855,2.27521014213562,0.0418197251856327,11.418582916259766,0.0051119741983711,2.211732149124145,0.0,1.924692988395691,3.499483585357666,24.53365898132324,12.84674835205078,4.219231128692627],\"type\":\"choropleth\"}],\"name\":\"2005\"},{\"data\":[{\"coloraxis\":\"coloraxis\",\"geo\":\"geo\",\"hovertemplate\":\"Year=2006<br>Entity=%{location}<br>Renewables (% equivalent primary energy)=%{z}<extra></extra>\",\"locationmode\":\"country names\",\"locations\":[\"Algeria\",\"Argentina\",\"Australia\",\"Austria\",\"Azerbaijan\",\"Bangladesh\",\"Belarus\",\"Belgium\",\"Brazil\",\"Bulgaria\",\"Canada\",\"Chile\",\"China\",\"Colombia\",\"Croatia\",\"Cyprus\",\"Czechia\",\"Denmark\",\"Ecuador\",\"Egypt\",\"Estonia\",\"Finland\",\"France\",\"Germany\",\"Greece\",\"Hungary\",\"Iceland\",\"India\",\"Indonesia\",\"Iran\",\"Iraq\",\"Ireland\",\"Israel\",\"Italy\",\"Japan\",\"Kazakhstan\",\"Kuwait\",\"Latvia\",\"Lithuania\",\"Luxembourg\",\"Malaysia\",\"Mexico\",\"Morocco\",\"Netherlands\",\"New Zealand\",\"Norway\",\"Oman\",\"Pakistan\",\"Peru\",\"Philippines\",\"Poland\",\"Portugal\",\"Qatar\",\"Romania\",\"Russia\",\"Saudi Arabia\",\"Slovakia\",\"Slovenia\",\"South Africa\",\"South Korea\",\"Spain\",\"Sri Lanka\",\"Sweden\",\"Switzerland\",\"Taiwan\",\"Thailand\",\"Trinidad and Tobago\",\"Turkey\",\"Turkmenistan\",\"Ukraine\",\"United Arab Emirates\",\"United Kingdom\",\"Uzbekistan\",\"Venezuela\",\"Vietnam\",\"United States\"],\"name\":\"\",\"z\":[0.1632719486951828,13.449461936950684,4.233413219451904,28.591209411621094,4.366299629211426,1.046309471130371,0.0360127910971641,1.209545016288757,43.04596328735352,4.984425067901611,27.61646842956543,22.56665802001953,5.577982425689697,34.14271926879883,17.524089813232422,0.012689396739006,1.9475972652435305,10.61083984375,16.251609802246094,5.172313690185547,0.5939513444900513,17.534887313842773,5.96973180770874,6.026304721832275,5.3219499588012695,1.540813446044922,70.91828155517578,7.706239700317383,3.220308542251587,2.50073790550232,4.73859977722168,3.701901912689209,0.0291454084217548,6.7299885749816895,5.309008598327637,4.047025203704834,0.0,17.83665657043457,1.3948395252227783,1.3908711671829224,2.3655073642730717,5.586086273193359,2.018249034881592,2.3150839805603027,34.81112289428711,66.7352523803711,0.0,12.633492469787598,34.128055572509766,18.684961318969727,1.2485812902450562,15.57256317138672,0.0,11.172654151916504,6.309632778167725,0.0,6.194248199462891,12.255212783813477,0.7259401679039001,0.4502668976783752,8.360922813415527,19.95938873291016,32.33127975463867,26.049184799194336,1.4754010438919067,2.9778263568878174,0.0421880409121513,11.456920623779297,0.0050275013782083,2.2632830142974854,0.0,2.11630916595459,3.159280776977539,24.40198516845703,16.607240676879883,4.678860664367676],\"type\":\"choropleth\"}],\"name\":\"2006\"},{\"data\":[{\"coloraxis\":\"coloraxis\",\"geo\":\"geo\",\"hovertemplate\":\"Year=2007<br>Entity=%{location}<br>Renewables (% equivalent primary energy)=%{z}<extra></extra>\",\"locationmode\":\"country names\",\"locations\":[\"Algeria\",\"Argentina\",\"Australia\",\"Austria\",\"Azerbaijan\",\"Bangladesh\",\"Belarus\",\"Belgium\",\"Brazil\",\"Bulgaria\",\"Canada\",\"Chile\",\"China\",\"Colombia\",\"Croatia\",\"Cyprus\",\"Czechia\",\"Denmark\",\"Ecuador\",\"Egypt\",\"Estonia\",\"Finland\",\"France\",\"Germany\",\"Greece\",\"Hungary\",\"Iceland\",\"India\",\"Indonesia\",\"Iran\",\"Iraq\",\"Ireland\",\"Israel\",\"Italy\",\"Japan\",\"Kazakhstan\",\"Kuwait\",\"Latvia\",\"Lithuania\",\"Luxembourg\",\"Malaysia\",\"Mexico\",\"Morocco\",\"Netherlands\",\"New Zealand\",\"Norway\",\"Oman\",\"Pakistan\",\"Peru\",\"Philippines\",\"Poland\",\"Portugal\",\"Qatar\",\"Romania\",\"Russia\",\"Saudi Arabia\",\"Slovakia\",\"Slovenia\",\"South Africa\",\"South Korea\",\"Spain\",\"Sri Lanka\",\"Sweden\",\"Switzerland\",\"Taiwan\",\"Thailand\",\"Trinidad and Tobago\",\"Turkey\",\"Turkmenistan\",\"Ukraine\",\"United Arab Emirates\",\"United Kingdom\",\"Uzbekistan\",\"Venezuela\",\"Vietnam\",\"United States\"],\"name\":\"\",\"z\":[0.1599045693874359,10.599154472351074,3.976722717285156,30.980609893798828,4.502970218658447,1.0207374095916748,0.0496960021555423,1.4152519702911377,44.38022613525391,3.510520696640014,27.69431495666504,18.70613670349121,5.71853494644165,35.182762145996094,12.365527153015137,0.0296303909271955,1.9150995016098025,12.422539710998535,19.55727195739746,5.363155364990234,0.5890300869941711,18.869096755981445,6.638713359832764,7.653833389282227,3.113685846328736,1.963713526725769,74.30168914794922,7.855644702911377,3.370551109313965,2.270635843276977,4.272894382476807,4.042658805847168,0.0265799686312675,6.431970596313477,4.761953353881836,3.818174362182617,0.0,17.44501495361328,1.6962822675704956,1.5379573106765747,2.138460159301758,5.20954704284668,2.050191640853882,2.417424440383911,35.40663528442383,69.2405014038086,0.0,12.365367889404297,31.03961563110352,16.430105209350586,1.562344670295715,16.1436710357666,0.0,10.032530784606934,6.371350765228272,0.0,6.746675968170166,11.193771362304688,0.7023894190788269,0.5043082237243652,9.064817428588867,16.62855339050293,34.599029541015625,29.711977005004883,1.526246428489685,2.9363691806793213,0.0310517288744449,8.779489517211914,0.0051490101031959,1.8360310792922971,0.0,2.422110080718994,3.23553466796875,23.413423538208008,17.202272415161133,4.373008728027344],\"type\":\"choropleth\"}],\"name\":\"2007\"},{\"data\":[{\"coloraxis\":\"coloraxis\",\"geo\":\"geo\",\"hovertemplate\":\"Year=2008<br>Entity=%{location}<br>Renewables (% equivalent primary energy)=%{z}<extra></extra>\",\"locationmode\":\"country names\",\"locations\":[\"Algeria\",\"Argentina\",\"Australia\",\"Austria\",\"Azerbaijan\",\"Bangladesh\",\"Belarus\",\"Belgium\",\"Brazil\",\"Bulgaria\",\"Canada\",\"Chile\",\"China\",\"Colombia\",\"Croatia\",\"Cyprus\",\"Czechia\",\"Denmark\",\"Ecuador\",\"Egypt\",\"Estonia\",\"Finland\",\"France\",\"Germany\",\"Greece\",\"Hungary\",\"Iceland\",\"India\",\"Indonesia\",\"Iran\",\"Iraq\",\"Ireland\",\"Israel\",\"Italy\",\"Japan\",\"Kazakhstan\",\"Kuwait\",\"Latvia\",\"Lithuania\",\"Luxembourg\",\"Malaysia\",\"Mexico\",\"Morocco\",\"Netherlands\",\"New Zealand\",\"Norway\",\"Oman\",\"Pakistan\",\"Peru\",\"Philippines\",\"Poland\",\"Portugal\",\"Qatar\",\"Romania\",\"Russia\",\"Saudi Arabia\",\"Slovakia\",\"Slovenia\",\"South Africa\",\"South Korea\",\"Spain\",\"Sri Lanka\",\"Sweden\",\"Switzerland\",\"Taiwan\",\"Thailand\",\"Trinidad and Tobago\",\"Turkey\",\"Turkmenistan\",\"Ukraine\",\"United Arab Emirates\",\"United Kingdom\",\"Uzbekistan\",\"Venezuela\",\"Vietnam\",\"United States\"],\"name\":\"\",\"z\":[0.1877543032169342,10.437064170837402,3.681326389312744,31.345478057861328,4.184756755828857,1.2218128442764282,0.0729058384895324,1.7643935680389404,43.36677551269531,3.5983686447143555,28.590091705322266,20.915376663208008,7.268667221069336,33.941410064697266,15.226480484008787,0.1330990642309188,2.153617143630981,12.605600357055664,22.617521286010746,5.414237022399902,0.8455262780189514,22.42776679992676,7.632267475128174,7.817628383636475,3.98714017868042,2.488173246383667,81.15161895751953,7.257065296173096,3.5865321159362797,0.9235934615135192,2.381868362426758,5.1767683029174805,0.035232625901699,8.195320129394531,4.830859184265137,3.284911870956421,0.0,19.558801651000977,1.7692843675613403,1.6481373310089111,2.6245639324188232,6.696115970611572,1.8975967168807983,2.913216352462769,34.397457122802734,69.89543151855469,0.0,10.553434371948242,28.02155303955078,17.31336212158203,2.207611322402954,15.146782875061035,0.0,10.699505805969238,5.867445468902588,8.16559841041e-05,6.227740287780762,13.05240535736084,0.3504508435726166,0.5293462872505188,9.948370933532717,18.366500854492188,36.928470611572266,29.249441146850582,1.5631176233291626,2.9482808113098145,0.0332830809056758,8.211599349975586,0.0062377746216952,2.132999897003174,0.0,2.912039041519165,2.328987836837769,24.75938034057617,16.009517669677734,5.004550457000732],\"type\":\"choropleth\"}],\"name\":\"2008\"},{\"data\":[{\"coloraxis\":\"coloraxis\",\"geo\":\"geo\",\"hovertemplate\":\"Year=2009<br>Entity=%{location}<br>Renewables (% equivalent primary energy)=%{z}<extra></extra>\",\"locationmode\":\"country names\",\"locations\":[\"Algeria\",\"Argentina\",\"Australia\",\"Austria\",\"Azerbaijan\",\"Bangladesh\",\"Belarus\",\"Belgium\",\"Brazil\",\"Bulgaria\",\"Canada\",\"Chile\",\"China\",\"Colombia\",\"Croatia\",\"Cyprus\",\"Czechia\",\"Denmark\",\"Ecuador\",\"Egypt\",\"Estonia\",\"Finland\",\"France\",\"Germany\",\"Greece\",\"Hungary\",\"Iceland\",\"India\",\"Indonesia\",\"Iran\",\"Iraq\",\"Ireland\",\"Israel\",\"Italy\",\"Japan\",\"Kazakhstan\",\"Kuwait\",\"Latvia\",\"Lithuania\",\"Luxembourg\",\"Malaysia\",\"Mexico\",\"Morocco\",\"Netherlands\",\"New Zealand\",\"Norway\",\"Oman\",\"Pakistan\",\"Peru\",\"Philippines\",\"Poland\",\"Portugal\",\"Qatar\",\"Romania\",\"Russia\",\"Saudi Arabia\",\"Slovakia\",\"Slovenia\",\"South Africa\",\"South Korea\",\"Spain\",\"Sri Lanka\",\"Sweden\",\"Switzerland\",\"Taiwan\",\"Thailand\",\"Trinidad and Tobago\",\"Turkey\",\"Turkmenistan\",\"Ukraine\",\"United Arab Emirates\",\"United Kingdom\",\"Uzbekistan\",\"Venezuela\",\"Vietnam\",\"United States\"],\"name\":\"\",\"z\":[0.2127854824066162,11.783506393432615,3.920266151428223,34.322513580322266,4.871127605438232,0.5117601156234741,0.1132526993751525,2.521434783935547,46.30883026123047,5.127213001251221,29.209449768066406,21.77743148803711,6.9355316162109375,31.377744674682617,19.643877029418945,0.280972957611084,2.7962987422943115,13.328370094299316,18.929243087768555,4.800594806671143,2.787216186523437,19.18045997619629,7.70644998550415,8.454279899597168,5.843324661254883,3.308107614517212,82.50260162353516,6.473570346832275,3.655174016952514,0.8136967420578003,2.32802677154541,6.452940464019775,0.114865705370903,10.585500717163086,5.021396160125732,3.3547346591949463,0.0,22.685836791992188,2.186495065689087,1.6371243000030518,2.622681140899658,4.956578254699707,4.711688995361328,3.4302778244018555,37.89860534667969,67.78923034667969,0.0,10.885856628417969,28.333690643310547,16.679698944091797,3.065821647644043,18.849367141723636,0.0,10.989452362060549,6.485455513000488,7.74425279814e-05,7.332043170928955,15.946547508239746,0.3878562748432159,0.570094645023346,12.662100791931152,17.01668357849121,39.14199066162109,28.932710647583008,1.4994723796844482,3.0501224994659424,0.0325741730630397,8.923343658447266,0.003802033374086,2.5476245880126958,0.0019177263602614,3.54540491104126,3.4478518962860107,24.415695190429688,17.948020935058594,5.80000638961792],\"type\":\"choropleth\"}],\"name\":\"2009\"},{\"data\":[{\"coloraxis\":\"coloraxis\",\"geo\":\"geo\",\"hovertemplate\":\"Year=2010<br>Entity=%{location}<br>Renewables (% equivalent primary energy)=%{z}<extra></extra>\",\"locationmode\":\"country names\",\"locations\":[\"Algeria\",\"Argentina\",\"Australia\",\"Austria\",\"Azerbaijan\",\"Bangladesh\",\"Belarus\",\"Belgium\",\"Brazil\",\"Bulgaria\",\"Canada\",\"Chile\",\"China\",\"Colombia\",\"Croatia\",\"Cyprus\",\"Czechia\",\"Denmark\",\"Ecuador\",\"Egypt\",\"Estonia\",\"Finland\",\"France\",\"Germany\",\"Greece\",\"Hungary\",\"Iceland\",\"India\",\"Indonesia\",\"Iran\",\"Iraq\",\"Ireland\",\"Israel\",\"Italy\",\"Japan\",\"Kazakhstan\",\"Kuwait\",\"Latvia\",\"Lithuania\",\"Luxembourg\",\"Malaysia\",\"Mexico\",\"Morocco\",\"Netherlands\",\"New Zealand\",\"Norway\",\"Oman\",\"Pakistan\",\"Peru\",\"Philippines\",\"Poland\",\"Portugal\",\"Qatar\",\"Romania\",\"Russia\",\"Saudi Arabia\",\"Slovakia\",\"Slovenia\",\"South Africa\",\"South Korea\",\"Spain\",\"Sri Lanka\",\"Sweden\",\"Switzerland\",\"Taiwan\",\"Thailand\",\"Trinidad and Tobago\",\"Turkey\",\"Turkmenistan\",\"Ukraine\",\"United Arab Emirates\",\"United Kingdom\",\"Uzbekistan\",\"Venezuela\",\"Vietnam\",\"United States\"],\"name\":\"\",\"z\":[0.1151323765516281,11.661375045776367,4.312804698944092,31.605642318725582,7.311431884765625,0.8648931980133057,0.1292484998703003,3.099550724029541,44.24653625488281,7.616096019744873,27.78968811035156,19.26434135437012,7.615997791290283,30.09203720092773,23.85037422180176,0.6377341151237488,3.355466604232788,15.651074409484863,15.936485290527344,4.461719036102295,4.391971588134766,19.64714241027832,8.220292091369629,8.792469024658203,7.824593067169189,3.356312990188598,83.07627868652344,6.5836710929870605,4.326220989227295,1.1950724124908447,2.637557029724121,5.853092670440674,0.1872830390930175,11.43080997467041,5.684884071350098,3.624057292938232,0.0,20.366039276123047,3.9403252601623535,1.5543997287750244,2.325418710708618,6.283123970031738,5.887355327606201,3.2134413719177246,38.81748580932617,65.4701919555664,0.0,11.174628257751465,25.21364021301269,14.187131881713867,3.4536800384521484,27.393207550048828,0.0,14.136738777160645,5.931856155395508,0.0004681668942794,7.976163387298584,15.326107025146484,0.3150299787521362,0.9195590615272522,16.7428035736084,22.89451789855957,38.351444244384766,29.882568359375,1.562086820602417,2.8064701557159424,0.0047509721480309,12.280028343200684,0.0036830562166869,2.610059976577759,0.0052583711221814,3.659129858016968,4.280482292175293,22.48446273803711,14.711740493774414,5.840554714202881],\"type\":\"choropleth\"}],\"name\":\"2010\"},{\"data\":[{\"coloraxis\":\"coloraxis\",\"geo\":\"geo\",\"hovertemplate\":\"Year=2011<br>Entity=%{location}<br>Renewables (% equivalent primary energy)=%{z}<extra></extra>\",\"locationmode\":\"country names\",\"locations\":[\"Algeria\",\"Argentina\",\"Australia\",\"Austria\",\"Azerbaijan\",\"Bangladesh\",\"Belarus\",\"Belgium\",\"Brazil\",\"Bulgaria\",\"Canada\",\"Chile\",\"China\",\"Colombia\",\"Croatia\",\"Cyprus\",\"Czechia\",\"Denmark\",\"Ecuador\",\"Egypt\",\"Estonia\",\"Finland\",\"France\",\"Germany\",\"Greece\",\"Hungary\",\"Iceland\",\"India\",\"Indonesia\",\"Iran\",\"Iraq\",\"Ireland\",\"Israel\",\"Italy\",\"Japan\",\"Kazakhstan\",\"Kuwait\",\"Latvia\",\"Lithuania\",\"Luxembourg\",\"Malaysia\",\"Mexico\",\"Morocco\",\"Netherlands\",\"New Zealand\",\"Norway\",\"Oman\",\"Pakistan\",\"Peru\",\"Philippines\",\"Poland\",\"Portugal\",\"Qatar\",\"Romania\",\"Russia\",\"Saudi Arabia\",\"Slovakia\",\"Slovenia\",\"South Africa\",\"South Korea\",\"Spain\",\"Sri Lanka\",\"Sweden\",\"Switzerland\",\"Taiwan\",\"Thailand\",\"Trinidad and Tobago\",\"Turkey\",\"Turkmenistan\",\"Ukraine\",\"United Arab Emirates\",\"United Kingdom\",\"Uzbekistan\",\"Venezuela\",\"Vietnam\",\"United States\"],\"name\":\"\",\"z\":[0.2352599054574966,10.929448127746582,5.698980808258057,30.72079467773437,5.077953815460205,0.9513694643974304,0.1430341899394989,4.04599142074585,43.91006088256836,4.849966526031494,28.62636947631836,17.5023250579834,7.084204196929932,34.51567459106445,15.472614288330078,1.5228558778762815,4.27268123626709,18.646690368652344,19.198841094970703,4.331544399261475,4.931231498718262,20.955501556396484,7.18551778793335,10.566965103149414,6.159234046936035,3.07369327545166,83.27398681640625,7.5013427734375,3.3885977268218994,1.189808011054993,2.3962152004241943,8.820140838623047,0.3186928331851959,12.44304656982422,5.733157157897949,3.1190946102142334,0.0,19.26850891113281,4.594768047332764,1.4713187217712402,2.859370470046997,5.88685417175293,3.64383602142334,3.811289310455322,39.53388595581055,66.30011749267578,0.0,11.41127872467041,24.354307174682617,15.43229866027832,4.042588710784912,24.51128578186035,0.0946004092693328,11.033339500427246,5.585275650024414,0.000582544482313,6.984350204467773,12.851765632629396,0.6983460783958435,1.2539451122283936,15.473434448242188,17.23112678527832,39.86112594604492,28.44281768798828,1.6331026554107666,3.4573397636413574,0.0048135966062545,11.913782119750977,0.0035940851084887,2.098528861999512,0.0055922521278262,4.891127109527588,2.823631048202514,23.65196990966797,19.02745246887207,6.897319316864014],\"type\":\"choropleth\"}],\"name\":\"2011\"},{\"data\":[{\"coloraxis\":\"coloraxis\",\"geo\":\"geo\",\"hovertemplate\":\"Year=2012<br>Entity=%{location}<br>Renewables (% equivalent primary energy)=%{z}<extra></extra>\",\"locationmode\":\"country names\",\"locations\":[\"Algeria\",\"Argentina\",\"Australia\",\"Austria\",\"Azerbaijan\",\"Bangladesh\",\"Belarus\",\"Belgium\",\"Brazil\",\"Bulgaria\",\"Canada\",\"Chile\",\"China\",\"Colombia\",\"Croatia\",\"Cyprus\",\"Czechia\",\"Denmark\",\"Ecuador\",\"Egypt\",\"Estonia\",\"Finland\",\"France\",\"Germany\",\"Greece\",\"Hungary\",\"Iceland\",\"India\",\"Indonesia\",\"Iran\",\"Iraq\",\"Ireland\",\"Israel\",\"Italy\",\"Japan\",\"Kazakhstan\",\"Kuwait\",\"Latvia\",\"Lithuania\",\"Luxembourg\",\"Malaysia\",\"Mexico\",\"Morocco\",\"Netherlands\",\"New Zealand\",\"Norway\",\"Oman\",\"Pakistan\",\"Peru\",\"Philippines\",\"Poland\",\"Portugal\",\"Qatar\",\"Romania\",\"Russia\",\"Saudi Arabia\",\"Slovakia\",\"Slovenia\",\"South Africa\",\"South Korea\",\"Spain\",\"Sri Lanka\",\"Sweden\",\"Switzerland\",\"Taiwan\",\"Thailand\",\"Trinidad and Tobago\",\"Turkey\",\"Turkmenistan\",\"Ukraine\",\"United Arab Emirates\",\"United Kingdom\",\"Uzbekistan\",\"Venezuela\",\"Vietnam\",\"United States\"],\"name\":\"\",\"z\":[0.2245319485664367,10.216425895690918,5.700209140777588,35.929344177246094,3.337345600128174,0.8256486654281616,0.1589693427085876,5.060074806213379,42.066368103027344,6.869960784912109,28.97691345214844,18.09596061706543,8.522597312927246,31.74613380432129,16.519664764404297,2.300875186920166,4.792661190032959,20.934051513671875,19.840085983276367,4.1802897453308105,6.125763416290283,24.975452423095703,9.13736343383789,11.899699211120604,8.102893829345703,3.1865038871765137,83.54046630859375,6.727289199829102,3.471363306045532,1.3722978830337524,2.823270320892334,8.67947769165039,0.4811303615570068,14.16573715209961,5.650204658508301,2.857217311859131,0.0,24.737150192260746,4.873659610748291,1.8497294187545776,2.907140254974365,5.4620795249938965,3.113783359527588,3.963631391525269,36.91487121582031,70.0951156616211,0.0,4.3177876472473145,24.01105308532715,15.557659149169922,5.228509426116943,21.7015438079834,0.0834220722317695,10.43911838531494,5.55089282989502,0.0025984717067331,8.0147066116333,14.665226936340332,0.3148212134838104,1.288482666015625,15.889772415161133,12.257574081420898,43.30573654174805,31.85407829284668,1.9954243898391724,3.770574569702149,0.0048528085462749,12.52276611328125,0.0037522674538195,2.1388649940490723,0.006188437808305,5.453806877136231,3.208580255508423,22.07914352416992,23.388845443725582,6.88633394241333],\"type\":\"choropleth\"}],\"name\":\"2012\"},{\"data\":[{\"coloraxis\":\"coloraxis\",\"geo\":\"geo\",\"hovertemplate\":\"Year=2013<br>Entity=%{location}<br>Renewables (% equivalent primary energy)=%{z}<extra></extra>\",\"locationmode\":\"country names\",\"locations\":[\"Algeria\",\"Argentina\",\"Australia\",\"Austria\",\"Azerbaijan\",\"Bangladesh\",\"Belarus\",\"Belgium\",\"Brazil\",\"Bulgaria\",\"Canada\",\"Chile\",\"China\",\"Colombia\",\"Croatia\",\"Cyprus\",\"Czechia\",\"Denmark\",\"Ecuador\",\"Egypt\",\"Estonia\",\"Finland\",\"France\",\"Germany\",\"Greece\",\"Hungary\",\"Iceland\",\"India\",\"Indonesia\",\"Iran\",\"Iraq\",\"Ireland\",\"Israel\",\"Italy\",\"Japan\",\"Kazakhstan\",\"Kuwait\",\"Latvia\",\"Lithuania\",\"Luxembourg\",\"Malaysia\",\"Mexico\",\"Morocco\",\"Netherlands\",\"New Zealand\",\"Norway\",\"Oman\",\"Pakistan\",\"Peru\",\"Philippines\",\"Poland\",\"Portugal\",\"Qatar\",\"Romania\",\"Russia\",\"Saudi Arabia\",\"Slovakia\",\"Slovenia\",\"South Africa\",\"South Korea\",\"Spain\",\"Sri Lanka\",\"Sweden\",\"Switzerland\",\"Taiwan\",\"Thailand\",\"Trinidad and Tobago\",\"Turkey\",\"Turkmenistan\",\"Ukraine\",\"United Arab Emirates\",\"United Kingdom\",\"Uzbekistan\",\"Venezuela\",\"Vietnam\",\"United States\"],\"name\":\"\",\"z\":[0.0647631958127021,10.950078964233398,6.525868892669678,35.26667404174805,2.78069281578064,0.7885019183158875,0.2241222858428955,5.382620334625244,39.83659744262695,9.59291934967041,28.94182777404785,18.43241500854492,8.959421157836914,29.385107040405277,26.37366104125977,3.23244047164917,5.604129314422607,21.37827491760254,17.37746238708496,4.177184581756592,4.7120137214660645,22.64786529541016,10.459434509277344,12.063335418701172,12.095451354980469,3.550579071044922,83.09185791015625,7.329665184020996,4.33060359954834,1.525709867477417,2.6760001182556152,9.44134521484375,0.5884290933609009,17.610694885253906,6.12996768951416,2.8628833293914795,0.0001157512306235,22.284587860107425,6.826762199401856,2.3042080402374268,3.3195533752441406,5.060070037841797,5.1105780601501465,3.945788860321045,36.92174530029297,67.50863647460938,0.0010279703419655,11.522516250610352,24.136716842651367,13.84713649749756,5.170562744140625,29.105731964111328,0.0783619880676269,14.889094352722168,6.19066858291626,0.0042603677138686,8.994414329528809,17.365846633911133,0.3706539869308471,1.515562891960144,19.901302337646484,24.803470611572266,38.95484924316406,30.987796783447266,1.9780341386795044,3.859154939651489,0.0047402819618582,13.31322193145752,0.0050741271115839,3.011183738708496,0.0209300145506858,6.954725742340088,3.133465051651001,21.720542907714844,23.87751197814941,7.134616374969482],\"type\":\"choropleth\"}],\"name\":\"2013\"},{\"data\":[{\"coloraxis\":\"coloraxis\",\"geo\":\"geo\",\"hovertemplate\":\"Year=2014<br>Entity=%{location}<br>Renewables (% equivalent primary energy)=%{z}<extra></extra>\",\"locationmode\":\"country names\",\"locations\":[\"Algeria\",\"Argentina\",\"Australia\",\"Austria\",\"Azerbaijan\",\"Bangladesh\",\"Belarus\",\"Belgium\",\"Brazil\",\"Bulgaria\",\"Canada\",\"Chile\",\"China\",\"Colombia\",\"Croatia\",\"Cyprus\",\"Czechia\",\"Denmark\",\"Ecuador\",\"Egypt\",\"Estonia\",\"Finland\",\"France\",\"Germany\",\"Greece\",\"Hungary\",\"Iceland\",\"India\",\"Indonesia\",\"Iran\",\"Iraq\",\"Ireland\",\"Israel\",\"Italy\",\"Japan\",\"Kazakhstan\",\"Kuwait\",\"Latvia\",\"Lithuania\",\"Luxembourg\",\"Malaysia\",\"Mexico\",\"Morocco\",\"Netherlands\",\"New Zealand\",\"Norway\",\"Oman\",\"Pakistan\",\"Peru\",\"Philippines\",\"Poland\",\"Portugal\",\"Qatar\",\"Romania\",\"Russia\",\"Saudi Arabia\",\"Slovakia\",\"Slovenia\",\"South Africa\",\"South Korea\",\"Spain\",\"Sri Lanka\",\"Sweden\",\"Switzerland\",\"Taiwan\",\"Thailand\",\"Trinidad and Tobago\",\"Turkey\",\"Turkmenistan\",\"Ukraine\",\"United Arab Emirates\",\"United Kingdom\",\"Uzbekistan\",\"Venezuela\",\"Vietnam\",\"United States\"],\"name\":\"\",\"z\":[0.1175024658441543,11.03897762298584,5.979823112487793,36.64029693603516,2.433617115020752,0.6461619734764099,0.2067479342222213,6.051173210144043,38.85274505615234,9.543798446655272,28.14776039123535,20.19316291809082,10.197330474853516,28.36468505859375,28.121477127075195,3.1309735774993896,5.645435810089111,24.63370513916016,17.276142120361328,4.181652545928955,5.514126300811768,24.728233337402344,10.45927906036377,13.278846740722656,10.85984706878662,4.012245178222656,82.74785614013672,7.344336032867432,4.47863245010376,1.4402105808258057,1.738718867301941,10.700230598449709,1.0096921920776367,19.739761352539062,6.935917377471924,2.982451915740967,0.002035834128037,19.17196273803711,7.00763750076294,2.558791160583496,3.5630173683166504,6.727101802825928,4.458736419677734,3.9784324169158936,37.53689193725586,68.88728332519531,0.0010236643720418,11.496394157409668,23.940710067749023,13.009114265441896,6.055966854095459,30.29253196716309,0.0739756673574447,17.897146224975586,5.8872151374816895,0.0042484942823648,9.85544204711914,21.73960494995117,0.818098247051239,1.7640750408172607,20.08855438232422,15.63290023803711,40.64850234985352,32.276390075683594,1.732457399368286,4.258995532989502,0.0053103538230061,9.769227027893066,0.0061142616905272,2.2846858501434326,0.0769170373678207,8.877188682556152,2.971806764602661,22.18208694458008,23.07397079467773,7.262890815734863],\"type\":\"choropleth\"}],\"name\":\"2014\"},{\"data\":[{\"coloraxis\":\"coloraxis\",\"geo\":\"geo\",\"hovertemplate\":\"Year=2015<br>Entity=%{location}<br>Renewables (% equivalent primary energy)=%{z}<extra></extra>\",\"locationmode\":\"country names\",\"locations\":[\"Algeria\",\"Argentina\",\"Australia\",\"Austria\",\"Azerbaijan\",\"Bangladesh\",\"Belarus\",\"Belgium\",\"Brazil\",\"Bulgaria\",\"Canada\",\"Chile\",\"China\",\"Colombia\",\"Croatia\",\"Cyprus\",\"Czechia\",\"Denmark\",\"Ecuador\",\"Egypt\",\"Estonia\",\"Finland\",\"France\",\"Germany\",\"Greece\",\"Hungary\",\"Iceland\",\"India\",\"Indonesia\",\"Iran\",\"Iraq\",\"Ireland\",\"Israel\",\"Italy\",\"Japan\",\"Kazakhstan\",\"Kuwait\",\"Latvia\",\"Lithuania\",\"Luxembourg\",\"Malaysia\",\"Mexico\",\"Morocco\",\"Netherlands\",\"New Zealand\",\"Norway\",\"Oman\",\"Pakistan\",\"Peru\",\"Philippines\",\"Poland\",\"Portugal\",\"Qatar\",\"Romania\",\"Russia\",\"Saudi Arabia\",\"Slovakia\",\"Slovenia\",\"South Africa\",\"South Korea\",\"Spain\",\"Sri Lanka\",\"Sweden\",\"Switzerland\",\"Taiwan\",\"Thailand\",\"Trinidad and Tobago\",\"Turkey\",\"Turkmenistan\",\"Ukraine\",\"United Arab Emirates\",\"United Kingdom\",\"Uzbekistan\",\"Venezuela\",\"Vietnam\",\"United States\"],\"name\":\"\",\"z\":[0.09681336581707,10.907397270202637,6.290020942687988,34.96407699584961,2.757688045501709,0.8184085488319397,0.272726833820343,6.661416530609131,40.60352325439453,10.595033645629885,28.76414680480957,21.42767333984375,10.787498474121094,28.021617889404297,22.36495018005371,3.7763218879699703,5.899193286895752,26.659948348999023,19.64023208618164,4.328853130340576,6.578981876373291,28.13772201538086,10.147398948669434,14.823543548583984,13.008344650268556,3.892845630645752,81.8024673461914,7.184645652770996,3.7929575443267822,1.308806538581848,1.610298991203308,12.265226364135742,1.2998136281967163,17.334674835205078,8.06879711151123,3.566427230834961,0.0030183459166437,18.883399963378903,7.430521488189697,2.8418614864349365,3.6460347175598153,6.052263259887695,5.388848781585693,4.503983974456787,38.129432678222656,68.87519073486328,0.0029717639554291,11.174578666687012,24.02449607849121,12.500741004943848,6.561511039733887,24.459373474121094,0.0648639276623725,18.51751136779785,5.773604393005371,0.0040937969461083,9.638893127441406,15.851430892944336,1.2246651649475098,1.9041190147399905,17.507902145385742,18.15489196777344,46.59962463378906,33.162601470947266,1.8325283527374268,4.190981388092041,0.0062352367676794,14.063813209533691,0.0067770341411232,1.913326621055603,0.0695288330316543,10.9766206741333,3.01299262046814,20.79829978942871,18.58449363708496,7.468742847442627],\"type\":\"choropleth\"}],\"name\":\"2015\"},{\"data\":[{\"coloraxis\":\"coloraxis\",\"geo\":\"geo\",\"hovertemplate\":\"Year=2016<br>Entity=%{location}<br>Renewables (% equivalent primary energy)=%{z}<extra></extra>\",\"locationmode\":\"country names\",\"locations\":[\"Algeria\",\"Argentina\",\"Australia\",\"Austria\",\"Azerbaijan\",\"Bangladesh\",\"Belarus\",\"Belgium\",\"Brazil\",\"Bulgaria\",\"Canada\",\"Chile\",\"China\",\"Colombia\",\"Croatia\",\"Cyprus\",\"Czechia\",\"Denmark\",\"Ecuador\",\"Egypt\",\"Estonia\",\"Finland\",\"France\",\"Germany\",\"Greece\",\"Hungary\",\"Iceland\",\"India\",\"Indonesia\",\"Iran\",\"Iraq\",\"Ireland\",\"Israel\",\"Italy\",\"Japan\",\"Kazakhstan\",\"Kuwait\",\"Latvia\",\"Lithuania\",\"Luxembourg\",\"Malaysia\",\"Mexico\",\"Morocco\",\"Netherlands\",\"New Zealand\",\"Norway\",\"Oman\",\"Pakistan\",\"Peru\",\"Philippines\",\"Poland\",\"Portugal\",\"Qatar\",\"Romania\",\"Russia\",\"Saudi Arabia\",\"Slovakia\",\"Slovenia\",\"South Africa\",\"South Korea\",\"Spain\",\"Sri Lanka\",\"Sweden\",\"Switzerland\",\"Taiwan\",\"Thailand\",\"Trinidad and Tobago\",\"Turkey\",\"Turkmenistan\",\"Ukraine\",\"United Arab Emirates\",\"United Kingdom\",\"Uzbekistan\",\"Venezuela\",\"Vietnam\",\"United States\"],\"name\":\"\",\"z\":[0.1458071172237396,10.167007446289062,7.189175605773926,35.65185546875,3.345907926559448,0.8060975074768066,0.346439927816391,6.3574538230896,43.538700103759766,9.049890518188477,29.6525993347168,19.706335067749023,11.530946731567385,27.708812713623047,23.87021827697754,3.666477680206299,5.945769786834717,25.71347999572754,23.62802505493164,4.131467819213867,6.427241802215576,26.586719512939453,10.97524642944336,14.607312202453612,13.225245475769045,3.8303542137146,79.91397857666016,7.011397361755371,5.479020118713379,1.4465060234069824,1.836539387702942,11.269350051879885,1.7576799392700195,17.009197235107422,7.975860595703125,4.404113292694092,0.0291275065392255,21.902061462402344,8.97104549407959,3.0525341033935547,4.848278999328613,6.131492614746094,5.595184803009033,4.676411151885986,38.99087142944336,69.86628723144531,0.0033375413622707,11.086973190307615,22.576679229736328,11.975790023803713,6.05049467086792,29.27642250061035,0.0671439692378044,18.943086624145508,6.171404838562012,0.0039634038694202,9.996943473815918,17.115886688232422,1.6210166215896606,2.0268120765686035,18.609848022460938,12.233839988708496,42.08269882202149,32.28740310668945,2.255850315093994,4.5999755859375,0.0069855325855314,14.479534149169922,0.0082353400066494,2.366657018661499,0.0670223236083984,11.037631034851074,3.567935943603516,19.94671440124512,19.181915283203125,8.285085678100586],\"type\":\"choropleth\"}],\"name\":\"2016\"},{\"data\":[{\"coloraxis\":\"coloraxis\",\"geo\":\"geo\",\"hovertemplate\":\"Year=2017<br>Entity=%{location}<br>Renewables (% equivalent primary energy)=%{z}<extra></extra>\",\"locationmode\":\"country names\",\"locations\":[\"Algeria\",\"Argentina\",\"Australia\",\"Austria\",\"Azerbaijan\",\"Bangladesh\",\"Belarus\",\"Belgium\",\"Brazil\",\"Bulgaria\",\"Canada\",\"Chile\",\"China\",\"Colombia\",\"Croatia\",\"Cyprus\",\"Czechia\",\"Denmark\",\"Ecuador\",\"Egypt\",\"Estonia\",\"Finland\",\"France\",\"Germany\",\"Greece\",\"Hungary\",\"Iceland\",\"India\",\"Indonesia\",\"Iran\",\"Iraq\",\"Ireland\",\"Israel\",\"Italy\",\"Japan\",\"Kazakhstan\",\"Kuwait\",\"Latvia\",\"Lithuania\",\"Luxembourg\",\"Malaysia\",\"Mexico\",\"Morocco\",\"Netherlands\",\"New Zealand\",\"Norway\",\"Oman\",\"Pakistan\",\"Peru\",\"Philippines\",\"Poland\",\"Portugal\",\"Qatar\",\"Romania\",\"Russia\",\"Saudi Arabia\",\"Slovakia\",\"Slovenia\",\"South Africa\",\"South Korea\",\"Spain\",\"Sri Lanka\",\"Sweden\",\"Switzerland\",\"Taiwan\",\"Thailand\",\"Trinidad and Tobago\",\"Turkey\",\"Turkmenistan\",\"Ukraine\",\"United Arab Emirates\",\"United Kingdom\",\"Uzbekistan\",\"Venezuela\",\"Vietnam\",\"United States\"],\"name\":\"\",\"z\":[0.2470182925462722,10.96471881866455,6.750126838684082,34.502872467041016,3.049804449081421,0.8946443200111389,0.6887630820274353,6.910615921020508,43.28067779541016,7.6196208000183105,29.67363929748535,22.405031204223636,12.13882064819336,32.82905960083008,20.273584365844727,3.637664794921875,5.8155717849731445,30.30111694335937,28.335857391357425,3.869990587234497,6.830331802368164,28.7075138092041,10.437264442443848,16.196212768554688,14.015645027160645,3.8641884326934814,78.81926727294922,7.511875152587891,5.283773899078369,1.5620874166488647,1.125345230102539,13.157301902770996,1.7236597537994385,16.149738311767578,8.634003639221191,4.042666435241699,0.0400291159749031,30.69508934020996,10.216777801513672,3.807042598724365,6.291511058807373,6.372722148895264,5.2868266105651855,5.489981651306152,37.08300018310547,69.26099395751953,0.011463476344943,9.674949645996094,26.171817779541016,11.504091262817385,6.190995693206787,21.441804885864254,0.0693160071969032,16.684114456176758,6.121268272399902,0.0056249666959047,9.412672996520996,14.848828315734863,2.406186103820801,2.430184364318848,15.682350158691406,12.293098449707031,43.339447021484375,32.014774322509766,2.1802806854248047,5.306326389312744,0.0065434193238615,13.170472145080566,0.0082540307193994,2.975400447845459,0.1541274785995483,12.948246002197266,3.972285509109497,21.939960479736328,24.20834732055664,9.082049369812012],\"type\":\"choropleth\"}],\"name\":\"2017\"},{\"data\":[{\"coloraxis\":\"coloraxis\",\"geo\":\"geo\",\"hovertemplate\":\"Year=2018<br>Entity=%{location}<br>Renewables (% equivalent primary energy)=%{z}<extra></extra>\",\"locationmode\":\"country names\",\"locations\":[\"Algeria\",\"Argentina\",\"Australia\",\"Austria\",\"Azerbaijan\",\"Bangladesh\",\"Belarus\",\"Belgium\",\"Brazil\",\"Bulgaria\",\"Canada\",\"Chile\",\"China\",\"Colombia\",\"Croatia\",\"Cyprus\",\"Czechia\",\"Denmark\",\"Ecuador\",\"Egypt\",\"Estonia\",\"Finland\",\"France\",\"Germany\",\"Greece\",\"Hungary\",\"Iceland\",\"India\",\"Indonesia\",\"Iran\",\"Iraq\",\"Ireland\",\"Israel\",\"Italy\",\"Japan\",\"Kazakhstan\",\"Kuwait\",\"Latvia\",\"Lithuania\",\"Luxembourg\",\"Malaysia\",\"Mexico\",\"Morocco\",\"Netherlands\",\"New Zealand\",\"Norway\",\"Oman\",\"Pakistan\",\"Peru\",\"Philippines\",\"Poland\",\"Portugal\",\"Qatar\",\"Romania\",\"Russia\",\"Saudi Arabia\",\"Slovakia\",\"Slovenia\",\"South Africa\",\"South Korea\",\"Spain\",\"Sri Lanka\",\"Sweden\",\"Switzerland\",\"Taiwan\",\"Thailand\",\"Trinidad and Tobago\",\"Turkey\",\"Turkmenistan\",\"Ukraine\",\"United Arab Emirates\",\"United Kingdom\",\"Uzbekistan\",\"Venezuela\",\"Vietnam\",\"United States\"],\"name\":\"\",\"z\":[0.2876792848110199,11.397629737854004,8.300061225891113,34.56892776489258,3.070157051086426,0.7471175193786621,0.5790961384773254,7.41519021987915,46.08049774169922,11.79909324645996,28.81451797485352,24.34329605102539,12.807393074035645,31.999549865722656,26.735349655151367,3.866520166397095,5.68550968170166,29.154386520385746,27.386934280395508,4.055405616760254,7.507283210754394,28.64155387878418,12.132494926452637,17.084951400756836,13.45522689819336,4.134616374969482,77.96495819091797,7.912805557250977,7.393457889556885,0.9227302074432372,0.9119535088539124,14.717062950134276,1.863878607749939,17.727497100830078,9.322304725646973,3.388838529586792,0.0313340798020362,22.432662963867188,8.702936172485352,4.155874729156494,6.253417491912842,6.939361095428467,7.10693359375,5.991268157958984,38.16226196289063,68.85804748535156,0.010915677063167,9.416380882263184,26.79540252685547,11.201895713806152,5.850796699523926,26.90010643005371,0.0693681389093399,17.542226791381836,6.046762466430664,0.0138821955770254,8.504162788391113,16.982707977294922,2.6591577529907227,2.746018409729004,18.23053359985352,18.060565948486328,42.21850204467773,31.95086669921875,2.179110527038574,6.380221366882324,0.0062400484457612,14.846624374389648,0.0073683462105691,3.4212276935577397,0.2737675905227661,14.52646827697754,2.9270331859588623,22.03890609741211,20.761816024780277,8.96493911743164],\"type\":\"choropleth\"}],\"name\":\"2018\"},{\"data\":[{\"coloraxis\":\"coloraxis\",\"geo\":\"geo\",\"hovertemplate\":\"Year=2019<br>Entity=%{location}<br>Renewables (% equivalent primary energy)=%{z}<extra></extra>\",\"locationmode\":\"country names\",\"locations\":[\"Algeria\",\"Argentina\",\"Australia\",\"Austria\",\"Azerbaijan\",\"Bangladesh\",\"Belarus\",\"Belgium\",\"Brazil\",\"Bulgaria\",\"Canada\",\"Chile\",\"China\",\"Colombia\",\"Croatia\",\"Cyprus\",\"Czechia\",\"Denmark\",\"Ecuador\",\"Egypt\",\"Estonia\",\"Finland\",\"France\",\"Germany\",\"Greece\",\"Hungary\",\"Iceland\",\"India\",\"Indonesia\",\"Iran\",\"Iraq\",\"Ireland\",\"Israel\",\"Italy\",\"Japan\",\"Kazakhstan\",\"Kuwait\",\"Latvia\",\"Lithuania\",\"Luxembourg\",\"Malaysia\",\"Mexico\",\"Morocco\",\"Netherlands\",\"New Zealand\",\"Norway\",\"Oman\",\"Pakistan\",\"Peru\",\"Philippines\",\"Poland\",\"Portugal\",\"Qatar\",\"Romania\",\"Russia\",\"Saudi Arabia\",\"Slovakia\",\"Slovenia\",\"South Africa\",\"South Korea\",\"Spain\",\"Sri Lanka\",\"Sweden\",\"Switzerland\",\"Taiwan\",\"Thailand\",\"Trinidad and Tobago\",\"Turkey\",\"Turkmenistan\",\"Ukraine\",\"United Arab Emirates\",\"United Kingdom\",\"Uzbekistan\",\"Venezuela\",\"Vietnam\",\"United States\"],\"name\":\"\",\"z\":[0.2947469651699066,11.926772117614746,8.880722045898438,35.61137771606445,2.674583911895752,0.675128698348999,0.7077696323394775,7.959382057189941,47.30484390258789,9.94838523864746,28.586376190185547,24.144994735717773,13.51595973968506,29.890342712402344,23.463096618652344,4.274975299835205,6.115212440490723,32.795658111572266,31.769020080566406,5.169897556304932,9.912989616394045,29.214561462402344,12.384904861450195,18.7683048248291,13.694193840026855,4.945461273193359,80.0971908569336,8.849618911743164,7.870308876037598,2.836829900741577,2.2772881984710693,16.911176681518555,2.9192068576812744,17.939950942993164,9.565926551818848,3.468928098678589,0.0341841876506805,19.929880142211918,9.697965621948242,4.765342712402344,6.178408622741699,7.05077075958252,7.547047138214111,7.302987575531006,36.76237869262695,67.08509063720703,0.0175869055092334,11.015737533569336,26.621335983276367,10.227248191833496,6.98928689956665,26.401811599731445,0.066419169306755,16.837947845458984,6.201229095458984,0.0181807111948728,9.983878135681152,16.781370162963867,2.6449363231658936,2.9800333976745605,17.375850677490234,14.141156196594238,43.81376647949219,33.13739776611328,2.7165448665618896,6.956219673156738,0.0063736131414771,19.25493621826172,0.0067476881667971,3.290361166000366,0.7918253540992737,16.241540908813477,3.1970326900482178,22.608102798461918,15.891139030456545,9.315262794494627],\"type\":\"choropleth\"}],\"name\":\"2019\"},{\"data\":[{\"coloraxis\":\"coloraxis\",\"geo\":\"geo\",\"hovertemplate\":\"Year=2020<br>Entity=%{location}<br>Renewables (% equivalent primary energy)=%{z}<extra></extra>\",\"locationmode\":\"country names\",\"locations\":[\"Algeria\",\"Argentina\",\"Australia\",\"Austria\",\"Azerbaijan\",\"Bangladesh\",\"Belarus\",\"Belgium\",\"Brazil\",\"Bulgaria\",\"Canada\",\"Chile\",\"China\",\"Colombia\",\"Croatia\",\"Cyprus\",\"Czechia\",\"Denmark\",\"Ecuador\",\"Egypt\",\"Estonia\",\"Finland\",\"France\",\"Germany\",\"Greece\",\"Hungary\",\"Iceland\",\"India\",\"Indonesia\",\"Iran\",\"Iraq\",\"Ireland\",\"Israel\",\"Italy\",\"Japan\",\"Kazakhstan\",\"Kuwait\",\"Latvia\",\"Lithuania\",\"Luxembourg\",\"Malaysia\",\"Mexico\",\"Morocco\",\"Netherlands\",\"New Zealand\",\"Norway\",\"Oman\",\"Pakistan\",\"Peru\",\"Philippines\",\"Poland\",\"Portugal\",\"Qatar\",\"Romania\",\"Russia\",\"Saudi Arabia\",\"Slovakia\",\"Slovenia\",\"South Africa\",\"South Korea\",\"Spain\",\"Sri Lanka\",\"Sweden\",\"Switzerland\",\"Taiwan\",\"Thailand\",\"Trinidad and Tobago\",\"Turkey\",\"Turkmenistan\",\"Ukraine\",\"United Arab Emirates\",\"United Kingdom\",\"Uzbekistan\",\"Venezuela\",\"Vietnam\",\"United States\"],\"name\":\"\",\"z\":[0.2978994250297546,12.17941665649414,10.78981113433838,38.26066970825195,1.9758317470550537,0.6580818295478821,0.9897245168685912,10.63779067993164,49.47188186645508,10.692996978759766,30.542150497436523,26.557531356811523,14.24287223815918,30.77278709411621,25.17008781433105,5.661981105804443,6.691049098968506,37.27245330810547,36.03577423095703,6.564623832702637,14.138367652893066,33.16851043701172,14.78874683380127,21.122827529907227,16.70769691467285,5.81624174118042,86.83658599853516,9.730036735534668,9.860146522521973,1.9643505811691284,1.6468850374221802,20.549842834472656,4.053859233856201,19.72126197814941,11.155339241027832,3.900036334991455,0.0365194678306579,24.768972396850582,10.144762992858888,6.848766803741455,7.163172245025635,9.475372314453123,7.6339521408081055,10.758957862854004,39.06418228149414,70.96305847167969,0.2240027040243148,12.021024703979492,30.74422836303711,11.044730186462402,7.769742012023926,31.72391128540039,0.0756966322660446,17.579639434814453,7.069781303405762,0.0184638928622007,10.480759620666504,19.160215377807617,3.1502459049224854,3.142855405807495,22.10265350341797,15.967421531677246,51.0589714050293,36.2105712890625,2.7744626998901367,6.991420745849609,0.0073120086453855,19.150110244750977,0.0071611474268138,4.896078586578369,1.0150353908538818,20.07898712158203,2.523421049118042,30.139423370361328,19.13666343688965,10.532232284545898],\"type\":\"choropleth\"}],\"name\":\"2020\"},{\"data\":[{\"coloraxis\":\"coloraxis\",\"geo\":\"geo\",\"hovertemplate\":\"Year=2021<br>Entity=%{location}<br>Renewables (% equivalent primary energy)=%{z}<extra></extra>\",\"locationmode\":\"country names\",\"locations\":[\"Algeria\",\"Argentina\",\"Australia\",\"Austria\",\"Azerbaijan\",\"Bangladesh\",\"Belarus\",\"Belgium\",\"Brazil\",\"Bulgaria\",\"Canada\",\"Chile\",\"China\",\"Colombia\",\"Croatia\",\"Czechia\",\"Denmark\",\"Ecuador\",\"Egypt\",\"Estonia\",\"Finland\",\"France\",\"Germany\",\"Greece\",\"Hungary\",\"Iceland\",\"India\",\"Indonesia\",\"Iran\",\"Iraq\",\"Ireland\",\"Israel\",\"Italy\",\"Japan\",\"Kazakhstan\",\"Latvia\",\"Lithuania\",\"Luxembourg\",\"Malaysia\",\"Mexico\",\"Morocco\",\"Netherlands\",\"New Zealand\",\"Norway\",\"Pakistan\",\"Peru\",\"Philippines\",\"Poland\",\"Portugal\",\"Romania\",\"Russia\",\"Slovakia\",\"Slovenia\",\"South Africa\",\"South Korea\",\"Spain\",\"Sri Lanka\",\"Sweden\",\"Switzerland\",\"Taiwan\",\"Thailand\",\"Trinidad and Tobago\",\"Turkey\",\"Turkmenistan\",\"Ukraine\",\"United Kingdom\",\"Uzbekistan\",\"Venezuela\",\"Vietnam\",\"United States\"],\"name\":\"\",\"z\":[0.2613673508167267,11.329249382019045,12.933531761169434,37.48179244995117,2.201542854309082,0.6501469016075134,0.9698578119277954,9.336408615112305,46.2197494506836,11.486525535583496,29.8884391784668,26.518875122070312,14.946244239807127,33.020408630371094,28.271934509277344,6.497797966003418,39.24958038330078,32.35419845581055,6.230570793151856,14.32504653930664,34.611289978027344,13.671010971069336,19.45312118530273,19.391674041748047,6.819572925567627,86.8745346069336,9.310850143432615,10.385714530944824,1.2903937101364136,1.5024909973144531,17.581884384155273,5.132294178009033,18.362260818481445,11.428995132446287,3.9885740280151367,23.91737174987793,9.490350723266602,7.095166206359863,8.059835433959961,10.51475429534912,7.63616943359375,12.37379550933838,40.21865081787109,71.55836486816406,10.622897148132324,27.74100875854492,10.901630401611328,7.761686325073242,32.70395278930664,17.48103141784668,6.620289325714111,9.821160316467283,18.76845359802246,3.4086079597473145,3.724985837936402,22.341663360595703,21.40453338623047,50.92400741577149,36.716644287109375,3.0361571311950684,7.113617897033691,0.0071594668552279,16.517044067382812,0.0074832290410995,6.100841522216797,17.946542739868164,2.6506786346435547,28.434154510498047,22.73440742492676,10.655990600585938],\"type\":\"choropleth\"}],\"name\":\"2021\"}]);\n",
       "                        }).then(function(){\n",
       "                            \n",
       "var gd = document.getElementById('5772b6f8-cc67-4c98-96e6-c664f45ba378');\n",
       "var x = new MutationObserver(function (mutations, observer) {{\n",
       "        var display = window.getComputedStyle(gd).display;\n",
       "        if (!display || display === 'none') {{\n",
       "            console.log([gd, 'removed!']);\n",
       "            Plotly.purge(gd);\n",
       "            observer.disconnect();\n",
       "        }}\n",
       "}});\n",
       "\n",
       "// Listen for the removal of the full notebook cells\n",
       "var notebookContainer = gd.closest('#notebook-container');\n",
       "if (notebookContainer) {{\n",
       "    x.observe(notebookContainer, {childList: true});\n",
       "}}\n",
       "\n",
       "// Listen for the clearing of the current output cell\n",
       "var outputEl = gd.closest('.output');\n",
       "if (outputEl) {{\n",
       "    x.observe(outputEl, {childList: true});\n",
       "}}\n",
       "\n",
       "                        })                };                });            </script>        </div>"
      ]
     },
     "metadata": {},
     "output_type": "display_data"
    }
   ],
   "source": [
    "# Visualisation\n",
    "\n",
    "px.choropleth(eq,\n",
    "locations = 'Entity',\n",
    "locationmode = 'country names',\n",
    "color = 'Renewables (% equivalent primary energy)',\n",
    "animation_frame = 'Year',\n",
    "scope = 'world',\n",
    "height = 750,\n",
    "range_color = (0,75),\n",
    "title = 'Share of Primary Energy from Renewable Sources (1965 to 2021)',\n",
    "color_continuous_scale = 'Plasma',\n",
    "\n",
    ")"
   ]
  },
  {
   "cell_type": "markdown",
   "metadata": {},
   "source": [
    "# Line Graph Share of EV Sales vs. Share of Renewables (Australia)"
   ]
  },
  {
   "cell_type": "code",
   "execution_count": 40,
   "metadata": {},
   "outputs": [],
   "source": [
    "def get_sales_share(country):\n",
    "    a = sales_share(country)\n",
    "    a2 = a.year >= 2011\n",
    "    a3 = a[a2]\n",
    "    b = a3.drop(['parameter', 'region', 'category', 'mode', 'powertrain', 'unit', 'year'], axis=1)\n",
    "    c = b.rename(columns = {'value': f'{country}1'})\n",
    "\n",
    "    ab = c.reset_index()\n",
    "\n",
    "    abc = ab.drop('index', axis=1)\n",
    "\n",
    "    return abc"
   ]
  },
  {
   "cell_type": "code",
   "execution_count": 41,
   "metadata": {},
   "outputs": [],
   "source": [
    "shares_aus = get_sales_share('Australia')\n",
    "shares_nz = get_sales_share('New Zealand')\n",
    "shares_us = get_sales_share('USA')\n",
    "shares_uk = get_sales_share('United Kingdom')\n",
    "shares_w = get_sales_share('World')\n",
    "shares_eu = get_sales_share('Europe')\n",
    "shares_oe = get_sales_share('Other Europe')"
   ]
  },
  {
   "cell_type": "code",
   "execution_count": 42,
   "metadata": {},
   "outputs": [],
   "source": [
    "\n",
    "def is_country_comp(country):\n",
    "    r = renewable_share.Entity == country\n",
    "    ren = renewable_share[r]\n",
    "    c = ren.Year >= 2011\n",
    "    ren = ren[c]\n",
    "    lst = list(ren['Renewables (% equivalent primary energy)'])\n",
    "    df = pd.DataFrame(lst, columns=[country])\n",
    "    return df"
   ]
  },
  {
   "cell_type": "code",
   "execution_count": 43,
   "metadata": {},
   "outputs": [],
   "source": [
    "years = list(range(2011, 2022))\n",
    "renew_aus = is_country_comp('Australia')\n",
    "renew_nz = is_country_comp('New Zealand')\n",
    "years = pd.DataFrame(years)"
   ]
  },
  {
   "cell_type": "code",
   "execution_count": 44,
   "metadata": {},
   "outputs": [],
   "source": [
    "years.rename(columns = {0: 'year'}, inplace=True)\n",
    "total = pd.concat([years, shares_aus, shares_w, shares_eu, shares_oe], axis=1)"
   ]
  },
  {
   "cell_type": "code",
   "execution_count": 45,
   "metadata": {},
   "outputs": [
    {
     "data": {
      "image/png": "[encoded data removed]",
      "text/plain": [
       "<Figure size 1440x720 with 1 Axes>"
      ]
     },
     "metadata": {
      "needs_background": "light"
     },
     "output_type": "display_data"
    }
   ],
   "source": [
    "years = list(range(2011, 2022))\n",
    "\n",
    "plt.title('Share of Total Sales from Electric Cars', fontsize=20)\n",
    "plt.plot(total.year, total.World1, '.-', color='y', label='World')\n",
    "plt.plot(total.year, total['Other Europe1'], '.-', color='#a34dff', label='Other Europe')\n",
    "plt.plot(total.year, total.Europe1, '.-', color='#008F39', label='Europe')\n",
    "plt.plot(total.year, total.Australia1, '.-', color='#0a81ff', label='Australia')\n",
    "\n",
    "\n",
    "\n",
    "plt.xticks(years)\n",
    "plt.xlabel('Year', fontsize=12)\n",
    "\n",
    "plt.ylabel('Percentage %', fontsize=12)\n",
    "\n",
    "plt.legend(loc='upper left', prop={'size':20})\n",
    "\n",
    "plt.show()"
   ]
  },
  {
   "cell_type": "code",
   "execution_count": null,
   "metadata": {},
   "outputs": [],
   "source": []
  },
  {
   "cell_type": "code",
   "execution_count": null,
   "metadata": {},
   "outputs": [],
   "source": []
  },
  {
   "cell_type": "code",
   "execution_count": null,
   "metadata": {},
   "outputs": [],
   "source": []
  },
  {
   "cell_type": "code",
   "execution_count": null,
   "metadata": {},
   "outputs": [],
   "source": []
  }
 ],
 "metadata": {
  "celltoolbar": "Slideshow",
  "kernelspec": {
   "display_name": "Python 3 (ipykernel)",
   "language": "python",
   "name": "python3"
  },
  "language_info": {
   "codemirror_mode": {
    "name": "ipython",
    "version": 3
   },
   "file_extension": ".py",
   "mimetype": "text/x-python",
   "name": "python",
   "nbconvert_exporter": "python",
   "pygments_lexer": "ipython3",
   "version": "3.10.5"
  },
  "vscode": {
   "interpreter": {
    "hash": "171872b6069e136326abb8a787b3da56e8bc41694c670b4cce1509cad222c908"
   }
  }
 },
 "nbformat": 4,
 "nbformat_minor": 2
}
