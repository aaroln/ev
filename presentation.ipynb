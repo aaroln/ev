{
 "cells": [
  {
   "cell_type": "markdown",
   "metadata": {},
   "source": [
    "Libraries"
   ]
  },
  {
   "cell_type": "code",
   "execution_count": 188,
   "metadata": {},
   "outputs": [],
   "source": [
    "import matplotlib\n",
    "import matplotlib.pyplot as plt\n",
    "import numpy as np\n",
    "import pandas as pd\n",
    "import os\n",
    "from datetime import datetime\n",
    "import geopandas as gpd\n",
    "import plotly.express as px"
   ]
  },
  {
   "cell_type": "markdown",
   "metadata": {},
   "source": [
    "Styles"
   ]
  },
  {
   "cell_type": "code",
   "execution_count": 189,
   "metadata": {},
   "outputs": [],
   "source": [
    "%matplotlib inline"
   ]
  },
  {
   "cell_type": "code",
   "execution_count": 190,
   "metadata": {},
   "outputs": [],
   "source": [
    "plt.rcParams['figure.figsize'] = (20,10)"
   ]
  },
  {
   "cell_type": "code",
   "execution_count": 191,
   "metadata": {},
   "outputs": [],
   "source": [
    "saved_style_state = matplotlib.rcParams.copy()"
   ]
  },
  {
   "cell_type": "code",
   "execution_count": 192,
   "metadata": {},
   "outputs": [],
   "source": [
    "pd.set_option('display.max_rows', None)"
   ]
  },
  {
   "cell_type": "markdown",
   "metadata": {},
   "source": [
    "Reading files..."
   ]
  },
  {
   "cell_type": "code",
   "execution_count": 193,
   "metadata": {},
   "outputs": [],
   "source": [
    "ev = pd.read_csv(\"IEA-EV-data.csv\")"
   ]
  },
  {
   "cell_type": "code",
   "execution_count": 194,
   "metadata": {},
   "outputs": [],
   "source": [
    "country = pd.read_csv(\"countries.csv\")"
   ]
  },
  {
   "cell_type": "code",
   "execution_count": 195,
   "metadata": {},
   "outputs": [],
   "source": [
    "energy = pd.read_csv(\"energy.csv\")"
   ]
  },
  {
   "cell_type": "code",
   "execution_count": 196,
   "metadata": {},
   "outputs": [],
   "source": [
    "renewable_share = pd.read_csv(\"renewable-share-energy.csv\")"
   ]
  },
  {
   "cell_type": "markdown",
   "metadata": {},
   "source": [
    "Cleaning file"
   ]
  },
  {
   "cell_type": "code",
   "execution_count": 197,
   "metadata": {},
   "outputs": [],
   "source": [
    "world_geo = pd.read_csv(\"world_geo.csv\")\n",
    "\n",
    "world_geo = world_geo.rename({'gdp_md_est': 'sales'}, axis=1)\n",
    "\n",
    "world_geo = world_geo[(world_geo.name != 'Antarctica')]\n",
    "\n",
    "world_geo = world_geo.drop('Unnamed: 0', axis=1)\n",
    "\n",
    "world_geo = world_geo.replace(0, np.nan)\n",
    "\n",
    "world_geo = world_geo.sort_values(['name'])\n",
    "\n",
    "items_geo = []\n",
    "\n",
    "for c in world_geo.name:\n",
    "    items_geo.append(c)\n",
    "\n",
    "items_geo.pop()\n",
    "\n",
    "items_geo.pop()\n",
    "\n",
    "l = len(items_geo)\n",
    "\n",
    "world_map = world_geo"
   ]
  },
  {
   "cell_type": "markdown",
   "metadata": {},
   "source": [
    "Choropleth map (total electric vehicle sales)"
   ]
  },
  {
   "cell_type": "code",
   "execution_count": 198,
   "metadata": {},
   "outputs": [
    {
     "data": {
      "application/vnd.plotly.v1+json": {
       "config": {
        "plotlyServerURL": "https://plot.ly"
       },
       "data": [
        {
         "coloraxis": "coloraxis",
         "geo": "geo",
         "hovertemplate": "iso_a3=%{location}<br>sales=%{z}<extra></extra>",
         "locations": [
          "AFG",
          "ALB",
          "DZA",
          "AGO",
          "ARG",
          "ARM",
          "AUS",
          "AUT",
          "AZE",
          "BHS",
          "BGD",
          "BLR",
          "BEL",
          "BLZ",
          "BEN",
          "BTN",
          "BOL",
          "BIH",
          "BWA",
          "BRA",
          "BRN",
          "BGR",
          "BFA",
          "BDI",
          "KHM",
          "CMR",
          "CAN",
          "CAF",
          "TCD",
          "CHL",
          "CHN",
          "COL",
          "COG",
          "CRI",
          "HRV",
          "CUB",
          "CYP",
          "CZE",
          "CIV",
          "COD",
          "DNK",
          "DJI",
          "DOM",
          "ECU",
          "EGY",
          "SLV",
          "GNQ",
          "ERI",
          "EST",
          "ETH",
          "FLK",
          "FJI",
          "FIN",
          "ATF",
          "FRA",
          "GAB",
          "GMB",
          "GEO",
          "DEU",
          "GHA",
          "GRC",
          "GRL",
          "GTM",
          "GIN",
          "GNB",
          "GUY",
          "HTI",
          "HND",
          "HUN",
          "ISL",
          "IND",
          "IDN",
          "IRN",
          "IRQ",
          "IRL",
          "ISR",
          "ITA",
          "JAM",
          "JPN",
          "JOR",
          "KAZ",
          "KEN",
          "-99",
          "KWT",
          "KGZ",
          "LAO",
          "LVA",
          "LBN",
          "LSO",
          "LBR",
          "LBY",
          "LTU",
          "LUX",
          "MKD",
          "MDG",
          "MWI",
          "MYS",
          "MLI",
          "MRT",
          "MEX",
          "MDA",
          "MNG",
          "MNE",
          "MAR",
          "MOZ",
          "MMR",
          "-99",
          "NAM",
          "NPL",
          "NLD",
          "NCL",
          "NZL",
          "NIC",
          "NER",
          "NGA",
          "PRK",
          "NOR",
          "OMN",
          "PAK",
          "PSE",
          "PAN",
          "PNG",
          "PRY",
          "PER",
          "PHL",
          "POL",
          "PRT",
          "PRI",
          "QAT",
          "ROU",
          "RUS",
          "RWA",
          "SSD",
          "SAU",
          "SEN",
          "SRB",
          "SLE",
          "SVK",
          "SVN",
          "SLB",
          "SOM",
          "-99",
          "ZAF",
          "KOR",
          "ESP",
          "LKA",
          "SDN",
          "SUR",
          "SWE",
          "CHE",
          "SYR",
          "TWN",
          "TJK",
          "TZA",
          "THA",
          "TLS",
          "TGO",
          "TTO",
          "TUN",
          "TUR",
          "TKM",
          "UGA",
          "UKR",
          "ARE",
          "GBR",
          "USA",
          "URY",
          "UZB",
          "VUT",
          "VEN",
          "VNM",
          "ESH",
          "YEM",
          "ZMB",
          "ZWE",
          "SWZ",
          "ATA"
         ],
         "name": "",
         "type": "choropleth",
         "z": [
          null,
          null,
          null,
          null,
          null,
          null,
          47744,
          null,
          null,
          null,
          null,
          null,
          182478,
          null,
          null,
          null,
          null,
          null,
          null,
          12818,
          null,
          null,
          null,
          null,
          null,
          null,
          280138,
          null,
          null,
          1465,
          7862428,
          null,
          null,
          null,
          null,
          null,
          null,
          null,
          null,
          null,
          123035,
          null,
          null,
          null,
          null,
          null,
          null,
          null,
          null,
          null,
          null,
          null,
          67415,
          null,
          722778,
          null,
          null,
          null,
          1379682,
          null,
          10297,
          null,
          null,
          null,
          null,
          null,
          null,
          null,
          null,
          25446,
          22080,
          null,
          null,
          null,
          null,
          null,
          237619,
          null,
          366355,
          null,
          null,
          null,
          null,
          null,
          null,
          null,
          null,
          null,
          null,
          null,
          null,
          null,
          null,
          null,
          null,
          null,
          null,
          null,
          null,
          11538,
          null,
          null,
          null,
          null,
          null,
          null,
          null,
          null,
          null,
          398030,
          null,
          33966,
          null,
          null,
          null,
          null,
          585337,
          null,
          null,
          null,
          null,
          null,
          null,
          null,
          null,
          37108,
          78883,
          null,
          null,
          null,
          null,
          null,
          null,
          null,
          null,
          null,
          null,
          null,
          null,
          null,
          null,
          null,
          1748,
          252287,
          155621,
          null,
          null,
          null,
          349643,
          139854,
          null,
          null,
          null,
          null,
          null,
          null,
          null,
          null,
          null,
          null,
          null,
          null,
          null,
          null,
          749457,
          2373985,
          null,
          null,
          null,
          null,
          null,
          null,
          null,
          null,
          null,
          null,
          null
         ]
        }
       ],
       "layout": {
        "coloraxis": {
         "cmax": 1000000,
         "cmin": 0,
         "colorbar": {
          "title": {
           "text": "sales"
          }
         },
         "colorscale": [
          [
           0,
           "rgb(247,252,245)"
          ],
          [
           0.125,
           "rgb(229,245,224)"
          ],
          [
           0.25,
           "rgb(199,233,192)"
          ],
          [
           0.375,
           "rgb(161,217,155)"
          ],
          [
           0.5,
           "rgb(116,196,118)"
          ],
          [
           0.625,
           "rgb(65,171,93)"
          ],
          [
           0.75,
           "rgb(35,139,69)"
          ],
          [
           0.875,
           "rgb(0,109,44)"
          ],
          [
           1,
           "rgb(0,68,27)"
          ]
         ]
        },
        "geo": {
         "center": {},
         "domain": {
          "x": [
           0,
           1
          ],
          "y": [
           0,
           1
          ]
         }
        },
        "height": 750,
        "legend": {
         "tracegroupgap": 0
        },
        "template": {
         "data": {
          "bar": [
           {
            "error_x": {
             "color": "#2a3f5f"
            },
            "error_y": {
             "color": "#2a3f5f"
            },
            "marker": {
             "line": {
              "color": "#E5ECF6",
              "width": 0.5
             },
             "pattern": {
              "fillmode": "overlay",
              "size": 10,
              "solidity": 0.2
             }
            },
            "type": "bar"
           }
          ],
          "barpolar": [
           {
            "marker": {
             "line": {
              "color": "#E5ECF6",
              "width": 0.5
             },
             "pattern": {
              "fillmode": "overlay",
              "size": 10,
              "solidity": 0.2
             }
            },
            "type": "barpolar"
           }
          ],
          "carpet": [
           {
            "aaxis": {
             "endlinecolor": "#2a3f5f",
             "gridcolor": "white",
             "linecolor": "white",
             "minorgridcolor": "white",
             "startlinecolor": "#2a3f5f"
            },
            "baxis": {
             "endlinecolor": "#2a3f5f",
             "gridcolor": "white",
             "linecolor": "white",
             "minorgridcolor": "white",
             "startlinecolor": "#2a3f5f"
            },
            "type": "carpet"
           }
          ],
          "choropleth": [
           {
            "colorbar": {
             "outlinewidth": 0,
             "ticks": ""
            },
            "type": "choropleth"
           }
          ],
          "contour": [
           {
            "colorbar": {
             "outlinewidth": 0,
             "ticks": ""
            },
            "colorscale": [
             [
              0,
              "#0d0887"
             ],
             [
              0.1111111111111111,
              "#46039f"
             ],
             [
              0.2222222222222222,
              "#7201a8"
             ],
             [
              0.3333333333333333,
              "#9c179e"
             ],
             [
              0.4444444444444444,
              "#bd3786"
             ],
             [
              0.5555555555555556,
              "#d8576b"
             ],
             [
              0.6666666666666666,
              "#ed7953"
             ],
             [
              0.7777777777777778,
              "#fb9f3a"
             ],
             [
              0.8888888888888888,
              "#fdca26"
             ],
             [
              1,
              "#f0f921"
             ]
            ],
            "type": "contour"
           }
          ],
          "contourcarpet": [
           {
            "colorbar": {
             "outlinewidth": 0,
             "ticks": ""
            },
            "type": "contourcarpet"
           }
          ],
          "heatmap": [
           {
            "colorbar": {
             "outlinewidth": 0,
             "ticks": ""
            },
            "colorscale": [
             [
              0,
              "#0d0887"
             ],
             [
              0.1111111111111111,
              "#46039f"
             ],
             [
              0.2222222222222222,
              "#7201a8"
             ],
             [
              0.3333333333333333,
              "#9c179e"
             ],
             [
              0.4444444444444444,
              "#bd3786"
             ],
             [
              0.5555555555555556,
              "#d8576b"
             ],
             [
              0.6666666666666666,
              "#ed7953"
             ],
             [
              0.7777777777777778,
              "#fb9f3a"
             ],
             [
              0.8888888888888888,
              "#fdca26"
             ],
             [
              1,
              "#f0f921"
             ]
            ],
            "type": "heatmap"
           }
          ],
          "heatmapgl": [
           {
            "colorbar": {
             "outlinewidth": 0,
             "ticks": ""
            },
            "colorscale": [
             [
              0,
              "#0d0887"
             ],
             [
              0.1111111111111111,
              "#46039f"
             ],
             [
              0.2222222222222222,
              "#7201a8"
             ],
             [
              0.3333333333333333,
              "#9c179e"
             ],
             [
              0.4444444444444444,
              "#bd3786"
             ],
             [
              0.5555555555555556,
              "#d8576b"
             ],
             [
              0.6666666666666666,
              "#ed7953"
             ],
             [
              0.7777777777777778,
              "#fb9f3a"
             ],
             [
              0.8888888888888888,
              "#fdca26"
             ],
             [
              1,
              "#f0f921"
             ]
            ],
            "type": "heatmapgl"
           }
          ],
          "histogram": [
           {
            "marker": {
             "pattern": {
              "fillmode": "overlay",
              "size": 10,
              "solidity": 0.2
             }
            },
            "type": "histogram"
           }
          ],
          "histogram2d": [
           {
            "colorbar": {
             "outlinewidth": 0,
             "ticks": ""
            },
            "colorscale": [
             [
              0,
              "#0d0887"
             ],
             [
              0.1111111111111111,
              "#46039f"
             ],
             [
              0.2222222222222222,
              "#7201a8"
             ],
             [
              0.3333333333333333,
              "#9c179e"
             ],
             [
              0.4444444444444444,
              "#bd3786"
             ],
             [
              0.5555555555555556,
              "#d8576b"
             ],
             [
              0.6666666666666666,
              "#ed7953"
             ],
             [
              0.7777777777777778,
              "#fb9f3a"
             ],
             [
              0.8888888888888888,
              "#fdca26"
             ],
             [
              1,
              "#f0f921"
             ]
            ],
            "type": "histogram2d"
           }
          ],
          "histogram2dcontour": [
           {
            "colorbar": {
             "outlinewidth": 0,
             "ticks": ""
            },
            "colorscale": [
             [
              0,
              "#0d0887"
             ],
             [
              0.1111111111111111,
              "#46039f"
             ],
             [
              0.2222222222222222,
              "#7201a8"
             ],
             [
              0.3333333333333333,
              "#9c179e"
             ],
             [
              0.4444444444444444,
              "#bd3786"
             ],
             [
              0.5555555555555556,
              "#d8576b"
             ],
             [
              0.6666666666666666,
              "#ed7953"
             ],
             [
              0.7777777777777778,
              "#fb9f3a"
             ],
             [
              0.8888888888888888,
              "#fdca26"
             ],
             [
              1,
              "#f0f921"
             ]
            ],
            "type": "histogram2dcontour"
           }
          ],
          "mesh3d": [
           {
            "colorbar": {
             "outlinewidth": 0,
             "ticks": ""
            },
            "type": "mesh3d"
           }
          ],
          "parcoords": [
           {
            "line": {
             "colorbar": {
              "outlinewidth": 0,
              "ticks": ""
             }
            },
            "type": "parcoords"
           }
          ],
          "pie": [
           {
            "automargin": true,
            "type": "pie"
           }
          ],
          "scatter": [
           {
            "fillpattern": {
             "fillmode": "overlay",
             "size": 10,
             "solidity": 0.2
            },
            "type": "scatter"
           }
          ],
          "scatter3d": [
           {
            "line": {
             "colorbar": {
              "outlinewidth": 0,
              "ticks": ""
             }
            },
            "marker": {
             "colorbar": {
              "outlinewidth": 0,
              "ticks": ""
             }
            },
            "type": "scatter3d"
           }
          ],
          "scattercarpet": [
           {
            "marker": {
             "colorbar": {
              "outlinewidth": 0,
              "ticks": ""
             }
            },
            "type": "scattercarpet"
           }
          ],
          "scattergeo": [
           {
            "marker": {
             "colorbar": {
              "outlinewidth": 0,
              "ticks": ""
             }
            },
            "type": "scattergeo"
           }
          ],
          "scattergl": [
           {
            "marker": {
             "colorbar": {
              "outlinewidth": 0,
              "ticks": ""
             }
            },
            "type": "scattergl"
           }
          ],
          "scattermapbox": [
           {
            "marker": {
             "colorbar": {
              "outlinewidth": 0,
              "ticks": ""
             }
            },
            "type": "scattermapbox"
           }
          ],
          "scatterpolar": [
           {
            "marker": {
             "colorbar": {
              "outlinewidth": 0,
              "ticks": ""
             }
            },
            "type": "scatterpolar"
           }
          ],
          "scatterpolargl": [
           {
            "marker": {
             "colorbar": {
              "outlinewidth": 0,
              "ticks": ""
             }
            },
            "type": "scatterpolargl"
           }
          ],
          "scatterternary": [
           {
            "marker": {
             "colorbar": {
              "outlinewidth": 0,
              "ticks": ""
             }
            },
            "type": "scatterternary"
           }
          ],
          "surface": [
           {
            "colorbar": {
             "outlinewidth": 0,
             "ticks": ""
            },
            "colorscale": [
             [
              0,
              "#0d0887"
             ],
             [
              0.1111111111111111,
              "#46039f"
             ],
             [
              0.2222222222222222,
              "#7201a8"
             ],
             [
              0.3333333333333333,
              "#9c179e"
             ],
             [
              0.4444444444444444,
              "#bd3786"
             ],
             [
              0.5555555555555556,
              "#d8576b"
             ],
             [
              0.6666666666666666,
              "#ed7953"
             ],
             [
              0.7777777777777778,
              "#fb9f3a"
             ],
             [
              0.8888888888888888,
              "#fdca26"
             ],
             [
              1,
              "#f0f921"
             ]
            ],
            "type": "surface"
           }
          ],
          "table": [
           {
            "cells": {
             "fill": {
              "color": "#EBF0F8"
             },
             "line": {
              "color": "white"
             }
            },
            "header": {
             "fill": {
              "color": "#C8D4E3"
             },
             "line": {
              "color": "white"
             }
            },
            "type": "table"
           }
          ]
         },
         "layout": {
          "annotationdefaults": {
           "arrowcolor": "#2a3f5f",
           "arrowhead": 0,
           "arrowwidth": 1
          },
          "autotypenumbers": "strict",
          "coloraxis": {
           "colorbar": {
            "outlinewidth": 0,
            "ticks": ""
           }
          },
          "colorscale": {
           "diverging": [
            [
             0,
             "#8e0152"
            ],
            [
             0.1,
             "#c51b7d"
            ],
            [
             0.2,
             "#de77ae"
            ],
            [
             0.3,
             "#f1b6da"
            ],
            [
             0.4,
             "#fde0ef"
            ],
            [
             0.5,
             "#f7f7f7"
            ],
            [
             0.6,
             "#e6f5d0"
            ],
            [
             0.7,
             "#b8e186"
            ],
            [
             0.8,
             "#7fbc41"
            ],
            [
             0.9,
             "#4d9221"
            ],
            [
             1,
             "#276419"
            ]
           ],
           "sequential": [
            [
             0,
             "#0d0887"
            ],
            [
             0.1111111111111111,
             "#46039f"
            ],
            [
             0.2222222222222222,
             "#7201a8"
            ],
            [
             0.3333333333333333,
             "#9c179e"
            ],
            [
             0.4444444444444444,
             "#bd3786"
            ],
            [
             0.5555555555555556,
             "#d8576b"
            ],
            [
             0.6666666666666666,
             "#ed7953"
            ],
            [
             0.7777777777777778,
             "#fb9f3a"
            ],
            [
             0.8888888888888888,
             "#fdca26"
            ],
            [
             1,
             "#f0f921"
            ]
           ],
           "sequentialminus": [
            [
             0,
             "#0d0887"
            ],
            [
             0.1111111111111111,
             "#46039f"
            ],
            [
             0.2222222222222222,
             "#7201a8"
            ],
            [
             0.3333333333333333,
             "#9c179e"
            ],
            [
             0.4444444444444444,
             "#bd3786"
            ],
            [
             0.5555555555555556,
             "#d8576b"
            ],
            [
             0.6666666666666666,
             "#ed7953"
            ],
            [
             0.7777777777777778,
             "#fb9f3a"
            ],
            [
             0.8888888888888888,
             "#fdca26"
            ],
            [
             1,
             "#f0f921"
            ]
           ]
          },
          "colorway": [
           "#636efa",
           "#EF553B",
           "#00cc96",
           "#ab63fa",
           "#FFA15A",
           "#19d3f3",
           "#FF6692",
           "#B6E880",
           "#FF97FF",
           "#FECB52"
          ],
          "font": {
           "color": "#2a3f5f"
          },
          "geo": {
           "bgcolor": "white",
           "lakecolor": "white",
           "landcolor": "#E5ECF6",
           "showlakes": true,
           "showland": true,
           "subunitcolor": "white"
          },
          "hoverlabel": {
           "align": "left"
          },
          "hovermode": "closest",
          "mapbox": {
           "style": "light"
          },
          "paper_bgcolor": "white",
          "plot_bgcolor": "#E5ECF6",
          "polar": {
           "angularaxis": {
            "gridcolor": "white",
            "linecolor": "white",
            "ticks": ""
           },
           "bgcolor": "#E5ECF6",
           "radialaxis": {
            "gridcolor": "white",
            "linecolor": "white",
            "ticks": ""
           }
          },
          "scene": {
           "xaxis": {
            "backgroundcolor": "#E5ECF6",
            "gridcolor": "white",
            "gridwidth": 2,
            "linecolor": "white",
            "showbackground": true,
            "ticks": "",
            "zerolinecolor": "white"
           },
           "yaxis": {
            "backgroundcolor": "#E5ECF6",
            "gridcolor": "white",
            "gridwidth": 2,
            "linecolor": "white",
            "showbackground": true,
            "ticks": "",
            "zerolinecolor": "white"
           },
           "zaxis": {
            "backgroundcolor": "#E5ECF6",
            "gridcolor": "white",
            "gridwidth": 2,
            "linecolor": "white",
            "showbackground": true,
            "ticks": "",
            "zerolinecolor": "white"
           }
          },
          "shapedefaults": {
           "line": {
            "color": "#2a3f5f"
           }
          },
          "ternary": {
           "aaxis": {
            "gridcolor": "white",
            "linecolor": "white",
            "ticks": ""
           },
           "baxis": {
            "gridcolor": "white",
            "linecolor": "white",
            "ticks": ""
           },
           "bgcolor": "#E5ECF6",
           "caxis": {
            "gridcolor": "white",
            "linecolor": "white",
            "ticks": ""
           }
          },
          "title": {
           "x": 0.05
          },
          "xaxis": {
           "automargin": true,
           "gridcolor": "white",
           "linecolor": "white",
           "ticks": "",
           "title": {
            "standoff": 15
           },
           "zerolinecolor": "white",
           "zerolinewidth": 2
          },
          "yaxis": {
           "automargin": true,
           "gridcolor": "white",
           "linecolor": "white",
           "ticks": "",
           "title": {
            "standoff": 15
           },
           "zerolinecolor": "white",
           "zerolinewidth": 2
          }
         }
        },
        "title": {
         "text": "Total Electric Vehicle Sales per Country"
        }
       }
      }
     },
     "metadata": {},
     "output_type": "display_data"
    }
   ],
   "source": [
    "fig = px.choropleth(world_map,\n",
    "    locations = 'iso_a3',\n",
    "    height = 750,\n",
    "    color = 'sales',\n",
    "    title = 'Total Electric Vehicle Sales per Country',\n",
    "    range_color = [0, 1000000],\n",
    "    color_continuous_scale = 'Greens',\n",
    "    \n",
    ")\n",
    "\n",
    "\n",
    "fig.show()"
   ]
  },
  {
   "cell_type": "markdown",
   "metadata": {},
   "source": [
    "Latest sales share"
   ]
  },
  {
   "cell_type": "code",
   "execution_count": 199,
   "metadata": {},
   "outputs": [],
   "source": [
    "def sales_share_latest(country):\n",
    "    s = ev[(ev.region == country) & (ev.parameter == 'EV sales share') & (ev.category == 'Historical') & (ev['mode'] == 'Cars')]\n",
    "\n",
    "    last = s.iloc[-1].value\n",
    "\n",
    "    return last"
   ]
  },
  {
   "cell_type": "markdown",
   "metadata": {},
   "source": [
    "Earliest sales share"
   ]
  },
  {
   "cell_type": "code",
   "execution_count": 200,
   "metadata": {},
   "outputs": [],
   "source": [
    "def sales_share_earliest(country):\n",
    "    s = ev[(ev.region == country) & (ev.parameter == 'EV sales share') & (ev.category == 'Historical') & (ev['mode'] == 'Cars')]\n",
    "\n",
    "    first = s.iloc[-2].value\n",
    "\n",
    "    return first"
   ]
  },
  {
   "cell_type": "markdown",
   "metadata": {},
   "source": [
    "List of all recorded countries"
   ]
  },
  {
   "cell_type": "code",
   "execution_count": 201,
   "metadata": {},
   "outputs": [],
   "source": [
    "country_list = []\n",
    "\n",
    "for c in ev.region:\n",
    "    if c not in country_list:\n",
    "        country_list.append(c)\n",
    "\n",
    "country_list.remove('World')\n",
    "country_list.remove('Europe')\n",
    "country_list.remove('Rest of the world')\n",
    "country_list.remove('Other Europe')\n",
    "country_list.remove('Indonesia')\n",
    "country_list.remove('Thailand')\n",
    "\n",
    "country_list[15] = 'South Korea'\n",
    "\n",
    "country_list = sorted(country_list)\n",
    "\n",
    "country_list[-1] = country_list[-2]\n",
    "country_list[-2] = 'United Kingdom'\n"
   ]
  },
  {
   "cell_type": "markdown",
   "metadata": {},
   "source": [
    "Sales Share Lists"
   ]
  },
  {
   "cell_type": "code",
   "execution_count": 202,
   "metadata": {},
   "outputs": [],
   "source": [
    "shares_latest = []\n",
    "for c in country_list:\n",
    "    if c == 'South Korea':\n",
    "        shares_latest.append(f\"{sales_share_latest('Korea')}\")\n",
    "    else:\n",
    "        shares_latest.append(f\"{sales_share_latest(c)}\")\n",
    "\n",
    "shares_earliest = []\n",
    "for c in country_list:\n",
    "    if c == 'South Korea':\n",
    "        shares_earliest.append(f\"{sales_share_earliest('Korea')}\")\n",
    "    else:\n",
    "        shares_earliest.append(f\"{sales_share_earliest(c)}\")\n",
    "\n",
    "\n",
    "shares_latest = list(map(float, shares_latest))\n",
    "shares_earliest = list(map(float, shares_earliest))\n",
    "\n",
    "\n",
    "l = len(shares_latest)\n",
    "l2 = len(shares_earliest)\n"
   ]
  },
  {
   "cell_type": "markdown",
   "metadata": {},
   "source": [
    "New Dataframe"
   ]
  },
  {
   "cell_type": "code",
   "execution_count": 203,
   "metadata": {},
   "outputs": [],
   "source": [
    "df = pd.DataFrame({'2021': shares_latest})\n",
    "df1 = pd.DataFrame({'2020': shares_earliest})\n",
    "df2 = pd.DataFrame({'country': country_list})\n",
    "\n",
    "all_shares = pd.concat([df2, df1, df], axis=1)\n",
    "\n",
    "all_shares = all_shares.sort_values('2021')\n"
   ]
  },
  {
   "cell_type": "markdown",
   "metadata": {},
   "source": [
    "Bar plot"
   ]
  },
  {
   "cell_type": "code",
   "execution_count": 204,
   "metadata": {},
   "outputs": [
    {
     "data": {
      "image/png": "[encoded data removed]",
      "text/plain": [
       "<Figure size 1440x720 with 1 Axes>"
      ]
     },
     "metadata": {
      "needs_background": "light"
     },
     "output_type": "display_data"
    }
   ],
   "source": [
    "\n",
    "all_shares.plot(kind = 'bar', \n",
    "x = 'country', \n",
    "stacked = False,\n",
    "title = 'Share of Electric Car Sales per country',\n",
    "xlabel = 'Countries',\n",
    "ylabel = 'Percentage %',\n",
    "fontsize = '12',\n",
    "color = {'2020': 'lightgreen','2021': 'green'}\n",
    ")\n",
    "\n",
    "plt.show()"
   ]
  },
  {
   "cell_type": "markdown",
   "metadata": {},
   "source": [
    "Changing values in dataset"
   ]
  },
  {
   "cell_type": "code",
   "execution_count": 205,
   "metadata": {},
   "outputs": [],
   "source": [
    "world_share = world_geo\n",
    "\n",
    "world_share = world_share.sort_values('name')\n",
    "\n",
    "world_share = world_share.rename(columns = {'sales': 'percentage'})"
   ]
  },
  {
   "cell_type": "code",
   "execution_count": 206,
   "metadata": {},
   "outputs": [],
   "source": [
    "total_sales = []\n",
    "\n",
    "for i in world_share.percentage:\n",
    "    if i > 0:\n",
    "        total_sales.append(i)"
   ]
  },
  {
   "cell_type": "code",
   "execution_count": 207,
   "metadata": {},
   "outputs": [],
   "source": [
    "world_share['percentage'].replace(to_replace = total_sales, value = shares_latest, inplace = True)\n"
   ]
  },
  {
   "cell_type": "markdown",
   "metadata": {},
   "source": [
    "Choropleth for ev sales share"
   ]
  },
  {
   "cell_type": "code",
   "execution_count": 208,
   "metadata": {},
   "outputs": [
    {
     "data": {
      "application/vnd.plotly.v1+json": {
       "config": {
        "plotlyServerURL": "https://plot.ly"
       },
       "data": [
        {
         "coloraxis": "coloraxis",
         "geo": "geo",
         "hovertemplate": "iso_a3=%{location}<br>percentage=%{z}<extra></extra>",
         "locations": [
          "AFG",
          "ALB",
          "DZA",
          "AGO",
          "ARG",
          "ARM",
          "AUS",
          "AUT",
          "AZE",
          "BHS",
          "BGD",
          "BLR",
          "BEL",
          "BLZ",
          "BEN",
          "BTN",
          "BOL",
          "BIH",
          "BWA",
          "BRA",
          "BRN",
          "BGR",
          "BFA",
          "BDI",
          "KHM",
          "CMR",
          "CAN",
          "CAF",
          "TCD",
          "CHL",
          "CHN",
          "COL",
          "COG",
          "CRI",
          "HRV",
          "CUB",
          "CYP",
          "CZE",
          "CIV",
          "COD",
          "DNK",
          "DJI",
          "DOM",
          "ECU",
          "EGY",
          "SLV",
          "GNQ",
          "ERI",
          "EST",
          "ETH",
          "FLK",
          "FJI",
          "FIN",
          "ATF",
          "FRA",
          "GAB",
          "GMB",
          "GEO",
          "DEU",
          "GHA",
          "GRC",
          "GRL",
          "GTM",
          "GIN",
          "GNB",
          "GUY",
          "HTI",
          "HND",
          "HUN",
          "ISL",
          "IND",
          "IDN",
          "IRN",
          "IRQ",
          "IRL",
          "ISR",
          "ITA",
          "JAM",
          "JPN",
          "JOR",
          "KAZ",
          "KEN",
          "-99",
          "KWT",
          "KGZ",
          "LAO",
          "LVA",
          "LBN",
          "LSO",
          "LBR",
          "LBY",
          "LTU",
          "LUX",
          "MKD",
          "MDG",
          "MWI",
          "MYS",
          "MLI",
          "MRT",
          "MEX",
          "MDA",
          "MNG",
          "MNE",
          "MAR",
          "MOZ",
          "MMR",
          "-99",
          "NAM",
          "NPL",
          "NLD",
          "NCL",
          "NZL",
          "NIC",
          "NER",
          "NGA",
          "PRK",
          "NOR",
          "OMN",
          "PAK",
          "PSE",
          "PAN",
          "PNG",
          "PRY",
          "PER",
          "PHL",
          "POL",
          "PRT",
          "PRI",
          "QAT",
          "ROU",
          "RUS",
          "RWA",
          "SSD",
          "SAU",
          "SEN",
          "SRB",
          "SLE",
          "SVK",
          "SVN",
          "SLB",
          "SOM",
          "-99",
          "ZAF",
          "KOR",
          "ESP",
          "LKA",
          "SDN",
          "SUR",
          "SWE",
          "CHE",
          "SYR",
          "TWN",
          "TJK",
          "TZA",
          "THA",
          "TLS",
          "TGO",
          "TTO",
          "TUN",
          "TUR",
          "TKM",
          "UGA",
          "UKR",
          "ARE",
          "GBR",
          "USA",
          "URY",
          "UZB",
          "VUT",
          "VEN",
          "VNM",
          "ESH",
          "YEM",
          "ZMB",
          "ZWE",
          "SWZ",
          "ATA"
         ],
         "name": "",
         "type": "choropleth",
         "z": [
          null,
          null,
          null,
          null,
          null,
          null,
          2.822305917739868,
          null,
          null,
          null,
          null,
          null,
          18.448383331298828,
          null,
          null,
          null,
          null,
          null,
          null,
          0.465457409620285,
          null,
          null,
          null,
          null,
          null,
          null,
          6.598866939544678,
          null,
          null,
          0.1914425790309906,
          16.005657196044922,
          null,
          null,
          null,
          null,
          null,
          null,
          null,
          null,
          null,
          35.42444610595703,
          null,
          null,
          null,
          null,
          null,
          null,
          null,
          null,
          null,
          null,
          null,
          30.7806339263916,
          null,
          18.89927673339844,
          null,
          null,
          null,
          25.98686790466309,
          null,
          6.897816181182861,
          null,
          null,
          null,
          null,
          null,
          null,
          null,
          null,
          71.7287368774414,
          0.3808370232582092,
          null,
          null,
          null,
          null,
          null,
          9.46615505218506,
          null,
          0.9957961440086364,
          null,
          null,
          null,
          null,
          null,
          null,
          null,
          null,
          null,
          null,
          null,
          null,
          null,
          null,
          null,
          null,
          null,
          null,
          null,
          null,
          0.4983768165111542,
          null,
          null,
          null,
          null,
          null,
          null,
          null,
          null,
          null,
          29.734264373779297,
          null,
          4.404532909393311,
          null,
          null,
          null,
          null,
          86.16714477539062,
          null,
          null,
          null,
          null,
          null,
          null,
          null,
          null,
          1.3608596324920654,
          19.900842666625977,
          null,
          null,
          null,
          null,
          null,
          null,
          null,
          null,
          null,
          null,
          null,
          null,
          null,
          null,
          null,
          0.0885812491178512,
          6.24240779876709,
          7.879326820373535,
          null,
          null,
          null,
          43.29474258422852,
          22.42904090881348,
          null,
          null,
          null,
          null,
          null,
          null,
          null,
          null,
          null,
          null,
          null,
          null,
          null,
          null,
          18.958208084106445,
          4.561257839202881,
          null,
          null,
          null,
          null,
          null,
          null,
          null,
          null,
          null,
          null,
          null
         ]
        }
       ],
       "layout": {
        "coloraxis": {
         "cmax": 90,
         "cmin": 0,
         "colorbar": {
          "title": {
           "text": "percentage"
          }
         },
         "colorscale": [
          [
           0,
           "rgb(247,252,245)"
          ],
          [
           0.125,
           "rgb(229,245,224)"
          ],
          [
           0.25,
           "rgb(199,233,192)"
          ],
          [
           0.375,
           "rgb(161,217,155)"
          ],
          [
           0.5,
           "rgb(116,196,118)"
          ],
          [
           0.625,
           "rgb(65,171,93)"
          ],
          [
           0.75,
           "rgb(35,139,69)"
          ],
          [
           0.875,
           "rgb(0,109,44)"
          ],
          [
           1,
           "rgb(0,68,27)"
          ]
         ]
        },
        "geo": {
         "center": {},
         "domain": {
          "x": [
           0,
           1
          ],
          "y": [
           0,
           1
          ]
         }
        },
        "height": 750,
        "legend": {
         "tracegroupgap": 0
        },
        "template": {
         "data": {
          "bar": [
           {
            "error_x": {
             "color": "#2a3f5f"
            },
            "error_y": {
             "color": "#2a3f5f"
            },
            "marker": {
             "line": {
              "color": "#E5ECF6",
              "width": 0.5
             },
             "pattern": {
              "fillmode": "overlay",
              "size": 10,
              "solidity": 0.2
             }
            },
            "type": "bar"
           }
          ],
          "barpolar": [
           {
            "marker": {
             "line": {
              "color": "#E5ECF6",
              "width": 0.5
             },
             "pattern": {
              "fillmode": "overlay",
              "size": 10,
              "solidity": 0.2
             }
            },
            "type": "barpolar"
           }
          ],
          "carpet": [
           {
            "aaxis": {
             "endlinecolor": "#2a3f5f",
             "gridcolor": "white",
             "linecolor": "white",
             "minorgridcolor": "white",
             "startlinecolor": "#2a3f5f"
            },
            "baxis": {
             "endlinecolor": "#2a3f5f",
             "gridcolor": "white",
             "linecolor": "white",
             "minorgridcolor": "white",
             "startlinecolor": "#2a3f5f"
            },
            "type": "carpet"
           }
          ],
          "choropleth": [
           {
            "colorbar": {
             "outlinewidth": 0,
             "ticks": ""
            },
            "type": "choropleth"
           }
          ],
          "contour": [
           {
            "colorbar": {
             "outlinewidth": 0,
             "ticks": ""
            },
            "colorscale": [
             [
              0,
              "#0d0887"
             ],
             [
              0.1111111111111111,
              "#46039f"
             ],
             [
              0.2222222222222222,
              "#7201a8"
             ],
             [
              0.3333333333333333,
              "#9c179e"
             ],
             [
              0.4444444444444444,
              "#bd3786"
             ],
             [
              0.5555555555555556,
              "#d8576b"
             ],
             [
              0.6666666666666666,
              "#ed7953"
             ],
             [
              0.7777777777777778,
              "#fb9f3a"
             ],
             [
              0.8888888888888888,
              "#fdca26"
             ],
             [
              1,
              "#f0f921"
             ]
            ],
            "type": "contour"
           }
          ],
          "contourcarpet": [
           {
            "colorbar": {
             "outlinewidth": 0,
             "ticks": ""
            },
            "type": "contourcarpet"
           }
          ],
          "heatmap": [
           {
            "colorbar": {
             "outlinewidth": 0,
             "ticks": ""
            },
            "colorscale": [
             [
              0,
              "#0d0887"
             ],
             [
              0.1111111111111111,
              "#46039f"
             ],
             [
              0.2222222222222222,
              "#7201a8"
             ],
             [
              0.3333333333333333,
              "#9c179e"
             ],
             [
              0.4444444444444444,
              "#bd3786"
             ],
             [
              0.5555555555555556,
              "#d8576b"
             ],
             [
              0.6666666666666666,
              "#ed7953"
             ],
             [
              0.7777777777777778,
              "#fb9f3a"
             ],
             [
              0.8888888888888888,
              "#fdca26"
             ],
             [
              1,
              "#f0f921"
             ]
            ],
            "type": "heatmap"
           }
          ],
          "heatmapgl": [
           {
            "colorbar": {
             "outlinewidth": 0,
             "ticks": ""
            },
            "colorscale": [
             [
              0,
              "#0d0887"
             ],
             [
              0.1111111111111111,
              "#46039f"
             ],
             [
              0.2222222222222222,
              "#7201a8"
             ],
             [
              0.3333333333333333,
              "#9c179e"
             ],
             [
              0.4444444444444444,
              "#bd3786"
             ],
             [
              0.5555555555555556,
              "#d8576b"
             ],
             [
              0.6666666666666666,
              "#ed7953"
             ],
             [
              0.7777777777777778,
              "#fb9f3a"
             ],
             [
              0.8888888888888888,
              "#fdca26"
             ],
             [
              1,
              "#f0f921"
             ]
            ],
            "type": "heatmapgl"
           }
          ],
          "histogram": [
           {
            "marker": {
             "pattern": {
              "fillmode": "overlay",
              "size": 10,
              "solidity": 0.2
             }
            },
            "type": "histogram"
           }
          ],
          "histogram2d": [
           {
            "colorbar": {
             "outlinewidth": 0,
             "ticks": ""
            },
            "colorscale": [
             [
              0,
              "#0d0887"
             ],
             [
              0.1111111111111111,
              "#46039f"
             ],
             [
              0.2222222222222222,
              "#7201a8"
             ],
             [
              0.3333333333333333,
              "#9c179e"
             ],
             [
              0.4444444444444444,
              "#bd3786"
             ],
             [
              0.5555555555555556,
              "#d8576b"
             ],
             [
              0.6666666666666666,
              "#ed7953"
             ],
             [
              0.7777777777777778,
              "#fb9f3a"
             ],
             [
              0.8888888888888888,
              "#fdca26"
             ],
             [
              1,
              "#f0f921"
             ]
            ],
            "type": "histogram2d"
           }
          ],
          "histogram2dcontour": [
           {
            "colorbar": {
             "outlinewidth": 0,
             "ticks": ""
            },
            "colorscale": [
             [
              0,
              "#0d0887"
             ],
             [
              0.1111111111111111,
              "#46039f"
             ],
             [
              0.2222222222222222,
              "#7201a8"
             ],
             [
              0.3333333333333333,
              "#9c179e"
             ],
             [
              0.4444444444444444,
              "#bd3786"
             ],
             [
              0.5555555555555556,
              "#d8576b"
             ],
             [
              0.6666666666666666,
              "#ed7953"
             ],
             [
              0.7777777777777778,
              "#fb9f3a"
             ],
             [
              0.8888888888888888,
              "#fdca26"
             ],
             [
              1,
              "#f0f921"
             ]
            ],
            "type": "histogram2dcontour"
           }
          ],
          "mesh3d": [
           {
            "colorbar": {
             "outlinewidth": 0,
             "ticks": ""
            },
            "type": "mesh3d"
           }
          ],
          "parcoords": [
           {
            "line": {
             "colorbar": {
              "outlinewidth": 0,
              "ticks": ""
             }
            },
            "type": "parcoords"
           }
          ],
          "pie": [
           {
            "automargin": true,
            "type": "pie"
           }
          ],
          "scatter": [
           {
            "fillpattern": {
             "fillmode": "overlay",
             "size": 10,
             "solidity": 0.2
            },
            "type": "scatter"
           }
          ],
          "scatter3d": [
           {
            "line": {
             "colorbar": {
              "outlinewidth": 0,
              "ticks": ""
             }
            },
            "marker": {
             "colorbar": {
              "outlinewidth": 0,
              "ticks": ""
             }
            },
            "type": "scatter3d"
           }
          ],
          "scattercarpet": [
           {
            "marker": {
             "colorbar": {
              "outlinewidth": 0,
              "ticks": ""
             }
            },
            "type": "scattercarpet"
           }
          ],
          "scattergeo": [
           {
            "marker": {
             "colorbar": {
              "outlinewidth": 0,
              "ticks": ""
             }
            },
            "type": "scattergeo"
           }
          ],
          "scattergl": [
           {
            "marker": {
             "colorbar": {
              "outlinewidth": 0,
              "ticks": ""
             }
            },
            "type": "scattergl"
           }
          ],
          "scattermapbox": [
           {
            "marker": {
             "colorbar": {
              "outlinewidth": 0,
              "ticks": ""
             }
            },
            "type": "scattermapbox"
           }
          ],
          "scatterpolar": [
           {
            "marker": {
             "colorbar": {
              "outlinewidth": 0,
              "ticks": ""
             }
            },
            "type": "scatterpolar"
           }
          ],
          "scatterpolargl": [
           {
            "marker": {
             "colorbar": {
              "outlinewidth": 0,
              "ticks": ""
             }
            },
            "type": "scatterpolargl"
           }
          ],
          "scatterternary": [
           {
            "marker": {
             "colorbar": {
              "outlinewidth": 0,
              "ticks": ""
             }
            },
            "type": "scatterternary"
           }
          ],
          "surface": [
           {
            "colorbar": {
             "outlinewidth": 0,
             "ticks": ""
            },
            "colorscale": [
             [
              0,
              "#0d0887"
             ],
             [
              0.1111111111111111,
              "#46039f"
             ],
             [
              0.2222222222222222,
              "#7201a8"
             ],
             [
              0.3333333333333333,
              "#9c179e"
             ],
             [
              0.4444444444444444,
              "#bd3786"
             ],
             [
              0.5555555555555556,
              "#d8576b"
             ],
             [
              0.6666666666666666,
              "#ed7953"
             ],
             [
              0.7777777777777778,
              "#fb9f3a"
             ],
             [
              0.8888888888888888,
              "#fdca26"
             ],
             [
              1,
              "#f0f921"
             ]
            ],
            "type": "surface"
           }
          ],
          "table": [
           {
            "cells": {
             "fill": {
              "color": "#EBF0F8"
             },
             "line": {
              "color": "white"
             }
            },
            "header": {
             "fill": {
              "color": "#C8D4E3"
             },
             "line": {
              "color": "white"
             }
            },
            "type": "table"
           }
          ]
         },
         "layout": {
          "annotationdefaults": {
           "arrowcolor": "#2a3f5f",
           "arrowhead": 0,
           "arrowwidth": 1
          },
          "autotypenumbers": "strict",
          "coloraxis": {
           "colorbar": {
            "outlinewidth": 0,
            "ticks": ""
           }
          },
          "colorscale": {
           "diverging": [
            [
             0,
             "#8e0152"
            ],
            [
             0.1,
             "#c51b7d"
            ],
            [
             0.2,
             "#de77ae"
            ],
            [
             0.3,
             "#f1b6da"
            ],
            [
             0.4,
             "#fde0ef"
            ],
            [
             0.5,
             "#f7f7f7"
            ],
            [
             0.6,
             "#e6f5d0"
            ],
            [
             0.7,
             "#b8e186"
            ],
            [
             0.8,
             "#7fbc41"
            ],
            [
             0.9,
             "#4d9221"
            ],
            [
             1,
             "#276419"
            ]
           ],
           "sequential": [
            [
             0,
             "#0d0887"
            ],
            [
             0.1111111111111111,
             "#46039f"
            ],
            [
             0.2222222222222222,
             "#7201a8"
            ],
            [
             0.3333333333333333,
             "#9c179e"
            ],
            [
             0.4444444444444444,
             "#bd3786"
            ],
            [
             0.5555555555555556,
             "#d8576b"
            ],
            [
             0.6666666666666666,
             "#ed7953"
            ],
            [
             0.7777777777777778,
             "#fb9f3a"
            ],
            [
             0.8888888888888888,
             "#fdca26"
            ],
            [
             1,
             "#f0f921"
            ]
           ],
           "sequentialminus": [
            [
             0,
             "#0d0887"
            ],
            [
             0.1111111111111111,
             "#46039f"
            ],
            [
             0.2222222222222222,
             "#7201a8"
            ],
            [
             0.3333333333333333,
             "#9c179e"
            ],
            [
             0.4444444444444444,
             "#bd3786"
            ],
            [
             0.5555555555555556,
             "#d8576b"
            ],
            [
             0.6666666666666666,
             "#ed7953"
            ],
            [
             0.7777777777777778,
             "#fb9f3a"
            ],
            [
             0.8888888888888888,
             "#fdca26"
            ],
            [
             1,
             "#f0f921"
            ]
           ]
          },
          "colorway": [
           "#636efa",
           "#EF553B",
           "#00cc96",
           "#ab63fa",
           "#FFA15A",
           "#19d3f3",
           "#FF6692",
           "#B6E880",
           "#FF97FF",
           "#FECB52"
          ],
          "font": {
           "color": "#2a3f5f"
          },
          "geo": {
           "bgcolor": "white",
           "lakecolor": "white",
           "landcolor": "#E5ECF6",
           "showlakes": true,
           "showland": true,
           "subunitcolor": "white"
          },
          "hoverlabel": {
           "align": "left"
          },
          "hovermode": "closest",
          "mapbox": {
           "style": "light"
          },
          "paper_bgcolor": "white",
          "plot_bgcolor": "#E5ECF6",
          "polar": {
           "angularaxis": {
            "gridcolor": "white",
            "linecolor": "white",
            "ticks": ""
           },
           "bgcolor": "#E5ECF6",
           "radialaxis": {
            "gridcolor": "white",
            "linecolor": "white",
            "ticks": ""
           }
          },
          "scene": {
           "xaxis": {
            "backgroundcolor": "#E5ECF6",
            "gridcolor": "white",
            "gridwidth": 2,
            "linecolor": "white",
            "showbackground": true,
            "ticks": "",
            "zerolinecolor": "white"
           },
           "yaxis": {
            "backgroundcolor": "#E5ECF6",
            "gridcolor": "white",
            "gridwidth": 2,
            "linecolor": "white",
            "showbackground": true,
            "ticks": "",
            "zerolinecolor": "white"
           },
           "zaxis": {
            "backgroundcolor": "#E5ECF6",
            "gridcolor": "white",
            "gridwidth": 2,
            "linecolor": "white",
            "showbackground": true,
            "ticks": "",
            "zerolinecolor": "white"
           }
          },
          "shapedefaults": {
           "line": {
            "color": "#2a3f5f"
           }
          },
          "ternary": {
           "aaxis": {
            "gridcolor": "white",
            "linecolor": "white",
            "ticks": ""
           },
           "baxis": {
            "gridcolor": "white",
            "linecolor": "white",
            "ticks": ""
           },
           "bgcolor": "#E5ECF6",
           "caxis": {
            "gridcolor": "white",
            "linecolor": "white",
            "ticks": ""
           }
          },
          "title": {
           "x": 0.05
          },
          "xaxis": {
           "automargin": true,
           "gridcolor": "white",
           "linecolor": "white",
           "ticks": "",
           "title": {
            "standoff": 15
           },
           "zerolinecolor": "white",
           "zerolinewidth": 2
          },
          "yaxis": {
           "automargin": true,
           "gridcolor": "white",
           "linecolor": "white",
           "ticks": "",
           "title": {
            "standoff": 15
           },
           "zerolinecolor": "white",
           "zerolinewidth": 2
          }
         }
        },
        "title": {
         "text": "Electric Vehicle Sales Share per Country"
        }
       }
      }
     },
     "metadata": {},
     "output_type": "display_data"
    }
   ],
   "source": [
    "fig2 = px.choropleth(world_share,\n",
    "    locations = 'iso_a3',\n",
    "    height = 750,\n",
    "    color = 'percentage',\n",
    "    title = 'Electric Vehicle Sales Share per Country',\n",
    "    range_color = [0,90],\n",
    "    color_continuous_scale = 'Greens',\n",
    "    \n",
    ")\n",
    "\n",
    "\n",
    "fig2.show()"
   ]
  },
  {
   "cell_type": "markdown",
   "metadata": {},
   "source": [
    "Investigating energy data"
   ]
  },
  {
   "cell_type": "code",
   "execution_count": 209,
   "metadata": {},
   "outputs": [],
   "source": [
    "a = energy.iloc[262] \n",
    "\n",
    "df = pd.DataFrame(a)\n"
   ]
  },
  {
   "cell_type": "code",
   "execution_count": 210,
   "metadata": {},
   "outputs": [],
   "source": [
    "countries = items_geo\n",
    "\n",
    "countries.sort()\n",
    "\n",
    "filter = energy['Country Name'].isin(countries)\n",
    "\n",
    "filter_energy = energy[filter]\n",
    "\n",
    "filter_e = filter_energy.sort_values(['Country Name'])\n",
    "\n",
    "new_countries = []\n",
    "\n",
    "for c in filter_e['Country Name']:\n",
    "    new_countries.append(c)\n",
    "\n",
    "\n",
    "results = []\n",
    "\n",
    "count = 0\n",
    "\n",
    "for i in filter_e['2019']:\n",
    "    results.append(f\"{i}\")\n",
    "    count += 1"
   ]
  },
  {
   "cell_type": "code",
   "execution_count": 211,
   "metadata": {},
   "outputs": [],
   "source": [
    "world_re = world_geo"
   ]
  },
  {
   "cell_type": "code",
   "execution_count": 212,
   "metadata": {},
   "outputs": [
    {
     "name": "stderr",
     "output_type": "stream",
     "text": [
      "/var/folders/kr/tpqxlsqd5012gdrwgp9860v40000gn/T/ipykernel_2142/364188295.py:7: SettingWithCopyWarning:\n",
      "\n",
      "\n",
      "A value is trying to be set on a copy of a slice from a DataFrame\n",
      "\n",
      "See the caveats in the documentation: https://pandas.pydata.org/pandas-docs/stable/user_guide/indexing.html#returning-a-view-versus-a-copy\n",
      "\n"
     ]
    }
   ],
   "source": [
    "count = -1\n",
    "index = 0\n",
    "\n",
    "for c in world_re.name:\n",
    "    count += 1\n",
    "    if c in new_countries:\n",
    "        world_re['sales'].iloc[count] =  results[index]\n",
    "        index += 1\n",
    "\n",
    "world_reset = world_re.reset_index()"
   ]
  },
  {
   "cell_type": "code",
   "execution_count": 213,
   "metadata": {},
   "outputs": [
    {
     "name": "stderr",
     "output_type": "stream",
     "text": [
      "/var/folders/kr/tpqxlsqd5012gdrwgp9860v40000gn/T/ipykernel_2142/173403938.py:3: SettingWithCopyWarning:\n",
      "\n",
      "\n",
      "A value is trying to be set on a copy of a slice from a DataFrame\n",
      "\n",
      "See the caveats in the documentation: https://pandas.pydata.org/pandas-docs/stable/user_guide/indexing.html#returning-a-view-versus-a-copy\n",
      "\n",
      "/var/folders/kr/tpqxlsqd5012gdrwgp9860v40000gn/T/ipykernel_2142/173403938.py:5: SettingWithCopyWarning:\n",
      "\n",
      "\n",
      "A value is trying to be set on a copy of a slice from a DataFrame\n",
      "\n",
      "See the caveats in the documentation: https://pandas.pydata.org/pandas-docs/stable/user_guide/indexing.html#returning-a-view-versus-a-copy\n",
      "\n",
      "/var/folders/kr/tpqxlsqd5012gdrwgp9860v40000gn/T/ipykernel_2142/173403938.py:7: SettingWithCopyWarning:\n",
      "\n",
      "\n",
      "A value is trying to be set on a copy of a slice from a DataFrame\n",
      "\n",
      "See the caveats in the documentation: https://pandas.pydata.org/pandas-docs/stable/user_guide/indexing.html#returning-a-view-versus-a-copy\n",
      "\n"
     ]
    }
   ],
   "source": [
    "world_sorted = world_reset.drop('index', axis=1)\n",
    "\n",
    "world_sorted['sales'].iloc[165] = 10.42\n",
    "\n",
    "world_sorted['sales'].iloc[143] = 3.36\n",
    "\n",
    "world_sorted['sales'].iloc[130] = 3.22"
   ]
  },
  {
   "cell_type": "code",
   "execution_count": 214,
   "metadata": {},
   "outputs": [],
   "source": [
    "world_sorted = world_sorted.rename(columns = {'sales': 'percentage'})\n",
    "\n",
    "world_sorted.percentage = pd.to_numeric(world_sorted.percentage)\n"
   ]
  },
  {
   "cell_type": "code",
   "execution_count": 215,
   "metadata": {},
   "outputs": [
    {
     "data": {
      "application/vnd.plotly.v1+json": {
       "config": {
        "plotlyServerURL": "https://plot.ly"
       },
       "data": [
        {
         "coloraxis": "coloraxis",
         "geo": "geo",
         "hovertemplate": "iso_a3=%{location}<br>percentage=%{z}<extra></extra>",
         "locations": [
          "AFG",
          "ALB",
          "DZA",
          "AGO",
          "ARG",
          "ARM",
          "AUS",
          "AUT",
          "AZE",
          "BHS",
          "BGD",
          "BLR",
          "BEL",
          "BLZ",
          "BEN",
          "BTN",
          "BOL",
          "BIH",
          "BWA",
          "BRA",
          "BRN",
          "BGR",
          "BFA",
          "BDI",
          "KHM",
          "CMR",
          "CAN",
          "CAF",
          "TCD",
          "CHL",
          "CHN",
          "COL",
          "COG",
          "CRI",
          "HRV",
          "CUB",
          "CYP",
          "CZE",
          "CIV",
          "COD",
          "DNK",
          "DJI",
          "DOM",
          "ECU",
          "EGY",
          "SLV",
          "GNQ",
          "ERI",
          "EST",
          "ETH",
          "FLK",
          "FJI",
          "FIN",
          "ATF",
          "FRA",
          "GAB",
          "GMB",
          "GEO",
          "DEU",
          "GHA",
          "GRC",
          "GRL",
          "GTM",
          "GIN",
          "GNB",
          "GUY",
          "HTI",
          "HND",
          "HUN",
          "ISL",
          "IND",
          "IDN",
          "IRN",
          "IRQ",
          "IRL",
          "ISR",
          "ITA",
          "JAM",
          "JPN",
          "JOR",
          "KAZ",
          "KEN",
          "-99",
          "KWT",
          "KGZ",
          "LAO",
          "LVA",
          "LBN",
          "LSO",
          "LBR",
          "LBY",
          "LTU",
          "LUX",
          "MKD",
          "MDG",
          "MWI",
          "MYS",
          "MLI",
          "MRT",
          "MEX",
          "MDA",
          "MNG",
          "MNE",
          "MAR",
          "MOZ",
          "MMR",
          "-99",
          "NAM",
          "NPL",
          "NLD",
          "NCL",
          "NZL",
          "NIC",
          "NER",
          "NGA",
          "PRK",
          "NOR",
          "OMN",
          "PAK",
          "PSE",
          "PAN",
          "PNG",
          "PRY",
          "PER",
          "PHL",
          "POL",
          "PRT",
          "PRI",
          "QAT",
          "ROU",
          "RUS",
          "RWA",
          "SSD",
          "SAU",
          "SEN",
          "SRB",
          "SLE",
          "SVK",
          "SVN",
          "SLB",
          "SOM",
          "-99",
          "ZAF",
          "KOR",
          "ESP",
          "LKA",
          "SDN",
          "SUR",
          "SWE",
          "CHE",
          "SYR",
          "TWN",
          "TJK",
          "TZA",
          "THA",
          "TLS",
          "TGO",
          "TTO",
          "TUN",
          "TUR",
          "TKM",
          "UGA",
          "UKR",
          "ARE",
          "GBR",
          "USA",
          "URY",
          "UZB",
          "VUT",
          "VEN",
          "VNM",
          "ESH",
          "YEM",
          "ZMB",
          "ZWE",
          "SWZ",
          "ATA"
         ],
         "name": "",
         "type": "choropleth",
         "z": [
          18.51,
          40.2,
          0.16,
          54.69,
          10.74,
          10.34,
          10.13,
          33.77,
          1.62,
          null,
          24.75,
          7.83,
          10.21,
          29.09,
          46.47,
          82.27,
          8.67,
          null,
          25.57,
          47.57,
          null,
          19.34,
          64.85,
          84.77,
          53.36,
          79.41,
          22.11,
          null,
          77.79,
          25.26,
          14.45,
          30.72,
          null,
          35.76,
          31.6,
          21.54,
          12.05,
          null,
          null,
          null,
          37.52,
          27.92,
          null,
          17.73,
          null,
          19.39,
          null,
          73.67,
          31.29,
          88.92,
          null,
          26.48,
          45.76,
          null,
          15.53,
          89.88,
          null,
          25.22,
          17.17,
          41.8,
          18.51,
          12.6,
          62.92,
          65.44,
          86.24,
          11.35,
          76.4,
          45.96,
          13.64,
          81.07,
          32.93,
          19.09,
          null,
          0.43,
          12.34,
          4.47,
          17.27,
          9.09,
          7.69,
          8.17,
          1.7,
          68.08,
          26.1,
          0.06,
          null,
          null,
          41.52,
          5.46,
          39.47,
          87.24,
          2.8,
          33.53,
          16.45,
          null,
          82.77,
          73.02,
          5.11,
          76.64,
          24.7,
          10.34,
          22.04,
          3.32,
          38.74,
          10.69,
          78.08,
          57.85,
          null,
          30.69,
          77.39,
          8.54,
          5.4,
          29.65,
          50.71,
          80.83,
          81.4,
          null,
          62.37,
          0,
          43.36,
          null,
          18.91,
          53.09,
          60.09,
          27.12,
          26.73,
          12.18,
          28.19,
          2.42,
          0.04,
          23.54,
          3.22,
          77.86,
          null,
          0.03,
          37.2,
          21.53,
          75.44,
          null,
          20.86,
          null,
          95.03,
          null,
          10.5,
          3.36,
          17.27,
          49.91,
          62.23,
          14.4,
          52.88,
          24.76,
          null,
          null,
          38.56,
          85.22,
          23.96,
          11.67,
          76.21,
          0.43,
          12.2,
          null,
          0.06,
          90.22,
          7.44,
          0.67,
          12.24,
          10.42,
          60.76,
          1.57,
          31.86,
          null,
          18.65,
          null,
          null,
          84.5,
          81.5,
          null,
          null
         ]
        }
       ],
       "layout": {
        "coloraxis": {
         "cmax": 100,
         "cmin": 0,
         "colorbar": {
          "title": {
           "text": "percentage"
          }
         },
         "colorscale": [
          [
           0,
           "rgb(247,251,255)"
          ],
          [
           0.125,
           "rgb(222,235,247)"
          ],
          [
           0.25,
           "rgb(198,219,239)"
          ],
          [
           0.375,
           "rgb(158,202,225)"
          ],
          [
           0.5,
           "rgb(107,174,214)"
          ],
          [
           0.625,
           "rgb(66,146,198)"
          ],
          [
           0.75,
           "rgb(33,113,181)"
          ],
          [
           0.875,
           "rgb(8,81,156)"
          ],
          [
           1,
           "rgb(8,48,107)"
          ]
         ]
        },
        "geo": {
         "center": {},
         "domain": {
          "x": [
           0,
           1
          ],
          "y": [
           0,
           1
          ]
         }
        },
        "height": 750,
        "legend": {
         "tracegroupgap": 0
        },
        "template": {
         "data": {
          "bar": [
           {
            "error_x": {
             "color": "#2a3f5f"
            },
            "error_y": {
             "color": "#2a3f5f"
            },
            "marker": {
             "line": {
              "color": "#E5ECF6",
              "width": 0.5
             },
             "pattern": {
              "fillmode": "overlay",
              "size": 10,
              "solidity": 0.2
             }
            },
            "type": "bar"
           }
          ],
          "barpolar": [
           {
            "marker": {
             "line": {
              "color": "#E5ECF6",
              "width": 0.5
             },
             "pattern": {
              "fillmode": "overlay",
              "size": 10,
              "solidity": 0.2
             }
            },
            "type": "barpolar"
           }
          ],
          "carpet": [
           {
            "aaxis": {
             "endlinecolor": "#2a3f5f",
             "gridcolor": "white",
             "linecolor": "white",
             "minorgridcolor": "white",
             "startlinecolor": "#2a3f5f"
            },
            "baxis": {
             "endlinecolor": "#2a3f5f",
             "gridcolor": "white",
             "linecolor": "white",
             "minorgridcolor": "white",
             "startlinecolor": "#2a3f5f"
            },
            "type": "carpet"
           }
          ],
          "choropleth": [
           {
            "colorbar": {
             "outlinewidth": 0,
             "ticks": ""
            },
            "type": "choropleth"
           }
          ],
          "contour": [
           {
            "colorbar": {
             "outlinewidth": 0,
             "ticks": ""
            },
            "colorscale": [
             [
              0,
              "#0d0887"
             ],
             [
              0.1111111111111111,
              "#46039f"
             ],
             [
              0.2222222222222222,
              "#7201a8"
             ],
             [
              0.3333333333333333,
              "#9c179e"
             ],
             [
              0.4444444444444444,
              "#bd3786"
             ],
             [
              0.5555555555555556,
              "#d8576b"
             ],
             [
              0.6666666666666666,
              "#ed7953"
             ],
             [
              0.7777777777777778,
              "#fb9f3a"
             ],
             [
              0.8888888888888888,
              "#fdca26"
             ],
             [
              1,
              "#f0f921"
             ]
            ],
            "type": "contour"
           }
          ],
          "contourcarpet": [
           {
            "colorbar": {
             "outlinewidth": 0,
             "ticks": ""
            },
            "type": "contourcarpet"
           }
          ],
          "heatmap": [
           {
            "colorbar": {
             "outlinewidth": 0,
             "ticks": ""
            },
            "colorscale": [
             [
              0,
              "#0d0887"
             ],
             [
              0.1111111111111111,
              "#46039f"
             ],
             [
              0.2222222222222222,
              "#7201a8"
             ],
             [
              0.3333333333333333,
              "#9c179e"
             ],
             [
              0.4444444444444444,
              "#bd3786"
             ],
             [
              0.5555555555555556,
              "#d8576b"
             ],
             [
              0.6666666666666666,
              "#ed7953"
             ],
             [
              0.7777777777777778,
              "#fb9f3a"
             ],
             [
              0.8888888888888888,
              "#fdca26"
             ],
             [
              1,
              "#f0f921"
             ]
            ],
            "type": "heatmap"
           }
          ],
          "heatmapgl": [
           {
            "colorbar": {
             "outlinewidth": 0,
             "ticks": ""
            },
            "colorscale": [
             [
              0,
              "#0d0887"
             ],
             [
              0.1111111111111111,
              "#46039f"
             ],
             [
              0.2222222222222222,
              "#7201a8"
             ],
             [
              0.3333333333333333,
              "#9c179e"
             ],
             [
              0.4444444444444444,
              "#bd3786"
             ],
             [
              0.5555555555555556,
              "#d8576b"
             ],
             [
              0.6666666666666666,
              "#ed7953"
             ],
             [
              0.7777777777777778,
              "#fb9f3a"
             ],
             [
              0.8888888888888888,
              "#fdca26"
             ],
             [
              1,
              "#f0f921"
             ]
            ],
            "type": "heatmapgl"
           }
          ],
          "histogram": [
           {
            "marker": {
             "pattern": {
              "fillmode": "overlay",
              "size": 10,
              "solidity": 0.2
             }
            },
            "type": "histogram"
           }
          ],
          "histogram2d": [
           {
            "colorbar": {
             "outlinewidth": 0,
             "ticks": ""
            },
            "colorscale": [
             [
              0,
              "#0d0887"
             ],
             [
              0.1111111111111111,
              "#46039f"
             ],
             [
              0.2222222222222222,
              "#7201a8"
             ],
             [
              0.3333333333333333,
              "#9c179e"
             ],
             [
              0.4444444444444444,
              "#bd3786"
             ],
             [
              0.5555555555555556,
              "#d8576b"
             ],
             [
              0.6666666666666666,
              "#ed7953"
             ],
             [
              0.7777777777777778,
              "#fb9f3a"
             ],
             [
              0.8888888888888888,
              "#fdca26"
             ],
             [
              1,
              "#f0f921"
             ]
            ],
            "type": "histogram2d"
           }
          ],
          "histogram2dcontour": [
           {
            "colorbar": {
             "outlinewidth": 0,
             "ticks": ""
            },
            "colorscale": [
             [
              0,
              "#0d0887"
             ],
             [
              0.1111111111111111,
              "#46039f"
             ],
             [
              0.2222222222222222,
              "#7201a8"
             ],
             [
              0.3333333333333333,
              "#9c179e"
             ],
             [
              0.4444444444444444,
              "#bd3786"
             ],
             [
              0.5555555555555556,
              "#d8576b"
             ],
             [
              0.6666666666666666,
              "#ed7953"
             ],
             [
              0.7777777777777778,
              "#fb9f3a"
             ],
             [
              0.8888888888888888,
              "#fdca26"
             ],
             [
              1,
              "#f0f921"
             ]
            ],
            "type": "histogram2dcontour"
           }
          ],
          "mesh3d": [
           {
            "colorbar": {
             "outlinewidth": 0,
             "ticks": ""
            },
            "type": "mesh3d"
           }
          ],
          "parcoords": [
           {
            "line": {
             "colorbar": {
              "outlinewidth": 0,
              "ticks": ""
             }
            },
            "type": "parcoords"
           }
          ],
          "pie": [
           {
            "automargin": true,
            "type": "pie"
           }
          ],
          "scatter": [
           {
            "fillpattern": {
             "fillmode": "overlay",
             "size": 10,
             "solidity": 0.2
            },
            "type": "scatter"
           }
          ],
          "scatter3d": [
           {
            "line": {
             "colorbar": {
              "outlinewidth": 0,
              "ticks": ""
             }
            },
            "marker": {
             "colorbar": {
              "outlinewidth": 0,
              "ticks": ""
             }
            },
            "type": "scatter3d"
           }
          ],
          "scattercarpet": [
           {
            "marker": {
             "colorbar": {
              "outlinewidth": 0,
              "ticks": ""
             }
            },
            "type": "scattercarpet"
           }
          ],
          "scattergeo": [
           {
            "marker": {
             "colorbar": {
              "outlinewidth": 0,
              "ticks": ""
             }
            },
            "type": "scattergeo"
           }
          ],
          "scattergl": [
           {
            "marker": {
             "colorbar": {
              "outlinewidth": 0,
              "ticks": ""
             }
            },
            "type": "scattergl"
           }
          ],
          "scattermapbox": [
           {
            "marker": {
             "colorbar": {
              "outlinewidth": 0,
              "ticks": ""
             }
            },
            "type": "scattermapbox"
           }
          ],
          "scatterpolar": [
           {
            "marker": {
             "colorbar": {
              "outlinewidth": 0,
              "ticks": ""
             }
            },
            "type": "scatterpolar"
           }
          ],
          "scatterpolargl": [
           {
            "marker": {
             "colorbar": {
              "outlinewidth": 0,
              "ticks": ""
             }
            },
            "type": "scatterpolargl"
           }
          ],
          "scatterternary": [
           {
            "marker": {
             "colorbar": {
              "outlinewidth": 0,
              "ticks": ""
             }
            },
            "type": "scatterternary"
           }
          ],
          "surface": [
           {
            "colorbar": {
             "outlinewidth": 0,
             "ticks": ""
            },
            "colorscale": [
             [
              0,
              "#0d0887"
             ],
             [
              0.1111111111111111,
              "#46039f"
             ],
             [
              0.2222222222222222,
              "#7201a8"
             ],
             [
              0.3333333333333333,
              "#9c179e"
             ],
             [
              0.4444444444444444,
              "#bd3786"
             ],
             [
              0.5555555555555556,
              "#d8576b"
             ],
             [
              0.6666666666666666,
              "#ed7953"
             ],
             [
              0.7777777777777778,
              "#fb9f3a"
             ],
             [
              0.8888888888888888,
              "#fdca26"
             ],
             [
              1,
              "#f0f921"
             ]
            ],
            "type": "surface"
           }
          ],
          "table": [
           {
            "cells": {
             "fill": {
              "color": "#EBF0F8"
             },
             "line": {
              "color": "white"
             }
            },
            "header": {
             "fill": {
              "color": "#C8D4E3"
             },
             "line": {
              "color": "white"
             }
            },
            "type": "table"
           }
          ]
         },
         "layout": {
          "annotationdefaults": {
           "arrowcolor": "#2a3f5f",
           "arrowhead": 0,
           "arrowwidth": 1
          },
          "autotypenumbers": "strict",
          "coloraxis": {
           "colorbar": {
            "outlinewidth": 0,
            "ticks": ""
           }
          },
          "colorscale": {
           "diverging": [
            [
             0,
             "#8e0152"
            ],
            [
             0.1,
             "#c51b7d"
            ],
            [
             0.2,
             "#de77ae"
            ],
            [
             0.3,
             "#f1b6da"
            ],
            [
             0.4,
             "#fde0ef"
            ],
            [
             0.5,
             "#f7f7f7"
            ],
            [
             0.6,
             "#e6f5d0"
            ],
            [
             0.7,
             "#b8e186"
            ],
            [
             0.8,
             "#7fbc41"
            ],
            [
             0.9,
             "#4d9221"
            ],
            [
             1,
             "#276419"
            ]
           ],
           "sequential": [
            [
             0,
             "#0d0887"
            ],
            [
             0.1111111111111111,
             "#46039f"
            ],
            [
             0.2222222222222222,
             "#7201a8"
            ],
            [
             0.3333333333333333,
             "#9c179e"
            ],
            [
             0.4444444444444444,
             "#bd3786"
            ],
            [
             0.5555555555555556,
             "#d8576b"
            ],
            [
             0.6666666666666666,
             "#ed7953"
            ],
            [
             0.7777777777777778,
             "#fb9f3a"
            ],
            [
             0.8888888888888888,
             "#fdca26"
            ],
            [
             1,
             "#f0f921"
            ]
           ],
           "sequentialminus": [
            [
             0,
             "#0d0887"
            ],
            [
             0.1111111111111111,
             "#46039f"
            ],
            [
             0.2222222222222222,
             "#7201a8"
            ],
            [
             0.3333333333333333,
             "#9c179e"
            ],
            [
             0.4444444444444444,
             "#bd3786"
            ],
            [
             0.5555555555555556,
             "#d8576b"
            ],
            [
             0.6666666666666666,
             "#ed7953"
            ],
            [
             0.7777777777777778,
             "#fb9f3a"
            ],
            [
             0.8888888888888888,
             "#fdca26"
            ],
            [
             1,
             "#f0f921"
            ]
           ]
          },
          "colorway": [
           "#636efa",
           "#EF553B",
           "#00cc96",
           "#ab63fa",
           "#FFA15A",
           "#19d3f3",
           "#FF6692",
           "#B6E880",
           "#FF97FF",
           "#FECB52"
          ],
          "font": {
           "color": "#2a3f5f"
          },
          "geo": {
           "bgcolor": "white",
           "lakecolor": "white",
           "landcolor": "#E5ECF6",
           "showlakes": true,
           "showland": true,
           "subunitcolor": "white"
          },
          "hoverlabel": {
           "align": "left"
          },
          "hovermode": "closest",
          "mapbox": {
           "style": "light"
          },
          "paper_bgcolor": "white",
          "plot_bgcolor": "#E5ECF6",
          "polar": {
           "angularaxis": {
            "gridcolor": "white",
            "linecolor": "white",
            "ticks": ""
           },
           "bgcolor": "#E5ECF6",
           "radialaxis": {
            "gridcolor": "white",
            "linecolor": "white",
            "ticks": ""
           }
          },
          "scene": {
           "xaxis": {
            "backgroundcolor": "#E5ECF6",
            "gridcolor": "white",
            "gridwidth": 2,
            "linecolor": "white",
            "showbackground": true,
            "ticks": "",
            "zerolinecolor": "white"
           },
           "yaxis": {
            "backgroundcolor": "#E5ECF6",
            "gridcolor": "white",
            "gridwidth": 2,
            "linecolor": "white",
            "showbackground": true,
            "ticks": "",
            "zerolinecolor": "white"
           },
           "zaxis": {
            "backgroundcolor": "#E5ECF6",
            "gridcolor": "white",
            "gridwidth": 2,
            "linecolor": "white",
            "showbackground": true,
            "ticks": "",
            "zerolinecolor": "white"
           }
          },
          "shapedefaults": {
           "line": {
            "color": "#2a3f5f"
           }
          },
          "ternary": {
           "aaxis": {
            "gridcolor": "white",
            "linecolor": "white",
            "ticks": ""
           },
           "baxis": {
            "gridcolor": "white",
            "linecolor": "white",
            "ticks": ""
           },
           "bgcolor": "#E5ECF6",
           "caxis": {
            "gridcolor": "white",
            "linecolor": "white",
            "ticks": ""
           }
          },
          "title": {
           "x": 0.05
          },
          "xaxis": {
           "automargin": true,
           "gridcolor": "white",
           "linecolor": "white",
           "ticks": "",
           "title": {
            "standoff": 15
           },
           "zerolinecolor": "white",
           "zerolinewidth": 2
          },
          "yaxis": {
           "automargin": true,
           "gridcolor": "white",
           "linecolor": "white",
           "ticks": "",
           "title": {
            "standoff": 15
           },
           "zerolinecolor": "white",
           "zerolinewidth": 2
          }
         }
        },
        "title": {
         "text": "Renewable Energy Consumption per Country"
        }
       }
      }
     },
     "metadata": {},
     "output_type": "display_data"
    }
   ],
   "source": [
    "fig3 = px.choropleth(world_sorted,\n",
    "    locations = 'iso_a3',\n",
    "    height = 750,\n",
    "    color = 'percentage',\n",
    "    title = 'Renewable Energy Consumption per Country',\n",
    "    range_color = [0,100],\n",
    "    color_continuous_scale = 'Blues'\n",
    "    \n",
    ")\n",
    "\n",
    "\n",
    "fig3.show()"
   ]
  },
  {
   "cell_type": "markdown",
   "metadata": {},
   "source": [
    "Investigating renewable share "
   ]
  },
  {
   "cell_type": "code",
   "execution_count": 231,
   "metadata": {},
   "outputs": [],
   "source": [
    "\n",
    "is_21 = renewable_share['Year'] == 2021\n",
    "\n",
    "\n",
    "re_21 = renewable_share[is_21]\n"
   ]
  },
  {
   "cell_type": "code",
   "execution_count": 233,
   "metadata": {},
   "outputs": [],
   "source": [
    "re_clean = world_geo"
   ]
  },
  {
   "cell_type": "code",
   "execution_count": 240,
   "metadata": {},
   "outputs": [],
   "source": [
    "count = 0\n",
    "for c in re_clean['sales']:\n",
    "    print(type(c))\n",
    "    if c == float:\n",
    "        re_clean['sales'].iloc[count] = None\n",
    "\n",
    "\n",
    "re_clean"
   ]
  },
  {
   "cell_type": "code",
   "execution_count": 219,
   "metadata": {},
   "outputs": [],
   "source": [
    "f = re_21['Entity'].isin(countries)\n",
    "\n",
    "re_21 = re_21[f]\n",
    "\n",
    "lst = list(re_21['Renewables (% equivalent primary energy)'])"
   ]
  },
  {
   "cell_type": "code",
   "execution_count": 220,
   "metadata": {},
   "outputs": [
    {
     "name": "stderr",
     "output_type": "stream",
     "text": [
      "/var/folders/kr/tpqxlsqd5012gdrwgp9860v40000gn/T/ipykernel_2142/2533207792.py:7: SettingWithCopyWarning:\n",
      "\n",
      "\n",
      "A value is trying to be set on a copy of a slice from a DataFrame\n",
      "\n",
      "See the caveats in the documentation: https://pandas.pydata.org/pandas-docs/stable/user_guide/indexing.html#returning-a-view-versus-a-copy\n",
      "\n"
     ]
    },
    {
     "data": {
      "text/html": [
       "<div>\n",
       "<style scoped>\n",
       "    .dataframe tbody tr th:only-of-type {\n",
       "        vertical-align: middle;\n",
       "    }\n",
       "\n",
       "    .dataframe tbody tr th {\n",
       "        vertical-align: top;\n",
       "    }\n",
       "\n",
       "    .dataframe thead th {\n",
       "        text-align: right;\n",
       "    }\n",
       "</style>\n",
       "<table border=\"1\" class=\"dataframe\">\n",
       "  <thead>\n",
       "    <tr style=\"text-align: right;\">\n",
       "      <th></th>\n",
       "      <th>index</th>\n",
       "      <th>pop_est</th>\n",
       "      <th>continent</th>\n",
       "      <th>name</th>\n",
       "      <th>iso_a3</th>\n",
       "      <th>sales</th>\n",
       "      <th>geometry</th>\n",
       "    </tr>\n",
       "  </thead>\n",
       "  <tbody>\n",
       "    <tr>\n",
       "      <th>0</th>\n",
       "      <td>103</td>\n",
       "      <td>34124811</td>\n",
       "      <td>Asia</td>\n",
       "      <td>Afghanistan</td>\n",
       "      <td>AFG</td>\n",
       "      <td>0.261367</td>\n",
       "      <td>POLYGON ((66.51860680528867 37.36278432875879,...</td>\n",
       "    </tr>\n",
       "    <tr>\n",
       "      <th>1</th>\n",
       "      <td>125</td>\n",
       "      <td>3047987</td>\n",
       "      <td>Europe</td>\n",
       "      <td>Albania</td>\n",
       "      <td>ALB</td>\n",
       "      <td>11.329249</td>\n",
       "      <td>POLYGON ((21.0200403174764 40.84272695572588, ...</td>\n",
       "    </tr>\n",
       "    <tr>\n",
       "      <th>2</th>\n",
       "      <td>82</td>\n",
       "      <td>40969443</td>\n",
       "      <td>Africa</td>\n",
       "      <td>Algeria</td>\n",
       "      <td>DZA</td>\n",
       "      <td>12.933532</td>\n",
       "      <td>POLYGON ((-8.684399786809053 27.39574412689601...</td>\n",
       "    </tr>\n",
       "    <tr>\n",
       "      <th>3</th>\n",
       "      <td>74</td>\n",
       "      <td>29310273</td>\n",
       "      <td>Africa</td>\n",
       "      <td>Angola</td>\n",
       "      <td>AGO</td>\n",
       "      <td>37.481792</td>\n",
       "      <td>MULTIPOLYGON (((12.99551720546518 -4.781103203...</td>\n",
       "    </tr>\n",
       "    <tr>\n",
       "      <th>4</th>\n",
       "      <td>9</td>\n",
       "      <td>44293293</td>\n",
       "      <td>South America</td>\n",
       "      <td>Argentina</td>\n",
       "      <td>ARG</td>\n",
       "      <td>2.201543</td>\n",
       "      <td>MULTIPOLYGON (((-68.63401022758323 -52.6363704...</td>\n",
       "    </tr>\n",
       "    <tr>\n",
       "      <th>5</th>\n",
       "      <td>109</td>\n",
       "      <td>3045191</td>\n",
       "      <td>Asia</td>\n",
       "      <td>Armenia</td>\n",
       "      <td>ARM</td>\n",
       "      <td>0.650147</td>\n",
       "      <td>POLYGON ((46.50571984231797 38.77060537368629,...</td>\n",
       "    </tr>\n",
       "    <tr>\n",
       "      <th>6</th>\n",
       "      <td>137</td>\n",
       "      <td>23232413</td>\n",
       "      <td>Oceania</td>\n",
       "      <td>Australia</td>\n",
       "      <td>AUS</td>\n",
       "      <td>0.969858</td>\n",
       "      <td>MULTIPOLYGON (((147.6892594748842 -40.80825815...</td>\n",
       "    </tr>\n",
       "    <tr>\n",
       "      <th>7</th>\n",
       "      <td>114</td>\n",
       "      <td>8754413</td>\n",
       "      <td>Europe</td>\n",
       "      <td>Austria</td>\n",
       "      <td>AUT</td>\n",
       "      <td>9.336409</td>\n",
       "      <td>POLYGON ((16.97966678230404 48.12349701597631,...</td>\n",
       "    </tr>\n",
       "    <tr>\n",
       "      <th>8</th>\n",
       "      <td>145</td>\n",
       "      <td>9961396</td>\n",
       "      <td>Asia</td>\n",
       "      <td>Azerbaijan</td>\n",
       "      <td>AZE</td>\n",
       "      <td>46.219749</td>\n",
       "      <td>MULTIPOLYGON (((46.40495079934882 41.860675157...</td>\n",
       "    </tr>\n",
       "    <tr>\n",
       "      <th>9</th>\n",
       "      <td>19</td>\n",
       "      <td>329988</td>\n",
       "      <td>North America</td>\n",
       "      <td>Bahamas</td>\n",
       "      <td>BHS</td>\n",
       "      <td>11.486526</td>\n",
       "      <td>MULTIPOLYGON (((-78.98 26.79, -78.510000000000...</td>\n",
       "    </tr>\n",
       "    <tr>\n",
       "      <th>10</th>\n",
       "      <td>99</td>\n",
       "      <td>157826578</td>\n",
       "      <td>Asia</td>\n",
       "      <td>Bangladesh</td>\n",
       "      <td>BGD</td>\n",
       "      <td>29.888439</td>\n",
       "      <td>POLYGON ((92.67272098182556 22.04123891854125,...</td>\n",
       "    </tr>\n",
       "    <tr>\n",
       "      <th>11</th>\n",
       "      <td>111</td>\n",
       "      <td>9549747</td>\n",
       "      <td>Europe</td>\n",
       "      <td>Belarus</td>\n",
       "      <td>BLR</td>\n",
       "      <td>26.518875</td>\n",
       "      <td>POLYGON ((28.17670942557794 56.16912995057879,...</td>\n",
       "    </tr>\n",
       "    <tr>\n",
       "      <th>12</th>\n",
       "      <td>129</td>\n",
       "      <td>11491346</td>\n",
       "      <td>Europe</td>\n",
       "      <td>Belgium</td>\n",
       "      <td>BEL</td>\n",
       "      <td>14.946244</td>\n",
       "      <td>POLYGON ((6.15665815595878 50.80372101501058, ...</td>\n",
       "    </tr>\n",
       "    <tr>\n",
       "      <th>13</th>\n",
       "      <td>39</td>\n",
       "      <td>360346</td>\n",
       "      <td>North America</td>\n",
       "      <td>Belize</td>\n",
       "      <td>BLZ</td>\n",
       "      <td>33.020409</td>\n",
       "      <td>POLYGON ((-89.14308041050333 17.8083189966494,...</td>\n",
       "    </tr>\n",
       "    <tr>\n",
       "      <th>14</th>\n",
       "      <td>54</td>\n",
       "      <td>11038805</td>\n",
       "      <td>Africa</td>\n",
       "      <td>Benin</td>\n",
       "      <td>BEN</td>\n",
       "      <td>28.271935</td>\n",
       "      <td>POLYGON ((2.691701694356254 6.258817246928629,...</td>\n",
       "    </tr>\n",
       "    <tr>\n",
       "      <th>15</th>\n",
       "      <td>100</td>\n",
       "      <td>758288</td>\n",
       "      <td>Asia</td>\n",
       "      <td>Bhutan</td>\n",
       "      <td>BTN</td>\n",
       "      <td>82.27</td>\n",
       "      <td>POLYGON ((91.69665652869668 27.77174184825166,...</td>\n",
       "    </tr>\n",
       "    <tr>\n",
       "      <th>16</th>\n",
       "      <td>30</td>\n",
       "      <td>11138234</td>\n",
       "      <td>South America</td>\n",
       "      <td>Bolivia</td>\n",
       "      <td>BOL</td>\n",
       "      <td>6.497798</td>\n",
       "      <td>POLYGON ((-69.52967810736496 -10.9517343075021...</td>\n",
       "    </tr>\n",
       "    <tr>\n",
       "      <th>17</th>\n",
       "      <td>170</td>\n",
       "      <td>3856181</td>\n",
       "      <td>Europe</td>\n",
       "      <td>Bosnia and Herz.</td>\n",
       "      <td>BIH</td>\n",
       "      <td>39.24958</td>\n",
       "      <td>POLYGON ((18.55999999999995 42.64999999999998,...</td>\n",
       "    </tr>\n",
       "    <tr>\n",
       "      <th>18</th>\n",
       "      <td>49</td>\n",
       "      <td>2214858</td>\n",
       "      <td>Africa</td>\n",
       "      <td>Botswana</td>\n",
       "      <td>BWA</td>\n",
       "      <td>25.57</td>\n",
       "      <td>POLYGON ((29.43218834810904 -22.09131275806759...</td>\n",
       "    </tr>\n",
       "    <tr>\n",
       "      <th>19</th>\n",
       "      <td>29</td>\n",
       "      <td>207353391</td>\n",
       "      <td>South America</td>\n",
       "      <td>Brazil</td>\n",
       "      <td>BRA</td>\n",
       "      <td>32.354198</td>\n",
       "      <td>POLYGON ((-53.37366166849824 -33.7683777809007...</td>\n",
       "    </tr>\n",
       "    <tr>\n",
       "      <th>20</th>\n",
       "      <td>149</td>\n",
       "      <td>443593</td>\n",
       "      <td>Asia</td>\n",
       "      <td>Brunei</td>\n",
       "      <td>BRN</td>\n",
       "      <td>6.230571</td>\n",
       "      <td>POLYGON ((115.4507104838698 5.447729803891534,...</td>\n",
       "    </tr>\n",
       "    <tr>\n",
       "      <th>21</th>\n",
       "      <td>122</td>\n",
       "      <td>7101510</td>\n",
       "      <td>Europe</td>\n",
       "      <td>Bulgaria</td>\n",
       "      <td>BGR</td>\n",
       "      <td>14.325047</td>\n",
       "      <td>POLYGON ((22.65714969248299 44.23492300066128,...</td>\n",
       "    </tr>\n",
       "    <tr>\n",
       "      <th>22</th>\n",
       "      <td>65</td>\n",
       "      <td>20107509</td>\n",
       "      <td>Africa</td>\n",
       "      <td>Burkina Faso</td>\n",
       "      <td>BFA</td>\n",
       "      <td>34.61129</td>\n",
       "      <td>POLYGON ((-5.404341599946974 10.37073680260915...</td>\n",
       "    </tr>\n",
       "    <tr>\n",
       "      <th>23</th>\n",
       "      <td>75</td>\n",
       "      <td>11466756</td>\n",
       "      <td>Africa</td>\n",
       "      <td>Burundi</td>\n",
       "      <td>BDI</td>\n",
       "      <td>13.671011</td>\n",
       "      <td>POLYGON ((30.46967364576122 -2.41385475710134,...</td>\n",
       "    </tr>\n",
       "    <tr>\n",
       "      <th>24</th>\n",
       "      <td>90</td>\n",
       "      <td>16204486</td>\n",
       "      <td>Asia</td>\n",
       "      <td>Cambodia</td>\n",
       "      <td>KHM</td>\n",
       "      <td>19.453121</td>\n",
       "      <td>POLYGON ((102.5849324890267 12.18659495691328,...</td>\n",
       "    </tr>\n",
       "    <tr>\n",
       "      <th>25</th>\n",
       "      <td>57</td>\n",
       "      <td>24994885</td>\n",
       "      <td>Africa</td>\n",
       "      <td>Cameroon</td>\n",
       "      <td>CMR</td>\n",
       "      <td>19.391674</td>\n",
       "      <td>POLYGON ((14.49578738776285 12.85939626713733,...</td>\n",
       "    </tr>\n",
       "    <tr>\n",
       "      <th>26</th>\n",
       "      <td>3</td>\n",
       "      <td>35623680</td>\n",
       "      <td>North America</td>\n",
       "      <td>Canada</td>\n",
       "      <td>CAN</td>\n",
       "      <td>6.819573</td>\n",
       "      <td>MULTIPOLYGON (((-122.84 49.00000000000011, -12...</td>\n",
       "    </tr>\n",
       "    <tr>\n",
       "      <th>27</th>\n",
       "      <td>66</td>\n",
       "      <td>5625118</td>\n",
       "      <td>Africa</td>\n",
       "      <td>Central African Rep.</td>\n",
       "      <td>CAF</td>\n",
       "      <td>86.874535</td>\n",
       "      <td>POLYGON ((27.37422610851749 5.233944403500061,...</td>\n",
       "    </tr>\n",
       "    <tr>\n",
       "      <th>28</th>\n",
       "      <td>15</td>\n",
       "      <td>12075985</td>\n",
       "      <td>Africa</td>\n",
       "      <td>Chad</td>\n",
       "      <td>TCD</td>\n",
       "      <td>77.79</td>\n",
       "      <td>POLYGON ((23.83766000000014 19.5804700000001, ...</td>\n",
       "    </tr>\n",
       "    <tr>\n",
       "      <th>29</th>\n",
       "      <td>10</td>\n",
       "      <td>17789267</td>\n",
       "      <td>South America</td>\n",
       "      <td>Chile</td>\n",
       "      <td>CHL</td>\n",
       "      <td>9.31085</td>\n",
       "      <td>MULTIPOLYGON (((-68.63401022758323 -52.6363704...</td>\n",
       "    </tr>\n",
       "    <tr>\n",
       "      <th>30</th>\n",
       "      <td>139</td>\n",
       "      <td>1379302771</td>\n",
       "      <td>Asia</td>\n",
       "      <td>China</td>\n",
       "      <td>CHN</td>\n",
       "      <td>10.385715</td>\n",
       "      <td>MULTIPOLYGON (((109.4752095886636 18.197700913...</td>\n",
       "    </tr>\n",
       "    <tr>\n",
       "      <th>31</th>\n",
       "      <td>32</td>\n",
       "      <td>47698524</td>\n",
       "      <td>South America</td>\n",
       "      <td>Colombia</td>\n",
       "      <td>COL</td>\n",
       "      <td>1.290394</td>\n",
       "      <td>POLYGON ((-66.87632585312258 1.253360500489336...</td>\n",
       "    </tr>\n",
       "    <tr>\n",
       "      <th>32</th>\n",
       "      <td>67</td>\n",
       "      <td>4954674</td>\n",
       "      <td>Africa</td>\n",
       "      <td>Congo</td>\n",
       "      <td>COG</td>\n",
       "      <td>1.502491</td>\n",
       "      <td>POLYGON ((18.45306521980993 3.504385891123349,...</td>\n",
       "    </tr>\n",
       "    <tr>\n",
       "      <th>33</th>\n",
       "      <td>34</td>\n",
       "      <td>4930258</td>\n",
       "      <td>North America</td>\n",
       "      <td>Costa Rica</td>\n",
       "      <td>CRI</td>\n",
       "      <td>17.581884</td>\n",
       "      <td>POLYGON ((-82.54619625520348 9.566134751824677...</td>\n",
       "    </tr>\n",
       "    <tr>\n",
       "      <th>34</th>\n",
       "      <td>126</td>\n",
       "      <td>4292095</td>\n",
       "      <td>Europe</td>\n",
       "      <td>Croatia</td>\n",
       "      <td>HRV</td>\n",
       "      <td>5.132294</td>\n",
       "      <td>POLYGON ((16.56480838386486 46.50375092221983,...</td>\n",
       "    </tr>\n",
       "    <tr>\n",
       "      <th>35</th>\n",
       "      <td>47</td>\n",
       "      <td>11147407</td>\n",
       "      <td>North America</td>\n",
       "      <td>Cuba</td>\n",
       "      <td>CUB</td>\n",
       "      <td>18.362261</td>\n",
       "      <td>POLYGON ((-82.26815121125706 23.18861074471771...</td>\n",
       "    </tr>\n",
       "    <tr>\n",
       "      <th>36</th>\n",
       "      <td>161</td>\n",
       "      <td>1221549</td>\n",
       "      <td>Asia</td>\n",
       "      <td>Cyprus</td>\n",
       "      <td>CYP</td>\n",
       "      <td>11.428995</td>\n",
       "      <td>POLYGON ((32.73178022637745 35.14002594658844,...</td>\n",
       "    </tr>\n",
       "    <tr>\n",
       "      <th>37</th>\n",
       "      <td>153</td>\n",
       "      <td>10674723</td>\n",
       "      <td>Europe</td>\n",
       "      <td>Czechia</td>\n",
       "      <td>CZE</td>\n",
       "      <td>3.988574</td>\n",
       "      <td>POLYGON ((15.01699588385867 51.10667409932158,...</td>\n",
       "    </tr>\n",
       "    <tr>\n",
       "      <th>38</th>\n",
       "      <td>60</td>\n",
       "      <td>24184810</td>\n",
       "      <td>Africa</td>\n",
       "      <td>Côte d'Ivoire</td>\n",
       "      <td>CIV</td>\n",
       "      <td>23.917372</td>\n",
       "      <td>POLYGON ((-8.029943610048619 10.20653493900171...</td>\n",
       "    </tr>\n",
       "    <tr>\n",
       "      <th>39</th>\n",
       "      <td>11</td>\n",
       "      <td>83301151</td>\n",
       "      <td>Africa</td>\n",
       "      <td>Dem. Rep. Congo</td>\n",
       "      <td>COD</td>\n",
       "      <td>9.490351</td>\n",
       "      <td>POLYGON ((29.33999759290035 -4.499983412294092...</td>\n",
       "    </tr>\n",
       "    <tr>\n",
       "      <th>40</th>\n",
       "      <td>142</td>\n",
       "      <td>5605948</td>\n",
       "      <td>Europe</td>\n",
       "      <td>Denmark</td>\n",
       "      <td>DNK</td>\n",
       "      <td>7.095166</td>\n",
       "      <td>MULTIPOLYGON (((9.921906365609118 54.983104153...</td>\n",
       "    </tr>\n",
       "    <tr>\n",
       "      <th>41</th>\n",
       "      <td>166</td>\n",
       "      <td>865267</td>\n",
       "      <td>Africa</td>\n",
       "      <td>Djibouti</td>\n",
       "      <td>DJI</td>\n",
       "      <td>8.059835</td>\n",
       "      <td>POLYGON ((42.35156000000012 12.54223000000013,...</td>\n",
       "    </tr>\n",
       "    <tr>\n",
       "      <th>42</th>\n",
       "      <td>17</td>\n",
       "      <td>10734247</td>\n",
       "      <td>North America</td>\n",
       "      <td>Dominican Rep.</td>\n",
       "      <td>DOM</td>\n",
       "      <td>10.514754</td>\n",
       "      <td>POLYGON ((-71.70830481635805 18.04499705654609...</td>\n",
       "    </tr>\n",
       "    <tr>\n",
       "      <th>43</th>\n",
       "      <td>44</td>\n",
       "      <td>16290913</td>\n",
       "      <td>South America</td>\n",
       "      <td>Ecuador</td>\n",
       "      <td>ECU</td>\n",
       "      <td>7.636169</td>\n",
       "      <td>POLYGON ((-75.37322323271385 -0.15203175212045...</td>\n",
       "    </tr>\n",
       "    <tr>\n",
       "      <th>44</th>\n",
       "      <td>163</td>\n",
       "      <td>97041072</td>\n",
       "      <td>Africa</td>\n",
       "      <td>Egypt</td>\n",
       "      <td>EGY</td>\n",
       "      <td>12.373796</td>\n",
       "      <td>POLYGON ((36.86622999999997 22, 32.89999999999...</td>\n",
       "    </tr>\n",
       "    <tr>\n",
       "      <th>45</th>\n",
       "      <td>37</td>\n",
       "      <td>6172011</td>\n",
       "      <td>North America</td>\n",
       "      <td>El Salvador</td>\n",
       "      <td>SLV</td>\n",
       "      <td>40.218651</td>\n",
       "      <td>POLYGON ((-89.35332597528281 14.42413279871909...</td>\n",
       "    </tr>\n",
       "    <tr>\n",
       "      <th>46</th>\n",
       "      <td>69</td>\n",
       "      <td>778358</td>\n",
       "      <td>Africa</td>\n",
       "      <td>Eq. Guinea</td>\n",
       "      <td>GNQ</td>\n",
       "      <td>71.558365</td>\n",
       "      <td>POLYGON ((9.649158155972628 2.283866075037736,...</td>\n",
       "    </tr>\n",
       "    <tr>\n",
       "      <th>47</th>\n",
       "      <td>154</td>\n",
       "      <td>5918919</td>\n",
       "      <td>Africa</td>\n",
       "      <td>Eritrea</td>\n",
       "      <td>ERI</td>\n",
       "      <td>10.622897</td>\n",
       "      <td>POLYGON ((36.42951000000005 14.42211000000003,...</td>\n",
       "    </tr>\n",
       "    <tr>\n",
       "      <th>48</th>\n",
       "      <td>120</td>\n",
       "      <td>1251581</td>\n",
       "      <td>Europe</td>\n",
       "      <td>Estonia</td>\n",
       "      <td>EST</td>\n",
       "      <td>27.741009</td>\n",
       "      <td>POLYGON ((27.98112685700099 59.47537333432527,...</td>\n",
       "    </tr>\n",
       "    <tr>\n",
       "      <th>49</th>\n",
       "      <td>165</td>\n",
       "      <td>105350020</td>\n",
       "      <td>Africa</td>\n",
       "      <td>Ethiopia</td>\n",
       "      <td>ETH</td>\n",
       "      <td>10.90163</td>\n",
       "      <td>POLYGON ((47.78942 8.003, 44.96360000000001 5....</td>\n",
       "    </tr>\n",
       "    <tr>\n",
       "      <th>50</th>\n",
       "      <td>20</td>\n",
       "      <td>2931</td>\n",
       "      <td>South America</td>\n",
       "      <td>Falkland Is.</td>\n",
       "      <td>FLK</td>\n",
       "      <td>NaN</td>\n",
       "      <td>POLYGON ((-61.2 -51.85, -60 -51.25, -59.15 -51...</td>\n",
       "    </tr>\n",
       "    <tr>\n",
       "      <th>51</th>\n",
       "      <td>0</td>\n",
       "      <td>920938</td>\n",
       "      <td>Oceania</td>\n",
       "      <td>Fiji</td>\n",
       "      <td>FJI</td>\n",
       "      <td>26.48</td>\n",
       "      <td>MULTIPOLYGON (((180 -16.06713266364245, 180 -1...</td>\n",
       "    </tr>\n",
       "    <tr>\n",
       "      <th>52</th>\n",
       "      <td>151</td>\n",
       "      <td>5491218</td>\n",
       "      <td>Europe</td>\n",
       "      <td>Finland</td>\n",
       "      <td>FIN</td>\n",
       "      <td>7.761686</td>\n",
       "      <td>POLYGON ((28.59192955904319 69.06477692328666,...</td>\n",
       "    </tr>\n",
       "    <tr>\n",
       "      <th>53</th>\n",
       "      <td>23</td>\n",
       "      <td>140</td>\n",
       "      <td>Seven seas (open ocean)</td>\n",
       "      <td>Fr. S. Antarctic Lands</td>\n",
       "      <td>ATF</td>\n",
       "      <td>32.703953</td>\n",
       "      <td>POLYGON ((68.935 -48.62500000000001, 69.58 -48...</td>\n",
       "    </tr>\n",
       "    <tr>\n",
       "      <th>54</th>\n",
       "      <td>43</td>\n",
       "      <td>67106161</td>\n",
       "      <td>Europe</td>\n",
       "      <td>France</td>\n",
       "      <td>FRA</td>\n",
       "      <td>15.53</td>\n",
       "      <td>MULTIPOLYGON (((-51.65779741067889 4.156232408...</td>\n",
       "    </tr>\n",
       "    <tr>\n",
       "      <th>55</th>\n",
       "      <td>68</td>\n",
       "      <td>1772255</td>\n",
       "      <td>Africa</td>\n",
       "      <td>Gabon</td>\n",
       "      <td>GAB</td>\n",
       "      <td>17.481031</td>\n",
       "      <td>POLYGON ((11.27644900884371 2.261050930180872,...</td>\n",
       "    </tr>\n",
       "    <tr>\n",
       "      <th>56</th>\n",
       "      <td>80</td>\n",
       "      <td>2051363</td>\n",
       "      <td>Africa</td>\n",
       "      <td>Gambia</td>\n",
       "      <td>GMB</td>\n",
       "      <td>6.620289</td>\n",
       "      <td>POLYGON ((-16.71372880702347 13.59495860437985...</td>\n",
       "    </tr>\n",
       "    <tr>\n",
       "      <th>57</th>\n",
       "      <td>146</td>\n",
       "      <td>4926330</td>\n",
       "      <td>Asia</td>\n",
       "      <td>Georgia</td>\n",
       "      <td>GEO</td>\n",
       "      <td>9.82116</td>\n",
       "      <td>POLYGON ((39.95500857927092 43.43499766699922,...</td>\n",
       "    </tr>\n",
       "    <tr>\n",
       "      <th>58</th>\n",
       "      <td>121</td>\n",
       "      <td>80594017</td>\n",
       "      <td>Europe</td>\n",
       "      <td>Germany</td>\n",
       "      <td>DEU</td>\n",
       "      <td>18.768454</td>\n",
       "      <td>POLYGON ((14.11968631354256 53.75702912049104,...</td>\n",
       "    </tr>\n",
       "    <tr>\n",
       "      <th>59</th>\n",
       "      <td>59</td>\n",
       "      <td>27499924</td>\n",
       "      <td>Africa</td>\n",
       "      <td>Ghana</td>\n",
       "      <td>GHA</td>\n",
       "      <td>41.8</td>\n",
       "      <td>POLYGON ((0.02380252442370078 11.0186817489008...</td>\n",
       "    </tr>\n",
       "    <tr>\n",
       "      <th>60</th>\n",
       "      <td>123</td>\n",
       "      <td>10768477</td>\n",
       "      <td>Europe</td>\n",
       "      <td>Greece</td>\n",
       "      <td>GRC</td>\n",
       "      <td>3.408608</td>\n",
       "      <td>MULTIPOLYGON (((26.2900028826017 35.2999903427...</td>\n",
       "    </tr>\n",
       "    <tr>\n",
       "      <th>61</th>\n",
       "      <td>22</td>\n",
       "      <td>57713</td>\n",
       "      <td>North America</td>\n",
       "      <td>Greenland</td>\n",
       "      <td>GRL</td>\n",
       "      <td>3.724986</td>\n",
       "      <td>POLYGON ((-46.76379 82.62796, -43.40644 83.225...</td>\n",
       "    </tr>\n",
       "    <tr>\n",
       "      <th>62</th>\n",
       "      <td>38</td>\n",
       "      <td>15460732</td>\n",
       "      <td>North America</td>\n",
       "      <td>Guatemala</td>\n",
       "      <td>GTM</td>\n",
       "      <td>62.92</td>\n",
       "      <td>POLYGON ((-92.22775000686983 14.53882864019093...</td>\n",
       "    </tr>\n",
       "    <tr>\n",
       "      <th>63</th>\n",
       "      <td>61</td>\n",
       "      <td>12413867</td>\n",
       "      <td>Africa</td>\n",
       "      <td>Guinea</td>\n",
       "      <td>GIN</td>\n",
       "      <td>22.341663</td>\n",
       "      <td>POLYGON ((-13.70047604008433 12.58618296961019...</td>\n",
       "    </tr>\n",
       "    <tr>\n",
       "      <th>64</th>\n",
       "      <td>62</td>\n",
       "      <td>1792338</td>\n",
       "      <td>Africa</td>\n",
       "      <td>Guinea-Bissau</td>\n",
       "      <td>GNB</td>\n",
       "      <td>21.404533</td>\n",
       "      <td>POLYGON ((-16.67745195155457 12.38485158940105...</td>\n",
       "    </tr>\n",
       "    <tr>\n",
       "      <th>65</th>\n",
       "      <td>41</td>\n",
       "      <td>737718</td>\n",
       "      <td>South America</td>\n",
       "      <td>Guyana</td>\n",
       "      <td>GUY</td>\n",
       "      <td>50.924007</td>\n",
       "      <td>POLYGON ((-56.53938574891455 1.899522609866921...</td>\n",
       "    </tr>\n",
       "    <tr>\n",
       "      <th>66</th>\n",
       "      <td>16</td>\n",
       "      <td>10646714</td>\n",
       "      <td>North America</td>\n",
       "      <td>Haiti</td>\n",
       "      <td>HTI</td>\n",
       "      <td>36.716644</td>\n",
       "      <td>POLYGON ((-71.71236141629296 19.71445587816736...</td>\n",
       "    </tr>\n",
       "    <tr>\n",
       "      <th>67</th>\n",
       "      <td>36</td>\n",
       "      <td>9038741</td>\n",
       "      <td>North America</td>\n",
       "      <td>Honduras</td>\n",
       "      <td>HND</td>\n",
       "      <td>45.96</td>\n",
       "      <td>POLYGON ((-83.14721900097413 14.99582916916411...</td>\n",
       "    </tr>\n",
       "    <tr>\n",
       "      <th>68</th>\n",
       "      <td>115</td>\n",
       "      <td>9850845</td>\n",
       "      <td>Europe</td>\n",
       "      <td>Hungary</td>\n",
       "      <td>HUN</td>\n",
       "      <td>3.036157</td>\n",
       "      <td>POLYGON ((22.08560835133486 48.42226430927179,...</td>\n",
       "    </tr>\n",
       "    <tr>\n",
       "      <th>69</th>\n",
       "      <td>144</td>\n",
       "      <td>339747</td>\n",
       "      <td>Europe</td>\n",
       "      <td>Iceland</td>\n",
       "      <td>ISL</td>\n",
       "      <td>81.07</td>\n",
       "      <td>POLYGON ((-14.50869544112923 66.45589223903143...</td>\n",
       "    </tr>\n",
       "    <tr>\n",
       "      <th>70</th>\n",
       "      <td>98</td>\n",
       "      <td>1281935911</td>\n",
       "      <td>Asia</td>\n",
       "      <td>India</td>\n",
       "      <td>IND</td>\n",
       "      <td>32.93</td>\n",
       "      <td>POLYGON ((97.32711388549004 28.26158274994634,...</td>\n",
       "    </tr>\n",
       "    <tr>\n",
       "      <th>71</th>\n",
       "      <td>8</td>\n",
       "      <td>260580739</td>\n",
       "      <td>Asia</td>\n",
       "      <td>Indonesia</td>\n",
       "      <td>IDN</td>\n",
       "      <td>19.09</td>\n",
       "      <td>MULTIPOLYGON (((141.0002104025918 -2.600151055...</td>\n",
       "    </tr>\n",
       "    <tr>\n",
       "      <th>72</th>\n",
       "      <td>107</td>\n",
       "      <td>82021564</td>\n",
       "      <td>Asia</td>\n",
       "      <td>Iran</td>\n",
       "      <td>IRN</td>\n",
       "      <td>NaN</td>\n",
       "      <td>POLYGON ((48.56797122578975 29.92677826590352,...</td>\n",
       "    </tr>\n",
       "    <tr>\n",
       "      <th>73</th>\n",
       "      <td>87</td>\n",
       "      <td>39192111</td>\n",
       "      <td>Asia</td>\n",
       "      <td>Iraq</td>\n",
       "      <td>IRQ</td>\n",
       "      <td>0.43</td>\n",
       "      <td>POLYGON ((39.19546837744497 32.16100881604267,...</td>\n",
       "    </tr>\n",
       "    <tr>\n",
       "      <th>74</th>\n",
       "      <td>133</td>\n",
       "      <td>5011102</td>\n",
       "      <td>Europe</td>\n",
       "      <td>Ireland</td>\n",
       "      <td>IRL</td>\n",
       "      <td>12.34</td>\n",
       "      <td>POLYGON ((-6.197884894220991 53.86756500916336...</td>\n",
       "    </tr>\n",
       "    <tr>\n",
       "      <th>75</th>\n",
       "      <td>76</td>\n",
       "      <td>8299706</td>\n",
       "      <td>Asia</td>\n",
       "      <td>Israel</td>\n",
       "      <td>ISR</td>\n",
       "      <td>4.47</td>\n",
       "      <td>POLYGON ((35.71991824722275 32.70919240979487,...</td>\n",
       "    </tr>\n",
       "    <tr>\n",
       "      <th>76</th>\n",
       "      <td>141</td>\n",
       "      <td>62137802</td>\n",
       "      <td>Europe</td>\n",
       "      <td>Italy</td>\n",
       "      <td>ITA</td>\n",
       "      <td>17.27</td>\n",
       "      <td>MULTIPOLYGON (((10.44270145024663 46.893546250...</td>\n",
       "    </tr>\n",
       "    <tr>\n",
       "      <th>77</th>\n",
       "      <td>46</td>\n",
       "      <td>2990561</td>\n",
       "      <td>North America</td>\n",
       "      <td>Jamaica</td>\n",
       "      <td>JAM</td>\n",
       "      <td>9.09</td>\n",
       "      <td>POLYGON ((-77.56960079619921 18.49052541755049...</td>\n",
       "    </tr>\n",
       "    <tr>\n",
       "      <th>78</th>\n",
       "      <td>155</td>\n",
       "      <td>126451398</td>\n",
       "      <td>Asia</td>\n",
       "      <td>Japan</td>\n",
       "      <td>JPN</td>\n",
       "      <td>7.69</td>\n",
       "      <td>MULTIPOLYGON (((141.884600864835 39.1808645696...</td>\n",
       "    </tr>\n",
       "    <tr>\n",
       "      <th>79</th>\n",
       "      <td>83</td>\n",
       "      <td>10248069</td>\n",
       "      <td>Asia</td>\n",
       "      <td>Jordan</td>\n",
       "      <td>JOR</td>\n",
       "      <td>8.17</td>\n",
       "      <td>POLYGON ((35.54566531753454 32.39399201103058,...</td>\n",
       "    </tr>\n",
       "    <tr>\n",
       "      <th>80</th>\n",
       "      <td>5</td>\n",
       "      <td>18556698</td>\n",
       "      <td>Asia</td>\n",
       "      <td>Kazakhstan</td>\n",
       "      <td>KAZ</td>\n",
       "      <td>1.7</td>\n",
       "      <td>POLYGON ((87.35997033076265 49.21498078062912,...</td>\n",
       "    </tr>\n",
       "    <tr>\n",
       "      <th>81</th>\n",
       "      <td>13</td>\n",
       "      <td>47615739</td>\n",
       "      <td>Africa</td>\n",
       "      <td>Kenya</td>\n",
       "      <td>KEN</td>\n",
       "      <td>68.08</td>\n",
       "      <td>POLYGON ((39.20222 -4.67677, 37.7669 -3.67712,...</td>\n",
       "    </tr>\n",
       "    <tr>\n",
       "      <th>82</th>\n",
       "      <td>174</td>\n",
       "      <td>1895250</td>\n",
       "      <td>Europe</td>\n",
       "      <td>Kosovo</td>\n",
       "      <td>-99</td>\n",
       "      <td>26.1</td>\n",
       "      <td>POLYGON ((20.59024654668023 41.85540891928363,...</td>\n",
       "    </tr>\n",
       "    <tr>\n",
       "      <th>83</th>\n",
       "      <td>86</td>\n",
       "      <td>2875422</td>\n",
       "      <td>Asia</td>\n",
       "      <td>Kuwait</td>\n",
       "      <td>KWT</td>\n",
       "      <td>0.06</td>\n",
       "      <td>POLYGON ((47.9745190773499 29.9758192001485, 4...</td>\n",
       "    </tr>\n",
       "    <tr>\n",
       "      <th>84</th>\n",
       "      <td>105</td>\n",
       "      <td>5789122</td>\n",
       "      <td>Asia</td>\n",
       "      <td>Kyrgyzstan</td>\n",
       "      <td>KGZ</td>\n",
       "      <td>NaN</td>\n",
       "      <td>POLYGON ((70.96231489449914 42.26615428320549,...</td>\n",
       "    </tr>\n",
       "    <tr>\n",
       "      <th>85</th>\n",
       "      <td>92</td>\n",
       "      <td>7126706</td>\n",
       "      <td>Asia</td>\n",
       "      <td>Laos</td>\n",
       "      <td>LAO</td>\n",
       "      <td>NaN</td>\n",
       "      <td>POLYGON ((107.3827274923011 14.20244090418697,...</td>\n",
       "    </tr>\n",
       "    <tr>\n",
       "      <th>86</th>\n",
       "      <td>119</td>\n",
       "      <td>1944643</td>\n",
       "      <td>Europe</td>\n",
       "      <td>Latvia</td>\n",
       "      <td>LVA</td>\n",
       "      <td>41.52</td>\n",
       "      <td>POLYGON ((27.28818484875151 57.47452830670383,...</td>\n",
       "    </tr>\n",
       "    <tr>\n",
       "      <th>87</th>\n",
       "      <td>77</td>\n",
       "      <td>6229794</td>\n",
       "      <td>Asia</td>\n",
       "      <td>Lebanon</td>\n",
       "      <td>LBN</td>\n",
       "      <td>5.46</td>\n",
       "      <td>POLYGON ((35.82110070165024 33.2774264592763, ...</td>\n",
       "    </tr>\n",
       "    <tr>\n",
       "      <th>88</th>\n",
       "      <td>26</td>\n",
       "      <td>1958042</td>\n",
       "      <td>Africa</td>\n",
       "      <td>Lesotho</td>\n",
       "      <td>LSO</td>\n",
       "      <td>39.47</td>\n",
       "      <td>POLYGON ((28.97826256685724 -28.95559661226171...</td>\n",
       "    </tr>\n",
       "    <tr>\n",
       "      <th>89</th>\n",
       "      <td>63</td>\n",
       "      <td>4689021</td>\n",
       "      <td>Africa</td>\n",
       "      <td>Liberia</td>\n",
       "      <td>LBR</td>\n",
       "      <td>87.24</td>\n",
       "      <td>POLYGON ((-8.439298468448698 7.686042792181738...</td>\n",
       "    </tr>\n",
       "    <tr>\n",
       "      <th>90</th>\n",
       "      <td>164</td>\n",
       "      <td>6653210</td>\n",
       "      <td>Africa</td>\n",
       "      <td>Libya</td>\n",
       "      <td>LBY</td>\n",
       "      <td>2.8</td>\n",
       "      <td>POLYGON ((25 22, 25.00000000000011 20.00304000...</td>\n",
       "    </tr>\n",
       "    <tr>\n",
       "      <th>91</th>\n",
       "      <td>118</td>\n",
       "      <td>2823859</td>\n",
       "      <td>Europe</td>\n",
       "      <td>Lithuania</td>\n",
       "      <td>LTU</td>\n",
       "      <td>33.53</td>\n",
       "      <td>POLYGON ((26.49433149588376 55.61510691997763,...</td>\n",
       "    </tr>\n",
       "    <tr>\n",
       "      <th>92</th>\n",
       "      <td>128</td>\n",
       "      <td>594130</td>\n",
       "      <td>Europe</td>\n",
       "      <td>Luxembourg</td>\n",
       "      <td>LUX</td>\n",
       "      <td>16.45</td>\n",
       "      <td>POLYGON ((6.043073357781111 50.12805166279423,...</td>\n",
       "    </tr>\n",
       "    <tr>\n",
       "      <th>93</th>\n",
       "      <td>171</td>\n",
       "      <td>2103721</td>\n",
       "      <td>Europe</td>\n",
       "      <td>Macedonia</td>\n",
       "      <td>MKD</td>\n",
       "      <td>NaN</td>\n",
       "      <td>POLYGON ((22.38052575042459 42.32025950781509,...</td>\n",
       "    </tr>\n",
       "    <tr>\n",
       "      <th>94</th>\n",
       "      <td>78</td>\n",
       "      <td>25054161</td>\n",
       "      <td>Africa</td>\n",
       "      <td>Madagascar</td>\n",
       "      <td>MDG</td>\n",
       "      <td>82.77</td>\n",
       "      <td>POLYGON ((49.54351891459575 -12.46983285894055...</td>\n",
       "    </tr>\n",
       "    <tr>\n",
       "      <th>95</th>\n",
       "      <td>71</td>\n",
       "      <td>19196246</td>\n",
       "      <td>Africa</td>\n",
       "      <td>Malawi</td>\n",
       "      <td>MWI</td>\n",
       "      <td>73.02</td>\n",
       "      <td>POLYGON ((32.75937544122132 -9.23059905358906,...</td>\n",
       "    </tr>\n",
       "    <tr>\n",
       "      <th>96</th>\n",
       "      <td>148</td>\n",
       "      <td>31381992</td>\n",
       "      <td>Asia</td>\n",
       "      <td>Malaysia</td>\n",
       "      <td>MYS</td>\n",
       "      <td>5.11</td>\n",
       "      <td>MULTIPOLYGON (((100.0857568705271 6.4644894474...</td>\n",
       "    </tr>\n",
       "    <tr>\n",
       "      <th>97</th>\n",
       "      <td>52</td>\n",
       "      <td>17885245</td>\n",
       "      <td>Africa</td>\n",
       "      <td>Mali</td>\n",
       "      <td>MLI</td>\n",
       "      <td>76.64</td>\n",
       "      <td>POLYGON ((-11.51394283695059 12.44298757572942...</td>\n",
       "    </tr>\n",
       "    <tr>\n",
       "      <th>98</th>\n",
       "      <td>53</td>\n",
       "      <td>3758571</td>\n",
       "      <td>Africa</td>\n",
       "      <td>Mauritania</td>\n",
       "      <td>MRT</td>\n",
       "      <td>24.7</td>\n",
       "      <td>POLYGON ((-17.06342322434257 20.99975210213083...</td>\n",
       "    </tr>\n",
       "    <tr>\n",
       "      <th>99</th>\n",
       "      <td>27</td>\n",
       "      <td>124574795</td>\n",
       "      <td>North America</td>\n",
       "      <td>Mexico</td>\n",
       "      <td>MEX</td>\n",
       "      <td>10.34</td>\n",
       "      <td>POLYGON ((-117.1277599999999 32.53533999999996...</td>\n",
       "    </tr>\n",
       "    <tr>\n",
       "      <th>100</th>\n",
       "      <td>116</td>\n",
       "      <td>3474121</td>\n",
       "      <td>Europe</td>\n",
       "      <td>Moldova</td>\n",
       "      <td>MDA</td>\n",
       "      <td>22.04</td>\n",
       "      <td>POLYGON ((26.6193367855978 48.22072622333347, ...</td>\n",
       "    </tr>\n",
       "    <tr>\n",
       "      <th>101</th>\n",
       "      <td>97</td>\n",
       "      <td>3068243</td>\n",
       "      <td>Asia</td>\n",
       "      <td>Mongolia</td>\n",
       "      <td>MNG</td>\n",
       "      <td>3.32</td>\n",
       "      <td>POLYGON ((87.75126427607671 49.29719798440549,...</td>\n",
       "    </tr>\n",
       "    <tr>\n",
       "      <th>102</th>\n",
       "      <td>173</td>\n",
       "      <td>642550</td>\n",
       "      <td>Europe</td>\n",
       "      <td>Montenegro</td>\n",
       "      <td>MNE</td>\n",
       "      <td>38.74</td>\n",
       "      <td>POLYGON ((20.07070000000004 42.58863000000008,...</td>\n",
       "    </tr>\n",
       "    <tr>\n",
       "      <th>103</th>\n",
       "      <td>162</td>\n",
       "      <td>33986655</td>\n",
       "      <td>Africa</td>\n",
       "      <td>Morocco</td>\n",
       "      <td>MAR</td>\n",
       "      <td>10.69</td>\n",
       "      <td>POLYGON ((-2.169913702798624 35.16839630791668...</td>\n",
       "    </tr>\n",
       "    <tr>\n",
       "      <th>104</th>\n",
       "      <td>72</td>\n",
       "      <td>26573706</td>\n",
       "      <td>Africa</td>\n",
       "      <td>Mozambique</td>\n",
       "      <td>MOZ</td>\n",
       "      <td>78.08</td>\n",
       "      <td>POLYGON ((34.55998904799935 -11.52002003341592...</td>\n",
       "    </tr>\n",
       "    <tr>\n",
       "      <th>105</th>\n",
       "      <td>93</td>\n",
       "      <td>55123814</td>\n",
       "      <td>Asia</td>\n",
       "      <td>Myanmar</td>\n",
       "      <td>MMR</td>\n",
       "      <td>57.85</td>\n",
       "      <td>POLYGON ((100.1159875834178 20.41784963630819,...</td>\n",
       "    </tr>\n",
       "    <tr>\n",
       "      <th>106</th>\n",
       "      <td>160</td>\n",
       "      <td>265100</td>\n",
       "      <td>Asia</td>\n",
       "      <td>N. Cyprus</td>\n",
       "      <td>-99</td>\n",
       "      <td>NaN</td>\n",
       "      <td>POLYGON ((32.73178022637745 35.14002594658844,...</td>\n",
       "    </tr>\n",
       "    <tr>\n",
       "      <th>107</th>\n",
       "      <td>50</td>\n",
       "      <td>2484780</td>\n",
       "      <td>Africa</td>\n",
       "      <td>Namibia</td>\n",
       "      <td>NAM</td>\n",
       "      <td>30.69</td>\n",
       "      <td>POLYGON ((19.89576785653443 -24.76779021576059...</td>\n",
       "    </tr>\n",
       "    <tr>\n",
       "      <th>108</th>\n",
       "      <td>101</td>\n",
       "      <td>29384297</td>\n",
       "      <td>Asia</td>\n",
       "      <td>Nepal</td>\n",
       "      <td>NPL</td>\n",
       "      <td>77.39</td>\n",
       "      <td>POLYGON ((88.12044070836987 27.87654165293959,...</td>\n",
       "    </tr>\n",
       "    <tr>\n",
       "      <th>109</th>\n",
       "      <td>130</td>\n",
       "      <td>17084719</td>\n",
       "      <td>Europe</td>\n",
       "      <td>Netherlands</td>\n",
       "      <td>NLD</td>\n",
       "      <td>8.54</td>\n",
       "      <td>POLYGON ((6.905139601274129 53.48216217713065,...</td>\n",
       "    </tr>\n",
       "    <tr>\n",
       "      <th>110</th>\n",
       "      <td>134</td>\n",
       "      <td>279070</td>\n",
       "      <td>Oceania</td>\n",
       "      <td>New Caledonia</td>\n",
       "      <td>NCL</td>\n",
       "      <td>5.4</td>\n",
       "      <td>POLYGON ((165.7799898623264 -21.08000497811563...</td>\n",
       "    </tr>\n",
       "    <tr>\n",
       "      <th>111</th>\n",
       "      <td>136</td>\n",
       "      <td>4510327</td>\n",
       "      <td>Oceania</td>\n",
       "      <td>New Zealand</td>\n",
       "      <td>NZL</td>\n",
       "      <td>29.65</td>\n",
       "      <td>MULTIPOLYGON (((176.8858236026052 -40.06597787...</td>\n",
       "    </tr>\n",
       "    <tr>\n",
       "      <th>112</th>\n",
       "      <td>35</td>\n",
       "      <td>6025951</td>\n",
       "      <td>North America</td>\n",
       "      <td>Nicaragua</td>\n",
       "      <td>NIC</td>\n",
       "      <td>50.71</td>\n",
       "      <td>POLYGON ((-83.65561174186158 10.93876414636142...</td>\n",
       "    </tr>\n",
       "    <tr>\n",
       "      <th>113</th>\n",
       "      <td>55</td>\n",
       "      <td>19245344</td>\n",
       "      <td>Africa</td>\n",
       "      <td>Niger</td>\n",
       "      <td>NER</td>\n",
       "      <td>80.83</td>\n",
       "      <td>POLYGON ((14.85130000000004 22.86295000000013,...</td>\n",
       "    </tr>\n",
       "    <tr>\n",
       "      <th>114</th>\n",
       "      <td>56</td>\n",
       "      <td>190632261</td>\n",
       "      <td>Africa</td>\n",
       "      <td>Nigeria</td>\n",
       "      <td>NGA</td>\n",
       "      <td>81.4</td>\n",
       "      <td>POLYGON ((2.691701694356254 6.258817246928629,...</td>\n",
       "    </tr>\n",
       "    <tr>\n",
       "      <th>115</th>\n",
       "      <td>95</td>\n",
       "      <td>25248140</td>\n",
       "      <td>Asia</td>\n",
       "      <td>North Korea</td>\n",
       "      <td>PRK</td>\n",
       "      <td>NaN</td>\n",
       "      <td>MULTIPOLYGON (((130.7800036600468 42.220007813...</td>\n",
       "    </tr>\n",
       "    <tr>\n",
       "      <th>116</th>\n",
       "      <td>21</td>\n",
       "      <td>5320045</td>\n",
       "      <td>Europe</td>\n",
       "      <td>Norway</td>\n",
       "      <td>NOR</td>\n",
       "      <td>62.37</td>\n",
       "      <td>MULTIPOLYGON (((15.14282 79.67431000000001, 15...</td>\n",
       "    </tr>\n",
       "    <tr>\n",
       "      <th>117</th>\n",
       "      <td>88</td>\n",
       "      <td>3424386</td>\n",
       "      <td>Asia</td>\n",
       "      <td>Oman</td>\n",
       "      <td>OMN</td>\n",
       "      <td>0.0</td>\n",
       "      <td>MULTIPOLYGON (((55.20834109886319 22.708329982...</td>\n",
       "    </tr>\n",
       "    <tr>\n",
       "      <th>118</th>\n",
       "      <td>102</td>\n",
       "      <td>204924861</td>\n",
       "      <td>Asia</td>\n",
       "      <td>Pakistan</td>\n",
       "      <td>PAK</td>\n",
       "      <td>43.36</td>\n",
       "      <td>POLYGON ((77.83745079947457 35.49400950778777,...</td>\n",
       "    </tr>\n",
       "    <tr>\n",
       "      <th>119</th>\n",
       "      <td>79</td>\n",
       "      <td>4543126</td>\n",
       "      <td>Asia</td>\n",
       "      <td>Palestine</td>\n",
       "      <td>PSE</td>\n",
       "      <td>NaN</td>\n",
       "      <td>POLYGON ((35.39756066258605 31.48908600516758,...</td>\n",
       "    </tr>\n",
       "    <tr>\n",
       "      <th>120</th>\n",
       "      <td>33</td>\n",
       "      <td>3753142</td>\n",
       "      <td>North America</td>\n",
       "      <td>Panama</td>\n",
       "      <td>PAN</td>\n",
       "      <td>18.91</td>\n",
       "      <td>POLYGON ((-77.35336076527386 8.67050466555807,...</td>\n",
       "    </tr>\n",
       "    <tr>\n",
       "      <th>121</th>\n",
       "      <td>7</td>\n",
       "      <td>6909701</td>\n",
       "      <td>Oceania</td>\n",
       "      <td>Papua New Guinea</td>\n",
       "      <td>PNG</td>\n",
       "      <td>53.09</td>\n",
       "      <td>MULTIPOLYGON (((141.0002104025918 -2.600151055...</td>\n",
       "    </tr>\n",
       "    <tr>\n",
       "      <th>122</th>\n",
       "      <td>156</td>\n",
       "      <td>6943739</td>\n",
       "      <td>South America</td>\n",
       "      <td>Paraguay</td>\n",
       "      <td>PRY</td>\n",
       "      <td>60.09</td>\n",
       "      <td>POLYGON ((-58.16639238140804 -20.1767009416536...</td>\n",
       "    </tr>\n",
       "    <tr>\n",
       "      <th>123</th>\n",
       "      <td>31</td>\n",
       "      <td>31036656</td>\n",
       "      <td>South America</td>\n",
       "      <td>Peru</td>\n",
       "      <td>PER</td>\n",
       "      <td>27.12</td>\n",
       "      <td>POLYGON ((-69.89363521999663 -4.29818694419432...</td>\n",
       "    </tr>\n",
       "    <tr>\n",
       "      <th>124</th>\n",
       "      <td>147</td>\n",
       "      <td>104256076</td>\n",
       "      <td>Asia</td>\n",
       "      <td>Philippines</td>\n",
       "      <td>PHL</td>\n",
       "      <td>26.73</td>\n",
       "      <td>MULTIPOLYGON (((120.8338961121466 12.704496161...</td>\n",
       "    </tr>\n",
       "    <tr>\n",
       "      <th>125</th>\n",
       "      <td>113</td>\n",
       "      <td>38476269</td>\n",
       "      <td>Europe</td>\n",
       "      <td>Poland</td>\n",
       "      <td>POL</td>\n",
       "      <td>12.18</td>\n",
       "      <td>POLYGON ((23.48412763844985 53.91249766704114,...</td>\n",
       "    </tr>\n",
       "    <tr>\n",
       "      <th>126</th>\n",
       "      <td>131</td>\n",
       "      <td>10839514</td>\n",
       "      <td>Europe</td>\n",
       "      <td>Portugal</td>\n",
       "      <td>PRT</td>\n",
       "      <td>28.19</td>\n",
       "      <td>POLYGON ((-9.034817674180246 41.88057058365968...</td>\n",
       "    </tr>\n",
       "    <tr>\n",
       "      <th>127</th>\n",
       "      <td>45</td>\n",
       "      <td>3351827</td>\n",
       "      <td>North America</td>\n",
       "      <td>Puerto Rico</td>\n",
       "      <td>PRI</td>\n",
       "      <td>2.42</td>\n",
       "      <td>POLYGON ((-66.28243445500821 18.51476166429536...</td>\n",
       "    </tr>\n",
       "    <tr>\n",
       "      <th>128</th>\n",
       "      <td>85</td>\n",
       "      <td>2314307</td>\n",
       "      <td>Asia</td>\n",
       "      <td>Qatar</td>\n",
       "      <td>QAT</td>\n",
       "      <td>0.04</td>\n",
       "      <td>POLYGON ((50.81010827006958 24.75474253997138,...</td>\n",
       "    </tr>\n",
       "    <tr>\n",
       "      <th>129</th>\n",
       "      <td>117</td>\n",
       "      <td>21529967</td>\n",
       "      <td>Europe</td>\n",
       "      <td>Romania</td>\n",
       "      <td>ROU</td>\n",
       "      <td>23.54</td>\n",
       "      <td>POLYGON ((28.23355350109904 45.48828318946829,...</td>\n",
       "    </tr>\n",
       "    <tr>\n",
       "      <th>130</th>\n",
       "      <td>18</td>\n",
       "      <td>142257519</td>\n",
       "      <td>Europe</td>\n",
       "      <td>Russia</td>\n",
       "      <td>RUS</td>\n",
       "      <td>NaN</td>\n",
       "      <td>MULTIPOLYGON (((178.7253 71.0988, 180.00000000...</td>\n",
       "    </tr>\n",
       "    <tr>\n",
       "      <th>131</th>\n",
       "      <td>169</td>\n",
       "      <td>11901484</td>\n",
       "      <td>Africa</td>\n",
       "      <td>Rwanda</td>\n",
       "      <td>RWA</td>\n",
       "      <td>77.86</td>\n",
       "      <td>POLYGON ((30.41910485201925 -1.134659112150416...</td>\n",
       "    </tr>\n",
       "    <tr>\n",
       "      <th>132</th>\n",
       "      <td>176</td>\n",
       "      <td>13026129</td>\n",
       "      <td>Africa</td>\n",
       "      <td>S. Sudan</td>\n",
       "      <td>SSD</td>\n",
       "      <td>NaN</td>\n",
       "      <td>POLYGON ((30.83385242171543 3.509171604222463,...</td>\n",
       "    </tr>\n",
       "    <tr>\n",
       "      <th>133</th>\n",
       "      <td>158</td>\n",
       "      <td>28571770</td>\n",
       "      <td>Asia</td>\n",
       "      <td>Saudi Arabia</td>\n",
       "      <td>SAU</td>\n",
       "      <td>0.03</td>\n",
       "      <td>POLYGON ((34.95603722508426 29.35655467377885,...</td>\n",
       "    </tr>\n",
       "    <tr>\n",
       "      <th>134</th>\n",
       "      <td>51</td>\n",
       "      <td>14668522</td>\n",
       "      <td>Africa</td>\n",
       "      <td>Senegal</td>\n",
       "      <td>SEN</td>\n",
       "      <td>37.2</td>\n",
       "      <td>POLYGON ((-16.71372880702347 13.59495860437985...</td>\n",
       "    </tr>\n",
       "    <tr>\n",
       "      <th>135</th>\n",
       "      <td>172</td>\n",
       "      <td>7111024</td>\n",
       "      <td>Europe</td>\n",
       "      <td>Serbia</td>\n",
       "      <td>SRB</td>\n",
       "      <td>21.53</td>\n",
       "      <td>POLYGON ((18.82982479287395 45.90887235802528,...</td>\n",
       "    </tr>\n",
       "    <tr>\n",
       "      <th>136</th>\n",
       "      <td>64</td>\n",
       "      <td>6163195</td>\n",
       "      <td>Africa</td>\n",
       "      <td>Sierra Leone</td>\n",
       "      <td>SLE</td>\n",
       "      <td>75.44</td>\n",
       "      <td>POLYGON ((-13.24655025883252 8.903048610871508...</td>\n",
       "    </tr>\n",
       "    <tr>\n",
       "      <th>137</th>\n",
       "      <td>152</td>\n",
       "      <td>5445829</td>\n",
       "      <td>Europe</td>\n",
       "      <td>Slovakia</td>\n",
       "      <td>SVK</td>\n",
       "      <td>NaN</td>\n",
       "      <td>POLYGON ((22.55813764821175 49.08573802346714,...</td>\n",
       "    </tr>\n",
       "    <tr>\n",
       "      <th>138</th>\n",
       "      <td>150</td>\n",
       "      <td>1972126</td>\n",
       "      <td>Europe</td>\n",
       "      <td>Slovenia</td>\n",
       "      <td>SVN</td>\n",
       "      <td>20.86</td>\n",
       "      <td>POLYGON ((13.80647545742153 46.50930613869122,...</td>\n",
       "    </tr>\n",
       "    <tr>\n",
       "      <th>139</th>\n",
       "      <td>135</td>\n",
       "      <td>647581</td>\n",
       "      <td>Oceania</td>\n",
       "      <td>Solomon Is.</td>\n",
       "      <td>SLB</td>\n",
       "      <td>NaN</td>\n",
       "      <td>MULTIPOLYGON (((162.1190246930409 -10.48271900...</td>\n",
       "    </tr>\n",
       "    <tr>\n",
       "      <th>140</th>\n",
       "      <td>12</td>\n",
       "      <td>7531386</td>\n",
       "      <td>Africa</td>\n",
       "      <td>Somalia</td>\n",
       "      <td>SOM</td>\n",
       "      <td>95.03</td>\n",
       "      <td>POLYGON ((41.58513 -1.68325, 40.993 -0.85829, ...</td>\n",
       "    </tr>\n",
       "    <tr>\n",
       "      <th>141</th>\n",
       "      <td>167</td>\n",
       "      <td>3500000</td>\n",
       "      <td>Africa</td>\n",
       "      <td>Somaliland</td>\n",
       "      <td>-99</td>\n",
       "      <td>NaN</td>\n",
       "      <td>POLYGON ((48.94820475850985 11.41061728169797,...</td>\n",
       "    </tr>\n",
       "    <tr>\n",
       "      <th>142</th>\n",
       "      <td>25</td>\n",
       "      <td>54841552</td>\n",
       "      <td>Africa</td>\n",
       "      <td>South Africa</td>\n",
       "      <td>ZAF</td>\n",
       "      <td>10.5</td>\n",
       "      <td>POLYGON ((16.34497684089524 -28.5767050106977,...</td>\n",
       "    </tr>\n",
       "    <tr>\n",
       "      <th>143</th>\n",
       "      <td>96</td>\n",
       "      <td>51181299</td>\n",
       "      <td>Asia</td>\n",
       "      <td>South Korea</td>\n",
       "      <td>KOR</td>\n",
       "      <td>252287.0</td>\n",
       "      <td>POLYGON ((126.1747587423762 37.74968577732804,...</td>\n",
       "    </tr>\n",
       "    <tr>\n",
       "      <th>144</th>\n",
       "      <td>132</td>\n",
       "      <td>48958159</td>\n",
       "      <td>Europe</td>\n",
       "      <td>Spain</td>\n",
       "      <td>ESP</td>\n",
       "      <td>17.27</td>\n",
       "      <td>POLYGON ((-7.453725551778092 37.09778758396607...</td>\n",
       "    </tr>\n",
       "    <tr>\n",
       "      <th>145</th>\n",
       "      <td>138</td>\n",
       "      <td>22409381</td>\n",
       "      <td>Asia</td>\n",
       "      <td>Sri Lanka</td>\n",
       "      <td>LKA</td>\n",
       "      <td>49.91</td>\n",
       "      <td>POLYGON ((81.7879590188914 7.523055324733164, ...</td>\n",
       "    </tr>\n",
       "    <tr>\n",
       "      <th>146</th>\n",
       "      <td>14</td>\n",
       "      <td>37345935</td>\n",
       "      <td>Africa</td>\n",
       "      <td>Sudan</td>\n",
       "      <td>SDN</td>\n",
       "      <td>62.23</td>\n",
       "      <td>POLYGON ((24.56736901215208 8.229187933785468,...</td>\n",
       "    </tr>\n",
       "    <tr>\n",
       "      <th>147</th>\n",
       "      <td>42</td>\n",
       "      <td>591919</td>\n",
       "      <td>South America</td>\n",
       "      <td>Suriname</td>\n",
       "      <td>SUR</td>\n",
       "      <td>14.4</td>\n",
       "      <td>POLYGON ((-54.52475419779972 2.311848863123785...</td>\n",
       "    </tr>\n",
       "    <tr>\n",
       "      <th>148</th>\n",
       "      <td>110</td>\n",
       "      <td>9960487</td>\n",
       "      <td>Europe</td>\n",
       "      <td>Sweden</td>\n",
       "      <td>SWE</td>\n",
       "      <td>52.88</td>\n",
       "      <td>POLYGON ((11.02736860519687 58.85614940045936,...</td>\n",
       "    </tr>\n",
       "    <tr>\n",
       "      <th>149</th>\n",
       "      <td>127</td>\n",
       "      <td>8236303</td>\n",
       "      <td>Europe</td>\n",
       "      <td>Switzerland</td>\n",
       "      <td>CHE</td>\n",
       "      <td>24.76</td>\n",
       "      <td>POLYGON ((9.59422610844635 47.52505809182027, ...</td>\n",
       "    </tr>\n",
       "    <tr>\n",
       "      <th>150</th>\n",
       "      <td>108</td>\n",
       "      <td>18028549</td>\n",
       "      <td>Asia</td>\n",
       "      <td>Syria</td>\n",
       "      <td>SYR</td>\n",
       "      <td>NaN</td>\n",
       "      <td>POLYGON ((35.71991824722275 32.70919240979487,...</td>\n",
       "    </tr>\n",
       "    <tr>\n",
       "      <th>151</th>\n",
       "      <td>140</td>\n",
       "      <td>23508428</td>\n",
       "      <td>Asia</td>\n",
       "      <td>Taiwan</td>\n",
       "      <td>TWN</td>\n",
       "      <td>NaN</td>\n",
       "      <td>POLYGON ((121.7778178243899 24.3942735865194, ...</td>\n",
       "    </tr>\n",
       "    <tr>\n",
       "      <th>152</th>\n",
       "      <td>104</td>\n",
       "      <td>8468555</td>\n",
       "      <td>Asia</td>\n",
       "      <td>Tajikistan</td>\n",
       "      <td>TJK</td>\n",
       "      <td>38.56</td>\n",
       "      <td>POLYGON ((67.82999962755952 37.14499400486469,...</td>\n",
       "    </tr>\n",
       "    <tr>\n",
       "      <th>153</th>\n",
       "      <td>1</td>\n",
       "      <td>53950935</td>\n",
       "      <td>Africa</td>\n",
       "      <td>Tanzania</td>\n",
       "      <td>TZA</td>\n",
       "      <td>85.22</td>\n",
       "      <td>POLYGON ((33.90371119710453 -0.950000000000000...</td>\n",
       "    </tr>\n",
       "    <tr>\n",
       "      <th>154</th>\n",
       "      <td>91</td>\n",
       "      <td>68414135</td>\n",
       "      <td>Asia</td>\n",
       "      <td>Thailand</td>\n",
       "      <td>THA</td>\n",
       "      <td>23.96</td>\n",
       "      <td>POLYGON ((105.2187768900789 14.27321177821069,...</td>\n",
       "    </tr>\n",
       "    <tr>\n",
       "      <th>155</th>\n",
       "      <td>24</td>\n",
       "      <td>1291358</td>\n",
       "      <td>Asia</td>\n",
       "      <td>Timor-Leste</td>\n",
       "      <td>TLS</td>\n",
       "      <td>11.67</td>\n",
       "      <td>POLYGON ((124.9686824891162 -8.892790215697083...</td>\n",
       "    </tr>\n",
       "    <tr>\n",
       "      <th>156</th>\n",
       "      <td>58</td>\n",
       "      <td>7965055</td>\n",
       "      <td>Africa</td>\n",
       "      <td>Togo</td>\n",
       "      <td>TGO</td>\n",
       "      <td>76.21</td>\n",
       "      <td>POLYGON ((0.8995630224740694 10.99733938236426...</td>\n",
       "    </tr>\n",
       "    <tr>\n",
       "      <th>157</th>\n",
       "      <td>175</td>\n",
       "      <td>1218208</td>\n",
       "      <td>North America</td>\n",
       "      <td>Trinidad and Tobago</td>\n",
       "      <td>TTO</td>\n",
       "      <td>0.43</td>\n",
       "      <td>POLYGON ((-61.68000000000001 10.76, -61.105 10...</td>\n",
       "    </tr>\n",
       "    <tr>\n",
       "      <th>158</th>\n",
       "      <td>81</td>\n",
       "      <td>11403800</td>\n",
       "      <td>Africa</td>\n",
       "      <td>Tunisia</td>\n",
       "      <td>TUN</td>\n",
       "      <td>12.2</td>\n",
       "      <td>POLYGON ((9.482139926805274 30.30755605724619,...</td>\n",
       "    </tr>\n",
       "    <tr>\n",
       "      <th>159</th>\n",
       "      <td>124</td>\n",
       "      <td>80845215</td>\n",
       "      <td>Asia</td>\n",
       "      <td>Turkey</td>\n",
       "      <td>TUR</td>\n",
       "      <td>NaN</td>\n",
       "      <td>MULTIPOLYGON (((44.77267710159504 37.170436925...</td>\n",
       "    </tr>\n",
       "    <tr>\n",
       "      <th>160</th>\n",
       "      <td>106</td>\n",
       "      <td>5351277</td>\n",
       "      <td>Asia</td>\n",
       "      <td>Turkmenistan</td>\n",
       "      <td>TKM</td>\n",
       "      <td>0.06</td>\n",
       "      <td>POLYGON ((52.50245975119615 41.78331553808637,...</td>\n",
       "    </tr>\n",
       "    <tr>\n",
       "      <th>161</th>\n",
       "      <td>168</td>\n",
       "      <td>39570125</td>\n",
       "      <td>Africa</td>\n",
       "      <td>Uganda</td>\n",
       "      <td>UGA</td>\n",
       "      <td>90.22</td>\n",
       "      <td>POLYGON ((33.90371119710453 -0.950000000000000...</td>\n",
       "    </tr>\n",
       "    <tr>\n",
       "      <th>162</th>\n",
       "      <td>112</td>\n",
       "      <td>44033874</td>\n",
       "      <td>Europe</td>\n",
       "      <td>Ukraine</td>\n",
       "      <td>UKR</td>\n",
       "      <td>7.44</td>\n",
       "      <td>POLYGON ((31.78599244755525 52.1016775699397, ...</td>\n",
       "    </tr>\n",
       "    <tr>\n",
       "      <th>163</th>\n",
       "      <td>84</td>\n",
       "      <td>6072475</td>\n",
       "      <td>Asia</td>\n",
       "      <td>United Arab Emirates</td>\n",
       "      <td>ARE</td>\n",
       "      <td>0.67</td>\n",
       "      <td>POLYGON ((51.57951867046327 24.24549713795111,...</td>\n",
       "    </tr>\n",
       "    <tr>\n",
       "      <th>164</th>\n",
       "      <td>143</td>\n",
       "      <td>64769452</td>\n",
       "      <td>Europe</td>\n",
       "      <td>United Kingdom</td>\n",
       "      <td>GBR</td>\n",
       "      <td>12.24</td>\n",
       "      <td>MULTIPOLYGON (((-6.197884894220991 53.86756500...</td>\n",
       "    </tr>\n",
       "    <tr>\n",
       "      <th>165</th>\n",
       "      <td>4</td>\n",
       "      <td>326625791</td>\n",
       "      <td>North America</td>\n",
       "      <td>United States of America</td>\n",
       "      <td>USA</td>\n",
       "      <td>2373985.0</td>\n",
       "      <td>MULTIPOLYGON (((-122.84 49.00000000000011, -12...</td>\n",
       "    </tr>\n",
       "    <tr>\n",
       "      <th>166</th>\n",
       "      <td>28</td>\n",
       "      <td>3360148</td>\n",
       "      <td>South America</td>\n",
       "      <td>Uruguay</td>\n",
       "      <td>URY</td>\n",
       "      <td>60.76</td>\n",
       "      <td>POLYGON ((-57.62513342958296 -30.2162948544542...</td>\n",
       "    </tr>\n",
       "    <tr>\n",
       "      <th>167</th>\n",
       "      <td>6</td>\n",
       "      <td>29748859</td>\n",
       "      <td>Asia</td>\n",
       "      <td>Uzbekistan</td>\n",
       "      <td>UZB</td>\n",
       "      <td>1.57</td>\n",
       "      <td>POLYGON ((55.96819135928291 41.30864166926936,...</td>\n",
       "    </tr>\n",
       "    <tr>\n",
       "      <th>168</th>\n",
       "      <td>89</td>\n",
       "      <td>282814</td>\n",
       "      <td>Oceania</td>\n",
       "      <td>Vanuatu</td>\n",
       "      <td>VUT</td>\n",
       "      <td>31.86</td>\n",
       "      <td>MULTIPOLYGON (((167.2168013857696 -15.89184620...</td>\n",
       "    </tr>\n",
       "    <tr>\n",
       "      <th>169</th>\n",
       "      <td>40</td>\n",
       "      <td>31304016</td>\n",
       "      <td>South America</td>\n",
       "      <td>Venezuela</td>\n",
       "      <td>VEN</td>\n",
       "      <td>NaN</td>\n",
       "      <td>POLYGON ((-60.73357418480372 5.200277207861901...</td>\n",
       "    </tr>\n",
       "    <tr>\n",
       "      <th>170</th>\n",
       "      <td>94</td>\n",
       "      <td>96160163</td>\n",
       "      <td>Asia</td>\n",
       "      <td>Vietnam</td>\n",
       "      <td>VNM</td>\n",
       "      <td>18.65</td>\n",
       "      <td>POLYGON ((104.3343347514035 10.48654368737523,...</td>\n",
       "    </tr>\n",
       "    <tr>\n",
       "      <th>171</th>\n",
       "      <td>2</td>\n",
       "      <td>603253</td>\n",
       "      <td>Africa</td>\n",
       "      <td>W. Sahara</td>\n",
       "      <td>ESH</td>\n",
       "      <td>NaN</td>\n",
       "      <td>POLYGON ((-8.665589565454809 27.65642588959236...</td>\n",
       "    </tr>\n",
       "    <tr>\n",
       "      <th>172</th>\n",
       "      <td>157</td>\n",
       "      <td>28036829</td>\n",
       "      <td>Asia</td>\n",
       "      <td>Yemen</td>\n",
       "      <td>YEM</td>\n",
       "      <td>NaN</td>\n",
       "      <td>POLYGON ((52.00000980002224 19.00000336351606,...</td>\n",
       "    </tr>\n",
       "    <tr>\n",
       "      <th>173</th>\n",
       "      <td>70</td>\n",
       "      <td>15972000</td>\n",
       "      <td>Africa</td>\n",
       "      <td>Zambia</td>\n",
       "      <td>ZMB</td>\n",
       "      <td>84.5</td>\n",
       "      <td>POLYGON ((30.7400097314221 -8.340005930353721,...</td>\n",
       "    </tr>\n",
       "    <tr>\n",
       "      <th>174</th>\n",
       "      <td>48</td>\n",
       "      <td>13805084</td>\n",
       "      <td>Africa</td>\n",
       "      <td>Zimbabwe</td>\n",
       "      <td>ZWE</td>\n",
       "      <td>81.5</td>\n",
       "      <td>POLYGON ((31.19140913262129 -22.2515096981724,...</td>\n",
       "    </tr>\n",
       "    <tr>\n",
       "      <th>175</th>\n",
       "      <td>73</td>\n",
       "      <td>1467152</td>\n",
       "      <td>Africa</td>\n",
       "      <td>eSwatini</td>\n",
       "      <td>SWZ</td>\n",
       "      <td>NaN</td>\n",
       "      <td>POLYGON ((32.07166548028107 -26.73382008230491...</td>\n",
       "    </tr>\n",
       "    <tr>\n",
       "      <th>176</th>\n",
       "      <td>159</td>\n",
       "      <td>4050</td>\n",
       "      <td>NaN</td>\n",
       "      <td>NaN</td>\n",
       "      <td>ATA</td>\n",
       "      <td>NaN</td>\n",
       "      <td>MULTIPOLYGON (((-48.66061601418252 -78.0470187...</td>\n",
       "    </tr>\n",
       "  </tbody>\n",
       "</table>\n",
       "</div>"
      ],
      "text/plain": [
       "     index     pop_est                continent                      name  \\\n",
       "0      103    34124811                     Asia               Afghanistan   \n",
       "1      125     3047987                   Europe                   Albania   \n",
       "2       82    40969443                   Africa                   Algeria   \n",
       "3       74    29310273                   Africa                    Angola   \n",
       "4        9    44293293            South America                 Argentina   \n",
       "5      109     3045191                     Asia                   Armenia   \n",
       "6      137    23232413                  Oceania                 Australia   \n",
       "7      114     8754413                   Europe                   Austria   \n",
       "8      145     9961396                     Asia                Azerbaijan   \n",
       "9       19      329988            North America                   Bahamas   \n",
       "10      99   157826578                     Asia                Bangladesh   \n",
       "11     111     9549747                   Europe                   Belarus   \n",
       "12     129    11491346                   Europe                   Belgium   \n",
       "13      39      360346            North America                    Belize   \n",
       "14      54    11038805                   Africa                     Benin   \n",
       "15     100      758288                     Asia                    Bhutan   \n",
       "16      30    11138234            South America                   Bolivia   \n",
       "17     170     3856181                   Europe          Bosnia and Herz.   \n",
       "18      49     2214858                   Africa                  Botswana   \n",
       "19      29   207353391            South America                    Brazil   \n",
       "20     149      443593                     Asia                    Brunei   \n",
       "21     122     7101510                   Europe                  Bulgaria   \n",
       "22      65    20107509                   Africa              Burkina Faso   \n",
       "23      75    11466756                   Africa                   Burundi   \n",
       "24      90    16204486                     Asia                  Cambodia   \n",
       "25      57    24994885                   Africa                  Cameroon   \n",
       "26       3    35623680            North America                    Canada   \n",
       "27      66     5625118                   Africa      Central African Rep.   \n",
       "28      15    12075985                   Africa                      Chad   \n",
       "29      10    17789267            South America                     Chile   \n",
       "30     139  1379302771                     Asia                     China   \n",
       "31      32    47698524            South America                  Colombia   \n",
       "32      67     4954674                   Africa                     Congo   \n",
       "33      34     4930258            North America                Costa Rica   \n",
       "34     126     4292095                   Europe                   Croatia   \n",
       "35      47    11147407            North America                      Cuba   \n",
       "36     161     1221549                     Asia                    Cyprus   \n",
       "37     153    10674723                   Europe                   Czechia   \n",
       "38      60    24184810                   Africa             Côte d'Ivoire   \n",
       "39      11    83301151                   Africa           Dem. Rep. Congo   \n",
       "40     142     5605948                   Europe                   Denmark   \n",
       "41     166      865267                   Africa                  Djibouti   \n",
       "42      17    10734247            North America            Dominican Rep.   \n",
       "43      44    16290913            South America                   Ecuador   \n",
       "44     163    97041072                   Africa                     Egypt   \n",
       "45      37     6172011            North America               El Salvador   \n",
       "46      69      778358                   Africa                Eq. Guinea   \n",
       "47     154     5918919                   Africa                   Eritrea   \n",
       "48     120     1251581                   Europe                   Estonia   \n",
       "49     165   105350020                   Africa                  Ethiopia   \n",
       "50      20        2931            South America              Falkland Is.   \n",
       "51       0      920938                  Oceania                      Fiji   \n",
       "52     151     5491218                   Europe                   Finland   \n",
       "53      23         140  Seven seas (open ocean)    Fr. S. Antarctic Lands   \n",
       "54      43    67106161                   Europe                    France   \n",
       "55      68     1772255                   Africa                     Gabon   \n",
       "56      80     2051363                   Africa                    Gambia   \n",
       "57     146     4926330                     Asia                   Georgia   \n",
       "58     121    80594017                   Europe                   Germany   \n",
       "59      59    27499924                   Africa                     Ghana   \n",
       "60     123    10768477                   Europe                    Greece   \n",
       "61      22       57713            North America                 Greenland   \n",
       "62      38    15460732            North America                 Guatemala   \n",
       "63      61    12413867                   Africa                    Guinea   \n",
       "64      62     1792338                   Africa             Guinea-Bissau   \n",
       "65      41      737718            South America                    Guyana   \n",
       "66      16    10646714            North America                     Haiti   \n",
       "67      36     9038741            North America                  Honduras   \n",
       "68     115     9850845                   Europe                   Hungary   \n",
       "69     144      339747                   Europe                   Iceland   \n",
       "70      98  1281935911                     Asia                     India   \n",
       "71       8   260580739                     Asia                 Indonesia   \n",
       "72     107    82021564                     Asia                      Iran   \n",
       "73      87    39192111                     Asia                      Iraq   \n",
       "74     133     5011102                   Europe                   Ireland   \n",
       "75      76     8299706                     Asia                    Israel   \n",
       "76     141    62137802                   Europe                     Italy   \n",
       "77      46     2990561            North America                   Jamaica   \n",
       "78     155   126451398                     Asia                     Japan   \n",
       "79      83    10248069                     Asia                    Jordan   \n",
       "80       5    18556698                     Asia                Kazakhstan   \n",
       "81      13    47615739                   Africa                     Kenya   \n",
       "82     174     1895250                   Europe                    Kosovo   \n",
       "83      86     2875422                     Asia                    Kuwait   \n",
       "84     105     5789122                     Asia                Kyrgyzstan   \n",
       "85      92     7126706                     Asia                      Laos   \n",
       "86     119     1944643                   Europe                    Latvia   \n",
       "87      77     6229794                     Asia                   Lebanon   \n",
       "88      26     1958042                   Africa                   Lesotho   \n",
       "89      63     4689021                   Africa                   Liberia   \n",
       "90     164     6653210                   Africa                     Libya   \n",
       "91     118     2823859                   Europe                 Lithuania   \n",
       "92     128      594130                   Europe                Luxembourg   \n",
       "93     171     2103721                   Europe                 Macedonia   \n",
       "94      78    25054161                   Africa                Madagascar   \n",
       "95      71    19196246                   Africa                    Malawi   \n",
       "96     148    31381992                     Asia                  Malaysia   \n",
       "97      52    17885245                   Africa                      Mali   \n",
       "98      53     3758571                   Africa                Mauritania   \n",
       "99      27   124574795            North America                    Mexico   \n",
       "100    116     3474121                   Europe                   Moldova   \n",
       "101     97     3068243                     Asia                  Mongolia   \n",
       "102    173      642550                   Europe                Montenegro   \n",
       "103    162    33986655                   Africa                   Morocco   \n",
       "104     72    26573706                   Africa                Mozambique   \n",
       "105     93    55123814                     Asia                   Myanmar   \n",
       "106    160      265100                     Asia                 N. Cyprus   \n",
       "107     50     2484780                   Africa                   Namibia   \n",
       "108    101    29384297                     Asia                     Nepal   \n",
       "109    130    17084719                   Europe               Netherlands   \n",
       "110    134      279070                  Oceania             New Caledonia   \n",
       "111    136     4510327                  Oceania               New Zealand   \n",
       "112     35     6025951            North America                 Nicaragua   \n",
       "113     55    19245344                   Africa                     Niger   \n",
       "114     56   190632261                   Africa                   Nigeria   \n",
       "115     95    25248140                     Asia               North Korea   \n",
       "116     21     5320045                   Europe                    Norway   \n",
       "117     88     3424386                     Asia                      Oman   \n",
       "118    102   204924861                     Asia                  Pakistan   \n",
       "119     79     4543126                     Asia                 Palestine   \n",
       "120     33     3753142            North America                    Panama   \n",
       "121      7     6909701                  Oceania          Papua New Guinea   \n",
       "122    156     6943739            South America                  Paraguay   \n",
       "123     31    31036656            South America                      Peru   \n",
       "124    147   104256076                     Asia               Philippines   \n",
       "125    113    38476269                   Europe                    Poland   \n",
       "126    131    10839514                   Europe                  Portugal   \n",
       "127     45     3351827            North America               Puerto Rico   \n",
       "128     85     2314307                     Asia                     Qatar   \n",
       "129    117    21529967                   Europe                   Romania   \n",
       "130     18   142257519                   Europe                    Russia   \n",
       "131    169    11901484                   Africa                    Rwanda   \n",
       "132    176    13026129                   Africa                  S. Sudan   \n",
       "133    158    28571770                     Asia              Saudi Arabia   \n",
       "134     51    14668522                   Africa                   Senegal   \n",
       "135    172     7111024                   Europe                    Serbia   \n",
       "136     64     6163195                   Africa              Sierra Leone   \n",
       "137    152     5445829                   Europe                  Slovakia   \n",
       "138    150     1972126                   Europe                  Slovenia   \n",
       "139    135      647581                  Oceania               Solomon Is.   \n",
       "140     12     7531386                   Africa                   Somalia   \n",
       "141    167     3500000                   Africa                Somaliland   \n",
       "142     25    54841552                   Africa              South Africa   \n",
       "143     96    51181299                     Asia               South Korea   \n",
       "144    132    48958159                   Europe                     Spain   \n",
       "145    138    22409381                     Asia                 Sri Lanka   \n",
       "146     14    37345935                   Africa                     Sudan   \n",
       "147     42      591919            South America                  Suriname   \n",
       "148    110     9960487                   Europe                    Sweden   \n",
       "149    127     8236303                   Europe               Switzerland   \n",
       "150    108    18028549                     Asia                     Syria   \n",
       "151    140    23508428                     Asia                    Taiwan   \n",
       "152    104     8468555                     Asia                Tajikistan   \n",
       "153      1    53950935                   Africa                  Tanzania   \n",
       "154     91    68414135                     Asia                  Thailand   \n",
       "155     24     1291358                     Asia               Timor-Leste   \n",
       "156     58     7965055                   Africa                      Togo   \n",
       "157    175     1218208            North America       Trinidad and Tobago   \n",
       "158     81    11403800                   Africa                   Tunisia   \n",
       "159    124    80845215                     Asia                    Turkey   \n",
       "160    106     5351277                     Asia              Turkmenistan   \n",
       "161    168    39570125                   Africa                    Uganda   \n",
       "162    112    44033874                   Europe                   Ukraine   \n",
       "163     84     6072475                     Asia      United Arab Emirates   \n",
       "164    143    64769452                   Europe            United Kingdom   \n",
       "165      4   326625791            North America  United States of America   \n",
       "166     28     3360148            South America                   Uruguay   \n",
       "167      6    29748859                     Asia                Uzbekistan   \n",
       "168     89      282814                  Oceania                   Vanuatu   \n",
       "169     40    31304016            South America                 Venezuela   \n",
       "170     94    96160163                     Asia                   Vietnam   \n",
       "171      2      603253                   Africa                 W. Sahara   \n",
       "172    157    28036829                     Asia                     Yemen   \n",
       "173     70    15972000                   Africa                    Zambia   \n",
       "174     48    13805084                   Africa                  Zimbabwe   \n",
       "175     73     1467152                   Africa                  eSwatini   \n",
       "176    159        4050                      NaN                       NaN   \n",
       "\n",
       "    iso_a3      sales                                           geometry  \n",
       "0      AFG   0.261367  POLYGON ((66.51860680528867 37.36278432875879,...  \n",
       "1      ALB  11.329249  POLYGON ((21.0200403174764 40.84272695572588, ...  \n",
       "2      DZA  12.933532  POLYGON ((-8.684399786809053 27.39574412689601...  \n",
       "3      AGO  37.481792  MULTIPOLYGON (((12.99551720546518 -4.781103203...  \n",
       "4      ARG   2.201543  MULTIPOLYGON (((-68.63401022758323 -52.6363704...  \n",
       "5      ARM   0.650147  POLYGON ((46.50571984231797 38.77060537368629,...  \n",
       "6      AUS   0.969858  MULTIPOLYGON (((147.6892594748842 -40.80825815...  \n",
       "7      AUT   9.336409  POLYGON ((16.97966678230404 48.12349701597631,...  \n",
       "8      AZE  46.219749  MULTIPOLYGON (((46.40495079934882 41.860675157...  \n",
       "9      BHS  11.486526  MULTIPOLYGON (((-78.98 26.79, -78.510000000000...  \n",
       "10     BGD  29.888439  POLYGON ((92.67272098182556 22.04123891854125,...  \n",
       "11     BLR  26.518875  POLYGON ((28.17670942557794 56.16912995057879,...  \n",
       "12     BEL  14.946244  POLYGON ((6.15665815595878 50.80372101501058, ...  \n",
       "13     BLZ  33.020409  POLYGON ((-89.14308041050333 17.8083189966494,...  \n",
       "14     BEN  28.271935  POLYGON ((2.691701694356254 6.258817246928629,...  \n",
       "15     BTN      82.27  POLYGON ((91.69665652869668 27.77174184825166,...  \n",
       "16     BOL   6.497798  POLYGON ((-69.52967810736496 -10.9517343075021...  \n",
       "17     BIH   39.24958  POLYGON ((18.55999999999995 42.64999999999998,...  \n",
       "18     BWA      25.57  POLYGON ((29.43218834810904 -22.09131275806759...  \n",
       "19     BRA  32.354198  POLYGON ((-53.37366166849824 -33.7683777809007...  \n",
       "20     BRN   6.230571  POLYGON ((115.4507104838698 5.447729803891534,...  \n",
       "21     BGR  14.325047  POLYGON ((22.65714969248299 44.23492300066128,...  \n",
       "22     BFA   34.61129  POLYGON ((-5.404341599946974 10.37073680260915...  \n",
       "23     BDI  13.671011  POLYGON ((30.46967364576122 -2.41385475710134,...  \n",
       "24     KHM  19.453121  POLYGON ((102.5849324890267 12.18659495691328,...  \n",
       "25     CMR  19.391674  POLYGON ((14.49578738776285 12.85939626713733,...  \n",
       "26     CAN   6.819573  MULTIPOLYGON (((-122.84 49.00000000000011, -12...  \n",
       "27     CAF  86.874535  POLYGON ((27.37422610851749 5.233944403500061,...  \n",
       "28     TCD      77.79  POLYGON ((23.83766000000014 19.5804700000001, ...  \n",
       "29     CHL    9.31085  MULTIPOLYGON (((-68.63401022758323 -52.6363704...  \n",
       "30     CHN  10.385715  MULTIPOLYGON (((109.4752095886636 18.197700913...  \n",
       "31     COL   1.290394  POLYGON ((-66.87632585312258 1.253360500489336...  \n",
       "32     COG   1.502491  POLYGON ((18.45306521980993 3.504385891123349,...  \n",
       "33     CRI  17.581884  POLYGON ((-82.54619625520348 9.566134751824677...  \n",
       "34     HRV   5.132294  POLYGON ((16.56480838386486 46.50375092221983,...  \n",
       "35     CUB  18.362261  POLYGON ((-82.26815121125706 23.18861074471771...  \n",
       "36     CYP  11.428995  POLYGON ((32.73178022637745 35.14002594658844,...  \n",
       "37     CZE   3.988574  POLYGON ((15.01699588385867 51.10667409932158,...  \n",
       "38     CIV  23.917372  POLYGON ((-8.029943610048619 10.20653493900171...  \n",
       "39     COD   9.490351  POLYGON ((29.33999759290035 -4.499983412294092...  \n",
       "40     DNK   7.095166  MULTIPOLYGON (((9.921906365609118 54.983104153...  \n",
       "41     DJI   8.059835  POLYGON ((42.35156000000012 12.54223000000013,...  \n",
       "42     DOM  10.514754  POLYGON ((-71.70830481635805 18.04499705654609...  \n",
       "43     ECU   7.636169  POLYGON ((-75.37322323271385 -0.15203175212045...  \n",
       "44     EGY  12.373796  POLYGON ((36.86622999999997 22, 32.89999999999...  \n",
       "45     SLV  40.218651  POLYGON ((-89.35332597528281 14.42413279871909...  \n",
       "46     GNQ  71.558365  POLYGON ((9.649158155972628 2.283866075037736,...  \n",
       "47     ERI  10.622897  POLYGON ((36.42951000000005 14.42211000000003,...  \n",
       "48     EST  27.741009  POLYGON ((27.98112685700099 59.47537333432527,...  \n",
       "49     ETH   10.90163  POLYGON ((47.78942 8.003, 44.96360000000001 5....  \n",
       "50     FLK        NaN  POLYGON ((-61.2 -51.85, -60 -51.25, -59.15 -51...  \n",
       "51     FJI      26.48  MULTIPOLYGON (((180 -16.06713266364245, 180 -1...  \n",
       "52     FIN   7.761686  POLYGON ((28.59192955904319 69.06477692328666,...  \n",
       "53     ATF  32.703953  POLYGON ((68.935 -48.62500000000001, 69.58 -48...  \n",
       "54     FRA      15.53  MULTIPOLYGON (((-51.65779741067889 4.156232408...  \n",
       "55     GAB  17.481031  POLYGON ((11.27644900884371 2.261050930180872,...  \n",
       "56     GMB   6.620289  POLYGON ((-16.71372880702347 13.59495860437985...  \n",
       "57     GEO    9.82116  POLYGON ((39.95500857927092 43.43499766699922,...  \n",
       "58     DEU  18.768454  POLYGON ((14.11968631354256 53.75702912049104,...  \n",
       "59     GHA       41.8  POLYGON ((0.02380252442370078 11.0186817489008...  \n",
       "60     GRC   3.408608  MULTIPOLYGON (((26.2900028826017 35.2999903427...  \n",
       "61     GRL   3.724986  POLYGON ((-46.76379 82.62796, -43.40644 83.225...  \n",
       "62     GTM      62.92  POLYGON ((-92.22775000686983 14.53882864019093...  \n",
       "63     GIN  22.341663  POLYGON ((-13.70047604008433 12.58618296961019...  \n",
       "64     GNB  21.404533  POLYGON ((-16.67745195155457 12.38485158940105...  \n",
       "65     GUY  50.924007  POLYGON ((-56.53938574891455 1.899522609866921...  \n",
       "66     HTI  36.716644  POLYGON ((-71.71236141629296 19.71445587816736...  \n",
       "67     HND      45.96  POLYGON ((-83.14721900097413 14.99582916916411...  \n",
       "68     HUN   3.036157  POLYGON ((22.08560835133486 48.42226430927179,...  \n",
       "69     ISL      81.07  POLYGON ((-14.50869544112923 66.45589223903143...  \n",
       "70     IND      32.93  POLYGON ((97.32711388549004 28.26158274994634,...  \n",
       "71     IDN      19.09  MULTIPOLYGON (((141.0002104025918 -2.600151055...  \n",
       "72     IRN        NaN  POLYGON ((48.56797122578975 29.92677826590352,...  \n",
       "73     IRQ       0.43  POLYGON ((39.19546837744497 32.16100881604267,...  \n",
       "74     IRL      12.34  POLYGON ((-6.197884894220991 53.86756500916336...  \n",
       "75     ISR       4.47  POLYGON ((35.71991824722275 32.70919240979487,...  \n",
       "76     ITA      17.27  MULTIPOLYGON (((10.44270145024663 46.893546250...  \n",
       "77     JAM       9.09  POLYGON ((-77.56960079619921 18.49052541755049...  \n",
       "78     JPN       7.69  MULTIPOLYGON (((141.884600864835 39.1808645696...  \n",
       "79     JOR       8.17  POLYGON ((35.54566531753454 32.39399201103058,...  \n",
       "80     KAZ        1.7  POLYGON ((87.35997033076265 49.21498078062912,...  \n",
       "81     KEN      68.08  POLYGON ((39.20222 -4.67677, 37.7669 -3.67712,...  \n",
       "82     -99       26.1  POLYGON ((20.59024654668023 41.85540891928363,...  \n",
       "83     KWT       0.06  POLYGON ((47.9745190773499 29.9758192001485, 4...  \n",
       "84     KGZ        NaN  POLYGON ((70.96231489449914 42.26615428320549,...  \n",
       "85     LAO        NaN  POLYGON ((107.3827274923011 14.20244090418697,...  \n",
       "86     LVA      41.52  POLYGON ((27.28818484875151 57.47452830670383,...  \n",
       "87     LBN       5.46  POLYGON ((35.82110070165024 33.2774264592763, ...  \n",
       "88     LSO      39.47  POLYGON ((28.97826256685724 -28.95559661226171...  \n",
       "89     LBR      87.24  POLYGON ((-8.439298468448698 7.686042792181738...  \n",
       "90     LBY        2.8  POLYGON ((25 22, 25.00000000000011 20.00304000...  \n",
       "91     LTU      33.53  POLYGON ((26.49433149588376 55.61510691997763,...  \n",
       "92     LUX      16.45  POLYGON ((6.043073357781111 50.12805166279423,...  \n",
       "93     MKD        NaN  POLYGON ((22.38052575042459 42.32025950781509,...  \n",
       "94     MDG      82.77  POLYGON ((49.54351891459575 -12.46983285894055...  \n",
       "95     MWI      73.02  POLYGON ((32.75937544122132 -9.23059905358906,...  \n",
       "96     MYS       5.11  MULTIPOLYGON (((100.0857568705271 6.4644894474...  \n",
       "97     MLI      76.64  POLYGON ((-11.51394283695059 12.44298757572942...  \n",
       "98     MRT       24.7  POLYGON ((-17.06342322434257 20.99975210213083...  \n",
       "99     MEX      10.34  POLYGON ((-117.1277599999999 32.53533999999996...  \n",
       "100    MDA      22.04  POLYGON ((26.6193367855978 48.22072622333347, ...  \n",
       "101    MNG       3.32  POLYGON ((87.75126427607671 49.29719798440549,...  \n",
       "102    MNE      38.74  POLYGON ((20.07070000000004 42.58863000000008,...  \n",
       "103    MAR      10.69  POLYGON ((-2.169913702798624 35.16839630791668...  \n",
       "104    MOZ      78.08  POLYGON ((34.55998904799935 -11.52002003341592...  \n",
       "105    MMR      57.85  POLYGON ((100.1159875834178 20.41784963630819,...  \n",
       "106    -99        NaN  POLYGON ((32.73178022637745 35.14002594658844,...  \n",
       "107    NAM      30.69  POLYGON ((19.89576785653443 -24.76779021576059...  \n",
       "108    NPL      77.39  POLYGON ((88.12044070836987 27.87654165293959,...  \n",
       "109    NLD       8.54  POLYGON ((6.905139601274129 53.48216217713065,...  \n",
       "110    NCL        5.4  POLYGON ((165.7799898623264 -21.08000497811563...  \n",
       "111    NZL      29.65  MULTIPOLYGON (((176.8858236026052 -40.06597787...  \n",
       "112    NIC      50.71  POLYGON ((-83.65561174186158 10.93876414636142...  \n",
       "113    NER      80.83  POLYGON ((14.85130000000004 22.86295000000013,...  \n",
       "114    NGA       81.4  POLYGON ((2.691701694356254 6.258817246928629,...  \n",
       "115    PRK        NaN  MULTIPOLYGON (((130.7800036600468 42.220007813...  \n",
       "116    NOR      62.37  MULTIPOLYGON (((15.14282 79.67431000000001, 15...  \n",
       "117    OMN        0.0  MULTIPOLYGON (((55.20834109886319 22.708329982...  \n",
       "118    PAK      43.36  POLYGON ((77.83745079947457 35.49400950778777,...  \n",
       "119    PSE        NaN  POLYGON ((35.39756066258605 31.48908600516758,...  \n",
       "120    PAN      18.91  POLYGON ((-77.35336076527386 8.67050466555807,...  \n",
       "121    PNG      53.09  MULTIPOLYGON (((141.0002104025918 -2.600151055...  \n",
       "122    PRY      60.09  POLYGON ((-58.16639238140804 -20.1767009416536...  \n",
       "123    PER      27.12  POLYGON ((-69.89363521999663 -4.29818694419432...  \n",
       "124    PHL      26.73  MULTIPOLYGON (((120.8338961121466 12.704496161...  \n",
       "125    POL      12.18  POLYGON ((23.48412763844985 53.91249766704114,...  \n",
       "126    PRT      28.19  POLYGON ((-9.034817674180246 41.88057058365968...  \n",
       "127    PRI       2.42  POLYGON ((-66.28243445500821 18.51476166429536...  \n",
       "128    QAT       0.04  POLYGON ((50.81010827006958 24.75474253997138,...  \n",
       "129    ROU      23.54  POLYGON ((28.23355350109904 45.48828318946829,...  \n",
       "130    RUS        NaN  MULTIPOLYGON (((178.7253 71.0988, 180.00000000...  \n",
       "131    RWA      77.86  POLYGON ((30.41910485201925 -1.134659112150416...  \n",
       "132    SSD        NaN  POLYGON ((30.83385242171543 3.509171604222463,...  \n",
       "133    SAU       0.03  POLYGON ((34.95603722508426 29.35655467377885,...  \n",
       "134    SEN       37.2  POLYGON ((-16.71372880702347 13.59495860437985...  \n",
       "135    SRB      21.53  POLYGON ((18.82982479287395 45.90887235802528,...  \n",
       "136    SLE      75.44  POLYGON ((-13.24655025883252 8.903048610871508...  \n",
       "137    SVK        NaN  POLYGON ((22.55813764821175 49.08573802346714,...  \n",
       "138    SVN      20.86  POLYGON ((13.80647545742153 46.50930613869122,...  \n",
       "139    SLB        NaN  MULTIPOLYGON (((162.1190246930409 -10.48271900...  \n",
       "140    SOM      95.03  POLYGON ((41.58513 -1.68325, 40.993 -0.85829, ...  \n",
       "141    -99        NaN  POLYGON ((48.94820475850985 11.41061728169797,...  \n",
       "142    ZAF       10.5  POLYGON ((16.34497684089524 -28.5767050106977,...  \n",
       "143    KOR   252287.0  POLYGON ((126.1747587423762 37.74968577732804,...  \n",
       "144    ESP      17.27  POLYGON ((-7.453725551778092 37.09778758396607...  \n",
       "145    LKA      49.91  POLYGON ((81.7879590188914 7.523055324733164, ...  \n",
       "146    SDN      62.23  POLYGON ((24.56736901215208 8.229187933785468,...  \n",
       "147    SUR       14.4  POLYGON ((-54.52475419779972 2.311848863123785...  \n",
       "148    SWE      52.88  POLYGON ((11.02736860519687 58.85614940045936,...  \n",
       "149    CHE      24.76  POLYGON ((9.59422610844635 47.52505809182027, ...  \n",
       "150    SYR        NaN  POLYGON ((35.71991824722275 32.70919240979487,...  \n",
       "151    TWN        NaN  POLYGON ((121.7778178243899 24.3942735865194, ...  \n",
       "152    TJK      38.56  POLYGON ((67.82999962755952 37.14499400486469,...  \n",
       "153    TZA      85.22  POLYGON ((33.90371119710453 -0.950000000000000...  \n",
       "154    THA      23.96  POLYGON ((105.2187768900789 14.27321177821069,...  \n",
       "155    TLS      11.67  POLYGON ((124.9686824891162 -8.892790215697083...  \n",
       "156    TGO      76.21  POLYGON ((0.8995630224740694 10.99733938236426...  \n",
       "157    TTO       0.43  POLYGON ((-61.68000000000001 10.76, -61.105 10...  \n",
       "158    TUN       12.2  POLYGON ((9.482139926805274 30.30755605724619,...  \n",
       "159    TUR        NaN  MULTIPOLYGON (((44.77267710159504 37.170436925...  \n",
       "160    TKM       0.06  POLYGON ((52.50245975119615 41.78331553808637,...  \n",
       "161    UGA      90.22  POLYGON ((33.90371119710453 -0.950000000000000...  \n",
       "162    UKR       7.44  POLYGON ((31.78599244755525 52.1016775699397, ...  \n",
       "163    ARE       0.67  POLYGON ((51.57951867046327 24.24549713795111,...  \n",
       "164    GBR      12.24  MULTIPOLYGON (((-6.197884894220991 53.86756500...  \n",
       "165    USA  2373985.0  MULTIPOLYGON (((-122.84 49.00000000000011, -12...  \n",
       "166    URY      60.76  POLYGON ((-57.62513342958296 -30.2162948544542...  \n",
       "167    UZB       1.57  POLYGON ((55.96819135928291 41.30864166926936,...  \n",
       "168    VUT      31.86  MULTIPOLYGON (((167.2168013857696 -15.89184620...  \n",
       "169    VEN        NaN  POLYGON ((-60.73357418480372 5.200277207861901...  \n",
       "170    VNM      18.65  POLYGON ((104.3343347514035 10.48654368737523,...  \n",
       "171    ESH        NaN  POLYGON ((-8.665589565454809 27.65642588959236...  \n",
       "172    YEM        NaN  POLYGON ((52.00000980002224 19.00000336351606,...  \n",
       "173    ZMB       84.5  POLYGON ((30.7400097314221 -8.340005930353721,...  \n",
       "174    ZWE       81.5  POLYGON ((31.19140913262129 -22.2515096981724,...  \n",
       "175    SWZ        NaN  POLYGON ((32.07166548028107 -26.73382008230491...  \n",
       "176    ATA        NaN  MULTIPOLYGON (((-48.66061601418252 -78.0470187...  "
      ]
     },
     "execution_count": 220,
     "metadata": {},
     "output_type": "execute_result"
    }
   ],
   "source": [
    "count = -1\n",
    "index = 0\n",
    "\n",
    "for c in re_21.Entity:\n",
    "    count += 1\n",
    "    if c in new_countries:\n",
    "        re_clean['sales'].iloc[count] =  lst[index]\n",
    "        index += 1\n",
    "\n",
    "clean_reset = re_clean.reset_index()\n",
    "\n",
    "clean_reset"
   ]
  }
 ],
 "metadata": {
  "kernelspec": {
   "display_name": "Python 3.9.12 ('base')",
   "language": "python",
   "name": "python3"
  },
  "language_info": {
   "codemirror_mode": {
    "name": "ipython",
    "version": 3
   },
   "file_extension": ".py",
   "mimetype": "text/x-python",
   "name": "python",
   "nbconvert_exporter": "python",
   "pygments_lexer": "ipython3",
   "version": "3.9.12"
  },
  "orig_nbformat": 4,
  "vscode": {
   "interpreter": {
    "hash": "171872b6069e136326abb8a787b3da56e8bc41694c670b4cce1509cad222c908"
   }
  }
 },
 "nbformat": 4,
 "nbformat_minor": 2
}
